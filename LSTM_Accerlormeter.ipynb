{
  "nbformat": 4,
  "nbformat_minor": 0,
  "metadata": {
    "colab": {
      "name": "LSTM Accerlormeter",
      "provenance": [],
      "collapsed_sections": [],
      "mount_file_id": "1pKWO-pZbwVfxMGIjUybZR3vLnxmur521",
      "authorship_tag": "ABX9TyMk8uJuTxa/Vc0Oz0FOxX2y",
      "include_colab_link": true
    },
    "kernelspec": {
      "name": "python3",
      "display_name": "Python 3"
    },
    "language_info": {
      "name": "python"
    },
    "accelerator": "GPU"
  },
  "cells": [
    {
      "cell_type": "markdown",
      "metadata": {
        "id": "view-in-github",
        "colab_type": "text"
      },
      "source": [
        "<a href=\"https://colab.research.google.com/github/sljm12/machine_learning_notebooks/blob/master/LSTM_Accerlormeter.ipynb\" target=\"_parent\"><img src=\"https://colab.research.google.com/assets/colab-badge.svg\" alt=\"Open In Colab\"/></a>"
      ]
    },
    {
      "cell_type": "code",
      "metadata": {
        "id": "uUqSMfd4StXV"
      },
      "source": [
        "import tensorflow as tf\n",
        "from tensorflow.keras.layers  import Layer, LSTM, Dense\n",
        "from tensorflow.keras.models import Sequential\n",
        "\n",
        "import pandas as pd\n",
        "from numpy import array\n",
        "from sklearn.model_selection import train_test_split\n",
        "import numpy as np\n",
        "\n",
        "import glob,os"
      ],
      "execution_count": 21,
      "outputs": []
    },
    {
      "cell_type": "code",
      "metadata": {
        "colab": {
          "base_uri": "https://localhost:8080/",
          "height": 35
        },
        "id": "nti7pLg7WaP5",
        "outputId": "be94adad-d0f1-4660-9996-c3fa786ba581"
      },
      "source": [
        "tf.__version__"
      ],
      "execution_count": 3,
      "outputs": [
        {
          "output_type": "execute_result",
          "data": {
            "application/vnd.google.colaboratory.intrinsic+json": {
              "type": "string"
            },
            "text/plain": [
              "'2.6.0'"
            ]
          },
          "metadata": {},
          "execution_count": 3
        }
      ]
    },
    {
      "cell_type": "code",
      "metadata": {
        "id": "HdjiQwAdWhve"
      },
      "source": [
        "nfeatures = 3 # the features are X,Y,Z\n",
        "window_size = 3 # the number of records of X,Y,Z that we will count as one time sequence"
      ],
      "execution_count": 4,
      "outputs": []
    },
    {
      "cell_type": "markdown",
      "metadata": {
        "id": "J41A6HFkA1XM"
      },
      "source": [
        "## Test Data loading functions"
      ]
    },
    {
      "cell_type": "code",
      "metadata": {
        "id": "PQRxLXUmY9Vc"
      },
      "source": [
        "walking = pd.read_csv(\"/content/drive/MyDrive/Colab Notebooks/Walking, Standing, Running detection/jumping-1.csv\", delimiter=\",\",header=None, names=[\"X\",\"Y\",\"Z\"])"
      ],
      "execution_count": 31,
      "outputs": []
    },
    {
      "cell_type": "code",
      "metadata": {
        "colab": {
          "base_uri": "https://localhost:8080/",
          "height": 206
        },
        "id": "dDKqxmXFgSvm",
        "outputId": "b32b4a18-8259-418b-8fe4-bb85d5d13bf6"
      },
      "source": [
        "walking.head()"
      ],
      "execution_count": 32,
      "outputs": [
        {
          "output_type": "execute_result",
          "data": {
            "text/html": [
              "<div>\n",
              "<style scoped>\n",
              "    .dataframe tbody tr th:only-of-type {\n",
              "        vertical-align: middle;\n",
              "    }\n",
              "\n",
              "    .dataframe tbody tr th {\n",
              "        vertical-align: top;\n",
              "    }\n",
              "\n",
              "    .dataframe thead th {\n",
              "        text-align: right;\n",
              "    }\n",
              "</style>\n",
              "<table border=\"1\" class=\"dataframe\">\n",
              "  <thead>\n",
              "    <tr style=\"text-align: right;\">\n",
              "      <th></th>\n",
              "      <th>X</th>\n",
              "      <th>Y</th>\n",
              "      <th>Z</th>\n",
              "    </tr>\n",
              "  </thead>\n",
              "  <tbody>\n",
              "    <tr>\n",
              "      <th>0</th>\n",
              "      <td>4.11686</td>\n",
              "      <td>1.58412</td>\n",
              "      <td>7.59052</td>\n",
              "    </tr>\n",
              "    <tr>\n",
              "      <th>1</th>\n",
              "      <td>3.72310</td>\n",
              "      <td>1.70451</td>\n",
              "      <td>7.80389</td>\n",
              "    </tr>\n",
              "    <tr>\n",
              "      <th>2</th>\n",
              "      <td>2.97199</td>\n",
              "      <td>1.54113</td>\n",
              "      <td>9.03701</td>\n",
              "    </tr>\n",
              "    <tr>\n",
              "      <th>3</th>\n",
              "      <td>2.63141</td>\n",
              "      <td>1.47678</td>\n",
              "      <td>9.83689</td>\n",
              "    </tr>\n",
              "    <tr>\n",
              "      <th>4</th>\n",
              "      <td>2.80433</td>\n",
              "      <td>1.42728</td>\n",
              "      <td>9.98384</td>\n",
              "    </tr>\n",
              "  </tbody>\n",
              "</table>\n",
              "</div>"
            ],
            "text/plain": [
              "         X        Y        Z\n",
              "0  4.11686  1.58412  7.59052\n",
              "1  3.72310  1.70451  7.80389\n",
              "2  2.97199  1.54113  9.03701\n",
              "3  2.63141  1.47678  9.83689\n",
              "4  2.80433  1.42728  9.98384"
            ]
          },
          "metadata": {},
          "execution_count": 32
        }
      ]
    },
    {
      "cell_type": "code",
      "metadata": {
        "colab": {
          "base_uri": "https://localhost:8080/"
        },
        "id": "Rccsc4SrlbL7",
        "outputId": "1d04d812-352e-4836-9d4d-871d73cd9202"
      },
      "source": [
        "len(walking)"
      ],
      "execution_count": 4,
      "outputs": [
        {
          "output_type": "execute_result",
          "data": {
            "text/plain": [
              "758"
            ]
          },
          "metadata": {},
          "execution_count": 4
        }
      ]
    },
    {
      "cell_type": "code",
      "metadata": {
        "colab": {
          "base_uri": "https://localhost:8080/"
        },
        "id": "azLLi2qsja_L",
        "outputId": "353d4a02-049f-4f06-98c3-fa2f4ccaa9b3"
      },
      "source": [
        "before1 = walking.loc[0]\n",
        "before1[\"X\"]"
      ],
      "execution_count": null,
      "outputs": [
        {
          "output_type": "execute_result",
          "data": {
            "text/plain": [
              "-1056"
            ]
          },
          "metadata": {},
          "execution_count": 42
        }
      ]
    },
    {
      "cell_type": "code",
      "metadata": {
        "id": "yeio_DYXmFw5"
      },
      "source": [
        "def convert_to_array(df, loc):\n",
        "  row = df.loc[loc]\n",
        "  return [row[\"X\"],row[\"Y\"], row[\"Z\"]]"
      ],
      "execution_count": 5,
      "outputs": []
    },
    {
      "cell_type": "code",
      "metadata": {
        "colab": {
          "base_uri": "https://localhost:8080/"
        },
        "id": "HpjuKV6U-T_g",
        "outputId": "d66ed445-2fc5-4a76-aad0-a431b386289b"
      },
      "source": [
        "print(convert_to_array(walking,1))"
      ],
      "execution_count": 14,
      "outputs": [
        {
          "output_type": "stream",
          "name": "stdout",
          "text": [
            "[2.9719900000000004, 1.5411299999999999, 9.03701]\n"
          ]
        }
      ]
    },
    {
      "cell_type": "code",
      "metadata": {
        "id": "K8FOEZOogWcd"
      },
      "source": [
        "#Generates arrays of data with a size of window_size and sliding window of size 1\n",
        "def convert_df_to_array(df, window_size):\n",
        "  results = []\n",
        "  start_record = window_size - 1\n",
        "  #print(start_record, len(df))\n",
        "\n",
        "  for i in range(start_record, len(df)):\n",
        "    temp_arr = []\n",
        "    for r in range(start_record,-1,-1):\n",
        "      a = convert_to_array(df,i-r)\n",
        "      temp_arr.append(a)\n",
        "    results.append(temp_arr)\n",
        "  return results"
      ],
      "execution_count": 17,
      "outputs": []
    },
    {
      "cell_type": "code",
      "metadata": {
        "id": "VleU3zmXBHRb",
        "colab": {
          "base_uri": "https://localhost:8080/"
        },
        "outputId": "0ff8906d-dc04-4cc5-9f66-768f834c17ec"
      },
      "source": [
        "results = convert_df_to_array(walking,3)"
      ],
      "execution_count": 28,
      "outputs": [
        {
          "output_type": "stream",
          "name": "stdout",
          "text": [
            "2 758\n"
          ]
        }
      ]
    },
    {
      "cell_type": "code",
      "metadata": {
        "id": "4wUukP-1-DzD"
      },
      "source": [
        ""
      ],
      "execution_count": null,
      "outputs": []
    },
    {
      "cell_type": "code",
      "metadata": {
        "colab": {
          "base_uri": "https://localhost:8080/"
        },
        "id": "s3X7V-9zgc_J",
        "outputId": "fab08f71-b1a3-4da9-e77d-96e8f56b5b8c"
      },
      "source": [
        "len(results)"
      ],
      "execution_count": 8,
      "outputs": [
        {
          "output_type": "execute_result",
          "data": {
            "text/plain": [
              "756"
            ]
          },
          "metadata": {},
          "execution_count": 8
        }
      ]
    },
    {
      "cell_type": "code",
      "metadata": {
        "colab": {
          "base_uri": "https://localhost:8080/"
        },
        "id": "j9wvklng-GWo",
        "outputId": "6e50b903-55e7-434a-c09e-9d7e47ed6988"
      },
      "source": [
        "results[1]"
      ],
      "execution_count": 30,
      "outputs": [
        {
          "output_type": "execute_result",
          "data": {
            "text/plain": [
              "[[2.9719900000000004, 1.5411299999999999, 9.03701],\n",
              " [2.63141, 1.47678, 9.836889999999999],\n",
              " [2.8043299999999998, 1.4272799999999999, 9.983839999999999]]"
            ]
          },
          "metadata": {},
          "execution_count": 30
        }
      ]
    },
    {
      "cell_type": "markdown",
      "metadata": {
        "id": "9nrmZfV8gYK0"
      },
      "source": [
        "## Loading Data"
      ]
    },
    {
      "cell_type": "code",
      "metadata": {
        "id": "r77USg3X9j4p"
      },
      "source": [
        "content_dir=\"/content/drive/MyDrive/Colab Notebooks/Walking, Standing, Running detection/*.csv\""
      ],
      "execution_count": 7,
      "outputs": []
    },
    {
      "cell_type": "code",
      "metadata": {
        "id": "1l4PolCy-rR3"
      },
      "source": [
        "files = glob.glob(content_dir)"
      ],
      "execution_count": 8,
      "outputs": []
    },
    {
      "cell_type": "code",
      "metadata": {
        "colab": {
          "base_uri": "https://localhost:8080/"
        },
        "id": "JM8yTv2d-0xH",
        "outputId": "6cb0afda-0534-4ae2-868d-950c20e1ee3a"
      },
      "source": [
        "files"
      ],
      "execution_count": 9,
      "outputs": [
        {
          "output_type": "execute_result",
          "data": {
            "text/plain": [
              "['/content/drive/MyDrive/Colab Notebooks/Walking, Standing, Running detection/jumping-1.csv',\n",
              " '/content/drive/MyDrive/Colab Notebooks/Walking, Standing, Running detection/jumping-2.csv',\n",
              " '/content/drive/MyDrive/Colab Notebooks/Walking, Standing, Running detection/walking-p1-hand.csv',\n",
              " '/content/drive/MyDrive/Colab Notebooks/Walking, Standing, Running detection/walking-p2-hand.csv',\n",
              " '/content/drive/MyDrive/Colab Notebooks/Walking, Standing, Running detection/walking-p-hand.csv',\n",
              " '/content/drive/MyDrive/Colab Notebooks/Walking, Standing, Running detection/still-p1-hand.csv',\n",
              " '/content/drive/MyDrive/Colab Notebooks/Walking, Standing, Running detection/still-p2-hand.csv']"
            ]
          },
          "metadata": {},
          "execution_count": 9
        }
      ]
    },
    {
      "cell_type": "code",
      "metadata": {
        "id": "pEbaAVw8-5fT"
      },
      "source": [
        "categories_data={}"
      ],
      "execution_count": 1,
      "outputs": []
    },
    {
      "cell_type": "code",
      "metadata": {
        "colab": {
          "base_uri": "https://localhost:8080/"
        },
        "id": "sR7DZkrY_Dof",
        "outputId": "06431f08-9fd7-40c1-c9e2-7f00971a8848"
      },
      "source": [
        "#Read all the files and segregate them into categories based on the filename, perform a sliding window extraction on the df and put them into a dict \n",
        "for f in files:\n",
        "  basename = os.path.basename(f)\n",
        "  print(basename)\n",
        "  category = basename.split(\"-\")[0]\n",
        "\n",
        "  if category not in categories_data:\n",
        "    categories_data[category]=[]\n",
        "    \n",
        "  df = pd.read_csv(f, delimiter=\",\",header=None, names=[\"X\",\"Y\",\"Z\"])\n",
        "  print(category,basename,len(df))\n",
        "  results = convert_df_to_array(df,window_size)\n",
        "  print(category,f,len(results))\n",
        "  categories_data[category] = categories_data[category] + results\n",
        "  "
      ],
      "execution_count": 19,
      "outputs": [
        {
          "output_type": "stream",
          "name": "stdout",
          "text": [
            "jumping-1.csv\n",
            "jumping jumping-1.csv 759\n",
            "jumping /content/drive/MyDrive/Colab Notebooks/Walking, Standing, Running detection/jumping-1.csv 757\n",
            "jumping-2.csv\n",
            "jumping jumping-2.csv 755\n",
            "jumping /content/drive/MyDrive/Colab Notebooks/Walking, Standing, Running detection/jumping-2.csv 753\n",
            "walking-p1-hand.csv\n",
            "walking walking-p1-hand.csv 1293\n",
            "walking /content/drive/MyDrive/Colab Notebooks/Walking, Standing, Running detection/walking-p1-hand.csv 1291\n",
            "walking-p2-hand.csv\n",
            "walking walking-p2-hand.csv 78\n",
            "walking /content/drive/MyDrive/Colab Notebooks/Walking, Standing, Running detection/walking-p2-hand.csv 76\n",
            "walking-p-hand.csv\n",
            "walking walking-p-hand.csv 1325\n",
            "walking /content/drive/MyDrive/Colab Notebooks/Walking, Standing, Running detection/walking-p-hand.csv 1323\n",
            "still-p1-hand.csv\n",
            "still still-p1-hand.csv 1498\n",
            "still /content/drive/MyDrive/Colab Notebooks/Walking, Standing, Running detection/still-p1-hand.csv 1496\n",
            "still-p2-hand.csv\n",
            "still still-p2-hand.csv 488\n",
            "still /content/drive/MyDrive/Colab Notebooks/Walking, Standing, Running detection/still-p2-hand.csv 486\n"
          ]
        }
      ]
    },
    {
      "cell_type": "code",
      "metadata": {
        "colab": {
          "base_uri": "https://localhost:8080/"
        },
        "id": "9fXa5nNE_qjf",
        "outputId": "87e19984-5d42-4ca6-e430-faa41ccd5198"
      },
      "source": [
        "categories_data.keys()"
      ],
      "execution_count": 13,
      "outputs": [
        {
          "output_type": "execute_result",
          "data": {
            "text/plain": [
              "dict_keys(['jumping', 'walking', 'still'])"
            ]
          },
          "metadata": {},
          "execution_count": 13
        }
      ]
    },
    {
      "cell_type": "code",
      "metadata": {
        "id": "f8EhDv47WMuI"
      },
      "source": [
        "num_categories = categories_data.keys()"
      ],
      "execution_count": 41,
      "outputs": []
    },
    {
      "cell_type": "code",
      "metadata": {
        "colab": {
          "base_uri": "https://localhost:8080/"
        },
        "id": "9aisbVXTL5xI",
        "outputId": "1edb4857-b2cc-4bbc-ac99-4301a064ee55"
      },
      "source": [
        "len(categories_data[\"jumping\"])"
      ],
      "execution_count": 15,
      "outputs": [
        {
          "output_type": "execute_result",
          "data": {
            "text/plain": [
              "1510"
            ]
          },
          "metadata": {},
          "execution_count": 15
        }
      ]
    },
    {
      "cell_type": "code",
      "metadata": {
        "colab": {
          "base_uri": "https://localhost:8080/"
        },
        "id": "by5VnkktN3JO",
        "outputId": "b3ec2afc-3cf1-4ba8-b72f-3bf2e70acc90"
      },
      "source": [
        "X_all = []\n",
        "Y_all = None\n",
        "category_num=0\n",
        "for i in categories_data.keys():\n",
        "  \n",
        "  data = categories_data[i]\n",
        "  print(i, len(data), category_num)\n",
        "  X_all =X_all+data\n",
        "\n",
        "  #Fill Y with the same category number\n",
        "  Y = np.full((len(data)), category_num)\n",
        "\n",
        "  if Y_all is None:\n",
        "    Y_all=Y\n",
        "  else:\n",
        "    Y_all = np.concatenate([Y_all, Y])\n",
        "  category_num=category_num+1"
      ],
      "execution_count": 40,
      "outputs": [
        {
          "output_type": "stream",
          "name": "stdout",
          "text": [
            "jumping 3020 0\n",
            "walking 5380 1\n",
            "still 3964 2\n"
          ]
        }
      ]
    },
    {
      "cell_type": "markdown",
      "metadata": {
        "id": "Gt70nHgpVpLJ"
      },
      "source": [
        "Sanity Check on the data, make sure X_all and Y_all has the same number of rows"
      ]
    },
    {
      "cell_type": "code",
      "metadata": {
        "colab": {
          "base_uri": "https://localhost:8080/"
        },
        "id": "QklYZtCPTuox",
        "outputId": "65010d17-cf60-480c-8aad-06181b7981c9"
      },
      "source": [
        "print(array(X_all).shape)\n",
        "print(Y_all.shape)"
      ],
      "execution_count": 33,
      "outputs": [
        {
          "output_type": "stream",
          "name": "stdout",
          "text": [
            "(12364, 3, 3)\n",
            "(12364,)\n"
          ]
        }
      ]
    },
    {
      "cell_type": "markdown",
      "metadata": {
        "id": "FXffcHjFVv5b"
      },
      "source": [
        "Change Y to categorical since we will be doing prediction on this"
      ]
    },
    {
      "cell_type": "code",
      "metadata": {
        "id": "fN4Ck5hBUTOj"
      },
      "source": [
        "Y = tf.keras.utils.to_categorical(\n",
        "    Y_all, num_classes=len(categories_data.keys()), dtype='float32'\n",
        ")"
      ],
      "execution_count": 35,
      "outputs": []
    },
    {
      "cell_type": "code",
      "metadata": {
        "id": "W_4vTA6wWJS7"
      },
      "source": [
        ""
      ],
      "execution_count": null,
      "outputs": []
    },
    {
      "cell_type": "code",
      "metadata": {
        "colab": {
          "base_uri": "https://localhost:8080/"
        },
        "id": "wEjiQ5kHUma4",
        "outputId": "62f02031-a8ad-4001-e0bf-9761b599d494"
      },
      "source": [
        "Y[3020]"
      ],
      "execution_count": 39,
      "outputs": [
        {
          "output_type": "execute_result",
          "data": {
            "text/plain": [
              "array([0., 1., 0.], dtype=float32)"
            ]
          },
          "metadata": {},
          "execution_count": 39
        }
      ]
    },
    {
      "cell_type": "code",
      "metadata": {
        "id": "_FNfvbEwor6B"
      },
      "source": [
        "X = array(results)"
      ],
      "execution_count": null,
      "outputs": []
    },
    {
      "cell_type": "code",
      "metadata": {
        "colab": {
          "base_uri": "https://localhost:8080/"
        },
        "id": "rd8aiFJhrum-",
        "outputId": "d16ad243-d906-4dee-fe7d-e8f37642a86f"
      },
      "source": [
        "X.shape"
      ],
      "execution_count": null,
      "outputs": [
        {
          "output_type": "execute_result",
          "data": {
            "text/plain": [
              "(72, 3, 4)"
            ]
          },
          "metadata": {},
          "execution_count": 47
        }
      ]
    },
    {
      "cell_type": "code",
      "metadata": {
        "id": "3mLEAnTMrvqH",
        "colab": {
          "base_uri": "https://localhost:8080/"
        },
        "outputId": "610bfff4-0cee-41ea-8ea9-42c12254d240"
      },
      "source": [
        "X = X.reshape(X.shape[0], X.shape[1], nfeatures)\n",
        "X.shape"
      ],
      "execution_count": null,
      "outputs": [
        {
          "output_type": "execute_result",
          "data": {
            "text/plain": [
              "(72, 3, 4)"
            ]
          },
          "metadata": {},
          "execution_count": 48
        }
      ]
    },
    {
      "cell_type": "markdown",
      "metadata": {
        "id": "hayEGfyCVWIy"
      },
      "source": [
        "## Model"
      ]
    },
    {
      "cell_type": "code",
      "metadata": {
        "colab": {
          "base_uri": "https://localhost:8080/"
        },
        "id": "GF2tsyOwXadx",
        "outputId": "526daa1d-4ca9-4069-f95e-7fe054123543"
      },
      "source": [
        "model = Sequential()\n",
        "model.add(LSTM(100, activation='relu', return_sequences=True, input_shape=(window_size, nfeatures)))\n",
        "model.add(LSTM(100, activation='relu'))\n",
        "model.add(Dense(num_categories,activation='softmax'))\n",
        "model.compile(optimizer='adam', loss='categorical_crossentropy',metrics=['accuracy'])"
      ],
      "execution_count": null,
      "outputs": [
        {
          "output_type": "stream",
          "name": "stdout",
          "text": [
            "WARNING:tensorflow:Layer lstm_16 will not use cuDNN kernels since it doesn't meet the criteria. It will use a generic GPU kernel as fallback when running on GPU.\n",
            "WARNING:tensorflow:Layer lstm_17 will not use cuDNN kernels since it doesn't meet the criteria. It will use a generic GPU kernel as fallback when running on GPU.\n"
          ]
        }
      ]
    },
    {
      "cell_type": "code",
      "metadata": {
        "colab": {
          "base_uri": "https://localhost:8080/"
        },
        "id": "1aVTRBvXVVt-",
        "outputId": "9c36298f-c953-4897-c6f2-48f3d6c4a2f3"
      },
      "source": [
        "model.fit(X, array(y), epochs=50)"
      ],
      "execution_count": null,
      "outputs": [
        {
          "output_type": "stream",
          "name": "stdout",
          "text": [
            "Epoch 1/50\n",
            "3/3 [==============================] - 2s 24ms/step - loss: 11.4990 - accuracy: 0.5417\n",
            "Epoch 2/50\n",
            "3/3 [==============================] - 0s 24ms/step - loss: 13.5601 - accuracy: 0.5694\n",
            "Epoch 3/50\n",
            "3/3 [==============================] - 0s 20ms/step - loss: 6.4215 - accuracy: 0.7361\n",
            "Epoch 4/50\n",
            "3/3 [==============================] - 0s 29ms/step - loss: 4.0518 - accuracy: 0.6944\n",
            "Epoch 5/50\n",
            "3/3 [==============================] - 0s 29ms/step - loss: 2.6981 - accuracy: 0.6389\n",
            "Epoch 6/50\n",
            "3/3 [==============================] - 0s 24ms/step - loss: 2.9999 - accuracy: 0.5972\n",
            "Epoch 7/50\n",
            "3/3 [==============================] - 0s 29ms/step - loss: 2.9214 - accuracy: 0.5972\n",
            "Epoch 8/50\n",
            "3/3 [==============================] - 0s 25ms/step - loss: 1.3963 - accuracy: 0.7083\n",
            "Epoch 9/50\n",
            "3/3 [==============================] - 0s 29ms/step - loss: 0.9564 - accuracy: 0.7500\n",
            "Epoch 10/50\n",
            "3/3 [==============================] - 0s 20ms/step - loss: 0.9421 - accuracy: 0.8056\n",
            "Epoch 11/50\n",
            "3/3 [==============================] - 0s 24ms/step - loss: 0.7144 - accuracy: 0.8194\n",
            "Epoch 12/50\n",
            "3/3 [==============================] - 0s 20ms/step - loss: 0.4345 - accuracy: 0.8333\n",
            "Epoch 13/50\n",
            "3/3 [==============================] - 0s 20ms/step - loss: 0.3207 - accuracy: 0.9028\n",
            "Epoch 14/50\n",
            "3/3 [==============================] - 0s 23ms/step - loss: 0.2664 - accuracy: 0.9028\n",
            "Epoch 15/50\n",
            "3/3 [==============================] - 0s 21ms/step - loss: 0.2646 - accuracy: 0.8889\n",
            "Epoch 16/50\n",
            "3/3 [==============================] - 0s 20ms/step - loss: 0.1469 - accuracy: 0.9444\n",
            "Epoch 17/50\n",
            "3/3 [==============================] - 0s 19ms/step - loss: 0.1219 - accuracy: 0.9306\n",
            "Epoch 18/50\n",
            "3/3 [==============================] - 0s 29ms/step - loss: 0.2240 - accuracy: 0.9306\n",
            "Epoch 19/50\n",
            "3/3 [==============================] - 0s 28ms/step - loss: 0.2354 - accuracy: 0.9306\n",
            "Epoch 20/50\n",
            "3/3 [==============================] - 0s 23ms/step - loss: 0.1542 - accuracy: 0.9306\n",
            "Epoch 21/50\n",
            "3/3 [==============================] - 0s 19ms/step - loss: 0.3834 - accuracy: 0.9028\n",
            "Epoch 22/50\n",
            "3/3 [==============================] - 0s 36ms/step - loss: 0.2817 - accuracy: 0.9306\n",
            "Epoch 23/50\n",
            "3/3 [==============================] - 0s 28ms/step - loss: 0.3329 - accuracy: 0.9167\n",
            "Epoch 24/50\n",
            "3/3 [==============================] - 0s 22ms/step - loss: 0.2471 - accuracy: 0.9583\n",
            "Epoch 25/50\n",
            "3/3 [==============================] - 0s 24ms/step - loss: 0.1292 - accuracy: 0.9722\n",
            "Epoch 26/50\n",
            "3/3 [==============================] - 0s 28ms/step - loss: 0.0778 - accuracy: 0.9722\n",
            "Epoch 27/50\n",
            "3/3 [==============================] - 0s 20ms/step - loss: 0.0928 - accuracy: 0.9583\n",
            "Epoch 28/50\n",
            "3/3 [==============================] - 0s 21ms/step - loss: 0.0386 - accuracy: 0.9861\n",
            "Epoch 29/50\n",
            "3/3 [==============================] - 0s 22ms/step - loss: 0.0631 - accuracy: 0.9722\n",
            "Epoch 30/50\n",
            "3/3 [==============================] - 0s 24ms/step - loss: 0.0576 - accuracy: 0.9583\n",
            "Epoch 31/50\n",
            "3/3 [==============================] - 0s 29ms/step - loss: 0.0233 - accuracy: 1.0000\n",
            "Epoch 32/50\n",
            "3/3 [==============================] - 0s 24ms/step - loss: 0.0248 - accuracy: 0.9861\n",
            "Epoch 33/50\n",
            "3/3 [==============================] - 0s 24ms/step - loss: 0.0518 - accuracy: 0.9722\n",
            "Epoch 34/50\n",
            "3/3 [==============================] - 0s 36ms/step - loss: 0.0170 - accuracy: 1.0000\n",
            "Epoch 35/50\n",
            "3/3 [==============================] - 0s 24ms/step - loss: 0.0120 - accuracy: 1.0000\n",
            "Epoch 36/50\n",
            "3/3 [==============================] - 0s 28ms/step - loss: 0.0138 - accuracy: 1.0000\n",
            "Epoch 37/50\n",
            "3/3 [==============================] - 0s 29ms/step - loss: 0.0102 - accuracy: 1.0000\n",
            "Epoch 38/50\n",
            "3/3 [==============================] - 0s 22ms/step - loss: 0.0061 - accuracy: 1.0000\n",
            "Epoch 39/50\n",
            "3/3 [==============================] - 0s 32ms/step - loss: 0.0048 - accuracy: 1.0000\n",
            "Epoch 40/50\n",
            "3/3 [==============================] - 0s 28ms/step - loss: 0.0040 - accuracy: 1.0000\n",
            "Epoch 41/50\n",
            "3/3 [==============================] - 0s 22ms/step - loss: 0.0035 - accuracy: 1.0000\n",
            "Epoch 42/50\n",
            "3/3 [==============================] - 0s 22ms/step - loss: 0.0026 - accuracy: 1.0000\n",
            "Epoch 43/50\n",
            "3/3 [==============================] - 0s 27ms/step - loss: 0.0022 - accuracy: 1.0000\n",
            "Epoch 44/50\n",
            "3/3 [==============================] - 0s 22ms/step - loss: 0.0020 - accuracy: 1.0000\n",
            "Epoch 45/50\n",
            "3/3 [==============================] - 0s 22ms/step - loss: 0.0018 - accuracy: 1.0000\n",
            "Epoch 46/50\n",
            "3/3 [==============================] - 0s 22ms/step - loss: 0.0016 - accuracy: 1.0000\n",
            "Epoch 47/50\n",
            "3/3 [==============================] - 0s 29ms/step - loss: 0.0015 - accuracy: 1.0000\n",
            "Epoch 48/50\n",
            "3/3 [==============================] - 0s 21ms/step - loss: 0.0014 - accuracy: 1.0000\n",
            "Epoch 49/50\n",
            "3/3 [==============================] - 0s 23ms/step - loss: 0.0013 - accuracy: 1.0000\n",
            "Epoch 50/50\n",
            "3/3 [==============================] - 0s 20ms/step - loss: 0.0012 - accuracy: 1.0000\n"
          ]
        },
        {
          "output_type": "execute_result",
          "data": {
            "text/plain": [
              "<keras.callbacks.History at 0x7f4e4d24d6d0>"
            ]
          },
          "metadata": {},
          "execution_count": 51
        }
      ]
    },
    {
      "cell_type": "code",
      "metadata": {
        "id": "MySfp93-XRAt"
      },
      "source": [
        ""
      ],
      "execution_count": null,
      "outputs": []
    }
  ]
}