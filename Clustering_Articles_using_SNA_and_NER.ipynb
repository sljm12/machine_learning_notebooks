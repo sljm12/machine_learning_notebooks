{
  "nbformat": 4,
  "nbformat_minor": 0,
  "metadata": {
    "colab": {
      "name": "Clustering Articles using SNA and NER.ipynb",
      "provenance": [],
      "collapsed_sections": [
        "5HtTMYZN9Xwl",
        "3Pwb53kLcUEs",
        "jJpBV-zF9fB8"
      ],
      "authorship_tag": "ABX9TyO3NVWpkqxUgWk/EMIntDy/",
      "include_colab_link": true
    },
    "kernelspec": {
      "name": "python3",
      "display_name": "Python 3"
    },
    "widgets": {
      "application/vnd.jupyter.widget-state+json": {
        "c0674b09677f47fab9c2ee425a35c4cc": {
          "model_module": "@jupyter-widgets/controls",
          "model_name": "HBoxModel",
          "state": {
            "_view_name": "HBoxView",
            "_dom_classes": [],
            "_model_name": "HBoxModel",
            "_view_module": "@jupyter-widgets/controls",
            "_model_module_version": "1.5.0",
            "_view_count": null,
            "_view_module_version": "1.5.0",
            "box_style": "",
            "layout": "IPY_MODEL_87ecad76bb5947feae4e7bdf8bc1e6cf",
            "_model_module": "@jupyter-widgets/controls",
            "children": [
              "IPY_MODEL_8411b59ee29a45c4b08cb4029f19c787",
              "IPY_MODEL_6043bce978c2417e9db1335c4a8a3058"
            ]
          }
        },
        "87ecad76bb5947feae4e7bdf8bc1e6cf": {
          "model_module": "@jupyter-widgets/base",
          "model_name": "LayoutModel",
          "state": {
            "_view_name": "LayoutView",
            "grid_template_rows": null,
            "right": null,
            "justify_content": null,
            "_view_module": "@jupyter-widgets/base",
            "overflow": null,
            "_model_module_version": "1.2.0",
            "_view_count": null,
            "flex_flow": null,
            "width": null,
            "min_width": null,
            "border": null,
            "align_items": null,
            "bottom": null,
            "_model_module": "@jupyter-widgets/base",
            "top": null,
            "grid_column": null,
            "overflow_y": null,
            "overflow_x": null,
            "grid_auto_flow": null,
            "grid_area": null,
            "grid_template_columns": null,
            "flex": null,
            "_model_name": "LayoutModel",
            "justify_items": null,
            "grid_row": null,
            "max_height": null,
            "align_content": null,
            "visibility": null,
            "align_self": null,
            "height": null,
            "min_height": null,
            "padding": null,
            "grid_auto_rows": null,
            "grid_gap": null,
            "max_width": null,
            "order": null,
            "_view_module_version": "1.2.0",
            "grid_template_areas": null,
            "object_position": null,
            "object_fit": null,
            "grid_auto_columns": null,
            "margin": null,
            "display": null,
            "left": null
          }
        },
        "8411b59ee29a45c4b08cb4029f19c787": {
          "model_module": "@jupyter-widgets/controls",
          "model_name": "FloatProgressModel",
          "state": {
            "_view_name": "ProgressView",
            "style": "IPY_MODEL_bfa88364247a449ca328c33cabf49c8c",
            "_dom_classes": [],
            "description": "Downloading: 100%",
            "_model_name": "FloatProgressModel",
            "bar_style": "success",
            "max": 998,
            "_view_module": "@jupyter-widgets/controls",
            "_model_module_version": "1.5.0",
            "value": 998,
            "_view_count": null,
            "_view_module_version": "1.5.0",
            "orientation": "horizontal",
            "min": 0,
            "description_tooltip": null,
            "_model_module": "@jupyter-widgets/controls",
            "layout": "IPY_MODEL_d12c6850665246debace63d680838ad8"
          }
        },
        "6043bce978c2417e9db1335c4a8a3058": {
          "model_module": "@jupyter-widgets/controls",
          "model_name": "HTMLModel",
          "state": {
            "_view_name": "HTMLView",
            "style": "IPY_MODEL_71c199638beb4d048661878b246f7bcb",
            "_dom_classes": [],
            "description": "",
            "_model_name": "HTMLModel",
            "placeholder": "​",
            "_view_module": "@jupyter-widgets/controls",
            "_model_module_version": "1.5.0",
            "value": " 998/998 [00:01&lt;00:00, 877B/s]",
            "_view_count": null,
            "_view_module_version": "1.5.0",
            "description_tooltip": null,
            "_model_module": "@jupyter-widgets/controls",
            "layout": "IPY_MODEL_513d638ca07b46e9b1eccfc0a8481bf5"
          }
        },
        "bfa88364247a449ca328c33cabf49c8c": {
          "model_module": "@jupyter-widgets/controls",
          "model_name": "ProgressStyleModel",
          "state": {
            "_view_name": "StyleView",
            "_model_name": "ProgressStyleModel",
            "description_width": "initial",
            "_view_module": "@jupyter-widgets/base",
            "_model_module_version": "1.5.0",
            "_view_count": null,
            "_view_module_version": "1.2.0",
            "bar_color": null,
            "_model_module": "@jupyter-widgets/controls"
          }
        },
        "d12c6850665246debace63d680838ad8": {
          "model_module": "@jupyter-widgets/base",
          "model_name": "LayoutModel",
          "state": {
            "_view_name": "LayoutView",
            "grid_template_rows": null,
            "right": null,
            "justify_content": null,
            "_view_module": "@jupyter-widgets/base",
            "overflow": null,
            "_model_module_version": "1.2.0",
            "_view_count": null,
            "flex_flow": null,
            "width": null,
            "min_width": null,
            "border": null,
            "align_items": null,
            "bottom": null,
            "_model_module": "@jupyter-widgets/base",
            "top": null,
            "grid_column": null,
            "overflow_y": null,
            "overflow_x": null,
            "grid_auto_flow": null,
            "grid_area": null,
            "grid_template_columns": null,
            "flex": null,
            "_model_name": "LayoutModel",
            "justify_items": null,
            "grid_row": null,
            "max_height": null,
            "align_content": null,
            "visibility": null,
            "align_self": null,
            "height": null,
            "min_height": null,
            "padding": null,
            "grid_auto_rows": null,
            "grid_gap": null,
            "max_width": null,
            "order": null,
            "_view_module_version": "1.2.0",
            "grid_template_areas": null,
            "object_position": null,
            "object_fit": null,
            "grid_auto_columns": null,
            "margin": null,
            "display": null,
            "left": null
          }
        },
        "71c199638beb4d048661878b246f7bcb": {
          "model_module": "@jupyter-widgets/controls",
          "model_name": "DescriptionStyleModel",
          "state": {
            "_view_name": "StyleView",
            "_model_name": "DescriptionStyleModel",
            "description_width": "",
            "_view_module": "@jupyter-widgets/base",
            "_model_module_version": "1.5.0",
            "_view_count": null,
            "_view_module_version": "1.2.0",
            "_model_module": "@jupyter-widgets/controls"
          }
        },
        "513d638ca07b46e9b1eccfc0a8481bf5": {
          "model_module": "@jupyter-widgets/base",
          "model_name": "LayoutModel",
          "state": {
            "_view_name": "LayoutView",
            "grid_template_rows": null,
            "right": null,
            "justify_content": null,
            "_view_module": "@jupyter-widgets/base",
            "overflow": null,
            "_model_module_version": "1.2.0",
            "_view_count": null,
            "flex_flow": null,
            "width": null,
            "min_width": null,
            "border": null,
            "align_items": null,
            "bottom": null,
            "_model_module": "@jupyter-widgets/base",
            "top": null,
            "grid_column": null,
            "overflow_y": null,
            "overflow_x": null,
            "grid_auto_flow": null,
            "grid_area": null,
            "grid_template_columns": null,
            "flex": null,
            "_model_name": "LayoutModel",
            "justify_items": null,
            "grid_row": null,
            "max_height": null,
            "align_content": null,
            "visibility": null,
            "align_self": null,
            "height": null,
            "min_height": null,
            "padding": null,
            "grid_auto_rows": null,
            "grid_gap": null,
            "max_width": null,
            "order": null,
            "_view_module_version": "1.2.0",
            "grid_template_areas": null,
            "object_position": null,
            "object_fit": null,
            "grid_auto_columns": null,
            "margin": null,
            "display": null,
            "left": null
          }
        },
        "5693f6ec64244f889ae1d3a981750194": {
          "model_module": "@jupyter-widgets/controls",
          "model_name": "HBoxModel",
          "state": {
            "_view_name": "HBoxView",
            "_dom_classes": [],
            "_model_name": "HBoxModel",
            "_view_module": "@jupyter-widgets/controls",
            "_model_module_version": "1.5.0",
            "_view_count": null,
            "_view_module_version": "1.5.0",
            "box_style": "",
            "layout": "IPY_MODEL_6b2d0313fff54a15b1624f4bab30663d",
            "_model_module": "@jupyter-widgets/controls",
            "children": [
              "IPY_MODEL_769e7a45ffda408e8a0ac0c8799f2209",
              "IPY_MODEL_f82aa2e712024e35b92e747cbe34db0b"
            ]
          }
        },
        "6b2d0313fff54a15b1624f4bab30663d": {
          "model_module": "@jupyter-widgets/base",
          "model_name": "LayoutModel",
          "state": {
            "_view_name": "LayoutView",
            "grid_template_rows": null,
            "right": null,
            "justify_content": null,
            "_view_module": "@jupyter-widgets/base",
            "overflow": null,
            "_model_module_version": "1.2.0",
            "_view_count": null,
            "flex_flow": null,
            "width": null,
            "min_width": null,
            "border": null,
            "align_items": null,
            "bottom": null,
            "_model_module": "@jupyter-widgets/base",
            "top": null,
            "grid_column": null,
            "overflow_y": null,
            "overflow_x": null,
            "grid_auto_flow": null,
            "grid_area": null,
            "grid_template_columns": null,
            "flex": null,
            "_model_name": "LayoutModel",
            "justify_items": null,
            "grid_row": null,
            "max_height": null,
            "align_content": null,
            "visibility": null,
            "align_self": null,
            "height": null,
            "min_height": null,
            "padding": null,
            "grid_auto_rows": null,
            "grid_gap": null,
            "max_width": null,
            "order": null,
            "_view_module_version": "1.2.0",
            "grid_template_areas": null,
            "object_position": null,
            "object_fit": null,
            "grid_auto_columns": null,
            "margin": null,
            "display": null,
            "left": null
          }
        },
        "769e7a45ffda408e8a0ac0c8799f2209": {
          "model_module": "@jupyter-widgets/controls",
          "model_name": "FloatProgressModel",
          "state": {
            "_view_name": "ProgressView",
            "style": "IPY_MODEL_26b54bc129594087bcda816c22478e4d",
            "_dom_classes": [],
            "description": "Downloading: 100%",
            "_model_name": "FloatProgressModel",
            "bar_style": "success",
            "max": 213450,
            "_view_module": "@jupyter-widgets/controls",
            "_model_module_version": "1.5.0",
            "value": 213450,
            "_view_count": null,
            "_view_module_version": "1.5.0",
            "orientation": "horizontal",
            "min": 0,
            "description_tooltip": null,
            "_model_module": "@jupyter-widgets/controls",
            "layout": "IPY_MODEL_d79dba770a034947b72350174f659377"
          }
        },
        "f82aa2e712024e35b92e747cbe34db0b": {
          "model_module": "@jupyter-widgets/controls",
          "model_name": "HTMLModel",
          "state": {
            "_view_name": "HTMLView",
            "style": "IPY_MODEL_8133520a5e304e55bd773d9d55b3d5e7",
            "_dom_classes": [],
            "description": "",
            "_model_name": "HTMLModel",
            "placeholder": "​",
            "_view_module": "@jupyter-widgets/controls",
            "_model_module_version": "1.5.0",
            "value": " 213k/213k [00:00&lt;00:00, 281kB/s]",
            "_view_count": null,
            "_view_module_version": "1.5.0",
            "description_tooltip": null,
            "_model_module": "@jupyter-widgets/controls",
            "layout": "IPY_MODEL_403a6101afd14108bffbf6920e86d04c"
          }
        },
        "26b54bc129594087bcda816c22478e4d": {
          "model_module": "@jupyter-widgets/controls",
          "model_name": "ProgressStyleModel",
          "state": {
            "_view_name": "StyleView",
            "_model_name": "ProgressStyleModel",
            "description_width": "initial",
            "_view_module": "@jupyter-widgets/base",
            "_model_module_version": "1.5.0",
            "_view_count": null,
            "_view_module_version": "1.2.0",
            "bar_color": null,
            "_model_module": "@jupyter-widgets/controls"
          }
        },
        "d79dba770a034947b72350174f659377": {
          "model_module": "@jupyter-widgets/base",
          "model_name": "LayoutModel",
          "state": {
            "_view_name": "LayoutView",
            "grid_template_rows": null,
            "right": null,
            "justify_content": null,
            "_view_module": "@jupyter-widgets/base",
            "overflow": null,
            "_model_module_version": "1.2.0",
            "_view_count": null,
            "flex_flow": null,
            "width": null,
            "min_width": null,
            "border": null,
            "align_items": null,
            "bottom": null,
            "_model_module": "@jupyter-widgets/base",
            "top": null,
            "grid_column": null,
            "overflow_y": null,
            "overflow_x": null,
            "grid_auto_flow": null,
            "grid_area": null,
            "grid_template_columns": null,
            "flex": null,
            "_model_name": "LayoutModel",
            "justify_items": null,
            "grid_row": null,
            "max_height": null,
            "align_content": null,
            "visibility": null,
            "align_self": null,
            "height": null,
            "min_height": null,
            "padding": null,
            "grid_auto_rows": null,
            "grid_gap": null,
            "max_width": null,
            "order": null,
            "_view_module_version": "1.2.0",
            "grid_template_areas": null,
            "object_position": null,
            "object_fit": null,
            "grid_auto_columns": null,
            "margin": null,
            "display": null,
            "left": null
          }
        },
        "8133520a5e304e55bd773d9d55b3d5e7": {
          "model_module": "@jupyter-widgets/controls",
          "model_name": "DescriptionStyleModel",
          "state": {
            "_view_name": "StyleView",
            "_model_name": "DescriptionStyleModel",
            "description_width": "",
            "_view_module": "@jupyter-widgets/base",
            "_model_module_version": "1.5.0",
            "_view_count": null,
            "_view_module_version": "1.2.0",
            "_model_module": "@jupyter-widgets/controls"
          }
        },
        "403a6101afd14108bffbf6920e86d04c": {
          "model_module": "@jupyter-widgets/base",
          "model_name": "LayoutModel",
          "state": {
            "_view_name": "LayoutView",
            "grid_template_rows": null,
            "right": null,
            "justify_content": null,
            "_view_module": "@jupyter-widgets/base",
            "overflow": null,
            "_model_module_version": "1.2.0",
            "_view_count": null,
            "flex_flow": null,
            "width": null,
            "min_width": null,
            "border": null,
            "align_items": null,
            "bottom": null,
            "_model_module": "@jupyter-widgets/base",
            "top": null,
            "grid_column": null,
            "overflow_y": null,
            "overflow_x": null,
            "grid_auto_flow": null,
            "grid_area": null,
            "grid_template_columns": null,
            "flex": null,
            "_model_name": "LayoutModel",
            "justify_items": null,
            "grid_row": null,
            "max_height": null,
            "align_content": null,
            "visibility": null,
            "align_self": null,
            "height": null,
            "min_height": null,
            "padding": null,
            "grid_auto_rows": null,
            "grid_gap": null,
            "max_width": null,
            "order": null,
            "_view_module_version": "1.2.0",
            "grid_template_areas": null,
            "object_position": null,
            "object_fit": null,
            "grid_auto_columns": null,
            "margin": null,
            "display": null,
            "left": null
          }
        },
        "f49f035360e8472ab5e421c6aa320853": {
          "model_module": "@jupyter-widgets/controls",
          "model_name": "HBoxModel",
          "state": {
            "_view_name": "HBoxView",
            "_dom_classes": [],
            "_model_name": "HBoxModel",
            "_view_module": "@jupyter-widgets/controls",
            "_model_module_version": "1.5.0",
            "_view_count": null,
            "_view_module_version": "1.5.0",
            "box_style": "",
            "layout": "IPY_MODEL_fa23a67d5fd440109a668e5bb3e2f178",
            "_model_module": "@jupyter-widgets/controls",
            "children": [
              "IPY_MODEL_6cb84e4c594847f7889de967c9dc9faf",
              "IPY_MODEL_3f222e75fe4e4629b32e117ff3650551"
            ]
          }
        },
        "fa23a67d5fd440109a668e5bb3e2f178": {
          "model_module": "@jupyter-widgets/base",
          "model_name": "LayoutModel",
          "state": {
            "_view_name": "LayoutView",
            "grid_template_rows": null,
            "right": null,
            "justify_content": null,
            "_view_module": "@jupyter-widgets/base",
            "overflow": null,
            "_model_module_version": "1.2.0",
            "_view_count": null,
            "flex_flow": null,
            "width": null,
            "min_width": null,
            "border": null,
            "align_items": null,
            "bottom": null,
            "_model_module": "@jupyter-widgets/base",
            "top": null,
            "grid_column": null,
            "overflow_y": null,
            "overflow_x": null,
            "grid_auto_flow": null,
            "grid_area": null,
            "grid_template_columns": null,
            "flex": null,
            "_model_name": "LayoutModel",
            "justify_items": null,
            "grid_row": null,
            "max_height": null,
            "align_content": null,
            "visibility": null,
            "align_self": null,
            "height": null,
            "min_height": null,
            "padding": null,
            "grid_auto_rows": null,
            "grid_gap": null,
            "max_width": null,
            "order": null,
            "_view_module_version": "1.2.0",
            "grid_template_areas": null,
            "object_position": null,
            "object_fit": null,
            "grid_auto_columns": null,
            "margin": null,
            "display": null,
            "left": null
          }
        },
        "6cb84e4c594847f7889de967c9dc9faf": {
          "model_module": "@jupyter-widgets/controls",
          "model_name": "FloatProgressModel",
          "state": {
            "_view_name": "ProgressView",
            "style": "IPY_MODEL_33b09251abb040789fff3b0628289f20",
            "_dom_classes": [],
            "description": "Downloading: 100%",
            "_model_name": "FloatProgressModel",
            "bar_style": "success",
            "max": 60,
            "_view_module": "@jupyter-widgets/controls",
            "_model_module_version": "1.5.0",
            "value": 60,
            "_view_count": null,
            "_view_module_version": "1.5.0",
            "orientation": "horizontal",
            "min": 0,
            "description_tooltip": null,
            "_model_module": "@jupyter-widgets/controls",
            "layout": "IPY_MODEL_0ff7650405c8479eb78005b4a0674207"
          }
        },
        "3f222e75fe4e4629b32e117ff3650551": {
          "model_module": "@jupyter-widgets/controls",
          "model_name": "HTMLModel",
          "state": {
            "_view_name": "HTMLView",
            "style": "IPY_MODEL_a1e88d7c7da64f23898f5466d541f64d",
            "_dom_classes": [],
            "description": "",
            "_model_name": "HTMLModel",
            "placeholder": "​",
            "_view_module": "@jupyter-widgets/controls",
            "_model_module_version": "1.5.0",
            "value": " 60.0/60.0 [00:00&lt;00:00, 278B/s]",
            "_view_count": null,
            "_view_module_version": "1.5.0",
            "description_tooltip": null,
            "_model_module": "@jupyter-widgets/controls",
            "layout": "IPY_MODEL_2cfbbf2f82844b93826b8721e3295899"
          }
        },
        "33b09251abb040789fff3b0628289f20": {
          "model_module": "@jupyter-widgets/controls",
          "model_name": "ProgressStyleModel",
          "state": {
            "_view_name": "StyleView",
            "_model_name": "ProgressStyleModel",
            "description_width": "initial",
            "_view_module": "@jupyter-widgets/base",
            "_model_module_version": "1.5.0",
            "_view_count": null,
            "_view_module_version": "1.2.0",
            "bar_color": null,
            "_model_module": "@jupyter-widgets/controls"
          }
        },
        "0ff7650405c8479eb78005b4a0674207": {
          "model_module": "@jupyter-widgets/base",
          "model_name": "LayoutModel",
          "state": {
            "_view_name": "LayoutView",
            "grid_template_rows": null,
            "right": null,
            "justify_content": null,
            "_view_module": "@jupyter-widgets/base",
            "overflow": null,
            "_model_module_version": "1.2.0",
            "_view_count": null,
            "flex_flow": null,
            "width": null,
            "min_width": null,
            "border": null,
            "align_items": null,
            "bottom": null,
            "_model_module": "@jupyter-widgets/base",
            "top": null,
            "grid_column": null,
            "overflow_y": null,
            "overflow_x": null,
            "grid_auto_flow": null,
            "grid_area": null,
            "grid_template_columns": null,
            "flex": null,
            "_model_name": "LayoutModel",
            "justify_items": null,
            "grid_row": null,
            "max_height": null,
            "align_content": null,
            "visibility": null,
            "align_self": null,
            "height": null,
            "min_height": null,
            "padding": null,
            "grid_auto_rows": null,
            "grid_gap": null,
            "max_width": null,
            "order": null,
            "_view_module_version": "1.2.0",
            "grid_template_areas": null,
            "object_position": null,
            "object_fit": null,
            "grid_auto_columns": null,
            "margin": null,
            "display": null,
            "left": null
          }
        },
        "a1e88d7c7da64f23898f5466d541f64d": {
          "model_module": "@jupyter-widgets/controls",
          "model_name": "DescriptionStyleModel",
          "state": {
            "_view_name": "StyleView",
            "_model_name": "DescriptionStyleModel",
            "description_width": "",
            "_view_module": "@jupyter-widgets/base",
            "_model_module_version": "1.5.0",
            "_view_count": null,
            "_view_module_version": "1.2.0",
            "_model_module": "@jupyter-widgets/controls"
          }
        },
        "2cfbbf2f82844b93826b8721e3295899": {
          "model_module": "@jupyter-widgets/base",
          "model_name": "LayoutModel",
          "state": {
            "_view_name": "LayoutView",
            "grid_template_rows": null,
            "right": null,
            "justify_content": null,
            "_view_module": "@jupyter-widgets/base",
            "overflow": null,
            "_model_module_version": "1.2.0",
            "_view_count": null,
            "flex_flow": null,
            "width": null,
            "min_width": null,
            "border": null,
            "align_items": null,
            "bottom": null,
            "_model_module": "@jupyter-widgets/base",
            "top": null,
            "grid_column": null,
            "overflow_y": null,
            "overflow_x": null,
            "grid_auto_flow": null,
            "grid_area": null,
            "grid_template_columns": null,
            "flex": null,
            "_model_name": "LayoutModel",
            "justify_items": null,
            "grid_row": null,
            "max_height": null,
            "align_content": null,
            "visibility": null,
            "align_self": null,
            "height": null,
            "min_height": null,
            "padding": null,
            "grid_auto_rows": null,
            "grid_gap": null,
            "max_width": null,
            "order": null,
            "_view_module_version": "1.2.0",
            "grid_template_areas": null,
            "object_position": null,
            "object_fit": null,
            "grid_auto_columns": null,
            "margin": null,
            "display": null,
            "left": null
          }
        },
        "c22872c6527b4dd1bf7af0c889142b89": {
          "model_module": "@jupyter-widgets/controls",
          "model_name": "HBoxModel",
          "state": {
            "_view_name": "HBoxView",
            "_dom_classes": [],
            "_model_name": "HBoxModel",
            "_view_module": "@jupyter-widgets/controls",
            "_model_module_version": "1.5.0",
            "_view_count": null,
            "_view_module_version": "1.5.0",
            "box_style": "",
            "layout": "IPY_MODEL_7c29d7b8879645d6b2441430aa072a96",
            "_model_module": "@jupyter-widgets/controls",
            "children": [
              "IPY_MODEL_b28fafed787b4f24ac10e44eee64b2a3",
              "IPY_MODEL_ae599bccd79349e694c9328a90b48f40"
            ]
          }
        },
        "7c29d7b8879645d6b2441430aa072a96": {
          "model_module": "@jupyter-widgets/base",
          "model_name": "LayoutModel",
          "state": {
            "_view_name": "LayoutView",
            "grid_template_rows": null,
            "right": null,
            "justify_content": null,
            "_view_module": "@jupyter-widgets/base",
            "overflow": null,
            "_model_module_version": "1.2.0",
            "_view_count": null,
            "flex_flow": null,
            "width": null,
            "min_width": null,
            "border": null,
            "align_items": null,
            "bottom": null,
            "_model_module": "@jupyter-widgets/base",
            "top": null,
            "grid_column": null,
            "overflow_y": null,
            "overflow_x": null,
            "grid_auto_flow": null,
            "grid_area": null,
            "grid_template_columns": null,
            "flex": null,
            "_model_name": "LayoutModel",
            "justify_items": null,
            "grid_row": null,
            "max_height": null,
            "align_content": null,
            "visibility": null,
            "align_self": null,
            "height": null,
            "min_height": null,
            "padding": null,
            "grid_auto_rows": null,
            "grid_gap": null,
            "max_width": null,
            "order": null,
            "_view_module_version": "1.2.0",
            "grid_template_areas": null,
            "object_position": null,
            "object_fit": null,
            "grid_auto_columns": null,
            "margin": null,
            "display": null,
            "left": null
          }
        },
        "b28fafed787b4f24ac10e44eee64b2a3": {
          "model_module": "@jupyter-widgets/controls",
          "model_name": "FloatProgressModel",
          "state": {
            "_view_name": "ProgressView",
            "style": "IPY_MODEL_f0a9c57a462544c68a92a13106a4aac6",
            "_dom_classes": [],
            "description": "Downloading: 100%",
            "_model_name": "FloatProgressModel",
            "bar_style": "success",
            "max": 230,
            "_view_module": "@jupyter-widgets/controls",
            "_model_module_version": "1.5.0",
            "value": 230,
            "_view_count": null,
            "_view_module_version": "1.5.0",
            "orientation": "horizontal",
            "min": 0,
            "description_tooltip": null,
            "_model_module": "@jupyter-widgets/controls",
            "layout": "IPY_MODEL_f261d0bb3f084df0acb2ba81e824bbd8"
          }
        },
        "ae599bccd79349e694c9328a90b48f40": {
          "model_module": "@jupyter-widgets/controls",
          "model_name": "HTMLModel",
          "state": {
            "_view_name": "HTMLView",
            "style": "IPY_MODEL_ae1f2483af204115b6885456d6d18202",
            "_dom_classes": [],
            "description": "",
            "_model_name": "HTMLModel",
            "placeholder": "​",
            "_view_module": "@jupyter-widgets/controls",
            "_model_module_version": "1.5.0",
            "value": " 230/230 [00:22&lt;00:00, 10.3B/s]",
            "_view_count": null,
            "_view_module_version": "1.5.0",
            "description_tooltip": null,
            "_model_module": "@jupyter-widgets/controls",
            "layout": "IPY_MODEL_c7f74457344a48698af85ea6805df82c"
          }
        },
        "f0a9c57a462544c68a92a13106a4aac6": {
          "model_module": "@jupyter-widgets/controls",
          "model_name": "ProgressStyleModel",
          "state": {
            "_view_name": "StyleView",
            "_model_name": "ProgressStyleModel",
            "description_width": "initial",
            "_view_module": "@jupyter-widgets/base",
            "_model_module_version": "1.5.0",
            "_view_count": null,
            "_view_module_version": "1.2.0",
            "bar_color": null,
            "_model_module": "@jupyter-widgets/controls"
          }
        },
        "f261d0bb3f084df0acb2ba81e824bbd8": {
          "model_module": "@jupyter-widgets/base",
          "model_name": "LayoutModel",
          "state": {
            "_view_name": "LayoutView",
            "grid_template_rows": null,
            "right": null,
            "justify_content": null,
            "_view_module": "@jupyter-widgets/base",
            "overflow": null,
            "_model_module_version": "1.2.0",
            "_view_count": null,
            "flex_flow": null,
            "width": null,
            "min_width": null,
            "border": null,
            "align_items": null,
            "bottom": null,
            "_model_module": "@jupyter-widgets/base",
            "top": null,
            "grid_column": null,
            "overflow_y": null,
            "overflow_x": null,
            "grid_auto_flow": null,
            "grid_area": null,
            "grid_template_columns": null,
            "flex": null,
            "_model_name": "LayoutModel",
            "justify_items": null,
            "grid_row": null,
            "max_height": null,
            "align_content": null,
            "visibility": null,
            "align_self": null,
            "height": null,
            "min_height": null,
            "padding": null,
            "grid_auto_rows": null,
            "grid_gap": null,
            "max_width": null,
            "order": null,
            "_view_module_version": "1.2.0",
            "grid_template_areas": null,
            "object_position": null,
            "object_fit": null,
            "grid_auto_columns": null,
            "margin": null,
            "display": null,
            "left": null
          }
        },
        "ae1f2483af204115b6885456d6d18202": {
          "model_module": "@jupyter-widgets/controls",
          "model_name": "DescriptionStyleModel",
          "state": {
            "_view_name": "StyleView",
            "_model_name": "DescriptionStyleModel",
            "description_width": "",
            "_view_module": "@jupyter-widgets/base",
            "_model_module_version": "1.5.0",
            "_view_count": null,
            "_view_module_version": "1.2.0",
            "_model_module": "@jupyter-widgets/controls"
          }
        },
        "c7f74457344a48698af85ea6805df82c": {
          "model_module": "@jupyter-widgets/base",
          "model_name": "LayoutModel",
          "state": {
            "_view_name": "LayoutView",
            "grid_template_rows": null,
            "right": null,
            "justify_content": null,
            "_view_module": "@jupyter-widgets/base",
            "overflow": null,
            "_model_module_version": "1.2.0",
            "_view_count": null,
            "flex_flow": null,
            "width": null,
            "min_width": null,
            "border": null,
            "align_items": null,
            "bottom": null,
            "_model_module": "@jupyter-widgets/base",
            "top": null,
            "grid_column": null,
            "overflow_y": null,
            "overflow_x": null,
            "grid_auto_flow": null,
            "grid_area": null,
            "grid_template_columns": null,
            "flex": null,
            "_model_name": "LayoutModel",
            "justify_items": null,
            "grid_row": null,
            "max_height": null,
            "align_content": null,
            "visibility": null,
            "align_self": null,
            "height": null,
            "min_height": null,
            "padding": null,
            "grid_auto_rows": null,
            "grid_gap": null,
            "max_width": null,
            "order": null,
            "_view_module_version": "1.2.0",
            "grid_template_areas": null,
            "object_position": null,
            "object_fit": null,
            "grid_auto_columns": null,
            "margin": null,
            "display": null,
            "left": null
          }
        },
        "de67aed0292e4c2b930c2c324984990d": {
          "model_module": "@jupyter-widgets/controls",
          "model_name": "HBoxModel",
          "state": {
            "_view_name": "HBoxView",
            "_dom_classes": [],
            "_model_name": "HBoxModel",
            "_view_module": "@jupyter-widgets/controls",
            "_model_module_version": "1.5.0",
            "_view_count": null,
            "_view_module_version": "1.5.0",
            "box_style": "",
            "layout": "IPY_MODEL_0f16cff3b3154cd1afe6e713db25e0aa",
            "_model_module": "@jupyter-widgets/controls",
            "children": [
              "IPY_MODEL_6ca5894ac5914d1ba29cdcdb65dd8c6d",
              "IPY_MODEL_eb0d5b120e5142ebacd48cfc8eb93a6f"
            ]
          }
        },
        "0f16cff3b3154cd1afe6e713db25e0aa": {
          "model_module": "@jupyter-widgets/base",
          "model_name": "LayoutModel",
          "state": {
            "_view_name": "LayoutView",
            "grid_template_rows": null,
            "right": null,
            "justify_content": null,
            "_view_module": "@jupyter-widgets/base",
            "overflow": null,
            "_model_module_version": "1.2.0",
            "_view_count": null,
            "flex_flow": null,
            "width": null,
            "min_width": null,
            "border": null,
            "align_items": null,
            "bottom": null,
            "_model_module": "@jupyter-widgets/base",
            "top": null,
            "grid_column": null,
            "overflow_y": null,
            "overflow_x": null,
            "grid_auto_flow": null,
            "grid_area": null,
            "grid_template_columns": null,
            "flex": null,
            "_model_name": "LayoutModel",
            "justify_items": null,
            "grid_row": null,
            "max_height": null,
            "align_content": null,
            "visibility": null,
            "align_self": null,
            "height": null,
            "min_height": null,
            "padding": null,
            "grid_auto_rows": null,
            "grid_gap": null,
            "max_width": null,
            "order": null,
            "_view_module_version": "1.2.0",
            "grid_template_areas": null,
            "object_position": null,
            "object_fit": null,
            "grid_auto_columns": null,
            "margin": null,
            "display": null,
            "left": null
          }
        },
        "6ca5894ac5914d1ba29cdcdb65dd8c6d": {
          "model_module": "@jupyter-widgets/controls",
          "model_name": "FloatProgressModel",
          "state": {
            "_view_name": "ProgressView",
            "style": "IPY_MODEL_83bd3c3276ae4ad6bd87e8854ce42d85",
            "_dom_classes": [],
            "description": "Downloading: 100%",
            "_model_name": "FloatProgressModel",
            "bar_style": "success",
            "max": 1334448817,
            "_view_module": "@jupyter-widgets/controls",
            "_model_module_version": "1.5.0",
            "value": 1334448817,
            "_view_count": null,
            "_view_module_version": "1.5.0",
            "orientation": "horizontal",
            "min": 0,
            "description_tooltip": null,
            "_model_module": "@jupyter-widgets/controls",
            "layout": "IPY_MODEL_00199bfe119c4988876c3b347789decc"
          }
        },
        "eb0d5b120e5142ebacd48cfc8eb93a6f": {
          "model_module": "@jupyter-widgets/controls",
          "model_name": "HTMLModel",
          "state": {
            "_view_name": "HTMLView",
            "style": "IPY_MODEL_c3ed9864b34344618df47c0abdf7c0b9",
            "_dom_classes": [],
            "description": "",
            "_model_name": "HTMLModel",
            "placeholder": "​",
            "_view_module": "@jupyter-widgets/controls",
            "_model_module_version": "1.5.0",
            "value": " 1.33G/1.33G [00:21&lt;00:00, 60.8MB/s]",
            "_view_count": null,
            "_view_module_version": "1.5.0",
            "description_tooltip": null,
            "_model_module": "@jupyter-widgets/controls",
            "layout": "IPY_MODEL_c262964b356a4b44ae698e7e1d89202f"
          }
        },
        "83bd3c3276ae4ad6bd87e8854ce42d85": {
          "model_module": "@jupyter-widgets/controls",
          "model_name": "ProgressStyleModel",
          "state": {
            "_view_name": "StyleView",
            "_model_name": "ProgressStyleModel",
            "description_width": "initial",
            "_view_module": "@jupyter-widgets/base",
            "_model_module_version": "1.5.0",
            "_view_count": null,
            "_view_module_version": "1.2.0",
            "bar_color": null,
            "_model_module": "@jupyter-widgets/controls"
          }
        },
        "00199bfe119c4988876c3b347789decc": {
          "model_module": "@jupyter-widgets/base",
          "model_name": "LayoutModel",
          "state": {
            "_view_name": "LayoutView",
            "grid_template_rows": null,
            "right": null,
            "justify_content": null,
            "_view_module": "@jupyter-widgets/base",
            "overflow": null,
            "_model_module_version": "1.2.0",
            "_view_count": null,
            "flex_flow": null,
            "width": null,
            "min_width": null,
            "border": null,
            "align_items": null,
            "bottom": null,
            "_model_module": "@jupyter-widgets/base",
            "top": null,
            "grid_column": null,
            "overflow_y": null,
            "overflow_x": null,
            "grid_auto_flow": null,
            "grid_area": null,
            "grid_template_columns": null,
            "flex": null,
            "_model_name": "LayoutModel",
            "justify_items": null,
            "grid_row": null,
            "max_height": null,
            "align_content": null,
            "visibility": null,
            "align_self": null,
            "height": null,
            "min_height": null,
            "padding": null,
            "grid_auto_rows": null,
            "grid_gap": null,
            "max_width": null,
            "order": null,
            "_view_module_version": "1.2.0",
            "grid_template_areas": null,
            "object_position": null,
            "object_fit": null,
            "grid_auto_columns": null,
            "margin": null,
            "display": null,
            "left": null
          }
        },
        "c3ed9864b34344618df47c0abdf7c0b9": {
          "model_module": "@jupyter-widgets/controls",
          "model_name": "DescriptionStyleModel",
          "state": {
            "_view_name": "StyleView",
            "_model_name": "DescriptionStyleModel",
            "description_width": "",
            "_view_module": "@jupyter-widgets/base",
            "_model_module_version": "1.5.0",
            "_view_count": null,
            "_view_module_version": "1.2.0",
            "_model_module": "@jupyter-widgets/controls"
          }
        },
        "c262964b356a4b44ae698e7e1d89202f": {
          "model_module": "@jupyter-widgets/base",
          "model_name": "LayoutModel",
          "state": {
            "_view_name": "LayoutView",
            "grid_template_rows": null,
            "right": null,
            "justify_content": null,
            "_view_module": "@jupyter-widgets/base",
            "overflow": null,
            "_model_module_version": "1.2.0",
            "_view_count": null,
            "flex_flow": null,
            "width": null,
            "min_width": null,
            "border": null,
            "align_items": null,
            "bottom": null,
            "_model_module": "@jupyter-widgets/base",
            "top": null,
            "grid_column": null,
            "overflow_y": null,
            "overflow_x": null,
            "grid_auto_flow": null,
            "grid_area": null,
            "grid_template_columns": null,
            "flex": null,
            "_model_name": "LayoutModel",
            "justify_items": null,
            "grid_row": null,
            "max_height": null,
            "align_content": null,
            "visibility": null,
            "align_self": null,
            "height": null,
            "min_height": null,
            "padding": null,
            "grid_auto_rows": null,
            "grid_gap": null,
            "max_width": null,
            "order": null,
            "_view_module_version": "1.2.0",
            "grid_template_areas": null,
            "object_position": null,
            "object_fit": null,
            "grid_auto_columns": null,
            "margin": null,
            "display": null,
            "left": null
          }
        }
      }
    }
  },
  "cells": [
    {
      "cell_type": "markdown",
      "metadata": {
        "id": "view-in-github",
        "colab_type": "text"
      },
      "source": [
        "<a href=\"https://colab.research.google.com/github/sljm12/machine_learning_notebooks/blob/master/Clustering_Articles_using_SNA_and_NER.ipynb\" target=\"_parent\"><img src=\"https://colab.research.google.com/assets/colab-badge.svg\" alt=\"Open In Colab\"/></a>"
      ]
    },
    {
      "cell_type": "markdown",
      "metadata": {
        "id": "gKGtpEkn7Q1K",
        "colab_type": "text"
      },
      "source": [
        "This notebook is to try out the concept of using NER and SNA modularity to cluster news articles. This has some benefits we can store the news in a graph db and when we retrive we do a clustering using NER entities which can save time instead of reclustering using Text techniques.\n",
        "\n",
        "Current speed is slow due to the NER using huggingface NER, we can switch to spacy or other NER to make it faster"
      ]
    },
    {
      "cell_type": "code",
      "metadata": {
        "id": "vNfv-97jSVGX",
        "colab_type": "code",
        "colab": {
          "base_uri": "https://localhost:8080/",
          "height": 235
        },
        "outputId": "d16ed5c0-48e4-4dc5-8f00-9a02043aeb2a"
      },
      "source": [
        "!pip -q install newspaper3k\n",
        "!pip -q install transformers\n",
        "from newspaper import Article, ArticleException\n",
        "from transformers import pipeline"
      ],
      "execution_count": null,
      "outputs": [
        {
          "output_type": "stream",
          "text": [
            "\u001b[K     |████████████████████████████████| 215kB 3.4MB/s \n",
            "\u001b[K     |████████████████████████████████| 51kB 5.0MB/s \n",
            "\u001b[K     |████████████████████████████████| 7.4MB 10.2MB/s \n",
            "\u001b[K     |████████████████████████████████| 92kB 8.9MB/s \n",
            "\u001b[?25h  Building wheel for tinysegmenter (setup.py) ... \u001b[?25l\u001b[?25hdone\n",
            "  Building wheel for jieba3k (setup.py) ... \u001b[?25l\u001b[?25hdone\n",
            "  Building wheel for feedfinder2 (setup.py) ... \u001b[?25l\u001b[?25hdone\n",
            "  Building wheel for sgmllib3k (setup.py) ... \u001b[?25l\u001b[?25hdone\n",
            "\u001b[K     |████████████████████████████████| 890kB 3.3MB/s \n",
            "\u001b[K     |████████████████████████████████| 3.0MB 18.1MB/s \n",
            "\u001b[K     |████████████████████████████████| 1.1MB 40.4MB/s \n",
            "\u001b[K     |████████████████████████████████| 890kB 38.3MB/s \n",
            "\u001b[?25h  Building wheel for sacremoses (setup.py) ... \u001b[?25l\u001b[?25hdone\n"
          ],
          "name": "stdout"
        }
      ]
    },
    {
      "cell_type": "code",
      "metadata": {
        "id": "D9u0FQySTPvl",
        "colab_type": "code",
        "colab": {
          "base_uri": "https://localhost:8080/",
          "height": 261,
          "referenced_widgets": [
            "c0674b09677f47fab9c2ee425a35c4cc",
            "87ecad76bb5947feae4e7bdf8bc1e6cf",
            "8411b59ee29a45c4b08cb4029f19c787",
            "6043bce978c2417e9db1335c4a8a3058",
            "bfa88364247a449ca328c33cabf49c8c",
            "d12c6850665246debace63d680838ad8",
            "71c199638beb4d048661878b246f7bcb",
            "513d638ca07b46e9b1eccfc0a8481bf5",
            "5693f6ec64244f889ae1d3a981750194",
            "6b2d0313fff54a15b1624f4bab30663d",
            "769e7a45ffda408e8a0ac0c8799f2209",
            "f82aa2e712024e35b92e747cbe34db0b",
            "26b54bc129594087bcda816c22478e4d",
            "d79dba770a034947b72350174f659377",
            "8133520a5e304e55bd773d9d55b3d5e7",
            "403a6101afd14108bffbf6920e86d04c",
            "f49f035360e8472ab5e421c6aa320853",
            "fa23a67d5fd440109a668e5bb3e2f178",
            "6cb84e4c594847f7889de967c9dc9faf",
            "3f222e75fe4e4629b32e117ff3650551",
            "33b09251abb040789fff3b0628289f20",
            "0ff7650405c8479eb78005b4a0674207",
            "a1e88d7c7da64f23898f5466d541f64d",
            "2cfbbf2f82844b93826b8721e3295899",
            "c22872c6527b4dd1bf7af0c889142b89",
            "7c29d7b8879645d6b2441430aa072a96",
            "b28fafed787b4f24ac10e44eee64b2a3",
            "ae599bccd79349e694c9328a90b48f40",
            "f0a9c57a462544c68a92a13106a4aac6",
            "f261d0bb3f084df0acb2ba81e824bbd8",
            "ae1f2483af204115b6885456d6d18202",
            "c7f74457344a48698af85ea6805df82c",
            "de67aed0292e4c2b930c2c324984990d",
            "0f16cff3b3154cd1afe6e713db25e0aa",
            "6ca5894ac5914d1ba29cdcdb65dd8c6d",
            "eb0d5b120e5142ebacd48cfc8eb93a6f",
            "83bd3c3276ae4ad6bd87e8854ce42d85",
            "00199bfe119c4988876c3b347789decc",
            "c3ed9864b34344618df47c0abdf7c0b9",
            "c262964b356a4b44ae698e7e1d89202f"
          ]
        },
        "outputId": "4adc8bcb-fe46-4104-aa6d-22c5376cadd6"
      },
      "source": [
        "nlp = pipeline(\"ner\",grouped_entities=True)\n",
        "#summarizer = pipeline(\"summarization\")"
      ],
      "execution_count": null,
      "outputs": [
        {
          "output_type": "display_data",
          "data": {
            "application/vnd.jupyter.widget-view+json": {
              "model_id": "c0674b09677f47fab9c2ee425a35c4cc",
              "version_minor": 0,
              "version_major": 2
            },
            "text/plain": [
              "HBox(children=(FloatProgress(value=0.0, description='Downloading', max=998.0, style=ProgressStyle(description_…"
            ]
          },
          "metadata": {
            "tags": []
          }
        },
        {
          "output_type": "stream",
          "text": [
            "\n"
          ],
          "name": "stdout"
        },
        {
          "output_type": "display_data",
          "data": {
            "application/vnd.jupyter.widget-view+json": {
              "model_id": "5693f6ec64244f889ae1d3a981750194",
              "version_minor": 0,
              "version_major": 2
            },
            "text/plain": [
              "HBox(children=(FloatProgress(value=0.0, description='Downloading', max=213450.0, style=ProgressStyle(descripti…"
            ]
          },
          "metadata": {
            "tags": []
          }
        },
        {
          "output_type": "stream",
          "text": [
            "\n"
          ],
          "name": "stdout"
        },
        {
          "output_type": "display_data",
          "data": {
            "application/vnd.jupyter.widget-view+json": {
              "model_id": "f49f035360e8472ab5e421c6aa320853",
              "version_minor": 0,
              "version_major": 2
            },
            "text/plain": [
              "HBox(children=(FloatProgress(value=0.0, description='Downloading', max=60.0, style=ProgressStyle(description_w…"
            ]
          },
          "metadata": {
            "tags": []
          }
        },
        {
          "output_type": "stream",
          "text": [
            "\n"
          ],
          "name": "stdout"
        },
        {
          "output_type": "display_data",
          "data": {
            "application/vnd.jupyter.widget-view+json": {
              "model_id": "c22872c6527b4dd1bf7af0c889142b89",
              "version_minor": 0,
              "version_major": 2
            },
            "text/plain": [
              "HBox(children=(FloatProgress(value=0.0, description='Downloading', max=230.0, style=ProgressStyle(description_…"
            ]
          },
          "metadata": {
            "tags": []
          }
        },
        {
          "output_type": "stream",
          "text": [
            "\n"
          ],
          "name": "stdout"
        },
        {
          "output_type": "display_data",
          "data": {
            "application/vnd.jupyter.widget-view+json": {
              "model_id": "de67aed0292e4c2b930c2c324984990d",
              "version_minor": 0,
              "version_major": 2
            },
            "text/plain": [
              "HBox(children=(FloatProgress(value=0.0, description='Downloading', max=1334448817.0, style=ProgressStyle(descr…"
            ]
          },
          "metadata": {
            "tags": []
          }
        },
        {
          "output_type": "stream",
          "text": [
            "\n"
          ],
          "name": "stdout"
        }
      ]
    },
    {
      "cell_type": "code",
      "metadata": {
        "id": "fEQwSxgH-A3i",
        "colab_type": "code",
        "colab": {}
      },
      "source": [
        "import feedparser\n",
        "\n",
        "rss = [\n",
        "       \"http://rss.cnn.com/rss/edition_world.rss\",\n",
        "       \"http://feeds.bbci.co.uk/news/world/rss.xml\"\n",
        "]\n",
        "\n",
        "r_links=[]\n",
        "rss_parsed = [feedparser.parse(r) for r in rss]"
      ],
      "execution_count": null,
      "outputs": []
    },
    {
      "cell_type": "code",
      "metadata": {
        "id": "AZcYmCnh-m-3",
        "colab_type": "code",
        "colab": {}
      },
      "source": [
        "for r in rss_parsed:\n",
        "  r_links = r_links + [row[\"link\"] for row in r[\"entries\"]]"
      ],
      "execution_count": null,
      "outputs": []
    },
    {
      "cell_type": "code",
      "metadata": {
        "id": "2E_aTTZm_GVw",
        "colab_type": "code",
        "colab": {}
      },
      "source": [
        "links = r_links"
      ],
      "execution_count": null,
      "outputs": []
    },
    {
      "cell_type": "code",
      "metadata": {
        "id": "N6rvl7USxeuS",
        "colab_type": "code",
        "colab": {}
      },
      "source": [
        "links = [\n",
        "         \"https://www.channelnewsasia.com/news/world/new-zealand-mosque-gunman-brenton-tarrant-extremism-convicted-13057534\",\n",
        "         \"https://www.straitstimes.com/asia/australianz/new-zealand-court-sentences-mosque-shooter-brenton-tarrant-to-life-imprisonment\",\n",
        "         \"https://www.asiaone.com/world/you-know-face-christchurch-hero-confronts-killer-court\",\n",
        "         \"https://www.theguardian.com/commentisfree/2020/aug/27/the-christchurch-mosque-survivors-have-to-find-a-way-to-move-on-but-we-shouldnt\",\n",
        "         \"https://www.asiaone.com/singapore/frustrated-chinese-travellers-singapore-show-limits-border-reopenings-covid-19-rages\",\n",
        "         \"https://www.channelnewsasia.com/news/singapore/singapore-china-flights-travel-covid-19-testing-arrangements-13055952\",\n",
        "         \"https://www.channelnewsasia.com/news/asia/japanese-prime-minister-abe-to-resign-over-health-concerns-13062124\",\n",
        "         \"https://www.straitstimes.com/asia/east-asia/japan-pm-abe-to-resign-due-to-worsening-health-media\",\n",
        "         \"https://sg.news.yahoo.com/japan-pm-abe-set-hold-001117526.html\",\n",
        "         \"https://www.straitstimes.com/opinion/contemplating-abes-autumn-harvest\",\n",
        "         \"https://www.channelnewsasia.com/news/commentary/shinzo-abe-ill-sick-replacement-japan-pm-covid-19-economy-13060036\",\n",
        "         \"https://www.channelnewsasia.com/news/singapore/foreigner-job-competition-singaporeans-employment-pass-13068156\",\n",
        "         \"https://www.straitstimes.com/politics/parliament-prefer-singaporeans-when-hiring-choose-citizens-over-foreigners-if-lay-offs\",\n",
        "         \"https://www.todayonline.com/singapore/members-parliament-raise-concerns-about-competition-foreigners-jobs-first-day-debates\",\n",
        "         \"https://www.channelnewsasia.com/news/parliament/videos/august/debate-on-president-s-address-gan-siow-huang-on-reducing-13068954\",\n",
        "         \"https://www.straitstimes.com/politics/retain-citizens-over-foreigners-if-retrenching-gan-siow-huang\",\n",
        "         \"https://www.thejakartapost.com/news/2020/08/26/indonesia-starts-preliminary-talks-on-travel-corridor-with-singapore.html\",\n",
        "         \"https://www.flightglobal.com/air-transport/singapore-and-indonesia-mull-essential-travel-green-lane/139898.article\",\n",
        "         \"https://www.straitstimes.com/politics/pm-lee-to-deliver-speech-on-spores-response-to-covid-19-in-parliament-at-330pm\",\n",
        "         \"https://www.todayonline.com/singapore/watch-pm-lee-speaks-parliament-spores-response-pandemic-and-life-beyond-covid-19\",\n",
        "         \"https://www.straitstimes.com/politics/pm-lees-speech-in-parliament-follow-sts-live-coverage\",\n",
        "         \"https://www.channelnewsasia.com/news/singapore/covid-19-pm-lee-hsien-loong-parliament-errors-13075260\"\n",
        "]"
      ],
      "execution_count": null,
      "outputs": []
    },
    {
      "cell_type": "markdown",
      "metadata": {
        "id": "tEMNZxcv9sNO",
        "colab_type": "text"
      },
      "source": [
        "Collect the articles and their text"
      ]
    },
    {
      "cell_type": "code",
      "metadata": {
        "id": "OhJQ2X3hTRR7",
        "colab_type": "code",
        "colab": {
          "base_uri": "https://localhost:8080/",
          "height": 1000
        },
        "outputId": "6d6f7d25-826e-4181-aef6-c17e1e325890"
      },
      "source": [
        "from pathlib import Path\n",
        "c=0\n",
        "t = []\n",
        "for l in links:\n",
        "    print(l)\n",
        "    try:\n",
        "      a = Article(l)\n",
        "      a.download()\n",
        "      a.parse()\n",
        "      Path(str(c)+\".txt\").write_text(a.text)\n",
        "      c=c+1\n",
        "      t.append(a.text)\n",
        "    except ArticleException:\n",
        "      print(l,\"cannot download\")"
      ],
      "execution_count": null,
      "outputs": [
        {
          "output_type": "stream",
          "text": [
            "http://rss.cnn.com/~r/rss/edition_world/~3/u038prXyPMo/index.html\n",
            "http://rss.cnn.com/~r/rss/edition_world/~3/Ra6g53euUWM/index.html\n",
            "http://rss.cnn.com/~r/rss/edition_world/~3/h7OE3S3Q8zU/index.html\n",
            "http://rss.cnn.com/~r/rss/edition_world/~3/vZVJyT2SBWQ/mulan-disney-china-credits-tapper-sotu-vpx.cnn\n",
            "http://rss.cnn.com/~r/rss/edition_world/~3/Ofrh72sptT4/index.html\n",
            "http://rss.cnn.com/~r/rss/edition_world/~3/APyhk0bVh_4/index.html\n",
            "http://rss.cnn.com/~r/rss/edition_world/~3/kK_yyezxG5s/index.html\n",
            "http://rss.cnn.com/~r/rss/edition_world/~3/sVhGbsF1jlg/index.html\n",
            "http://rss.cnn.com/~r/rss/edition_world/~3/ksvwK-bd7xE/index.html\n",
            "http://rss.cnn.com/~r/rss/edition_world/~3/qx659QE0rPY/index.html\n",
            "http://rss.cnn.com/~r/rss/edition_world/~3/KlnsnygiAw8/index.html\n",
            "http://rss.cnn.com/~r/rss/edition_world/~3/pbQjkbD_bFk/index.html\n",
            "http://rss.cnn.com/~r/rss/edition_world/~3/Pa_SMoc1110/index.html\n",
            "http://rss.cnn.com/~r/rss/edition_world/~3/6Drm9PPhEOo/index.html\n",
            "http://rss.cnn.com/~r/rss/edition_world/~3/9iYby5I01so/index.html\n",
            "http://rss.cnn.com/~r/rss/edition_world/~3/BIhyBkoxn_g/index.html\n",
            "http://rss.cnn.com/~r/rss/edition_world/~3/jzCEqVDbR6Y/index.html\n",
            "http://rss.cnn.com/~r/rss/edition_world/~3/HdIbLfFJnSw/index.html\n",
            "http://rss.cnn.com/~r/rss/edition_world/~3/4KcCHQAPGdU/index.html\n",
            "http://rss.cnn.com/~r/rss/edition_world/~3/jGSAuczODlQ/index.html\n",
            "http://rss.cnn.com/~r/rss/edition_world/~3/ENJl769ZOO4/index.html\n",
            "http://rss.cnn.com/~r/rss/edition_world/~3/Ju2oBbFOOKw/index.html\n",
            "http://rss.cnn.com/~r/rss/edition_world/~3/ZN45DjYVf7s/index.html\n",
            "http://rss.cnn.com/~r/rss/edition_world/~3/OKNo9FkQNJY/index.html\n",
            "http://rss.cnn.com/~r/rss/edition_world/~3/jZHuHf44mR0/index.html\n",
            "http://rss.cnn.com/~r/rss/edition_world/~3/ISS_Wb16eJ4/index.html\n",
            "http://rss.cnn.com/~r/rss/edition_world/~3/QrP4ocPAIL0/\n",
            "http://rss.cnn.com/~r/rss/edition_world/~3/My9kD5jvKjM/\n",
            "http://rss.cnn.com/~r/rss/edition_world/~3/P165veO8DE8/\n",
            "https://www.bbc.co.uk/news/science-environment-54127279\n",
            "https://www.bbc.co.uk/news/world-asia-54070281\n",
            "https://www.bbc.co.uk/news/business-54143025\n",
            "https://www.bbc.co.uk/news/world-australia-54142985\n",
            "https://www.bbc.co.uk/news/world-middle-east-54034807\n",
            "https://www.bbc.co.uk/news/world-europe-54144644\n",
            "https://www.bbc.co.uk/news/world-africa-54145499\n",
            "https://www.bbc.co.uk/sport/football/54141979\n",
            "https://www.bbc.co.uk/news/technology-54142567\n",
            "https://www.bbc.co.uk/news/world-us-canada-54142800\n",
            "https://www.bbc.co.uk/news/world-asia-india-54143619\n",
            "https://www.bbc.co.uk/news/world-us-canada-54139317\n",
            "https://www.bbc.co.uk/news/election-us-2020-54026017\n",
            "https://www.bbc.co.uk/news/world-europe-54139312\n",
            "https://www.bbc.co.uk/news/world-europe-54135141\n",
            "https://www.bbc.co.uk/news/world-africa-54088880\n",
            "https://www.bbc.co.uk/news/world-latin-america-53985284\n",
            "https://www.bbc.co.uk/news/business-54088916\n",
            "https://www.bbc.co.uk/news/business-54080397\n",
            "https://www.bbc.co.uk/news/technology-54028720\n",
            "https://www.bbc.co.uk/news/entertainment-arts-54075088\n",
            "https://www.bbc.co.uk/news/world-south-asia-54009306\n",
            "https://www.bbc.co.uk/news/world-africa-54088878\n",
            "https://www.bbc.co.uk/news/world-asia-china-54034809\n",
            "https://www.bbc.co.uk/news/world-europe-54142136\n",
            "https://www.bbc.co.uk/news/world-us-canada-54138676\n",
            "https://www.bbc.co.uk/news/world-asia-54034810\n",
            "https://www.bbc.co.uk/news/world-europe-54130150\n",
            "https://www.bbc.co.uk/news/world-us-canada-53787329\n",
            "https://www.bbc.co.uk/news/world-asia-india-54042633\n",
            "https://www.bbc.co.uk/news/business-53794472\n",
            "https://www.bbc.co.uk/news/world-us-canada-54105476\n",
            "https://www.bbc.co.uk/news/business-53997790\n",
            "https://www.bbc.co.uk/news/world-asia-india-54026294\n"
          ],
          "name": "stdout"
        }
      ]
    },
    {
      "cell_type": "markdown",
      "metadata": {
        "id": "tz2DMJFXI_jD",
        "colab_type": "text"
      },
      "source": [
        "# Doing Full Article Graph"
      ]
    },
    {
      "cell_type": "markdown",
      "metadata": {
        "id": "w-lckFgcJEjF",
        "colab_type": "text"
      },
      "source": [
        "## NER"
      ]
    },
    {
      "cell_type": "code",
      "metadata": {
        "id": "774m-I3Mj8-L",
        "colab_type": "code",
        "colab": {}
      },
      "source": [
        "def group_dict(ner):\n",
        "  ner_dict = {}\n",
        "  for i in ner:\n",
        "    for n in i:\n",
        "      group = n[\"entity_group\"]\n",
        "      if group not in ner_dict:\n",
        "        ner_dict[group] = []\n",
        "\n",
        "      if n[\"word\"] not in ner_dict[group]:\n",
        "        ner_dict[group].append(n[\"word\"])\n",
        "  return ner_dict\n",
        "    \n",
        "    \n"
      ],
      "execution_count": null,
      "outputs": []
    },
    {
      "cell_type": "code",
      "metadata": {
        "id": "uIrTlTpmsr0y",
        "colab_type": "code",
        "colab": {}
      },
      "source": [
        "full_articles_ner = [nlp(i) for i in t]"
      ],
      "execution_count": null,
      "outputs": []
    },
    {
      "cell_type": "code",
      "metadata": {
        "id": "TFp6O2BBvcb6",
        "colab_type": "code",
        "colab": {}
      },
      "source": [
        "data = []\n",
        "# i refers to the article number\n",
        "for i in range(len(full_articles_ner)):\n",
        "  gd = group_dict([full_articles_ner[i]])\n",
        "  for k in gd.keys():\n",
        "    for word in gd[k]:\n",
        "      data.append((i, k, word))"
      ],
      "execution_count": null,
      "outputs": []
    },
    {
      "cell_type": "code",
      "metadata": {
        "id": "oZ7D6BvN2j4E",
        "colab_type": "code",
        "colab": {}
      },
      "source": [
        "import pandas as pd\n",
        "\n",
        "df = pd.DataFrame(data=data)"
      ],
      "execution_count": null,
      "outputs": []
    },
    {
      "cell_type": "markdown",
      "metadata": {
        "id": "FaVEUIopJOfM",
        "colab_type": "text"
      },
      "source": [
        "All the entities extracted to data.csv"
      ]
    },
    {
      "cell_type": "code",
      "metadata": {
        "id": "MvHNcECA2zkK",
        "colab_type": "code",
        "colab": {}
      },
      "source": [
        "df.to_csv(\"data.csv\")"
      ],
      "execution_count": null,
      "outputs": []
    },
    {
      "cell_type": "markdown",
      "metadata": {
        "id": "RZSOMzykG2Ml",
        "colab_type": "text"
      },
      "source": [
        "Extract the unique entities"
      ]
    },
    {
      "cell_type": "code",
      "metadata": {
        "id": "dcRE6eiQxsA5",
        "colab_type": "code",
        "colab": {}
      },
      "source": [
        "entity = {}\n",
        "\n",
        "#Insert the articles as entities\n",
        "for i in range(len(t)):\n",
        "  entity[\"article\"+str(i)]={\n",
        "      \"type\": \"Article\",\n",
        "      \"value\": links[i]\n",
        "  }\n",
        "\n",
        "#INsert the entities that are extracted\n",
        "for (id, articleId, type_, value) in df.itertuples():\n",
        "  if value not in entity.keys():\n",
        "    entity[value] = {\n",
        "        \"type\":type_,\n",
        "        \"value\": value\n",
        "    }\n"
      ],
      "execution_count": null,
      "outputs": []
    },
    {
      "cell_type": "code",
      "metadata": {
        "id": "dOnCxSdnAR8A",
        "colab_type": "code",
        "colab": {
          "base_uri": "https://localhost:8080/",
          "height": 34
        },
        "outputId": "e2ea440a-5e84-4ac3-84ad-aeab674438ec"
      },
      "source": [
        "import json\n",
        "Path(\"entity_list.json\").write_text(json.dumps(entity))"
      ],
      "execution_count": null,
      "outputs": [
        {
          "output_type": "execute_result",
          "data": {
            "text/plain": [
              "48958"
            ]
          },
          "metadata": {
            "tags": []
          },
          "execution_count": 13
        }
      ]
    },
    {
      "cell_type": "code",
      "metadata": {
        "id": "xlVFxxqIAgTx",
        "colab_type": "code",
        "colab": {}
      },
      "source": [
        "entity_list = []\n",
        "for k,v  in entity.items():\n",
        "  v[\"name\"]=k\n",
        "  entity_list.append(v)\n"
      ],
      "execution_count": null,
      "outputs": []
    },
    {
      "cell_type": "markdown",
      "metadata": {
        "id": "3Ce47zOkGDqG",
        "colab_type": "text"
      },
      "source": [
        "## Save the unique entities"
      ]
    },
    {
      "cell_type": "code",
      "metadata": {
        "id": "k2Txgo1XCdBk",
        "colab_type": "code",
        "colab": {}
      },
      "source": [
        "entity_df= pd.DataFrame(data=entity_list)"
      ],
      "execution_count": null,
      "outputs": []
    },
    {
      "cell_type": "code",
      "metadata": {
        "id": "JOPWrHVzCigb",
        "colab_type": "code",
        "colab": {}
      },
      "source": [
        "entity_df.to_csv(\"entity_list.csv\")"
      ],
      "execution_count": null,
      "outputs": []
    },
    {
      "cell_type": "code",
      "metadata": {
        "id": "RcGfYK-bCjkf",
        "colab_type": "code",
        "colab": {
          "base_uri": "https://localhost:8080/",
          "height": 195
        },
        "outputId": "65d9feed-5a2c-4ae9-d3ae-517961f776bf"
      },
      "source": [
        "entity_df.head()"
      ],
      "execution_count": null,
      "outputs": [
        {
          "output_type": "execute_result",
          "data": {
            "text/html": [
              "<div>\n",
              "<style scoped>\n",
              "    .dataframe tbody tr th:only-of-type {\n",
              "        vertical-align: middle;\n",
              "    }\n",
              "\n",
              "    .dataframe tbody tr th {\n",
              "        vertical-align: top;\n",
              "    }\n",
              "\n",
              "    .dataframe thead th {\n",
              "        text-align: right;\n",
              "    }\n",
              "</style>\n",
              "<table border=\"1\" class=\"dataframe\">\n",
              "  <thead>\n",
              "    <tr style=\"text-align: right;\">\n",
              "      <th></th>\n",
              "      <th>type</th>\n",
              "      <th>value</th>\n",
              "      <th>name</th>\n",
              "    </tr>\n",
              "  </thead>\n",
              "  <tbody>\n",
              "    <tr>\n",
              "      <th>0</th>\n",
              "      <td>Article</td>\n",
              "      <td>http://rss.cnn.com/~r/rss/edition_world/~3/u03...</td>\n",
              "      <td>article0</td>\n",
              "    </tr>\n",
              "    <tr>\n",
              "      <th>1</th>\n",
              "      <td>Article</td>\n",
              "      <td>http://rss.cnn.com/~r/rss/edition_world/~3/Ra6...</td>\n",
              "      <td>article1</td>\n",
              "    </tr>\n",
              "    <tr>\n",
              "      <th>2</th>\n",
              "      <td>Article</td>\n",
              "      <td>http://rss.cnn.com/~r/rss/edition_world/~3/h7O...</td>\n",
              "      <td>article2</td>\n",
              "    </tr>\n",
              "    <tr>\n",
              "      <th>3</th>\n",
              "      <td>Article</td>\n",
              "      <td>http://rss.cnn.com/~r/rss/edition_world/~3/vZV...</td>\n",
              "      <td>article3</td>\n",
              "    </tr>\n",
              "    <tr>\n",
              "      <th>4</th>\n",
              "      <td>Article</td>\n",
              "      <td>http://rss.cnn.com/~r/rss/edition_world/~3/Ofr...</td>\n",
              "      <td>article4</td>\n",
              "    </tr>\n",
              "  </tbody>\n",
              "</table>\n",
              "</div>"
            ],
            "text/plain": [
              "      type                                              value      name\n",
              "0  Article  http://rss.cnn.com/~r/rss/edition_world/~3/u03...  article0\n",
              "1  Article  http://rss.cnn.com/~r/rss/edition_world/~3/Ra6...  article1\n",
              "2  Article  http://rss.cnn.com/~r/rss/edition_world/~3/h7O...  article2\n",
              "3  Article  http://rss.cnn.com/~r/rss/edition_world/~3/vZV...  article3\n",
              "4  Article  http://rss.cnn.com/~r/rss/edition_world/~3/Ofr...  article4"
            ]
          },
          "metadata": {
            "tags": []
          },
          "execution_count": 17
        }
      ]
    },
    {
      "cell_type": "markdown",
      "metadata": {
        "id": "O2YBBJqrF-ce",
        "colab_type": "text"
      },
      "source": [
        "## Entity to ID mapping so when we create the links we can just do a look up"
      ]
    },
    {
      "cell_type": "code",
      "metadata": {
        "id": "SwK1fa66Fb5R",
        "colab_type": "code",
        "colab": {}
      },
      "source": [
        "entity_df_dict={}\n",
        "\n",
        "for i in entity_df.itertuples():\n",
        "  entity_df_dict[i[3]]=i[0]"
      ],
      "execution_count": null,
      "outputs": []
    },
    {
      "cell_type": "code",
      "metadata": {
        "id": "EHhkxbZf3Nt3",
        "colab_type": "code",
        "colab": {
          "base_uri": "https://localhost:8080/",
          "height": 1000
        },
        "outputId": "f87815f0-03e1-4196-e224-a7d2da4dec54"
      },
      "source": [
        "entity_df_dict"
      ],
      "execution_count": null,
      "outputs": [
        {
          "output_type": "execute_result",
          "data": {
            "text/plain": [
              "{'##A': 783,\n",
              " '##C': 475,\n",
              " '##D': 474,\n",
              " '##N': 425,\n",
              " '##NBA': 87,\n",
              " '##T': 464,\n",
              " '##Tok': 462,\n",
              " '##UDEP': 404,\n",
              " '##Y': 221,\n",
              " '##ZON PRIME VIDEO': 780,\n",
              " '##beck': 329,\n",
              " '##berstadt': 260,\n",
              " '##dsfjorden': 431,\n",
              " '##ft': 690,\n",
              " '##gram': 397,\n",
              " '##hales': 485,\n",
              " '##haus': 207,\n",
              " '##hin': 516,\n",
              " '##homaristone': 577,\n",
              " '##icus': 428,\n",
              " '##ik': 478,\n",
              " '##k': 627,\n",
              " '##lberg': 347,\n",
              " '##o': 453,\n",
              " '##ob': 650,\n",
              " '##ok': 472,\n",
              " '##pie': 342,\n",
              " '##psy': 422,\n",
              " '##ron': 90,\n",
              " '##rsk': 625,\n",
              " '##s N Cream': 267,\n",
              " '##sk': 624,\n",
              " '##ty': 737,\n",
              " '##uters': 450,\n",
              " '##vid': 154,\n",
              " '##wa': 449,\n",
              " '##worth': 714,\n",
              " '19': 155,\n",
              " '2': 443,\n",
              " '2020 US Open': 132,\n",
              " '21st Century': 536,\n",
              " '737': 356,\n",
              " 'A': 239,\n",
              " 'A . Law': 308,\n",
              " 'ABC': 579,\n",
              " 'ABC Photo Archives': 294,\n",
              " 'AFP': 526,\n",
              " 'AI': 568,\n",
              " 'AIDS': 185,\n",
              " 'AM': 779,\n",
              " 'ARM': 559,\n",
              " 'ARM Holdings': 562,\n",
              " 'AS': 251,\n",
              " 'Abe': 68,\n",
              " 'Achimota School': 741,\n",
              " 'Ada': 646,\n",
              " 'Adam Sand': 414,\n",
              " 'Adams': 131,\n",
              " 'Adele': 698,\n",
              " 'Aden': 493,\n",
              " 'Africa': 158,\n",
              " 'African': 744,\n",
              " 'African American': 103,\n",
              " 'African Americans': 767,\n",
              " 'Age UK': 681,\n",
              " 'Air Force': 384,\n",
              " 'Air Force One': 385,\n",
              " 'Airbus': 366,\n",
              " 'Al - Maj': 519,\n",
              " 'Alex': 694,\n",
              " 'Alexander Lukashenko': 508,\n",
              " 'Alexei Naval': 640,\n",
              " 'Alexei Navalny': 635,\n",
              " 'Alexey Turchak': 639,\n",
              " 'Almeda': 603,\n",
              " 'Alvaro': 548,\n",
              " 'Alvaro Gonzalez': 543,\n",
              " 'Amavi': 550,\n",
              " 'Amazon': 396,\n",
              " 'Amazon Prime': 782,\n",
              " 'Amazon Prime Video': 781,\n",
              " 'America': 110,\n",
              " 'American': 255,\n",
              " 'Americans': 192,\n",
              " 'Amnesty International': 593,\n",
              " 'Anambra': 645,\n",
              " 'Ananda Pellerin': 276,\n",
              " 'Anastasija Sevastova': 93,\n",
              " 'Andre Villas - Boas': 545,\n",
              " 'André Morriesen': 164,\n",
              " 'Angel': 552,\n",
              " 'Antarctica': 489,\n",
              " 'Anti - Corruption Foundation': 628,\n",
              " 'Antigua': 656,\n",
              " 'Any Age': 685,\n",
              " 'Apple Daily': 182,\n",
              " 'Architectural Digest': 236,\n",
              " 'Arctic': 424,\n",
              " 'Arnold J Wilkins': 212,\n",
              " 'As Slow as Possible': 254,\n",
              " 'Asian': 728,\n",
              " 'Atlanta': 386,\n",
              " 'Aurora': 138,\n",
              " 'Australia': 334,\n",
              " 'Australian': 481,\n",
              " 'Avant': 256,\n",
              " 'Azarenka': 126,\n",
              " 'B': 170,\n",
              " 'BBC': 448,\n",
              " 'BBC Korea': 755,\n",
              " 'BBC News': 438,\n",
              " 'BBC Reality Check': 735,\n",
              " 'BBC World Service': 817,\n",
              " 'Bai': 263,\n",
              " 'Bailey': 208,\n",
              " 'Bangladesh': 730,\n",
              " 'Barbara K': 234,\n",
              " 'Barbuda': 658,\n",
              " 'Behzadi': 116,\n",
              " 'Beijing': 178,\n",
              " 'Belarus': 496,\n",
              " 'Belarusian': 133,\n",
              " 'Bello': 266,\n",
              " 'Benedetto': 546,\n",
              " 'Benghazi': 518,\n",
              " 'Benin': 740,\n",
              " 'Bio - bean': 169,\n",
              " 'Birmingham': 674,\n",
              " 'Black': 99,\n",
              " 'Black Americans': 766,\n",
              " 'Black Lives Matter': 78,\n",
              " 'Black Sea': 498,\n",
              " 'Blue Velvet': 310,\n",
              " 'Bo': 354,\n",
              " 'Boeing': 345,\n",
              " 'Bollywood': 773,\n",
              " 'Bond': 349,\n",
              " 'Bonnie': 678,\n",
              " 'Bonnie Marcus': 676,\n",
              " 'Bonnie Marcus Leadership': 679,\n",
              " 'Brazil': 159,\n",
              " 'Breonna Taylor': 123,\n",
              " 'Breonna Taylor Osaka': 127,\n",
              " 'Brest': 500,\n",
              " 'Brexit': 569,\n",
              " 'Brian Cox': 697,\n",
              " 'British': 111,\n",
              " 'Brown': 575,\n",
              " 'Bruce Daisley': 692,\n",
              " 'Bruce Greene': 361,\n",
              " 'Buddhist': 820,\n",
              " 'Buffy the Vampire Slayer': 303,\n",
              " 'By': 473,\n",
              " 'ByteDance': 466,\n",
              " 'C U Soon': 784,\n",
              " 'CAA': 598,\n",
              " 'CC': 220,\n",
              " 'CNN': 63,\n",
              " 'CNN Business': 139,\n",
              " 'CNN Travel': 320,\n",
              " 'Cage': 250,\n",
              " 'California': 387,\n",
              " 'Cam': 325,\n",
              " 'Cambridge': 571,\n",
              " 'Cambridgeshire': 168,\n",
              " 'Cameron': 410,\n",
              " 'Cameron Boyce': 409,\n",
              " 'Cameron Boyce Foundation': 407,\n",
              " 'Canada': 476,\n",
              " 'Caribbean': 662,\n",
              " 'Carole Palmer': 490,\n",
              " 'Cary Grant': 359,\n",
              " 'Catherine E Coulson': 278,\n",
              " 'Check': 736,\n",
              " 'Chicago Sky': 81,\n",
              " 'China': 149,\n",
              " 'Chinese': 153,\n",
              " 'Ciervo': 399,\n",
              " 'Citizenship Amendment Act': 597,\n",
              " \"Clayton County Sheriff ' s Office\": 576,\n",
              " 'Co': 150,\n",
              " 'Cochin': 772,\n",
              " 'Coldplay': 722,\n",
              " 'Colombian': 672,\n",
              " 'Compton': 752,\n",
              " 'Con Air': 352,\n",
              " 'Copern': 439,\n",
              " 'Cori Gauff': 92,\n",
              " 'Corporation': 484,\n",
              " 'Costa Coffee': 172,\n",
              " 'County': 120,\n",
              " 'Covid': 494,\n",
              " 'Covid - 19': 175,\n",
              " 'Crouch End': 724,\n",
              " 'D': 686,\n",
              " \"D ' Arcy Drollinger\": 393,\n",
              " 'Dale Cooper': 283,\n",
              " 'Dario Benedetto': 542,\n",
              " 'Darren Black': 802,\n",
              " 'Data': 440,\n",
              " 'David Bowie': 703,\n",
              " 'David Lynch': 277,\n",
              " 'David Nowak': 190,\n",
              " 'David PD Hyde': 797,\n",
              " 'Death': 421,\n",
              " 'Delft': 371,\n",
              " 'Delft University of Technology': 364,\n",
              " 'Delhi': 592,\n",
              " 'Denmark': 435,\n",
              " 'Denver': 137,\n",
              " 'Di Maria': 554,\n",
              " 'Disney': 298,\n",
              " 'Donald Trump': 389,\n",
              " 'Dove Cameron': 416,\n",
              " 'Drollinger': 394,\n",
              " 'Drozdy': 615,\n",
              " 'Dubai': 363,\n",
              " 'Dutch': 369,\n",
              " 'Dynasty': 307,\n",
              " 'E': 328,\n",
              " 'EPA': 447,\n",
              " 'ESA': 441,\n",
              " 'Earth': 810,\n",
              " 'East': 188,\n",
              " 'East Alligator River': 486,\n",
              " 'Edith Lyne': 660,\n",
              " 'Edward Lawrence': 750,\n",
              " 'Egypt': 523,\n",
              " 'Eilbeck': 327,\n",
              " 'Elijah': 130,\n",
              " 'Elijah McClain Osaka': 129,\n",
              " 'Elizabeth Ohene': 747,\n",
              " 'Ellie Goldstein': 798,\n",
              " 'Emmanuel Sanders': 95,\n",
              " 'Emperor Akihit': 456,\n",
              " 'English': 746,\n",
              " 'Epilepsy Foundation': 406,\n",
              " 'Epworth': 712,\n",
              " 'Eraserhead': 311,\n",
              " 'Erin Foster': 400,\n",
              " 'Eurogamer': 343,\n",
              " 'Europe': 683,\n",
              " 'European Football': 533,\n",
              " 'Ex': 382,\n",
              " 'Exoso': 383,\n",
              " 'Exosonic': 374,\n",
              " 'Exosonic CNN': 379,\n",
              " 'FBI': 296,\n",
              " 'Facebook': 691,\n",
              " 'Facebook Messenger': 119,\n",
              " 'Fanny Texier': 794,\n",
              " 'Favour': 649,\n",
              " 'Flickr': 218,\n",
              " 'Flight Simulator': 348,\n",
              " 'Florence': 699,\n",
              " 'Florian Thauvin': 538,\n",
              " 'Florida': 107,\n",
              " 'Flying - V': 368,\n",
              " 'Foster': 401,\n",
              " 'Fourier': 223,\n",
              " 'France': 759,\n",
              " 'Frankfurt': 317,\n",
              " 'French': 242,\n",
              " 'Friedrich - Alexander University': 437,\n",
              " 'Fumio Kishida': 70,\n",
              " 'GE': 445,\n",
              " 'GM': 620,\n",
              " 'GNA': 529,\n",
              " 'Game of Thrones': 301,\n",
              " 'Gemma Handy': 659,\n",
              " 'General Atlantic': 469,\n",
              " 'George Clinton': 704,\n",
              " 'George Floyd': 762,\n",
              " 'George May': 174,\n",
              " 'George Miller': 666,\n",
              " 'Georgia': 580,\n",
              " 'Geosciences Department': 201,\n",
              " 'German': 211,\n",
              " 'Germany': 259,\n",
              " 'Get': 725,\n",
              " 'Getty Images': 253,\n",
              " 'Getty Images Microsoft': 461,\n",
              " 'Ghana': 271,\n",
              " 'Ghanaian': 745,\n",
              " 'Ghanians': 274,\n",
              " 'Gilmore Girls': 305,\n",
              " 'Glacier': 427,\n",
              " 'God': 648,\n",
              " 'Goethe University': 315,\n",
              " 'Goldeneye': 350,\n",
              " 'Golos': 629,\n",
              " 'Gomel': 616,\n",
              " 'Gonzalez': 544,\n",
              " 'Google': 134,\n",
              " 'Government of National Accord': 528,\n",
              " 'Green Studio': 806,\n",
              " 'Greenland': 432,\n",
              " 'Guangzhou': 148,\n",
              " 'Gucci Beauty': 804,\n",
              " 'Guruvayur Temple': 811,\n",
              " 'Guy Eilbeck': 324,\n",
              " 'Ha': 566,\n",
              " 'Haas': 790,\n",
              " 'Haase': 789,\n",
              " 'Haftar': 514,\n",
              " 'Haiti': 198,\n",
              " 'Halberstadt': 258,\n",
              " 'Harry': 285,\n",
              " 'Hartsfield - Jackson Atlanta International Airport': 581,\n",
              " 'Harvey': 792,\n",
              " 'Harvey Murphy': 791,\n",
              " 'Hastings': 143,\n",
              " 'He': 460,\n",
              " 'Hermann': 574,\n",
              " 'Hermeus': 378,\n",
              " 'Hermeus Corporation': 377,\n",
              " 'Higton': 360,\n",
              " 'Hilton Head Island': 335,\n",
              " 'Hindu': 819,\n",
              " 'Hong Kong': 176,\n",
              " 'Hu': 146,\n",
              " 'Hunter': 763,\n",
              " 'IBS': 671,\n",
              " 'IQAir': 601,\n",
              " 'Ian Higton': 357,\n",
              " 'Ify Obi': 262,\n",
              " 'Ig': 653,\n",
              " 'Igbo': 652,\n",
              " 'Ijeoma Ndukwe': 793,\n",
              " 'Ilona Otto': 209,\n",
              " 'Images': 726,\n",
              " 'India': 591,\n",
              " 'Indian': 786,\n",
              " 'Indiana Fever': 80,\n",
              " 'Insta': 403,\n",
              " 'Institute for Medical Virology': 314,\n",
              " 'Interior Ministry': 621,\n",
              " 'Iranian': 112,\n",
              " 'It': 458,\n",
              " 'Italy': 525,\n",
              " 'Iyer': 815,\n",
              " 'JAMA Network Open': 313,\n",
              " 'Jackson County': 608,\n",
              " 'Jacob Blake': 96,\n",
              " 'Jacqueline Galvin': 612,\n",
              " 'Jake Horton': 613,\n",
              " 'James': 98,\n",
              " 'Japan': 72,\n",
              " 'Japanese': 75,\n",
              " 'Jasmin Souesi': 795,\n",
              " 'Jason': 429,\n",
              " 'Jay Electronica': 707,\n",
              " 'Jean - Baptiste Joseph Fourier': 213,\n",
              " 'Jean - Michel Jarre': 706,\n",
              " 'Jenner': 227,\n",
              " 'Jenny Turton': 436,\n",
              " 'Jensen Huang': 572,\n",
              " 'Jimmy Lai': 183,\n",
              " 'Johanna Vargas': 247,\n",
              " 'John Cage': 244,\n",
              " 'John Cage Organ Foundation Hal': 252,\n",
              " 'Jomi Marcus - Bello': 264,\n",
              " 'Jonah Fisher': 618,\n",
              " 'Jordan Amavi': 541,\n",
              " 'Josefine Ohema Lianne Kolirin': 243,\n",
              " 'Jules': 665,\n",
              " 'Jules Miller': 664,\n",
              " 'Julian Lembke': 248,\n",
              " 'Jungmin Choi': 756,\n",
              " 'Just Leadership USA': 796,\n",
              " 'KLM': 365,\n",
              " 'Kakadu National Park': 488,\n",
              " 'Kane Fulton Kane Fulton': 693,\n",
              " 'Kanhaiya Kumar': 590,\n",
              " 'Kathleen': 232,\n",
              " 'Kathleen Clements': 230,\n",
              " 'Kay Lautenbach': 246,\n",
              " 'Kendall': 233,\n",
              " 'Kendall Jenner': 225,\n",
              " 'Kerala': 771,\n",
              " 'Kesavan': 816,\n",
              " 'Kevin Kim': 757,\n",
              " 'Khalid': 589,\n",
              " 'Khalifa Haftar': 512,\n",
              " 'Kings College': 742,\n",
              " 'Ko': 451,\n",
              " 'Kool Keith': 711,\n",
              " 'Kremlin': 622,\n",
              " 'Kseniya Fade': 630,\n",
              " 'Kurzawa': 549,\n",
              " 'Kyle': 291,\n",
              " 'Kyle MacLachlan': 282,\n",
              " 'L': 238,\n",
              " \"LA Sheriff ' s Department\": 753,\n",
              " 'LDP': 65,\n",
              " 'Labour Party': 565,\n",
              " 'Lady': 279,\n",
              " 'Lagos': 273,\n",
              " 'Lai': 184,\n",
              " 'Lakshmi': 814,\n",
              " 'Larry Ellison': 480,\n",
              " 'Las Vegas': 362,\n",
              " 'Laura': 801,\n",
              " 'Laura Ciervo': 398,\n",
              " 'Laura Johnson': 799,\n",
              " 'Laura Palmer': 280,\n",
              " 'Layvin Kurzawa': 540,\n",
              " 'Leandro Paredes': 539,\n",
              " 'Legal & General Investment Management': 564,\n",
              " 'Leo Kelion Technology': 561,\n",
              " 'Lewis Brinson': 97,\n",
              " 'Lianne La Havas': 710,\n",
              " 'Libby': 413,\n",
              " 'Libby Boyce': 412,\n",
              " 'Liberal Democratic Party': 64,\n",
              " 'Libya': 517,\n",
              " 'Ligue 1': 534,\n",
              " 'Lincolnshire': 808,\n",
              " 'Lives Matter': 77,\n",
              " 'London': 157,\n",
              " 'London Stansted Airport': 166,\n",
              " 'Look Fabulous Forever': 680,\n",
              " 'Los Angeles': 237,\n",
              " 'Louis Armstrong Stadium': 105,\n",
              " 'Louis Hunter': 761,\n",
              " 'Louisville': 136,\n",
              " 'Lukashenko': 505,\n",
              " 'Lynch': 281,\n",
              " 'Lyne': 661,\n",
              " 'Lynn Williams': 331,\n",
              " 'Mac': 381,\n",
              " 'MacGyver': 309,\n",
              " 'MacL': 300,\n",
              " 'Mahesh Narayanan': 775,\n",
              " 'Mahmoud Behzadi': 115,\n",
              " 'Major League Baseball': 102,\n",
              " 'Malayalam': 785,\n",
              " 'Mami Alata': 748,\n",
              " 'March of Heroes': 619,\n",
              " 'Marcus': 265,\n",
              " 'Maria': 553,\n",
              " 'Marlins': 84,\n",
              " 'Marseille': 556,\n",
              " 'Martha Avenue': 392,\n",
              " 'Massachusetts': 319,\n",
              " 'Matthias Bein': 249,\n",
              " 'Max': 326,\n",
              " 'Meals on Heels': 395,\n",
              " 'Mediterranean': 240,\n",
              " 'Meng Hu': 145,\n",
              " 'Messina': 336,\n",
              " 'Miami': 193,\n",
              " 'Miami Beach': 197,\n",
              " 'Miami Marlins': 83,\n",
              " 'Michael Haase': 788,\n",
              " 'Michael Ontke': 284,\n",
              " 'Michelle L': 760,\n",
              " 'Microsoft': 344,\n",
              " 'Microsoft Flight Simulator': 346,\n",
              " 'Milwaukee Bucks': 88,\n",
              " 'Minneapolis': 768,\n",
              " 'Minsk': 501,\n",
              " 'Misaki Doi': 124,\n",
              " 'Mogilyev': 617,\n",
              " 'Molalla': 609,\n",
              " 'Moscow': 502,\n",
              " 'Muammar Gaddafi': 513,\n",
              " 'Muslim': 599,\n",
              " 'Muslim Brotherhood': 527,\n",
              " 'Muslims': 596,\n",
              " 'N': 654,\n",
              " 'NBA': 89,\n",
              " 'NBCN': 578,\n",
              " 'NC': 222,\n",
              " 'NT': 483,\n",
              " 'Na': 452,\n",
              " 'Naomi Osaka': 94,\n",
              " 'Narayan': 778,\n",
              " 'Narayanan': 776,\n",
              " 'Naruhit': 457,\n",
              " 'National Weather Service': 600,\n",
              " 'Nato': 532,\n",
              " 'Naval': 641,\n",
              " 'Navalny': 637,\n",
              " 'Nazanin Zaghari - Ratcliffe': 113,\n",
              " 'Nepal': 731,\n",
              " 'Netflix': 140,\n",
              " 'Netherlands': 370,\n",
              " 'Network Rail': 173,\n",
              " 'New Jersey': 402,\n",
              " 'New Orleans Saints': 82,\n",
              " 'New York': 104,\n",
              " 'New York Mets': 85,\n",
              " 'New Zealand': 477,\n",
              " 'Neymar': 537,\n",
              " 'Nick Saban': 91,\n",
              " 'Nicole Acevedo': 586,\n",
              " 'Nidec': 162,\n",
              " 'Nidec Global Appliance': 161,\n",
              " 'Nigeria': 272,\n",
              " 'Nigerian': 275,\n",
              " 'Nioghalvf': 430,\n",
              " 'No Rules , Rules': 144,\n",
              " 'Norris Tie': 390,\n",
              " 'North Carolina': 341,\n",
              " 'North by Northwest': 353,\n",
              " 'Northeast Greenland Ice Stream': 426,\n",
              " 'Northern Territory': 487,\n",
              " 'Nov': 642,\n",
              " 'Novicho': 636,\n",
              " 'Nowak': 191,\n",
              " 'Nue': 668,\n",
              " 'Nvidia': 560,\n",
              " 'O': 655,\n",
              " 'Oasis': 391,\n",
              " 'Ocean': 434,\n",
              " 'Ocean Drive': 194,\n",
              " 'Office of Emergency Management': 602,\n",
              " 'Okija': 644,\n",
              " 'One': 455,\n",
              " 'Oracle': 463,\n",
              " 'Oracle Park': 109,\n",
              " 'Oregon': 604,\n",
              " 'Oriental Daily News': 181,\n",
              " 'Osaka': 121,\n",
              " 'Oscar': 718,\n",
              " 'Oscar Holland': 224,\n",
              " 'Otto': 210,\n",
              " 'Oxfam': 205,\n",
              " 'PE': 376,\n",
              " 'PSG': 557,\n",
              " 'Pa': 551,\n",
              " 'Pakistan': 733,\n",
              " 'Palmer': 491,\n",
              " 'Palmetto': 106,\n",
              " 'Parc des Princes': 558,\n",
              " 'Paredes': 547,\n",
              " 'Paris': 758,\n",
              " 'Paris St - Germain': 555,\n",
              " 'Patricia Norris': 288,\n",
              " 'Paul': 713,\n",
              " 'Paul Epworth': 696,\n",
              " 'Paul McCartney': 702,\n",
              " 'Peak': 290,\n",
              " 'Philando Castile': 764,\n",
              " 'Pi': 330,\n",
              " 'Pierre Jeanneret': 226,\n",
              " 'Pinecrest': 196,\n",
              " 'Pip': 322,\n",
              " 'Pipsqueak': 321,\n",
              " 'Plant Jammer': 787,\n",
              " 'Poppy Harlow': 142,\n",
              " 'Portland': 610,\n",
              " 'Potsdam Institute for Climate Impact Research': 206,\n",
              " 'Presidential and Executive Airlift Directorate': 375,\n",
              " 'Putin': 506,\n",
              " 'QVC': 156,\n",
              " 'Qatar': 524,\n",
              " 'R': 511,\n",
              " 'Rabbit Heart': 716,\n",
              " 'Rainer O . Neugebauer': 245,\n",
              " 'Raise It Up': 717,\n",
              " 'Re': 459,\n",
              " 'Red Devils': 743,\n",
              " 'Reed Hastings': 141,\n",
              " 'Reuters': 446,\n",
              " 'Revolutionary Court': 118,\n",
              " 'Reynolds': 418,\n",
              " 'Rihanna': 700,\n",
              " 'Riverdale': 304,\n",
              " 'Rob Northway': 663,\n",
              " 'Roderick Walker': 582,\n",
              " 'Roelof Vos': 372,\n",
              " 'Rolling Stone': 293,\n",
              " 'Rolling in the Deep': 715,\n",
              " 'Romeo and Juliet': 651,\n",
              " 'Russia': 497,\n",
              " 'Russian': 509,\n",
              " 'Russians': 634,\n",
              " 'S': 297,\n",
              " 'SUDEP': 408,\n",
              " 'Saharan': 163,\n",
              " 'Sal': 415,\n",
              " 'Sam Beebe': 214,\n",
              " 'Sam Purkis': 203,\n",
              " 'San Francisco': 108,\n",
              " 'Sangita Iyer': 813,\n",
              " 'Santa Barbara': 682,\n",
              " 'Sarah Glatte': 614,\n",
              " 'Sarah Rainsford': 638,\n",
              " 'Sarah Woodcock': 765,\n",
              " 'Sea View Farm': 657,\n",
              " 'Seattle': 611,\n",
              " 'Sentinel': 442,\n",
              " 'Sequoia Capital': 470,\n",
              " 'Sergey': 643,\n",
              " 'Shasta Valley': 606,\n",
              " 'Shean Williams': 584,\n",
              " 'Shigeru Ishiba': 71,\n",
              " 'Shinzo Abe': 66,\n",
              " 'Shomari Stone': 587,\n",
              " 'Shruti Menon': 734,\n",
              " 'Si': 355,\n",
              " 'Siberian': 633,\n",
              " 'Sicily': 337,\n",
              " 'Simple': 289,\n",
              " 'Skyfall': 719,\n",
              " 'So': 504,\n",
              " 'Sochi': 499,\n",
              " 'Softbank': 563,\n",
              " 'Sonja Laud': 573,\n",
              " 'Sophia': 454,\n",
              " 'Sophie Reynolds': 417,\n",
              " 'South': 673,\n",
              " 'South Asia': 729,\n",
              " 'South Asian': 727,\n",
              " 'South Carolina': 333,\n",
              " 'South Florida': 195,\n",
              " 'South Korea': 754,\n",
              " 'South Pacific': 338,\n",
              " 'Southern Oregon': 607,\n",
              " 'Space Force': 380,\n",
              " 'Spalte': 433,\n",
              " 'Spanish': 535,\n",
              " 'Sri Lanka': 732,\n",
              " 'St . Burchardi': 257,\n",
              " 'St . Burchardi Church': 261,\n",
              " 'Stephen McDonell': 749,\n",
              " 'Stormzy': 701,\n",
              " 'Su': 419,\n",
              " 'Sudha G Tilak': 774,\n",
              " 'Suga': 69,\n",
              " 'Survey': 444,\n",
              " 'Swaminathan Natarajan': 812,\n",
              " 'Sydney': 340,\n",
              " 'T': 465,\n",
              " 'Taiwan': 177,\n",
              " 'Taiwanese': 570,\n",
              " 'Tamir Rice': 125,\n",
              " 'Tao': 147,\n",
              " 'Taobao': 151,\n",
              " 'Taylor': 128,\n",
              " 'Tehran': 117,\n",
              " 'Tel Aviv': 316,\n",
              " 'The Boss': 670,\n",
              " 'The Cameron Boyce Foundation': 405,\n",
              " 'The Conversation': 217,\n",
              " 'The Conversation CNN': 215,\n",
              " 'The Joy of Work': 687,\n",
              " 'The Magic Roundabout': 807,\n",
              " 'The Nue Co': 667,\n",
              " 'The Wall Street Journal': 467,\n",
              " 'Tiananmen Square': 180,\n",
              " 'Tik': 471,\n",
              " 'TikTok': 468,\n",
              " 'Tim Stelloh': 585,\n",
              " 'Time': 292,\n",
              " 'Togo': 739,\n",
              " 'Tokyo': 73,\n",
              " 'Tom': 631,\n",
              " 'Tom Cruise': 358,\n",
              " 'Tommy Clements': 229,\n",
              " 'Tomsk': 623,\n",
              " 'Top Gun': 351,\n",
              " 'Toronto': 809,\n",
              " 'Tricia': 677,\n",
              " 'Tricia Cusden': 675,\n",
              " 'Tricia Nwaubani': 647,\n",
              " 'Trio Plant - Based': 769,\n",
              " 'Tripoli': 520,\n",
              " 'Truman': 286,\n",
              " 'Trump': 479,\n",
              " 'Tsaiian': 219,\n",
              " 'Tudor': 567,\n",
              " 'Turkey': 521,\n",
              " 'Turkish': 241,\n",
              " 'Twilight Zone': 306,\n",
              " 'Twin': 299,\n",
              " 'Twin Peaks': 302,\n",
              " 'Ty Dolla': 708,\n",
              " 'U2': 723,\n",
              " 'UAH': 595,\n",
              " 'UK': 165,\n",
              " 'UN': 530,\n",
              " 'US': 135,\n",
              " 'US Air Force': 373,\n",
              " 'US Forest Service': 187,\n",
              " 'US Open': 100,\n",
              " 'Ukraine': 751,\n",
              " 'Umar Khalid': 588,\n",
              " 'Underwater Homeowners Association': 202,\n",
              " 'Unex': 420,\n",
              " 'United Against Hate': 594,\n",
              " 'United Arab Emirates': 522,\n",
              " 'United Kingdom': 167,\n",
              " 'United Nations': 738,\n",
              " 'United Russia': 626,\n",
              " 'United States': 388,\n",
              " 'University of Alabama': 76,\n",
              " 'University of Cambridge': 669,\n",
              " 'University of Essex': 216,\n",
              " 'University of Miami': 200,\n",
              " 'University of Technology': 367,\n",
              " 'Vanuatu': 339,\n",
              " 'Vegan Society': 770,\n",
              " 'Venezuela': 199,\n",
              " 'Victor': 411,\n",
              " 'Victoria Azarenka': 122,\n",
              " 'Victoria Park': 179,\n",
              " 'Vietnam': 318,\n",
              " 'Vijay Subramaniam': 777,\n",
              " 'Vince Staples': 709,\n",
              " 'Vladimir Putin': 507,\n",
              " 'Voyager': 720,\n",
              " 'W': 101,\n",
              " 'WNBA': 79,\n",
              " 'Waffles N Cream': 269,\n",
              " 'Wafflesncream': 268,\n",
              " 'Wagner Group': 531,\n",
              " 'Waldo Fernandez': 231,\n",
              " 'Walker': 583,\n",
              " 'Walt': 287,\n",
              " 'Walt Disney Television': 295,\n",
              " 'Washington': 605,\n",
              " 'Washington Mystics': 86,\n",
              " 'Wendy Carlos': 705,\n",
              " 'West': 503,\n",
              " 'West Africa': 270,\n",
              " 'West Coast': 312,\n",
              " 'West coasts': 189,\n",
              " 'Western': 510,\n",
              " 'William': 235,\n",
              " 'William Abranowicz': 228,\n",
              " 'Williams': 332,\n",
              " 'Women': 684,\n",
              " 'World Heritage': 482,\n",
              " 'World War II': 74,\n",
              " 'Xavier Cortada': 204,\n",
              " 'Yemen': 492,\n",
              " 'Yevgeny Prig': 515,\n",
              " 'Yorkshire': 695,\n",
              " 'Yoshihide Suga': 67,\n",
              " 'Youmma': 160,\n",
              " 'Z': 689,\n",
              " 'Zaghari - Ratcliffe': 114,\n",
              " 'Zebedee': 803,\n",
              " 'Zebedee Management': 805,\n",
              " 'Zoe': 323,\n",
              " 'Zoe Kleinman Technology Reporter': 688,\n",
              " 'Zoe Proctor': 800,\n",
              " 'Zoha': 495,\n",
              " '[CLS]': 423,\n",
              " 'and the Machine': 721,\n",
              " 'anti': 186,\n",
              " 'article0': 0,\n",
              " 'article1': 1,\n",
              " 'article10': 10,\n",
              " 'article11': 11,\n",
              " 'article12': 12,\n",
              " 'article13': 13,\n",
              " 'article14': 14,\n",
              " 'article15': 15,\n",
              " 'article16': 16,\n",
              " 'article17': 17,\n",
              " 'article18': 18,\n",
              " 'article19': 19,\n",
              " 'article2': 2,\n",
              " 'article20': 20,\n",
              " 'article21': 21,\n",
              " 'article22': 22,\n",
              " 'article23': 23,\n",
              " 'article24': 24,\n",
              " 'article25': 25,\n",
              " 'article26': 26,\n",
              " 'article27': 27,\n",
              " 'article28': 28,\n",
              " 'article29': 29,\n",
              " 'article3': 3,\n",
              " 'article30': 30,\n",
              " 'article31': 31,\n",
              " 'article32': 32,\n",
              " 'article33': 33,\n",
              " 'article34': 34,\n",
              " 'article35': 35,\n",
              " 'article36': 36,\n",
              " 'article37': 37,\n",
              " 'article38': 38,\n",
              " 'article39': 39,\n",
              " 'article4': 4,\n",
              " 'article40': 40,\n",
              " 'article41': 41,\n",
              " 'article42': 42,\n",
              " 'article43': 43,\n",
              " 'article44': 44,\n",
              " 'article45': 45,\n",
              " 'article46': 46,\n",
              " 'article47': 47,\n",
              " 'article48': 48,\n",
              " 'article49': 49,\n",
              " 'article5': 5,\n",
              " 'article50': 50,\n",
              " 'article51': 51,\n",
              " 'article52': 52,\n",
              " 'article53': 53,\n",
              " 'article54': 54,\n",
              " 'article55': 55,\n",
              " 'article56': 56,\n",
              " 'article57': 57,\n",
              " 'article58': 58,\n",
              " 'article59': 59,\n",
              " 'article6': 6,\n",
              " 'article60': 60,\n",
              " 'article61': 61,\n",
              " 'article62': 62,\n",
              " 'article7': 7,\n",
              " 'article8': 8,\n",
              " 'article9': 9,\n",
              " 'bean': 171,\n",
              " 'eBay': 152,\n",
              " 'in S': 818,\n",
              " 'pro': 632}"
            ]
          },
          "metadata": {
            "tags": []
          },
          "execution_count": 19
        }
      ]
    },
    {
      "cell_type": "markdown",
      "metadata": {
        "id": "x-w_8kwkJugN",
        "colab_type": "text"
      },
      "source": [
        "## Create the edges between the articles and the entities"
      ]
    },
    {
      "cell_type": "code",
      "metadata": {
        "id": "4P-6O7LBF8EK",
        "colab_type": "code",
        "colab": {}
      },
      "source": [
        "links = [] \n",
        "for i in range(len(t)):\n",
        "  entities = full_articles_ner[i]\n",
        "  for e in entities:\n",
        "    links.append((i, entity_df_dict[e[\"word\"]]))"
      ],
      "execution_count": null,
      "outputs": []
    },
    {
      "cell_type": "code",
      "metadata": {
        "id": "GpBa-a-VKLP-",
        "colab_type": "code",
        "colab": {}
      },
      "source": [
        "links_df = pd.DataFrame(data=links, columns=[\"Source\",\"Target\"])"
      ],
      "execution_count": null,
      "outputs": []
    },
    {
      "cell_type": "code",
      "metadata": {
        "id": "lOWmHVd7KjCx",
        "colab_type": "code",
        "colab": {
          "base_uri": "https://localhost:8080/",
          "height": 402
        },
        "outputId": "194cf2cb-8116-436f-fe99-cc8f2cb4bc6a"
      },
      "source": [
        "links_df"
      ],
      "execution_count": null,
      "outputs": [
        {
          "output_type": "execute_result",
          "data": {
            "text/html": [
              "<div>\n",
              "<style scoped>\n",
              "    .dataframe tbody tr th:only-of-type {\n",
              "        vertical-align: middle;\n",
              "    }\n",
              "\n",
              "    .dataframe tbody tr th {\n",
              "        vertical-align: top;\n",
              "    }\n",
              "\n",
              "    .dataframe thead th {\n",
              "        text-align: right;\n",
              "    }\n",
              "</style>\n",
              "<table border=\"1\" class=\"dataframe\">\n",
              "  <thead>\n",
              "    <tr style=\"text-align: right;\">\n",
              "      <th></th>\n",
              "      <th>Source</th>\n",
              "      <th>Target</th>\n",
              "    </tr>\n",
              "  </thead>\n",
              "  <tbody>\n",
              "    <tr>\n",
              "      <th>0</th>\n",
              "      <td>0</td>\n",
              "      <td>63</td>\n",
              "    </tr>\n",
              "    <tr>\n",
              "      <th>1</th>\n",
              "      <td>0</td>\n",
              "      <td>66</td>\n",
              "    </tr>\n",
              "    <tr>\n",
              "      <th>2</th>\n",
              "      <td>0</td>\n",
              "      <td>72</td>\n",
              "    </tr>\n",
              "    <tr>\n",
              "      <th>3</th>\n",
              "      <td>0</td>\n",
              "      <td>67</td>\n",
              "    </tr>\n",
              "    <tr>\n",
              "      <th>4</th>\n",
              "      <td>0</td>\n",
              "      <td>68</td>\n",
              "    </tr>\n",
              "    <tr>\n",
              "      <th>...</th>\n",
              "      <td>...</td>\n",
              "      <td>...</td>\n",
              "    </tr>\n",
              "    <tr>\n",
              "      <th>1455</th>\n",
              "      <td>62</td>\n",
              "      <td>811</td>\n",
              "    </tr>\n",
              "    <tr>\n",
              "      <th>1456</th>\n",
              "      <td>62</td>\n",
              "      <td>816</td>\n",
              "    </tr>\n",
              "    <tr>\n",
              "      <th>1457</th>\n",
              "      <td>62</td>\n",
              "      <td>816</td>\n",
              "    </tr>\n",
              "    <tr>\n",
              "      <th>1458</th>\n",
              "      <td>62</td>\n",
              "      <td>591</td>\n",
              "    </tr>\n",
              "    <tr>\n",
              "      <th>1459</th>\n",
              "      <td>62</td>\n",
              "      <td>771</td>\n",
              "    </tr>\n",
              "  </tbody>\n",
              "</table>\n",
              "<p>1460 rows × 2 columns</p>\n",
              "</div>"
            ],
            "text/plain": [
              "      Source  Target\n",
              "0          0      63\n",
              "1          0      66\n",
              "2          0      72\n",
              "3          0      67\n",
              "4          0      68\n",
              "...      ...     ...\n",
              "1455      62     811\n",
              "1456      62     816\n",
              "1457      62     816\n",
              "1458      62     591\n",
              "1459      62     771\n",
              "\n",
              "[1460 rows x 2 columns]"
            ]
          },
          "metadata": {
            "tags": []
          },
          "execution_count": 22
        }
      ]
    },
    {
      "cell_type": "code",
      "metadata": {
        "id": "ijptCM3ZK2Pa",
        "colab_type": "code",
        "colab": {}
      },
      "source": [
        "links_df.to_csv(\"links.csv\")"
      ],
      "execution_count": null,
      "outputs": []
    },
    {
      "cell_type": "markdown",
      "metadata": {
        "id": "LKMn3Hlw1CJq",
        "colab_type": "text"
      },
      "source": [
        "## SNA Part"
      ]
    },
    {
      "cell_type": "code",
      "metadata": {
        "id": "vfw6VEqbK5gC",
        "colab_type": "code",
        "colab": {
          "base_uri": "https://localhost:8080/",
          "height": 50
        },
        "outputId": "bbcb084e-ac41-428b-cb69-94d962790993"
      },
      "source": [
        "!pip install networkx\n"
      ],
      "execution_count": null,
      "outputs": [
        {
          "output_type": "stream",
          "text": [
            "Requirement already satisfied: networkx in /usr/local/lib/python3.6/dist-packages (2.5)\n",
            "Requirement already satisfied: decorator>=4.3.0 in /usr/local/lib/python3.6/dist-packages (from networkx) (4.4.2)\n"
          ],
          "name": "stdout"
        }
      ]
    },
    {
      "cell_type": "code",
      "metadata": {
        "id": "sF5mNeNc1F_9",
        "colab_type": "code",
        "colab": {}
      },
      "source": [
        "import networkx as nx"
      ],
      "execution_count": null,
      "outputs": []
    },
    {
      "cell_type": "code",
      "metadata": {
        "id": "1_a2owwx1Qye",
        "colab_type": "code",
        "colab": {}
      },
      "source": [
        "graph = nx.Graph()\n",
        "for row in data:\n",
        "  article = \"article\"+str(row[0])\n",
        "  word = row[2]\n",
        "  graph.add_edge(article, word)"
      ],
      "execution_count": null,
      "outputs": []
    },
    {
      "cell_type": "code",
      "metadata": {
        "id": "UqChMs0LSnEd",
        "colab_type": "code",
        "colab": {}
      },
      "source": [
        "nodes_list = [(e[\"name\"], e) for e in entity_list]\n",
        "graph.add_nodes_from(nodes_list)"
      ],
      "execution_count": null,
      "outputs": []
    },
    {
      "cell_type": "code",
      "metadata": {
        "id": "ZHhkYhJy22WF",
        "colab_type": "code",
        "colab": {
          "base_uri": "https://localhost:8080/",
          "height": 185
        },
        "outputId": "14bbbe1c-620d-48a5-ab6c-ce5614b23204"
      },
      "source": [
        "data[0:10]"
      ],
      "execution_count": null,
      "outputs": [
        {
          "output_type": "execute_result",
          "data": {
            "text/plain": [
              "[(0, 'I-ORG', 'CNN'),\n",
              " (0, 'I-ORG', 'Liberal Democratic Party'),\n",
              " (0, 'I-ORG', 'LDP'),\n",
              " (0, 'I-PER', 'Shinzo Abe'),\n",
              " (0, 'I-PER', 'Yoshihide Suga'),\n",
              " (0, 'I-PER', 'Abe'),\n",
              " (0, 'I-PER', 'Suga'),\n",
              " (0, 'I-PER', 'Fumio Kishida'),\n",
              " (0, 'I-PER', 'Shigeru Ishiba'),\n",
              " (0, 'I-LOC', 'Japan')]"
            ]
          },
          "metadata": {
            "tags": []
          },
          "execution_count": 28
        }
      ]
    },
    {
      "cell_type": "code",
      "metadata": {
        "id": "qLD2kzev2X7E",
        "colab_type": "code",
        "colab": {
          "base_uri": "https://localhost:8080/",
          "height": 319
        },
        "outputId": "b9f17eec-01d5-42d4-8219-05840dcd654a"
      },
      "source": [
        "nx.draw_kamada_kawai(graph)"
      ],
      "execution_count": null,
      "outputs": [
        {
          "output_type": "display_data",
          "data": {
            "image/png": "[encoded data removed]",
            "text/plain": [
              "<Figure size 432x288 with 1 Axes>"
            ]
          },
          "metadata": {
            "tags": []
          }
        }
      ]
    },
    {
      "cell_type": "code",
      "metadata": {
        "id": "gfVHa0U-ihxQ",
        "colab_type": "code",
        "colab": {}
      },
      "source": [
        "more_than_2 = [i[0] for i in graph.degree if i[1]>1]"
      ],
      "execution_count": null,
      "outputs": []
    },
    {
      "cell_type": "code",
      "metadata": {
        "id": "6XUPJsc1sPuJ",
        "colab_type": "code",
        "colab": {
          "base_uri": "https://localhost:8080/",
          "height": 1000
        },
        "outputId": "ff5f5d08-0c3c-42b5-bfd1-4ae9d71e4215"
      },
      "source": [
        "more_than_2"
      ],
      "execution_count": null,
      "outputs": [
        {
          "output_type": "execute_result",
          "data": {
            "text/plain": [
              "['article0',\n",
              " 'CNN',\n",
              " 'Liberal Democratic Party',\n",
              " 'LDP',\n",
              " 'Shinzo Abe',\n",
              " 'Yoshihide Suga',\n",
              " 'Abe',\n",
              " 'Suga',\n",
              " 'Fumio Kishida',\n",
              " 'Shigeru Ishiba',\n",
              " 'Japan',\n",
              " 'Tokyo',\n",
              " 'Japanese',\n",
              " 'article1',\n",
              " 'Black Lives Matter',\n",
              " 'Naomi Osaka',\n",
              " 'James',\n",
              " 'Black',\n",
              " 'W',\n",
              " 'New York',\n",
              " 'Florida',\n",
              " 'San Francisco',\n",
              " 'America',\n",
              " 'article2',\n",
              " 'British',\n",
              " 'article4',\n",
              " 'Belarusian',\n",
              " 'US',\n",
              " 'article5',\n",
              " 'CNN Business',\n",
              " 'Netflix',\n",
              " 'article6',\n",
              " 'China',\n",
              " 'Co',\n",
              " 'Chinese',\n",
              " 'article7',\n",
              " 'London',\n",
              " 'Africa',\n",
              " 'Brazil',\n",
              " 'article8',\n",
              " 'UK',\n",
              " 'B',\n",
              " 'Covid - 19',\n",
              " 'article9',\n",
              " 'Taiwan',\n",
              " 'Beijing',\n",
              " 'anti',\n",
              " 'article10',\n",
              " 'Americans',\n",
              " 'article11',\n",
              " 'article12',\n",
              " 'German',\n",
              " 'article13',\n",
              " 'article14',\n",
              " 'Los Angeles',\n",
              " 'L',\n",
              " 'A',\n",
              " 'French',\n",
              " 'article15',\n",
              " 'Getty Images',\n",
              " 'American',\n",
              " 'Germany',\n",
              " 'article16',\n",
              " 'Ghana',\n",
              " 'Nigeria',\n",
              " 'Nigerian',\n",
              " 'article17',\n",
              " 'S',\n",
              " 'West Coast',\n",
              " 'article18',\n",
              " 'article19',\n",
              " 'Zoe',\n",
              " 'E',\n",
              " 'Williams',\n",
              " 'Australia',\n",
              " 'article20',\n",
              " 'Microsoft',\n",
              " 'Boeing',\n",
              " 'Bond',\n",
              " 'Bo',\n",
              " 'article21',\n",
              " 'article22',\n",
              " 'California',\n",
              " 'United States',\n",
              " 'Donald Trump',\n",
              " 'article23',\n",
              " 'article24',\n",
              " 'New Jersey',\n",
              " 'article25',\n",
              " '[CLS]',\n",
              " 'article29',\n",
              " 'BBC News',\n",
              " 'article30',\n",
              " 'Reuters',\n",
              " 'EPA',\n",
              " 'BBC',\n",
              " 'article31',\n",
              " '##T',\n",
              " 'article32',\n",
              " 'article33',\n",
              " 'article34',\n",
              " 'Belarus',\n",
              " 'Russia',\n",
              " 'Brest',\n",
              " 'Minsk',\n",
              " 'Moscow',\n",
              " 'Lukashenko',\n",
              " 'Putin',\n",
              " 'Vladimir Putin',\n",
              " 'Alexander Lukashenko',\n",
              " 'Russian',\n",
              " 'Western',\n",
              " 'article35',\n",
              " 'AFP',\n",
              " 'UN',\n",
              " 'article36',\n",
              " 'Spanish',\n",
              " 'article37',\n",
              " 'article38',\n",
              " 'article39',\n",
              " 'India',\n",
              " 'Delhi',\n",
              " 'article40',\n",
              " 'article41',\n",
              " 'article42',\n",
              " 'Jonah Fisher',\n",
              " 'article43',\n",
              " 'article44',\n",
              " 'God',\n",
              " 'N',\n",
              " 'article45',\n",
              " 'article46',\n",
              " 'The Boss',\n",
              " 'South',\n",
              " 'article47',\n",
              " 'Europe',\n",
              " 'article48',\n",
              " 'Z',\n",
              " 'article49',\n",
              " 'article50',\n",
              " 'article51',\n",
              " 'African',\n",
              " 'article52',\n",
              " 'article53',\n",
              " 'article54',\n",
              " 'article55',\n",
              " 'article56',\n",
              " 'article57',\n",
              " 'article58',\n",
              " 'Kerala',\n",
              " 'Indian',\n",
              " 'article59',\n",
              " 'article60',\n",
              " 'article61',\n",
              " 'article62']"
            ]
          },
          "metadata": {
            "tags": []
          },
          "execution_count": 31
        }
      ]
    },
    {
      "cell_type": "code",
      "metadata": {
        "id": "FaVg7j24smLp",
        "colab_type": "code",
        "colab": {
          "base_uri": "https://localhost:8080/",
          "height": 319
        },
        "outputId": "3ce1cf80-9254-436a-acd0-7fcec6ba558f"
      },
      "source": [
        "sg =nx.subgraph_view(graph,lambda x : True if x in more_than_2 else False)\n",
        "nx.draw_kamada_kawai(sg)"
      ],
      "execution_count": null,
      "outputs": [
        {
          "output_type": "display_data",
          "data": {
            "image/png": "[encoded data removed]",
            "text/plain": [
              "<Figure size 432x288 with 1 Axes>"
            ]
          },
          "metadata": {
            "tags": []
          }
        }
      ]
    },
    {
      "cell_type": "code",
      "metadata": {
        "id": "t-K3G8vlZrGq",
        "colab_type": "code",
        "colab": {}
      },
      "source": [
        "## clustering usng Modularity"
      ],
      "execution_count": null,
      "outputs": []
    },
    {
      "cell_type": "markdown",
      "metadata": {
        "id": "FJliKWg12R0n",
        "colab_type": "text"
      },
      "source": [
        "## Draw the graph with the modularity class applied"
      ]
    },
    {
      "cell_type": "code",
      "metadata": {
        "id": "vTybOwvW2bVv",
        "colab_type": "code",
        "colab": {}
      },
      "source": [
        "mods = nx.algorithms.community.modularity_max.greedy_modularity_communities(sg)"
      ],
      "execution_count": null,
      "outputs": []
    },
    {
      "cell_type": "markdown",
      "metadata": {
        "id": "hW3PvTes9Hij",
        "colab_type": "text"
      },
      "source": [
        "For each node, check if the node in is which mod class and append the color base on the array position of the modularity class"
      ]
    },
    {
      "cell_type": "code",
      "metadata": {
        "id": "cXA-z_ZLoSZJ",
        "colab_type": "code",
        "colab": {}
      },
      "source": [
        "color = []\n",
        "for i in sg.nodes:\n",
        "  for n in range(len(mods)):\n",
        "    if i in mods[n]:\n",
        "      color.append(n)"
      ],
      "execution_count": null,
      "outputs": []
    },
    {
      "cell_type": "markdown",
      "metadata": {
        "id": "kUZ4zX0F792g",
        "colab_type": "text"
      },
      "source": [
        "networkx only can put in labels that are in the graph. So we filter away the names that are not in the \"sg\" subgraph. We only want to show the nodes that are labeled \"Article\""
      ]
    },
    {
      "cell_type": "code",
      "metadata": {
        "id": "e0UzCG72w0fl",
        "colab_type": "code",
        "colab": {}
      },
      "source": [
        "labels = {}\n",
        "\n",
        "for i in entity_list:\n",
        "  if i[\"name\"] in more_than_2:\n",
        "    labels[str(i[\"name\"])] = i[\"name\"] if i[\"type\"] == \"Article\" else \"\""
      ],
      "execution_count": null,
      "outputs": []
    },
    {
      "cell_type": "code",
      "metadata": {
        "id": "fbMiOlgp2a6O",
        "colab_type": "code",
        "colab": {
          "base_uri": "https://localhost:8080/",
          "height": 35
        },
        "outputId": "b8ae3b61-619a-43fc-d6d1-f8acdaf776a8"
      },
      "source": [
        "labels[\"article0\"]"
      ],
      "execution_count": null,
      "outputs": [
        {
          "output_type": "execute_result",
          "data": {
            "application/vnd.google.colaboratory.intrinsic+json": {
              "type": "string"
            },
            "text/plain": [
              "'article0'"
            ]
          },
          "metadata": {
            "tags": []
          },
          "execution_count": 36
        }
      ]
    },
    {
      "cell_type": "code",
      "metadata": {
        "id": "qguFL9WZouIY",
        "colab_type": "code",
        "colab": {
          "base_uri": "https://localhost:8080/",
          "height": 319
        },
        "outputId": "b52f25b1-a4f5-487b-c7fa-571189a7b1ec"
      },
      "source": [
        "nx.draw_kamada_kawai(sg, node_color = color, labels = labels, font_color = 'g')"
      ],
      "execution_count": null,
      "outputs": [
        {
          "output_type": "display_data",
          "data": {
            "image/png": "[encoded data removed]",
            "text/plain": [
              "<Figure size 432x288 with 1 Axes>"
            ]
          },
          "metadata": {
            "tags": []
          }
        }
      ]
    },
    {
      "cell_type": "code",
      "metadata": {
        "id": "K0dFFLoX39Vn",
        "colab_type": "code",
        "colab": {
          "base_uri": "https://localhost:8080/",
          "height": 34
        },
        "outputId": "2804aa35-c2c1-4fd6-e8f7-d47f0984d7ef"
      },
      "source": [
        "len(mods)"
      ],
      "execution_count": null,
      "outputs": [
        {
          "output_type": "execute_result",
          "data": {
            "text/plain": [
              "11"
            ]
          },
          "metadata": {
            "tags": []
          },
          "execution_count": 38
        }
      ]
    },
    {
      "cell_type": "code",
      "metadata": {
        "id": "T1oTn4RSKDHW",
        "colab_type": "code",
        "colab": {}
      },
      "source": [
        "nx.readwrite.gml.write_gml(sg, \"test.gml\")"
      ],
      "execution_count": null,
      "outputs": []
    },
    {
      "cell_type": "code",
      "metadata": {
        "id": "iiGPAPzHK0KX",
        "colab_type": "code",
        "colab": {}
      },
      "source": [
        "nx.readwrite.gml.write_gml(graph, \"everything.gml\")"
      ],
      "execution_count": null,
      "outputs": []
    },
    {
      "cell_type": "code",
      "metadata": {
        "id": "iuUOSrCaLvVC",
        "colab_type": "code",
        "colab": {
          "base_uri": "https://localhost:8080/",
          "height": 222
        },
        "outputId": "de25addf-1150-4035-80d0-c223d062880e"
      },
      "source": [
        "for i in  mods:\n",
        "  print(i)"
      ],
      "execution_count": null,
      "outputs": [
        {
          "output_type": "stream",
          "text": [
            "frozenset({'Los Angeles', 'Donald Trump', 'article5', 'article41', 'French', 'article22', 'Netflix', 'American', 'Boeing', 'article45', 'article20', 'Germany', 'Microsoft', 'article13', 'British', 'article54', 'United States', 'London', 'article14', 'article29', 'S', 'New York', 'Bond', 'German', 'article60', 'BBC News', 'article49', 'CNN', 'article2', 'article17', 'article12', 'article15', 'L', 'article21'})\n",
            "frozenset({'James', 'article58', 'UK', 'Taiwan', 'article52', 'anti', 'article50', 'India', 'Co', 'article6', 'China', 'Beijing', 'The Boss', 'article33', 'article9', 'Indian', 'article46', 'article18', 'Chinese', 'South', 'BBC', 'article55', 'Delhi', 'Kerala', 'article61', 'Covid - 19', 'article39', 'article62'})\n",
            "frozenset({'Zoe', 'article57', 'Williams', 'article4', 'article10', 'America', 'African', 'article1', 'Australia', '##T', 'Black', 'article38', 'article19', 'Florida', 'US', 'Naomi Osaka', 'article32', 'Americans', 'Black Lives Matter', 'article11', 'article31'})\n",
            "frozenset({'Western', 'article53', 'Russia', 'AFP', 'Russian', 'article34', 'Vladimir Putin', 'Bo', 'article43', 'Belarusian', 'Lukashenko', 'Alexander Lukashenko', 'article35', 'Moscow', 'Belarus', 'article42', 'Brest', 'Putin', 'Minsk', 'Jonah Fisher'})\n",
            "frozenset({'Liberal Democratic Party', 'Shinzo Abe', 'Abe', 'Japan', 'article30', 'LDP', 'Shigeru Ishiba', 'Yoshihide Suga', 'article37', 'Japanese', 'EPA', 'Fumio Kishida', 'Tokyo', 'Reuters', 'article0', 'Suga'})\n",
            "frozenset({'W', 'Getty Images', 'article16', 'article48', 'Ghana', 'N', 'God', 'article44', 'Nigerian', 'article51', 'Nigeria', 'Z'})\n",
            "frozenset({'article7', 'A', 'article8', 'Africa', 'Brazil', 'article25', 'B', 'CNN Business', 'Spanish', 'E', 'article36'})\n",
            "frozenset({'New Jersey', 'article47', 'article40', 'Europe', 'San Francisco', 'UN', 'West Coast', 'article23', 'article24', 'California'})\n",
            "frozenset({'[CLS]'})\n",
            "frozenset({'article56'})\n",
            "frozenset({'article59'})\n"
          ],
          "name": "stdout"
        }
      ]
    },
    {
      "cell_type": "code",
      "metadata": {
        "id": "hhLYDE6jQjmV",
        "colab_type": "code",
        "colab": {
          "base_uri": "https://localhost:8080/",
          "height": 222
        },
        "outputId": "db141a06-7ec9-40cf-bbab-1be8b1b2c927"
      },
      "source": [
        "for i in mods:\n",
        "    print([graph.nodes[str(k)][\"value\"] for k in i if graph.nodes[str(k)][\"type\"] == \"Article\"])"
      ],
      "execution_count": null,
      "outputs": [
        {
          "output_type": "stream",
          "text": [
            "['http://rss.cnn.com/~r/rss/edition_world/~3/APyhk0bVh_4/index.html', 'https://www.bbc.co.uk/news/election-us-2020-54026017', 'http://rss.cnn.com/~r/rss/edition_world/~3/ZN45DjYVf7s/index.html', 'https://www.bbc.co.uk/news/world-latin-america-53985284', 'http://rss.cnn.com/~r/rss/edition_world/~3/ENJl769ZOO4/index.html', 'http://rss.cnn.com/~r/rss/edition_world/~3/6Drm9PPhEOo/index.html', 'https://www.bbc.co.uk/news/world-us-canada-54138676', 'http://rss.cnn.com/~r/rss/edition_world/~3/9iYby5I01so/index.html', 'https://www.bbc.co.uk/news/science-environment-54127279', 'https://www.bbc.co.uk/news/world-us-canada-54105476', 'https://www.bbc.co.uk/news/entertainment-arts-54075088', 'http://rss.cnn.com/~r/rss/edition_world/~3/h7OE3S3Q8zU/index.html', 'http://rss.cnn.com/~r/rss/edition_world/~3/HdIbLfFJnSw/index.html', 'http://rss.cnn.com/~r/rss/edition_world/~3/Pa_SMoc1110/index.html', 'http://rss.cnn.com/~r/rss/edition_world/~3/BIhyBkoxn_g/index.html', 'http://rss.cnn.com/~r/rss/edition_world/~3/Ju2oBbFOOKw/index.html']\n",
            "['https://www.bbc.co.uk/news/world-asia-india-54042633', 'https://www.bbc.co.uk/news/world-asia-china-54034809', 'https://www.bbc.co.uk/news/world-south-asia-54009306', 'http://rss.cnn.com/~r/rss/edition_world/~3/kK_yyezxG5s/index.html', 'https://www.bbc.co.uk/news/world-middle-east-54034807', 'http://rss.cnn.com/~r/rss/edition_world/~3/qx659QE0rPY/index.html', 'https://www.bbc.co.uk/news/business-54088916', 'http://rss.cnn.com/~r/rss/edition_world/~3/4KcCHQAPGdU/index.html', 'https://www.bbc.co.uk/news/world-asia-54034810', 'https://www.bbc.co.uk/news/business-53997790', 'https://www.bbc.co.uk/news/world-asia-india-54143619', 'https://www.bbc.co.uk/news/world-asia-india-54026294']\n",
            "['https://www.bbc.co.uk/news/world-us-canada-53787329', 'http://rss.cnn.com/~r/rss/edition_world/~3/Ofrh72sptT4/index.html', 'http://rss.cnn.com/~r/rss/edition_world/~3/KlnsnygiAw8/index.html', 'http://rss.cnn.com/~r/rss/edition_world/~3/Ra6g53euUWM/index.html', 'https://www.bbc.co.uk/news/world-us-canada-54142800', 'http://rss.cnn.com/~r/rss/edition_world/~3/jGSAuczODlQ/index.html', 'https://www.bbc.co.uk/news/world-australia-54142985', 'http://rss.cnn.com/~r/rss/edition_world/~3/pbQjkbD_bFk/index.html', 'https://www.bbc.co.uk/news/business-54143025']\n",
            "['https://www.bbc.co.uk/news/world-europe-54142136', 'https://www.bbc.co.uk/news/world-europe-54144644', 'https://www.bbc.co.uk/news/world-europe-54135141', 'https://www.bbc.co.uk/news/world-africa-54145499', 'https://www.bbc.co.uk/news/world-europe-54139312']\n",
            "['https://www.bbc.co.uk/news/world-asia-54070281', 'https://www.bbc.co.uk/news/technology-54142567', 'http://rss.cnn.com/~r/rss/edition_world/~3/u038prXyPMo/index.html']\n",
            "['http://rss.cnn.com/~r/rss/edition_world/~3/jzCEqVDbR6Y/index.html', 'https://www.bbc.co.uk/news/technology-54028720', 'https://www.bbc.co.uk/news/world-africa-54088880', 'https://www.bbc.co.uk/news/world-africa-54088878']\n",
            "['http://rss.cnn.com/~r/rss/edition_world/~3/sVhGbsF1jlg/index.html', 'http://rss.cnn.com/~r/rss/edition_world/~3/ksvwK-bd7xE/index.html', 'http://rss.cnn.com/~r/rss/edition_world/~3/ISS_Wb16eJ4/index.html', 'https://www.bbc.co.uk/sport/football/54141979']\n",
            "['https://www.bbc.co.uk/news/business-54080397', 'https://www.bbc.co.uk/news/world-us-canada-54139317', 'http://rss.cnn.com/~r/rss/edition_world/~3/OKNo9FkQNJY/index.html', 'http://rss.cnn.com/~r/rss/edition_world/~3/jZHuHf44mR0/index.html']\n",
            "[]\n",
            "['https://www.bbc.co.uk/news/world-europe-54130150']\n",
            "['https://www.bbc.co.uk/news/business-53794472']\n"
          ],
          "name": "stdout"
        }
      ]
    },
    {
      "cell_type": "code",
      "metadata": {
        "id": "uL7Jfe2FWa-m",
        "colab_type": "code",
        "colab": {
          "base_uri": "https://localhost:8080/",
          "height": 54
        },
        "outputId": "82fca0be-15a7-4595-fc48-f8aca8a2ae57"
      },
      "source": [
        "sg.degree"
      ],
      "execution_count": null,
      "outputs": [
        {
          "output_type": "execute_result",
          "data": {
            "text/plain": [
              "DegreeView({'article0': 4, 'India': 3, 'Mumbai': 2, 'CNN': 21, 'Indian': 3, 'article1': 10, 'Twitter': 2, 'World Health Organization': 2, 'WHO': 2, 'Covid - 19': 7, 'Canadian': 3, 'Co': 4, 'Canada': 2, 'United States': 6, 'US': 14, 'article2': 5, 'Christiane Amanpour': 2, 'Svetlana Tikhanovskaya': 2, 'Alexander Lukashenko': 2, 'Belarus': 2, 'article3': 7, 'Reuters': 5, 'Venezuela': 2, 'G': 4, 'article4': 13, 'Washington': 4, 'Ukraine': 2, 'Kiev': 2, 'West': 3, 'Europe': 4, 'German': 4, 'Russian': 3, 'article5': 3, 'China': 9, 'Chinese': 5, 'article6': 5, 'Hong Kong': 2, 'CNN Business': 3, 'article7': 4, 'London': 5, 'UK': 3, 'article8': 3, 'Africa': 3, 'article9': 5, 'Beijing': 3, 'anti': 2, 'article10': 3, 'Americans': 2, 'article11': 3, 'article12': 2, 'article13': 4, 'Getty Images': 11, 'S': 2, 'article14': 6, 'American': 2, 'Germany': 4, 'New York': 2, 'article15': 2, 'W': 2, 'article16': 4, 'E': 2, 'Berlin': 2, 'article17': 4, 'article18': 3, 'article19': 7, 'California': 4, 'Donald Trump': 4, 'article20': 3, 'CNN Travel': 2, 'article21': 3, 'article22': 11, 'Delhi': 2, 'Moscow': 2, 'Russia': 3, 'article23': 1, 'article24': 1, 'article25': 2, 'article26': 7, 'White House': 3, 'Trump': 5, 'article27': 5, 'San Francisco': 2, 'Oregon': 2, 'National': 2, 'article28': 3, 'article29': 3, 'BBC': 7, 'article30': 10, 'article31': 7, 'Moria': 3, 'Greece': 4, 'Lesbos': 3, 'Mytilene': 2, 'Jean Mackenzie': 2, 'article32': 3, 'article33': 7, 'article34': 1, 'article35': 5, 'African': 2, 'Brown': 2, 'article36': 5, 'article37': 9, 'article38': 1, 'article39': 4, 'article40': 9, 'article41': 10, 'article42': 7, 'article43': 6, 'article45': 4, 'article46': 5, 'article47': 3, 'article48': 0})"
            ]
          },
          "metadata": {
            "tags": []
          },
          "execution_count": 49
        }
      ]
    },
    {
      "cell_type": "code",
      "metadata": {
        "id": "P8e-RYwn8Did",
        "colab_type": "code",
        "colab": {
          "base_uri": "https://localhost:8080/",
          "height": 840
        },
        "outputId": "f7cf5438-8e05-40e4-dcf8-14b2569033c5"
      },
      "source": [
        "[i for i in graph.degree if i[0].startswith('article')]"
      ],
      "execution_count": null,
      "outputs": [
        {
          "output_type": "execute_result",
          "data": {
            "text/plain": [
              "[('article0', 24),\n",
              " ('article1', 18),\n",
              " ('article2', 6),\n",
              " ('article3', 15),\n",
              " ('article4', 31),\n",
              " ('article5', 12),\n",
              " ('article6', 11),\n",
              " ('article7', 21),\n",
              " ('article8', 9),\n",
              " ('article9', 13),\n",
              " ('article10', 8),\n",
              " ('article11', 16),\n",
              " ('article12', 8),\n",
              " ('article13', 44),\n",
              " ('article14', 23),\n",
              " ('article15', 16),\n",
              " ('article16', 27),\n",
              " ('article17', 42),\n",
              " ('article18', 13),\n",
              " ('article19', 22),\n",
              " ('article20', 23),\n",
              " ('article21', 10),\n",
              " ('article22', 30),\n",
              " ('article23', 7),\n",
              " ('article24', 11),\n",
              " ('article25', 8),\n",
              " ('article26', 21),\n",
              " ('article27', 17),\n",
              " ('article28', 10),\n",
              " ('article29', 12),\n",
              " ('article30', 23),\n",
              " ('article31', 13),\n",
              " ('article32', 10),\n",
              " ('article33', 13),\n",
              " ('article34', 18),\n",
              " ('article35', 29),\n",
              " ('article36', 27),\n",
              " ('article37', 18),\n",
              " ('article38', 12),\n",
              " ('article39', 15),\n",
              " ('article40', 17),\n",
              " ('article41', 23),\n",
              " ('article42', 21),\n",
              " ('article43', 26),\n",
              " ('article44', 1),\n",
              " ('article45', 5),\n",
              " ('article46', 5),\n",
              " ('article47', 8),\n",
              " ('article48', 5)]"
            ]
          },
          "metadata": {
            "tags": []
          },
          "execution_count": 50
        }
      ]
    },
    {
      "cell_type": "code",
      "metadata": {
        "id": "eeIV0X-D8SOh",
        "colab_type": "code",
        "colab": {
          "base_uri": "https://localhost:8080/",
          "height": 52
        },
        "outputId": "d062e634-8743-403f-e6ff-b9acec729f87"
      },
      "source": [
        "t[20]"
      ],
      "execution_count": null,
      "outputs": [
        {
          "output_type": "execute_result",
          "data": {
            "application/vnd.google.colaboratory.intrinsic+json": {
              "type": "string"
            },
            "text/plain": [
              "'We have been experiencing some problems with subscriber log-ins and apologise for the inconvenience caused. Until we resolve the issues, subscribers need not log in to access ST Digital articles. But a log-in is still required for our PDFs.'"
            ]
          },
          "metadata": {
            "tags": []
          },
          "execution_count": 50
        }
      ]
    },
    {
      "cell_type": "code",
      "metadata": {
        "id": "2dMGfNFvaJvs",
        "colab_type": "code",
        "colab": {}
      },
      "source": [
        ""
      ],
      "execution_count": null,
      "outputs": []
    }
  ]
}