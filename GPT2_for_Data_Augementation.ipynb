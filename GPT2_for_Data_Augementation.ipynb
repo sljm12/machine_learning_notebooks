{
  "nbformat": 4,
  "nbformat_minor": 0,
  "metadata": {
    "colab": {
      "name": "GPT2 for Data Augementation",
      "provenance": [],
      "collapsed_sections": [],
      "toc_visible": true,
      "mount_file_id": "1k1LS-19hgpPgGvBdZWEH6hHNwbluUxaa",
      "authorship_tag": "ABX9TyMSGukZBc1gg+LcBFjq2cup",
      "include_colab_link": true
    },
    "kernelspec": {
      "name": "python3",
      "display_name": "Python 3"
    },
    "accelerator": "GPU",
    "widgets": {
      "application/vnd.jupyter.widget-state+json": {
        "e7f896536a5d4c77b8cc458134591411": {
          "model_module": "@jupyter-widgets/controls",
          "model_name": "HBoxModel",
          "state": {
            "_view_name": "HBoxView",
            "_dom_classes": [],
            "_model_name": "HBoxModel",
            "_view_module": "@jupyter-widgets/controls",
            "_model_module_version": "1.5.0",
            "_view_count": null,
            "_view_module_version": "1.5.0",
            "box_style": "",
            "layout": "IPY_MODEL_4b890e29987f4bdf945d143b3c4a4533",
            "_model_module": "@jupyter-widgets/controls",
            "children": [
              "IPY_MODEL_da0bb2a111de44118aa7724bafa28c36",
              "IPY_MODEL_c139e886cfab466d86448e7fbb01be68"
            ]
          }
        },
        "4b890e29987f4bdf945d143b3c4a4533": {
          "model_module": "@jupyter-widgets/base",
          "model_name": "LayoutModel",
          "state": {
            "_view_name": "LayoutView",
            "grid_template_rows": null,
            "right": null,
            "justify_content": null,
            "_view_module": "@jupyter-widgets/base",
            "overflow": null,
            "_model_module_version": "1.2.0",
            "_view_count": null,
            "flex_flow": null,
            "width": null,
            "min_width": null,
            "border": null,
            "align_items": null,
            "bottom": null,
            "_model_module": "@jupyter-widgets/base",
            "top": null,
            "grid_column": null,
            "overflow_y": null,
            "overflow_x": null,
            "grid_auto_flow": null,
            "grid_area": null,
            "grid_template_columns": null,
            "flex": null,
            "_model_name": "LayoutModel",
            "justify_items": null,
            "grid_row": null,
            "max_height": null,
            "align_content": null,
            "visibility": null,
            "align_self": null,
            "height": null,
            "min_height": null,
            "padding": null,
            "grid_auto_rows": null,
            "grid_gap": null,
            "max_width": null,
            "order": null,
            "_view_module_version": "1.2.0",
            "grid_template_areas": null,
            "object_position": null,
            "object_fit": null,
            "grid_auto_columns": null,
            "margin": null,
            "display": null,
            "left": null
          }
        },
        "da0bb2a111de44118aa7724bafa28c36": {
          "model_module": "@jupyter-widgets/controls",
          "model_name": "FloatProgressModel",
          "state": {
            "_view_name": "ProgressView",
            "style": "IPY_MODEL_a776b68abcc342c19d2d0681310f971f",
            "_dom_classes": [],
            "description": "Downloading: 100%",
            "_model_name": "FloatProgressModel",
            "bar_style": "success",
            "max": 1042301,
            "_view_module": "@jupyter-widgets/controls",
            "_model_module_version": "1.5.0",
            "value": 1042301,
            "_view_count": null,
            "_view_module_version": "1.5.0",
            "orientation": "horizontal",
            "min": 0,
            "description_tooltip": null,
            "_model_module": "@jupyter-widgets/controls",
            "layout": "IPY_MODEL_c6b1bc600c1f4b20a3fea9609f6035ce"
          }
        },
        "c139e886cfab466d86448e7fbb01be68": {
          "model_module": "@jupyter-widgets/controls",
          "model_name": "HTMLModel",
          "state": {
            "_view_name": "HTMLView",
            "style": "IPY_MODEL_a1fb62d7c24b4ea29a001dc4cd87d904",
            "_dom_classes": [],
            "description": "",
            "_model_name": "HTMLModel",
            "placeholder": "​",
            "_view_module": "@jupyter-widgets/controls",
            "_model_module_version": "1.5.0",
            "value": " 1.04M/1.04M [00:52&lt;00:00, 19.9kB/s]",
            "_view_count": null,
            "_view_module_version": "1.5.0",
            "description_tooltip": null,
            "_model_module": "@jupyter-widgets/controls",
            "layout": "IPY_MODEL_8099be8f95b74b1a8dd71aec2d5f8acf"
          }
        },
        "a776b68abcc342c19d2d0681310f971f": {
          "model_module": "@jupyter-widgets/controls",
          "model_name": "ProgressStyleModel",
          "state": {
            "_view_name": "StyleView",
            "_model_name": "ProgressStyleModel",
            "description_width": "initial",
            "_view_module": "@jupyter-widgets/base",
            "_model_module_version": "1.5.0",
            "_view_count": null,
            "_view_module_version": "1.2.0",
            "bar_color": null,
            "_model_module": "@jupyter-widgets/controls"
          }
        },
        "c6b1bc600c1f4b20a3fea9609f6035ce": {
          "model_module": "@jupyter-widgets/base",
          "model_name": "LayoutModel",
          "state": {
            "_view_name": "LayoutView",
            "grid_template_rows": null,
            "right": null,
            "justify_content": null,
            "_view_module": "@jupyter-widgets/base",
            "overflow": null,
            "_model_module_version": "1.2.0",
            "_view_count": null,
            "flex_flow": null,
            "width": null,
            "min_width": null,
            "border": null,
            "align_items": null,
            "bottom": null,
            "_model_module": "@jupyter-widgets/base",
            "top": null,
            "grid_column": null,
            "overflow_y": null,
            "overflow_x": null,
            "grid_auto_flow": null,
            "grid_area": null,
            "grid_template_columns": null,
            "flex": null,
            "_model_name": "LayoutModel",
            "justify_items": null,
            "grid_row": null,
            "max_height": null,
            "align_content": null,
            "visibility": null,
            "align_self": null,
            "height": null,
            "min_height": null,
            "padding": null,
            "grid_auto_rows": null,
            "grid_gap": null,
            "max_width": null,
            "order": null,
            "_view_module_version": "1.2.0",
            "grid_template_areas": null,
            "object_position": null,
            "object_fit": null,
            "grid_auto_columns": null,
            "margin": null,
            "display": null,
            "left": null
          }
        },
        "a1fb62d7c24b4ea29a001dc4cd87d904": {
          "model_module": "@jupyter-widgets/controls",
          "model_name": "DescriptionStyleModel",
          "state": {
            "_view_name": "StyleView",
            "_model_name": "DescriptionStyleModel",
            "description_width": "",
            "_view_module": "@jupyter-widgets/base",
            "_model_module_version": "1.5.0",
            "_view_count": null,
            "_view_module_version": "1.2.0",
            "_model_module": "@jupyter-widgets/controls"
          }
        },
        "8099be8f95b74b1a8dd71aec2d5f8acf": {
          "model_module": "@jupyter-widgets/base",
          "model_name": "LayoutModel",
          "state": {
            "_view_name": "LayoutView",
            "grid_template_rows": null,
            "right": null,
            "justify_content": null,
            "_view_module": "@jupyter-widgets/base",
            "overflow": null,
            "_model_module_version": "1.2.0",
            "_view_count": null,
            "flex_flow": null,
            "width": null,
            "min_width": null,
            "border": null,
            "align_items": null,
            "bottom": null,
            "_model_module": "@jupyter-widgets/base",
            "top": null,
            "grid_column": null,
            "overflow_y": null,
            "overflow_x": null,
            "grid_auto_flow": null,
            "grid_area": null,
            "grid_template_columns": null,
            "flex": null,
            "_model_name": "LayoutModel",
            "justify_items": null,
            "grid_row": null,
            "max_height": null,
            "align_content": null,
            "visibility": null,
            "align_self": null,
            "height": null,
            "min_height": null,
            "padding": null,
            "grid_auto_rows": null,
            "grid_gap": null,
            "max_width": null,
            "order": null,
            "_view_module_version": "1.2.0",
            "grid_template_areas": null,
            "object_position": null,
            "object_fit": null,
            "grid_auto_columns": null,
            "margin": null,
            "display": null,
            "left": null
          }
        },
        "31a627f63ee84c909ded5494426dc33c": {
          "model_module": "@jupyter-widgets/controls",
          "model_name": "HBoxModel",
          "state": {
            "_view_name": "HBoxView",
            "_dom_classes": [],
            "_model_name": "HBoxModel",
            "_view_module": "@jupyter-widgets/controls",
            "_model_module_version": "1.5.0",
            "_view_count": null,
            "_view_module_version": "1.5.0",
            "box_style": "",
            "layout": "IPY_MODEL_bb93b86c4f664ccb975533acfc0d8eb6",
            "_model_module": "@jupyter-widgets/controls",
            "children": [
              "IPY_MODEL_308cecbe8d7c4516b60ba9f0a8958bc0",
              "IPY_MODEL_41cc0afe5e8941f484fd81b525652c33"
            ]
          }
        },
        "bb93b86c4f664ccb975533acfc0d8eb6": {
          "model_module": "@jupyter-widgets/base",
          "model_name": "LayoutModel",
          "state": {
            "_view_name": "LayoutView",
            "grid_template_rows": null,
            "right": null,
            "justify_content": null,
            "_view_module": "@jupyter-widgets/base",
            "overflow": null,
            "_model_module_version": "1.2.0",
            "_view_count": null,
            "flex_flow": null,
            "width": null,
            "min_width": null,
            "border": null,
            "align_items": null,
            "bottom": null,
            "_model_module": "@jupyter-widgets/base",
            "top": null,
            "grid_column": null,
            "overflow_y": null,
            "overflow_x": null,
            "grid_auto_flow": null,
            "grid_area": null,
            "grid_template_columns": null,
            "flex": null,
            "_model_name": "LayoutModel",
            "justify_items": null,
            "grid_row": null,
            "max_height": null,
            "align_content": null,
            "visibility": null,
            "align_self": null,
            "height": null,
            "min_height": null,
            "padding": null,
            "grid_auto_rows": null,
            "grid_gap": null,
            "max_width": null,
            "order": null,
            "_view_module_version": "1.2.0",
            "grid_template_areas": null,
            "object_position": null,
            "object_fit": null,
            "grid_auto_columns": null,
            "margin": null,
            "display": null,
            "left": null
          }
        },
        "308cecbe8d7c4516b60ba9f0a8958bc0": {
          "model_module": "@jupyter-widgets/controls",
          "model_name": "FloatProgressModel",
          "state": {
            "_view_name": "ProgressView",
            "style": "IPY_MODEL_6e04e650a0c54b4f82d5fcfc603c2901",
            "_dom_classes": [],
            "description": "Downloading: 100%",
            "_model_name": "FloatProgressModel",
            "bar_style": "success",
            "max": 456318,
            "_view_module": "@jupyter-widgets/controls",
            "_model_module_version": "1.5.0",
            "value": 456318,
            "_view_count": null,
            "_view_module_version": "1.5.0",
            "orientation": "horizontal",
            "min": 0,
            "description_tooltip": null,
            "_model_module": "@jupyter-widgets/controls",
            "layout": "IPY_MODEL_5cdd345a6db5446e9d931fcbb56585ec"
          }
        },
        "41cc0afe5e8941f484fd81b525652c33": {
          "model_module": "@jupyter-widgets/controls",
          "model_name": "HTMLModel",
          "state": {
            "_view_name": "HTMLView",
            "style": "IPY_MODEL_aa06b0a017e14984b5a91d25721b4fb5",
            "_dom_classes": [],
            "description": "",
            "_model_name": "HTMLModel",
            "placeholder": "​",
            "_view_module": "@jupyter-widgets/controls",
            "_model_module_version": "1.5.0",
            "value": " 456k/456k [00:00&lt;00:00, 1.20MB/s]",
            "_view_count": null,
            "_view_module_version": "1.5.0",
            "description_tooltip": null,
            "_model_module": "@jupyter-widgets/controls",
            "layout": "IPY_MODEL_130d37f78a654111b364a0186a958926"
          }
        },
        "6e04e650a0c54b4f82d5fcfc603c2901": {
          "model_module": "@jupyter-widgets/controls",
          "model_name": "ProgressStyleModel",
          "state": {
            "_view_name": "StyleView",
            "_model_name": "ProgressStyleModel",
            "description_width": "initial",
            "_view_module": "@jupyter-widgets/base",
            "_model_module_version": "1.5.0",
            "_view_count": null,
            "_view_module_version": "1.2.0",
            "bar_color": null,
            "_model_module": "@jupyter-widgets/controls"
          }
        },
        "5cdd345a6db5446e9d931fcbb56585ec": {
          "model_module": "@jupyter-widgets/base",
          "model_name": "LayoutModel",
          "state": {
            "_view_name": "LayoutView",
            "grid_template_rows": null,
            "right": null,
            "justify_content": null,
            "_view_module": "@jupyter-widgets/base",
            "overflow": null,
            "_model_module_version": "1.2.0",
            "_view_count": null,
            "flex_flow": null,
            "width": null,
            "min_width": null,
            "border": null,
            "align_items": null,
            "bottom": null,
            "_model_module": "@jupyter-widgets/base",
            "top": null,
            "grid_column": null,
            "overflow_y": null,
            "overflow_x": null,
            "grid_auto_flow": null,
            "grid_area": null,
            "grid_template_columns": null,
            "flex": null,
            "_model_name": "LayoutModel",
            "justify_items": null,
            "grid_row": null,
            "max_height": null,
            "align_content": null,
            "visibility": null,
            "align_self": null,
            "height": null,
            "min_height": null,
            "padding": null,
            "grid_auto_rows": null,
            "grid_gap": null,
            "max_width": null,
            "order": null,
            "_view_module_version": "1.2.0",
            "grid_template_areas": null,
            "object_position": null,
            "object_fit": null,
            "grid_auto_columns": null,
            "margin": null,
            "display": null,
            "left": null
          }
        },
        "aa06b0a017e14984b5a91d25721b4fb5": {
          "model_module": "@jupyter-widgets/controls",
          "model_name": "DescriptionStyleModel",
          "state": {
            "_view_name": "StyleView",
            "_model_name": "DescriptionStyleModel",
            "description_width": "",
            "_view_module": "@jupyter-widgets/base",
            "_model_module_version": "1.5.0",
            "_view_count": null,
            "_view_module_version": "1.2.0",
            "_model_module": "@jupyter-widgets/controls"
          }
        },
        "130d37f78a654111b364a0186a958926": {
          "model_module": "@jupyter-widgets/base",
          "model_name": "LayoutModel",
          "state": {
            "_view_name": "LayoutView",
            "grid_template_rows": null,
            "right": null,
            "justify_content": null,
            "_view_module": "@jupyter-widgets/base",
            "overflow": null,
            "_model_module_version": "1.2.0",
            "_view_count": null,
            "flex_flow": null,
            "width": null,
            "min_width": null,
            "border": null,
            "align_items": null,
            "bottom": null,
            "_model_module": "@jupyter-widgets/base",
            "top": null,
            "grid_column": null,
            "overflow_y": null,
            "overflow_x": null,
            "grid_auto_flow": null,
            "grid_area": null,
            "grid_template_columns": null,
            "flex": null,
            "_model_name": "LayoutModel",
            "justify_items": null,
            "grid_row": null,
            "max_height": null,
            "align_content": null,
            "visibility": null,
            "align_self": null,
            "height": null,
            "min_height": null,
            "padding": null,
            "grid_auto_rows": null,
            "grid_gap": null,
            "max_width": null,
            "order": null,
            "_view_module_version": "1.2.0",
            "grid_template_areas": null,
            "object_position": null,
            "object_fit": null,
            "grid_auto_columns": null,
            "margin": null,
            "display": null,
            "left": null
          }
        },
        "8df208bc9e3e4603824a28d9c09fafcf": {
          "model_module": "@jupyter-widgets/controls",
          "model_name": "HBoxModel",
          "state": {
            "_view_name": "HBoxView",
            "_dom_classes": [],
            "_model_name": "HBoxModel",
            "_view_module": "@jupyter-widgets/controls",
            "_model_module_version": "1.5.0",
            "_view_count": null,
            "_view_module_version": "1.5.0",
            "box_style": "",
            "layout": "IPY_MODEL_078c8a0195a046da997eb4dda9bb9d19",
            "_model_module": "@jupyter-widgets/controls",
            "children": [
              "IPY_MODEL_8e4a73b106304ea1938c155f19e961ff",
              "IPY_MODEL_7d996b41e8614b72b9eabfeb5828151a"
            ]
          }
        },
        "078c8a0195a046da997eb4dda9bb9d19": {
          "model_module": "@jupyter-widgets/base",
          "model_name": "LayoutModel",
          "state": {
            "_view_name": "LayoutView",
            "grid_template_rows": null,
            "right": null,
            "justify_content": null,
            "_view_module": "@jupyter-widgets/base",
            "overflow": null,
            "_model_module_version": "1.2.0",
            "_view_count": null,
            "flex_flow": null,
            "width": null,
            "min_width": null,
            "border": null,
            "align_items": null,
            "bottom": null,
            "_model_module": "@jupyter-widgets/base",
            "top": null,
            "grid_column": null,
            "overflow_y": null,
            "overflow_x": null,
            "grid_auto_flow": null,
            "grid_area": null,
            "grid_template_columns": null,
            "flex": null,
            "_model_name": "LayoutModel",
            "justify_items": null,
            "grid_row": null,
            "max_height": null,
            "align_content": null,
            "visibility": null,
            "align_self": null,
            "height": null,
            "min_height": null,
            "padding": null,
            "grid_auto_rows": null,
            "grid_gap": null,
            "max_width": null,
            "order": null,
            "_view_module_version": "1.2.0",
            "grid_template_areas": null,
            "object_position": null,
            "object_fit": null,
            "grid_auto_columns": null,
            "margin": null,
            "display": null,
            "left": null
          }
        },
        "8e4a73b106304ea1938c155f19e961ff": {
          "model_module": "@jupyter-widgets/controls",
          "model_name": "FloatProgressModel",
          "state": {
            "_view_name": "ProgressView",
            "style": "IPY_MODEL_7a27db62119b4f788ca4b557308e6a8b",
            "_dom_classes": [],
            "description": "Downloading: 100%",
            "_model_name": "FloatProgressModel",
            "bar_style": "success",
            "max": 665,
            "_view_module": "@jupyter-widgets/controls",
            "_model_module_version": "1.5.0",
            "value": 665,
            "_view_count": null,
            "_view_module_version": "1.5.0",
            "orientation": "horizontal",
            "min": 0,
            "description_tooltip": null,
            "_model_module": "@jupyter-widgets/controls",
            "layout": "IPY_MODEL_280010b47a874be5b417f9efd67ed455"
          }
        },
        "7d996b41e8614b72b9eabfeb5828151a": {
          "model_module": "@jupyter-widgets/controls",
          "model_name": "HTMLModel",
          "state": {
            "_view_name": "HTMLView",
            "style": "IPY_MODEL_c4e6382fe1764675a302126f2b5da099",
            "_dom_classes": [],
            "description": "",
            "_model_name": "HTMLModel",
            "placeholder": "​",
            "_view_module": "@jupyter-widgets/controls",
            "_model_module_version": "1.5.0",
            "value": " 665/665 [00:50&lt;00:00, 13.2B/s]",
            "_view_count": null,
            "_view_module_version": "1.5.0",
            "description_tooltip": null,
            "_model_module": "@jupyter-widgets/controls",
            "layout": "IPY_MODEL_ac18f7bd70014acfb23b39f3d81cd391"
          }
        },
        "7a27db62119b4f788ca4b557308e6a8b": {
          "model_module": "@jupyter-widgets/controls",
          "model_name": "ProgressStyleModel",
          "state": {
            "_view_name": "StyleView",
            "_model_name": "ProgressStyleModel",
            "description_width": "initial",
            "_view_module": "@jupyter-widgets/base",
            "_model_module_version": "1.5.0",
            "_view_count": null,
            "_view_module_version": "1.2.0",
            "bar_color": null,
            "_model_module": "@jupyter-widgets/controls"
          }
        },
        "280010b47a874be5b417f9efd67ed455": {
          "model_module": "@jupyter-widgets/base",
          "model_name": "LayoutModel",
          "state": {
            "_view_name": "LayoutView",
            "grid_template_rows": null,
            "right": null,
            "justify_content": null,
            "_view_module": "@jupyter-widgets/base",
            "overflow": null,
            "_model_module_version": "1.2.0",
            "_view_count": null,
            "flex_flow": null,
            "width": null,
            "min_width": null,
            "border": null,
            "align_items": null,
            "bottom": null,
            "_model_module": "@jupyter-widgets/base",
            "top": null,
            "grid_column": null,
            "overflow_y": null,
            "overflow_x": null,
            "grid_auto_flow": null,
            "grid_area": null,
            "grid_template_columns": null,
            "flex": null,
            "_model_name": "LayoutModel",
            "justify_items": null,
            "grid_row": null,
            "max_height": null,
            "align_content": null,
            "visibility": null,
            "align_self": null,
            "height": null,
            "min_height": null,
            "padding": null,
            "grid_auto_rows": null,
            "grid_gap": null,
            "max_width": null,
            "order": null,
            "_view_module_version": "1.2.0",
            "grid_template_areas": null,
            "object_position": null,
            "object_fit": null,
            "grid_auto_columns": null,
            "margin": null,
            "display": null,
            "left": null
          }
        },
        "c4e6382fe1764675a302126f2b5da099": {
          "model_module": "@jupyter-widgets/controls",
          "model_name": "DescriptionStyleModel",
          "state": {
            "_view_name": "StyleView",
            "_model_name": "DescriptionStyleModel",
            "description_width": "",
            "_view_module": "@jupyter-widgets/base",
            "_model_module_version": "1.5.0",
            "_view_count": null,
            "_view_module_version": "1.2.0",
            "_model_module": "@jupyter-widgets/controls"
          }
        },
        "ac18f7bd70014acfb23b39f3d81cd391": {
          "model_module": "@jupyter-widgets/base",
          "model_name": "LayoutModel",
          "state": {
            "_view_name": "LayoutView",
            "grid_template_rows": null,
            "right": null,
            "justify_content": null,
            "_view_module": "@jupyter-widgets/base",
            "overflow": null,
            "_model_module_version": "1.2.0",
            "_view_count": null,
            "flex_flow": null,
            "width": null,
            "min_width": null,
            "border": null,
            "align_items": null,
            "bottom": null,
            "_model_module": "@jupyter-widgets/base",
            "top": null,
            "grid_column": null,
            "overflow_y": null,
            "overflow_x": null,
            "grid_auto_flow": null,
            "grid_area": null,
            "grid_template_columns": null,
            "flex": null,
            "_model_name": "LayoutModel",
            "justify_items": null,
            "grid_row": null,
            "max_height": null,
            "align_content": null,
            "visibility": null,
            "align_self": null,
            "height": null,
            "min_height": null,
            "padding": null,
            "grid_auto_rows": null,
            "grid_gap": null,
            "max_width": null,
            "order": null,
            "_view_module_version": "1.2.0",
            "grid_template_areas": null,
            "object_position": null,
            "object_fit": null,
            "grid_auto_columns": null,
            "margin": null,
            "display": null,
            "left": null
          }
        },
        "56273f3b16ef4402a80e502ddfb81080": {
          "model_module": "@jupyter-widgets/controls",
          "model_name": "HBoxModel",
          "state": {
            "_view_name": "HBoxView",
            "_dom_classes": [],
            "_model_name": "HBoxModel",
            "_view_module": "@jupyter-widgets/controls",
            "_model_module_version": "1.5.0",
            "_view_count": null,
            "_view_module_version": "1.5.0",
            "box_style": "",
            "layout": "IPY_MODEL_1c57fca8297b443faaf3bba8b5260602",
            "_model_module": "@jupyter-widgets/controls",
            "children": [
              "IPY_MODEL_b94a87d4961c496d9077780cff9c5d45",
              "IPY_MODEL_f00c9a0f6edb45bbb991f571703b1f0e"
            ]
          }
        },
        "1c57fca8297b443faaf3bba8b5260602": {
          "model_module": "@jupyter-widgets/base",
          "model_name": "LayoutModel",
          "state": {
            "_view_name": "LayoutView",
            "grid_template_rows": null,
            "right": null,
            "justify_content": null,
            "_view_module": "@jupyter-widgets/base",
            "overflow": null,
            "_model_module_version": "1.2.0",
            "_view_count": null,
            "flex_flow": null,
            "width": null,
            "min_width": null,
            "border": null,
            "align_items": null,
            "bottom": null,
            "_model_module": "@jupyter-widgets/base",
            "top": null,
            "grid_column": null,
            "overflow_y": null,
            "overflow_x": null,
            "grid_auto_flow": null,
            "grid_area": null,
            "grid_template_columns": null,
            "flex": null,
            "_model_name": "LayoutModel",
            "justify_items": null,
            "grid_row": null,
            "max_height": null,
            "align_content": null,
            "visibility": null,
            "align_self": null,
            "height": null,
            "min_height": null,
            "padding": null,
            "grid_auto_rows": null,
            "grid_gap": null,
            "max_width": null,
            "order": null,
            "_view_module_version": "1.2.0",
            "grid_template_areas": null,
            "object_position": null,
            "object_fit": null,
            "grid_auto_columns": null,
            "margin": null,
            "display": null,
            "left": null
          }
        },
        "b94a87d4961c496d9077780cff9c5d45": {
          "model_module": "@jupyter-widgets/controls",
          "model_name": "FloatProgressModel",
          "state": {
            "_view_name": "ProgressView",
            "style": "IPY_MODEL_246d174aa20c4417ac4f77a70addc159",
            "_dom_classes": [],
            "description": "Downloading: 100%",
            "_model_name": "FloatProgressModel",
            "bar_style": "success",
            "max": 548118077,
            "_view_module": "@jupyter-widgets/controls",
            "_model_module_version": "1.5.0",
            "value": 548118077,
            "_view_count": null,
            "_view_module_version": "1.5.0",
            "orientation": "horizontal",
            "min": 0,
            "description_tooltip": null,
            "_model_module": "@jupyter-widgets/controls",
            "layout": "IPY_MODEL_8c06e69cf6b5415c9b90b6115a0429ab"
          }
        },
        "f00c9a0f6edb45bbb991f571703b1f0e": {
          "model_module": "@jupyter-widgets/controls",
          "model_name": "HTMLModel",
          "state": {
            "_view_name": "HTMLView",
            "style": "IPY_MODEL_bc1375098ef04b52bb0fcba6c74bfbbe",
            "_dom_classes": [],
            "description": "",
            "_model_name": "HTMLModel",
            "placeholder": "​",
            "_view_module": "@jupyter-widgets/controls",
            "_model_module_version": "1.5.0",
            "value": " 548M/548M [00:41&lt;00:00, 13.4MB/s]",
            "_view_count": null,
            "_view_module_version": "1.5.0",
            "description_tooltip": null,
            "_model_module": "@jupyter-widgets/controls",
            "layout": "IPY_MODEL_421442fa728c470ab586887f7d30bd11"
          }
        },
        "246d174aa20c4417ac4f77a70addc159": {
          "model_module": "@jupyter-widgets/controls",
          "model_name": "ProgressStyleModel",
          "state": {
            "_view_name": "StyleView",
            "_model_name": "ProgressStyleModel",
            "description_width": "initial",
            "_view_module": "@jupyter-widgets/base",
            "_model_module_version": "1.5.0",
            "_view_count": null,
            "_view_module_version": "1.2.0",
            "bar_color": null,
            "_model_module": "@jupyter-widgets/controls"
          }
        },
        "8c06e69cf6b5415c9b90b6115a0429ab": {
          "model_module": "@jupyter-widgets/base",
          "model_name": "LayoutModel",
          "state": {
            "_view_name": "LayoutView",
            "grid_template_rows": null,
            "right": null,
            "justify_content": null,
            "_view_module": "@jupyter-widgets/base",
            "overflow": null,
            "_model_module_version": "1.2.0",
            "_view_count": null,
            "flex_flow": null,
            "width": null,
            "min_width": null,
            "border": null,
            "align_items": null,
            "bottom": null,
            "_model_module": "@jupyter-widgets/base",
            "top": null,
            "grid_column": null,
            "overflow_y": null,
            "overflow_x": null,
            "grid_auto_flow": null,
            "grid_area": null,
            "grid_template_columns": null,
            "flex": null,
            "_model_name": "LayoutModel",
            "justify_items": null,
            "grid_row": null,
            "max_height": null,
            "align_content": null,
            "visibility": null,
            "align_self": null,
            "height": null,
            "min_height": null,
            "padding": null,
            "grid_auto_rows": null,
            "grid_gap": null,
            "max_width": null,
            "order": null,
            "_view_module_version": "1.2.0",
            "grid_template_areas": null,
            "object_position": null,
            "object_fit": null,
            "grid_auto_columns": null,
            "margin": null,
            "display": null,
            "left": null
          }
        },
        "bc1375098ef04b52bb0fcba6c74bfbbe": {
          "model_module": "@jupyter-widgets/controls",
          "model_name": "DescriptionStyleModel",
          "state": {
            "_view_name": "StyleView",
            "_model_name": "DescriptionStyleModel",
            "description_width": "",
            "_view_module": "@jupyter-widgets/base",
            "_model_module_version": "1.5.0",
            "_view_count": null,
            "_view_module_version": "1.2.0",
            "_model_module": "@jupyter-widgets/controls"
          }
        },
        "421442fa728c470ab586887f7d30bd11": {
          "model_module": "@jupyter-widgets/base",
          "model_name": "LayoutModel",
          "state": {
            "_view_name": "LayoutView",
            "grid_template_rows": null,
            "right": null,
            "justify_content": null,
            "_view_module": "@jupyter-widgets/base",
            "overflow": null,
            "_model_module_version": "1.2.0",
            "_view_count": null,
            "flex_flow": null,
            "width": null,
            "min_width": null,
            "border": null,
            "align_items": null,
            "bottom": null,
            "_model_module": "@jupyter-widgets/base",
            "top": null,
            "grid_column": null,
            "overflow_y": null,
            "overflow_x": null,
            "grid_auto_flow": null,
            "grid_area": null,
            "grid_template_columns": null,
            "flex": null,
            "_model_name": "LayoutModel",
            "justify_items": null,
            "grid_row": null,
            "max_height": null,
            "align_content": null,
            "visibility": null,
            "align_self": null,
            "height": null,
            "min_height": null,
            "padding": null,
            "grid_auto_rows": null,
            "grid_gap": null,
            "max_width": null,
            "order": null,
            "_view_module_version": "1.2.0",
            "grid_template_areas": null,
            "object_position": null,
            "object_fit": null,
            "grid_auto_columns": null,
            "margin": null,
            "display": null,
            "left": null
          }
        },
        "f655ea07a582400793b796f0b380a6ea": {
          "model_module": "@jupyter-widgets/controls",
          "model_name": "HBoxModel",
          "state": {
            "_view_name": "HBoxView",
            "_dom_classes": [],
            "_model_name": "HBoxModel",
            "_view_module": "@jupyter-widgets/controls",
            "_model_module_version": "1.5.0",
            "_view_count": null,
            "_view_module_version": "1.5.0",
            "box_style": "",
            "layout": "IPY_MODEL_b4a36ee999044bf58831ec0b10fd6e33",
            "_model_module": "@jupyter-widgets/controls",
            "children": [
              "IPY_MODEL_b2c9a5b227e847d382e7f8735b006f17",
              "IPY_MODEL_bc3087ee9a644811b87f59de7d20969b"
            ]
          }
        },
        "b4a36ee999044bf58831ec0b10fd6e33": {
          "model_module": "@jupyter-widgets/base",
          "model_name": "LayoutModel",
          "state": {
            "_view_name": "LayoutView",
            "grid_template_rows": null,
            "right": null,
            "justify_content": null,
            "_view_module": "@jupyter-widgets/base",
            "overflow": null,
            "_model_module_version": "1.2.0",
            "_view_count": null,
            "flex_flow": null,
            "width": null,
            "min_width": null,
            "border": null,
            "align_items": null,
            "bottom": null,
            "_model_module": "@jupyter-widgets/base",
            "top": null,
            "grid_column": null,
            "overflow_y": null,
            "overflow_x": null,
            "grid_auto_flow": null,
            "grid_area": null,
            "grid_template_columns": null,
            "flex": null,
            "_model_name": "LayoutModel",
            "justify_items": null,
            "grid_row": null,
            "max_height": null,
            "align_content": null,
            "visibility": null,
            "align_self": null,
            "height": null,
            "min_height": null,
            "padding": null,
            "grid_auto_rows": null,
            "grid_gap": null,
            "max_width": null,
            "order": null,
            "_view_module_version": "1.2.0",
            "grid_template_areas": null,
            "object_position": null,
            "object_fit": null,
            "grid_auto_columns": null,
            "margin": null,
            "display": null,
            "left": null
          }
        },
        "b2c9a5b227e847d382e7f8735b006f17": {
          "model_module": "@jupyter-widgets/controls",
          "model_name": "FloatProgressModel",
          "state": {
            "_view_name": "ProgressView",
            "style": "IPY_MODEL_a1659a3d68fe4349bbdec9ec368a9295",
            "_dom_classes": [],
            "description": "Downloading: 100%",
            "_model_name": "FloatProgressModel",
            "bar_style": "success",
            "max": 1042301,
            "_view_module": "@jupyter-widgets/controls",
            "_model_module_version": "1.5.0",
            "value": 1042301,
            "_view_count": null,
            "_view_module_version": "1.5.0",
            "orientation": "horizontal",
            "min": 0,
            "description_tooltip": null,
            "_model_module": "@jupyter-widgets/controls",
            "layout": "IPY_MODEL_404628c5dd5f4c088f29734370cc8823"
          }
        },
        "bc3087ee9a644811b87f59de7d20969b": {
          "model_module": "@jupyter-widgets/controls",
          "model_name": "HTMLModel",
          "state": {
            "_view_name": "HTMLView",
            "style": "IPY_MODEL_d652d33cc2584ba2904489b4329e1c06",
            "_dom_classes": [],
            "description": "",
            "_model_name": "HTMLModel",
            "placeholder": "​",
            "_view_module": "@jupyter-widgets/controls",
            "_model_module_version": "1.5.0",
            "value": " 1.04M/1.04M [00:00&lt;00:00, 2.19MB/s]",
            "_view_count": null,
            "_view_module_version": "1.5.0",
            "description_tooltip": null,
            "_model_module": "@jupyter-widgets/controls",
            "layout": "IPY_MODEL_8291713296ea4e4e8eff639108f601ee"
          }
        },
        "a1659a3d68fe4349bbdec9ec368a9295": {
          "model_module": "@jupyter-widgets/controls",
          "model_name": "ProgressStyleModel",
          "state": {
            "_view_name": "StyleView",
            "_model_name": "ProgressStyleModel",
            "description_width": "initial",
            "_view_module": "@jupyter-widgets/base",
            "_model_module_version": "1.5.0",
            "_view_count": null,
            "_view_module_version": "1.2.0",
            "bar_color": null,
            "_model_module": "@jupyter-widgets/controls"
          }
        },
        "404628c5dd5f4c088f29734370cc8823": {
          "model_module": "@jupyter-widgets/base",
          "model_name": "LayoutModel",
          "state": {
            "_view_name": "LayoutView",
            "grid_template_rows": null,
            "right": null,
            "justify_content": null,
            "_view_module": "@jupyter-widgets/base",
            "overflow": null,
            "_model_module_version": "1.2.0",
            "_view_count": null,
            "flex_flow": null,
            "width": null,
            "min_width": null,
            "border": null,
            "align_items": null,
            "bottom": null,
            "_model_module": "@jupyter-widgets/base",
            "top": null,
            "grid_column": null,
            "overflow_y": null,
            "overflow_x": null,
            "grid_auto_flow": null,
            "grid_area": null,
            "grid_template_columns": null,
            "flex": null,
            "_model_name": "LayoutModel",
            "justify_items": null,
            "grid_row": null,
            "max_height": null,
            "align_content": null,
            "visibility": null,
            "align_self": null,
            "height": null,
            "min_height": null,
            "padding": null,
            "grid_auto_rows": null,
            "grid_gap": null,
            "max_width": null,
            "order": null,
            "_view_module_version": "1.2.0",
            "grid_template_areas": null,
            "object_position": null,
            "object_fit": null,
            "grid_auto_columns": null,
            "margin": null,
            "display": null,
            "left": null
          }
        },
        "d652d33cc2584ba2904489b4329e1c06": {
          "model_module": "@jupyter-widgets/controls",
          "model_name": "DescriptionStyleModel",
          "state": {
            "_view_name": "StyleView",
            "_model_name": "DescriptionStyleModel",
            "description_width": "",
            "_view_module": "@jupyter-widgets/base",
            "_model_module_version": "1.5.0",
            "_view_count": null,
            "_view_module_version": "1.2.0",
            "_model_module": "@jupyter-widgets/controls"
          }
        },
        "8291713296ea4e4e8eff639108f601ee": {
          "model_module": "@jupyter-widgets/base",
          "model_name": "LayoutModel",
          "state": {
            "_view_name": "LayoutView",
            "grid_template_rows": null,
            "right": null,
            "justify_content": null,
            "_view_module": "@jupyter-widgets/base",
            "overflow": null,
            "_model_module_version": "1.2.0",
            "_view_count": null,
            "flex_flow": null,
            "width": null,
            "min_width": null,
            "border": null,
            "align_items": null,
            "bottom": null,
            "_model_module": "@jupyter-widgets/base",
            "top": null,
            "grid_column": null,
            "overflow_y": null,
            "overflow_x": null,
            "grid_auto_flow": null,
            "grid_area": null,
            "grid_template_columns": null,
            "flex": null,
            "_model_name": "LayoutModel",
            "justify_items": null,
            "grid_row": null,
            "max_height": null,
            "align_content": null,
            "visibility": null,
            "align_self": null,
            "height": null,
            "min_height": null,
            "padding": null,
            "grid_auto_rows": null,
            "grid_gap": null,
            "max_width": null,
            "order": null,
            "_view_module_version": "1.2.0",
            "grid_template_areas": null,
            "object_position": null,
            "object_fit": null,
            "grid_auto_columns": null,
            "margin": null,
            "display": null,
            "left": null
          }
        },
        "9051eedfcbfc4a38b41319ac73375d88": {
          "model_module": "@jupyter-widgets/controls",
          "model_name": "HBoxModel",
          "state": {
            "_view_name": "HBoxView",
            "_dom_classes": [],
            "_model_name": "HBoxModel",
            "_view_module": "@jupyter-widgets/controls",
            "_model_module_version": "1.5.0",
            "_view_count": null,
            "_view_module_version": "1.5.0",
            "box_style": "",
            "layout": "IPY_MODEL_9fe1a6b6e3b44561a7d615614b198bde",
            "_model_module": "@jupyter-widgets/controls",
            "children": [
              "IPY_MODEL_597fb7f2d18b4cca8adfc689e8aed14b",
              "IPY_MODEL_b6fd4c65a3604abc84be99ec06d40c15"
            ]
          }
        },
        "9fe1a6b6e3b44561a7d615614b198bde": {
          "model_module": "@jupyter-widgets/base",
          "model_name": "LayoutModel",
          "state": {
            "_view_name": "LayoutView",
            "grid_template_rows": null,
            "right": null,
            "justify_content": null,
            "_view_module": "@jupyter-widgets/base",
            "overflow": null,
            "_model_module_version": "1.2.0",
            "_view_count": null,
            "flex_flow": null,
            "width": null,
            "min_width": null,
            "border": null,
            "align_items": null,
            "bottom": null,
            "_model_module": "@jupyter-widgets/base",
            "top": null,
            "grid_column": null,
            "overflow_y": null,
            "overflow_x": null,
            "grid_auto_flow": null,
            "grid_area": null,
            "grid_template_columns": null,
            "flex": null,
            "_model_name": "LayoutModel",
            "justify_items": null,
            "grid_row": null,
            "max_height": null,
            "align_content": null,
            "visibility": null,
            "align_self": null,
            "height": null,
            "min_height": null,
            "padding": null,
            "grid_auto_rows": null,
            "grid_gap": null,
            "max_width": null,
            "order": null,
            "_view_module_version": "1.2.0",
            "grid_template_areas": null,
            "object_position": null,
            "object_fit": null,
            "grid_auto_columns": null,
            "margin": null,
            "display": null,
            "left": null
          }
        },
        "597fb7f2d18b4cca8adfc689e8aed14b": {
          "model_module": "@jupyter-widgets/controls",
          "model_name": "FloatProgressModel",
          "state": {
            "_view_name": "ProgressView",
            "style": "IPY_MODEL_b8c75217ba06423ea20cf6cf40ec5282",
            "_dom_classes": [],
            "description": "Downloading: 100%",
            "_model_name": "FloatProgressModel",
            "bar_style": "success",
            "max": 456318,
            "_view_module": "@jupyter-widgets/controls",
            "_model_module_version": "1.5.0",
            "value": 456318,
            "_view_count": null,
            "_view_module_version": "1.5.0",
            "orientation": "horizontal",
            "min": 0,
            "description_tooltip": null,
            "_model_module": "@jupyter-widgets/controls",
            "layout": "IPY_MODEL_f129f90b3a474983acd3cdb1fb44a240"
          }
        },
        "b6fd4c65a3604abc84be99ec06d40c15": {
          "model_module": "@jupyter-widgets/controls",
          "model_name": "HTMLModel",
          "state": {
            "_view_name": "HTMLView",
            "style": "IPY_MODEL_d70f962779204e71b4f0c55ef4650762",
            "_dom_classes": [],
            "description": "",
            "_model_name": "HTMLModel",
            "placeholder": "​",
            "_view_module": "@jupyter-widgets/controls",
            "_model_module_version": "1.5.0",
            "value": " 456k/456k [00:00&lt;00:00, 3.04MB/s]",
            "_view_count": null,
            "_view_module_version": "1.5.0",
            "description_tooltip": null,
            "_model_module": "@jupyter-widgets/controls",
            "layout": "IPY_MODEL_563b04fa9fba4f76bf3fc028485c22db"
          }
        },
        "b8c75217ba06423ea20cf6cf40ec5282": {
          "model_module": "@jupyter-widgets/controls",
          "model_name": "ProgressStyleModel",
          "state": {
            "_view_name": "StyleView",
            "_model_name": "ProgressStyleModel",
            "description_width": "initial",
            "_view_module": "@jupyter-widgets/base",
            "_model_module_version": "1.5.0",
            "_view_count": null,
            "_view_module_version": "1.2.0",
            "bar_color": null,
            "_model_module": "@jupyter-widgets/controls"
          }
        },
        "f129f90b3a474983acd3cdb1fb44a240": {
          "model_module": "@jupyter-widgets/base",
          "model_name": "LayoutModel",
          "state": {
            "_view_name": "LayoutView",
            "grid_template_rows": null,
            "right": null,
            "justify_content": null,
            "_view_module": "@jupyter-widgets/base",
            "overflow": null,
            "_model_module_version": "1.2.0",
            "_view_count": null,
            "flex_flow": null,
            "width": null,
            "min_width": null,
            "border": null,
            "align_items": null,
            "bottom": null,
            "_model_module": "@jupyter-widgets/base",
            "top": null,
            "grid_column": null,
            "overflow_y": null,
            "overflow_x": null,
            "grid_auto_flow": null,
            "grid_area": null,
            "grid_template_columns": null,
            "flex": null,
            "_model_name": "LayoutModel",
            "justify_items": null,
            "grid_row": null,
            "max_height": null,
            "align_content": null,
            "visibility": null,
            "align_self": null,
            "height": null,
            "min_height": null,
            "padding": null,
            "grid_auto_rows": null,
            "grid_gap": null,
            "max_width": null,
            "order": null,
            "_view_module_version": "1.2.0",
            "grid_template_areas": null,
            "object_position": null,
            "object_fit": null,
            "grid_auto_columns": null,
            "margin": null,
            "display": null,
            "left": null
          }
        },
        "d70f962779204e71b4f0c55ef4650762": {
          "model_module": "@jupyter-widgets/controls",
          "model_name": "DescriptionStyleModel",
          "state": {
            "_view_name": "StyleView",
            "_model_name": "DescriptionStyleModel",
            "description_width": "",
            "_view_module": "@jupyter-widgets/base",
            "_model_module_version": "1.5.0",
            "_view_count": null,
            "_view_module_version": "1.2.0",
            "_model_module": "@jupyter-widgets/controls"
          }
        },
        "563b04fa9fba4f76bf3fc028485c22db": {
          "model_module": "@jupyter-widgets/base",
          "model_name": "LayoutModel",
          "state": {
            "_view_name": "LayoutView",
            "grid_template_rows": null,
            "right": null,
            "justify_content": null,
            "_view_module": "@jupyter-widgets/base",
            "overflow": null,
            "_model_module_version": "1.2.0",
            "_view_count": null,
            "flex_flow": null,
            "width": null,
            "min_width": null,
            "border": null,
            "align_items": null,
            "bottom": null,
            "_model_module": "@jupyter-widgets/base",
            "top": null,
            "grid_column": null,
            "overflow_y": null,
            "overflow_x": null,
            "grid_auto_flow": null,
            "grid_area": null,
            "grid_template_columns": null,
            "flex": null,
            "_model_name": "LayoutModel",
            "justify_items": null,
            "grid_row": null,
            "max_height": null,
            "align_content": null,
            "visibility": null,
            "align_self": null,
            "height": null,
            "min_height": null,
            "padding": null,
            "grid_auto_rows": null,
            "grid_gap": null,
            "max_width": null,
            "order": null,
            "_view_module_version": "1.2.0",
            "grid_template_areas": null,
            "object_position": null,
            "object_fit": null,
            "grid_auto_columns": null,
            "margin": null,
            "display": null,
            "left": null
          }
        }
      }
    }
  },
  "cells": [
    {
      "cell_type": "markdown",
      "metadata": {
        "id": "view-in-github",
        "colab_type": "text"
      },
      "source": [
        "<a href=\"https://colab.research.google.com/github/sljm12/machine_learning_notebooks/blob/master/GPT2_for_Data_Augementation.ipynb\" target=\"_parent\"><img src=\"https://colab.research.google.com/assets/colab-badge.svg\" alt=\"Open In Colab\"/></a>"
      ]
    },
    {
      "cell_type": "markdown",
      "metadata": {
        "id": "8oSmmHkkQoLB"
      },
      "source": [
        "To try using GPT2 for Data Augenmentation by training it on a set of news headlines with category information and then generating headlines given a category.\n",
        "\n",
        "Dataset from https://www.kaggle.com/rmisra/news-category-dataset\n",
        "\n",
        "References:\n",
        "https://huggingface.co/blog/how-to-generate\n",
        "\n",
        "https://arxiv.org/pdf/2003.02245v1.pdf\n",
        "\n",
        "https://github.com/falloutdurham/beginners-pytorch-deep-learning/blob/master/chapter9/Chapter9.5.ipynb\n",
        "\n",
        "https://docs.fast.ai/tutorial.transformers"
      ]
    },
    {
      "cell_type": "code",
      "metadata": {
        "id": "NOAKjcnwLoKZ",
        "colab": {
          "base_uri": "https://localhost:8080/"
        },
        "outputId": "4f113979-a25e-4aff-89eb-96c5bc75ff8d"
      },
      "source": [
        "!pip -qq install transformers"
      ],
      "execution_count": 2,
      "outputs": [
        {
          "output_type": "stream",
          "text": [
            "\u001b[K     |████████████████████████████████| 1.3MB 13.7MB/s \n",
            "\u001b[K     |████████████████████████████████| 890kB 57.3MB/s \n",
            "\u001b[K     |████████████████████████████████| 2.9MB 56.9MB/s \n",
            "\u001b[K     |████████████████████████████████| 1.1MB 54.8MB/s \n",
            "\u001b[?25h  Building wheel for sacremoses (setup.py) ... \u001b[?25l\u001b[?25hdone\n"
          ],
          "name": "stdout"
        }
      ]
    },
    {
      "cell_type": "code",
      "metadata": {
        "id": "odh2XaOQQNLf"
      },
      "source": [
        "import torch\n",
        "import os\n",
        "import pandas as pd\n",
        "from torch.utils.data import Dataset, DataLoader\n",
        "from transformers import GPT2Tokenizer, GPT2LMHeadModel, AdamW, get_linear_schedule_with_warmup\n",
        "from tqdm import tqdm, trange\n",
        "import torch.nn.functional as F"
      ],
      "execution_count": 3,
      "outputs": []
    },
    {
      "cell_type": "code",
      "metadata": {
        "colab": {
          "base_uri": "https://localhost:8080/"
        },
        "id": "TrZqzGeWPHdw",
        "outputId": "e08f6046-0454-462a-91b8-66f9a40115df"
      },
      "source": [
        "tokenizer = GPT2Tokenizer.from_pretrained(\"gpt2\")\n",
        "model = GPT2LMHeadModel.from_pretrained('gpt2',num_beams=4)\n",
        "\n",
        "input_ids = tokenizer.encode(\"The night is still young, as the world sleeps \",return_tensors='pt')\n",
        "\n",
        "\n",
        "generated = model.generate(input_ids, max_length=100, num_beams=5, early_stopping=True, no_repeat_ngram_size=2, num_return_sequences=5, top_k=0, top_p=0.9)\n",
        "\n",
        "for i in generated:\n",
        "  sequence = tokenizer.decode(i, skip_special_tokens=True)\n",
        "  print(sequence)"
      ],
      "execution_count": null,
      "outputs": [
        {
          "output_type": "stream",
          "text": [
            "Setting `pad_token_id` to `eos_token_id`:50256 for open-end generation.\n"
          ],
          "name": "stderr"
        },
        {
          "output_type": "stream",
          "text": [
            "The night is still young, as the world sleeps  and there is no sign of the sun rising. The sun is rising, and the moon is falling. There is nothing to be seen, but the sky is full of stars.\n",
            "The sun has risen. It is time for us to go back to sleep. We are going to wake up in the morning and we will be able to look at the stars and see what is going on around us. This is the time we need to\n",
            "The night is still young, as the world sleeps  and there is no sign of the sun rising. The sun is rising, and the moon is falling. There is nothing to be seen, but the sky is full of stars.\n",
            "The sun has risen. It is time for us to go back to sleep. We are going to wake up in the morning and we will be able to look at the stars and see what is going on around us. This is the time when we should\n",
            "The night is still young, as the world sleeps  and there is no sign of the sun rising. The sun is rising, and the moon is falling. There is nothing to be seen, but the sky is full of stars.\n",
            "The sun has risen. It is time for us to go back to sleep. We are going to wake up in the morning and we will be able to look at the stars and see what is going on around us. This is the time when we are\n",
            "The night is still young, as the world sleeps  and there is no sign of the sun rising. The sun is rising, and the moon is falling. There is nothing to be seen, but the sky is full of stars.\n",
            "The sun has risen. It is time for us to go back to sleep. We are going to wake up in the morning and we will be able to look at the stars and see what is going on around us. This is the time when we can\n",
            "The night is still young, as the world sleeps  and there is no sign of the sun rising. The sun is rising, and the moon is falling. There is nothing to be seen, but the sky is full of stars.\n",
            "The sun has risen. It is time for us to go back to sleep. We are going to wake up in the morning and we will be able to look at the stars and see what is going on around us. This is the time when we need\n"
          ],
          "name": "stdout"
        }
      ]
    },
    {
      "cell_type": "code",
      "metadata": {
        "id": "vCapT7UKLjxQ"
      },
      "source": [
        "from transformers import GPT2LMHeadModel, GPT2Tokenizer\n",
        "import torch\n",
        "\n",
        "tokenizer = GPT2Tokenizer.from_pretrained(\"gpt2\")\n",
        "model = GPT2LMHeadModel.from_pretrained('gpt2',num_beams=4)\n",
        "\n",
        "generated = tokenizer.encode(\"Stephen Lee has two kids Chloe and Caleb.\")\n",
        "context = torch.tensor([generated])\n",
        "past = None\n",
        "\n",
        "for i in range(100):\n",
        "    output, past = model(context, past=past)\n",
        "    token = torch.argmax(output[..., -1, :])\n",
        "\n",
        "    generated += [token.tolist()]\n",
        "    context = token.unsqueeze(0)\n",
        "\n",
        "sequence = tokenizer.decode(generated)\n",
        "\n",
        "print(sequence)"
      ],
      "execution_count": null,
      "outputs": []
    },
    {
      "cell_type": "code",
      "metadata": {
        "id": "72VsMje0Lx09"
      },
      "source": [
        ""
      ],
      "execution_count": null,
      "outputs": []
    },
    {
      "cell_type": "markdown",
      "metadata": {
        "id": "dpXU5vwxpVyX"
      },
      "source": [
        "# Dataset"
      ]
    },
    {
      "cell_type": "code",
      "metadata": {
        "id": "b7Zb_n4aVoPg",
        "colab": {
          "base_uri": "https://localhost:8080/"
        },
        "outputId": "1ec39acb-e066-41c4-940e-740292277c1c"
      },
      "source": [
        "!wget -qq https://www.dropbox.com/s/duoi46s4db28xac/news-category-dataset.zip\n",
        "!unzip news-category-dataset.zip"
      ],
      "execution_count": null,
      "outputs": [
        {
          "output_type": "stream",
          "text": [
            "Archive:  news-category-dataset.zip\n",
            "  inflating: News_Category_Dataset_v2.json  \n"
          ],
          "name": "stdout"
        }
      ]
    },
    {
      "cell_type": "code",
      "metadata": {
        "id": "NxH92By1RnIp"
      },
      "source": [
        "import json\n",
        "from  pathlib import Path\n",
        "data = []\n",
        "with open(\"/content/News_Category_Dataset_v2.json\") as f:\n",
        "  lines = f.readlines()\n",
        "  for l in lines:\n",
        "    j=json.loads(l)\n",
        "    data.append(j)"
      ],
      "execution_count": null,
      "outputs": []
    },
    {
      "cell_type": "code",
      "metadata": {
        "id": "sbHgcU2pR4YF"
      },
      "source": [
        "df=pd.DataFrame(data=data)"
      ],
      "execution_count": null,
      "outputs": []
    },
    {
      "cell_type": "code",
      "metadata": {
        "colab": {
          "base_uri": "https://localhost:8080/",
          "height": 313
        },
        "id": "ie78g4_hSO4D",
        "outputId": "935e0bae-1b2f-4b71-9fe7-6ff683c4211b"
      },
      "source": [
        "df.head()"
      ],
      "execution_count": null,
      "outputs": [
        {
          "output_type": "execute_result",
          "data": {
            "text/html": [
              "<div>\n",
              "<style scoped>\n",
              "    .dataframe tbody tr th:only-of-type {\n",
              "        vertical-align: middle;\n",
              "    }\n",
              "\n",
              "    .dataframe tbody tr th {\n",
              "        vertical-align: top;\n",
              "    }\n",
              "\n",
              "    .dataframe thead th {\n",
              "        text-align: right;\n",
              "    }\n",
              "</style>\n",
              "<table border=\"1\" class=\"dataframe\">\n",
              "  <thead>\n",
              "    <tr style=\"text-align: right;\">\n",
              "      <th></th>\n",
              "      <th>category</th>\n",
              "      <th>headline</th>\n",
              "      <th>authors</th>\n",
              "      <th>link</th>\n",
              "      <th>short_description</th>\n",
              "      <th>date</th>\n",
              "    </tr>\n",
              "  </thead>\n",
              "  <tbody>\n",
              "    <tr>\n",
              "      <th>0</th>\n",
              "      <td>CRIME</td>\n",
              "      <td>There Were 2 Mass Shootings In Texas Last Week...</td>\n",
              "      <td>Melissa Jeltsen</td>\n",
              "      <td>https://www.huffingtonpost.com/entry/texas-ama...</td>\n",
              "      <td>She left her husband. He killed their children...</td>\n",
              "      <td>2018-05-26</td>\n",
              "    </tr>\n",
              "    <tr>\n",
              "      <th>1</th>\n",
              "      <td>ENTERTAINMENT</td>\n",
              "      <td>Will Smith Joins Diplo And Nicky Jam For The 2...</td>\n",
              "      <td>Andy McDonald</td>\n",
              "      <td>https://www.huffingtonpost.com/entry/will-smit...</td>\n",
              "      <td>Of course it has a song.</td>\n",
              "      <td>2018-05-26</td>\n",
              "    </tr>\n",
              "    <tr>\n",
              "      <th>2</th>\n",
              "      <td>ENTERTAINMENT</td>\n",
              "      <td>Hugh Grant Marries For The First Time At Age 57</td>\n",
              "      <td>Ron Dicker</td>\n",
              "      <td>https://www.huffingtonpost.com/entry/hugh-gran...</td>\n",
              "      <td>The actor and his longtime girlfriend Anna Ebe...</td>\n",
              "      <td>2018-05-26</td>\n",
              "    </tr>\n",
              "    <tr>\n",
              "      <th>3</th>\n",
              "      <td>ENTERTAINMENT</td>\n",
              "      <td>Jim Carrey Blasts 'Castrato' Adam Schiff And D...</td>\n",
              "      <td>Ron Dicker</td>\n",
              "      <td>https://www.huffingtonpost.com/entry/jim-carre...</td>\n",
              "      <td>The actor gives Dems an ass-kicking for not fi...</td>\n",
              "      <td>2018-05-26</td>\n",
              "    </tr>\n",
              "    <tr>\n",
              "      <th>4</th>\n",
              "      <td>ENTERTAINMENT</td>\n",
              "      <td>Julianna Margulies Uses Donald Trump Poop Bags...</td>\n",
              "      <td>Ron Dicker</td>\n",
              "      <td>https://www.huffingtonpost.com/entry/julianna-...</td>\n",
              "      <td>The \"Dietland\" actress said using the bags is ...</td>\n",
              "      <td>2018-05-26</td>\n",
              "    </tr>\n",
              "  </tbody>\n",
              "</table>\n",
              "</div>"
            ],
            "text/plain": [
              "        category  ...        date\n",
              "0          CRIME  ...  2018-05-26\n",
              "1  ENTERTAINMENT  ...  2018-05-26\n",
              "2  ENTERTAINMENT  ...  2018-05-26\n",
              "3  ENTERTAINMENT  ...  2018-05-26\n",
              "4  ENTERTAINMENT  ...  2018-05-26\n",
              "\n",
              "[5 rows x 6 columns]"
            ]
          },
          "metadata": {
            "tags": []
          },
          "execution_count": 6
        }
      ]
    },
    {
      "cell_type": "code",
      "metadata": {
        "colab": {
          "base_uri": "https://localhost:8080/"
        },
        "id": "JQ5sdAvcc_t1",
        "outputId": "abdef2c2-7535-4fd9-ee7a-b7e298648784"
      },
      "source": [
        "df[\"category\"].unique()"
      ],
      "execution_count": null,
      "outputs": [
        {
          "output_type": "execute_result",
          "data": {
            "text/plain": [
              "array(['CRIME', 'ENTERTAINMENT', 'WORLD NEWS', 'IMPACT', 'POLITICS',\n",
              "       'WEIRD NEWS', 'BLACK VOICES', 'WOMEN', 'COMEDY', 'QUEER VOICES',\n",
              "       'SPORTS', 'BUSINESS', 'TRAVEL', 'MEDIA', 'TECH', 'RELIGION',\n",
              "       'SCIENCE', 'LATINO VOICES', 'EDUCATION', 'COLLEGE', 'PARENTS',\n",
              "       'ARTS & CULTURE', 'STYLE', 'GREEN', 'TASTE', 'HEALTHY LIVING',\n",
              "       'THE WORLDPOST', 'GOOD NEWS', 'WORLDPOST', 'FIFTY', 'ARTS',\n",
              "       'WELLNESS', 'PARENTING', 'HOME & LIVING', 'STYLE & BEAUTY',\n",
              "       'DIVORCE', 'WEDDINGS', 'FOOD & DRINK', 'MONEY', 'ENVIRONMENT',\n",
              "       'CULTURE & ARTS'], dtype=object)"
            ]
          },
          "metadata": {
            "tags": []
          },
          "execution_count": 7
        }
      ]
    },
    {
      "cell_type": "code",
      "metadata": {
        "id": "-hkci8-Xa7-9",
        "colab": {
          "base_uri": "https://localhost:8080/",
          "height": 212,
          "referenced_widgets": [
            "e7f896536a5d4c77b8cc458134591411",
            "4b890e29987f4bdf945d143b3c4a4533",
            "da0bb2a111de44118aa7724bafa28c36",
            "c139e886cfab466d86448e7fbb01be68",
            "a776b68abcc342c19d2d0681310f971f",
            "c6b1bc600c1f4b20a3fea9609f6035ce",
            "a1fb62d7c24b4ea29a001dc4cd87d904",
            "8099be8f95b74b1a8dd71aec2d5f8acf",
            "31a627f63ee84c909ded5494426dc33c",
            "bb93b86c4f664ccb975533acfc0d8eb6",
            "308cecbe8d7c4516b60ba9f0a8958bc0",
            "41cc0afe5e8941f484fd81b525652c33",
            "6e04e650a0c54b4f82d5fcfc603c2901",
            "5cdd345a6db5446e9d931fcbb56585ec",
            "aa06b0a017e14984b5a91d25721b4fb5",
            "130d37f78a654111b364a0186a958926",
            "8df208bc9e3e4603824a28d9c09fafcf",
            "078c8a0195a046da997eb4dda9bb9d19",
            "8e4a73b106304ea1938c155f19e961ff",
            "7d996b41e8614b72b9eabfeb5828151a",
            "7a27db62119b4f788ca4b557308e6a8b",
            "280010b47a874be5b417f9efd67ed455",
            "c4e6382fe1764675a302126f2b5da099",
            "ac18f7bd70014acfb23b39f3d81cd391",
            "56273f3b16ef4402a80e502ddfb81080",
            "1c57fca8297b443faaf3bba8b5260602",
            "b94a87d4961c496d9077780cff9c5d45",
            "f00c9a0f6edb45bbb991f571703b1f0e",
            "246d174aa20c4417ac4f77a70addc159",
            "8c06e69cf6b5415c9b90b6115a0429ab",
            "bc1375098ef04b52bb0fcba6c74bfbbe",
            "421442fa728c470ab586887f7d30bd11"
          ]
        },
        "outputId": "e01ef9aa-ed09-4261-98de-eb83ca3f196c"
      },
      "source": [
        "tokenizer = GPT2Tokenizer.from_pretrained(\"gpt2\")\n",
        "model = GPT2LMHeadModel.from_pretrained('gpt2',num_beams=4)"
      ],
      "execution_count": null,
      "outputs": [
        {
          "output_type": "display_data",
          "data": {
            "application/vnd.jupyter.widget-view+json": {
              "model_id": "e7f896536a5d4c77b8cc458134591411",
              "version_minor": 0,
              "version_major": 2
            },
            "text/plain": [
              "HBox(children=(FloatProgress(value=0.0, description='Downloading', max=1042301.0, style=ProgressStyle(descript…"
            ]
          },
          "metadata": {
            "tags": []
          }
        },
        {
          "output_type": "stream",
          "text": [
            "\n"
          ],
          "name": "stdout"
        },
        {
          "output_type": "display_data",
          "data": {
            "application/vnd.jupyter.widget-view+json": {
              "model_id": "31a627f63ee84c909ded5494426dc33c",
              "version_minor": 0,
              "version_major": 2
            },
            "text/plain": [
              "HBox(children=(FloatProgress(value=0.0, description='Downloading', max=456318.0, style=ProgressStyle(descripti…"
            ]
          },
          "metadata": {
            "tags": []
          }
        },
        {
          "output_type": "stream",
          "text": [
            "\n"
          ],
          "name": "stdout"
        },
        {
          "output_type": "display_data",
          "data": {
            "application/vnd.jupyter.widget-view+json": {
              "model_id": "8df208bc9e3e4603824a28d9c09fafcf",
              "version_minor": 0,
              "version_major": 2
            },
            "text/plain": [
              "HBox(children=(FloatProgress(value=0.0, description='Downloading', max=665.0, style=ProgressStyle(description_…"
            ]
          },
          "metadata": {
            "tags": []
          }
        },
        {
          "output_type": "stream",
          "text": [
            "\n"
          ],
          "name": "stdout"
        },
        {
          "output_type": "display_data",
          "data": {
            "application/vnd.jupyter.widget-view+json": {
              "model_id": "56273f3b16ef4402a80e502ddfb81080",
              "version_minor": 0,
              "version_major": 2
            },
            "text/plain": [
              "HBox(children=(FloatProgress(value=0.0, description='Downloading', max=548118077.0, style=ProgressStyle(descri…"
            ]
          },
          "metadata": {
            "tags": []
          }
        },
        {
          "output_type": "stream",
          "text": [
            "\n"
          ],
          "name": "stdout"
        }
      ]
    },
    {
      "cell_type": "code",
      "metadata": {
        "id": "UmmzgXlhSP8r"
      },
      "source": [
        "class NewsDataSet(Dataset):\n",
        "    \n",
        "    def __init__(self, dataframe, control_code, truncate=False, gpt2_type=\"gpt2\", max_length=768):\n",
        "\n",
        "        self.tokenizer = GPT2Tokenizer.from_pretrained(gpt2_type)\n",
        "        self.tweets = []\n",
        "\n",
        "        # This uses the same CSV of Sentiment140 that we created in Chapter 5\n",
        "        \n",
        "        for i in dataframe.itertuples():\n",
        "              self.tweets.append(torch.tensor(\n",
        "                  self.tokenizer.encode(f\"<|{control_code}|>{i[1]}<|sep|>{i[2]}<|endoftext|>\")\n",
        "              ))\n",
        "                \n",
        "        if truncate:\n",
        "            self.tweets = self.tweets[:20000]\n",
        "        self.tweet_count = len(self.tweets)\n",
        "        \n",
        "    def __len__(self):\n",
        "        return self.tweet_count\n",
        "\n",
        "    def __getitem__(self, item):\n",
        "        return self.tweets[item]"
      ],
      "execution_count": null,
      "outputs": []
    },
    {
      "cell_type": "code",
      "metadata": {
        "id": "k6AvjKRXZ2kX"
      },
      "source": [
        "dataset = NewsDataSet(df, 'newsheader')"
      ],
      "execution_count": null,
      "outputs": []
    },
    {
      "cell_type": "code",
      "metadata": {
        "colab": {
          "base_uri": "https://localhost:8080/"
        },
        "id": "_-zldO8GZ6lp",
        "outputId": "093667b8-f3e4-4d96-d310-509468728713"
      },
      "source": [
        "dataset.__getitem__(1)"
      ],
      "execution_count": null,
      "outputs": [
        {
          "output_type": "execute_result",
          "data": {
            "text/plain": [
              "tensor([   27,    91, 10827, 25677,    91,    29,  8743,  4176,  5302,  1040,\n",
              "         6031,   489,    78,   843,  8047,    88,  9986,  1114,   383,  2864,\n",
              "         2159,  5454,   338, 15934, 10940, 50256])"
            ]
          },
          "metadata": {
            "tags": []
          },
          "execution_count": 54
        }
      ]
    },
    {
      "cell_type": "code",
      "metadata": {
        "colab": {
          "base_uri": "https://localhost:8080/"
        },
        "id": "05_leetdpgjc",
        "outputId": "7319bca4-1b1a-4ed5-85e6-ba78ff0b5867"
      },
      "source": [
        "dataset.__len__()"
      ],
      "execution_count": null,
      "outputs": [
        {
          "output_type": "execute_result",
          "data": {
            "text/plain": [
              "200853"
            ]
          },
          "metadata": {
            "tags": []
          },
          "execution_count": 55
        }
      ]
    },
    {
      "cell_type": "code",
      "metadata": {
        "colab": {
          "base_uri": "https://localhost:8080/",
          "height": 35
        },
        "id": "2X8ySXu6axrE",
        "outputId": "361bd4ef-3e63-40ec-bd04-bcccc8def466"
      },
      "source": [
        "tokenizer.decode(dataset.__getitem__(1))"
      ],
      "execution_count": null,
      "outputs": [
        {
          "output_type": "execute_result",
          "data": {
            "application/vnd.google.colaboratory.intrinsic+json": {
              "type": "string"
            },
            "text/plain": [
              "\"<|newsheader|>ENTERTAINMENT<|sep|>Will Smith Joins Diplo And Nicky Jam For The 2018 World Cup's Official Song<|endoftext|>\""
            ]
          },
          "metadata": {
            "tags": []
          },
          "execution_count": 32
        }
      ]
    },
    {
      "cell_type": "markdown",
      "metadata": {
        "id": "XUtmc-DSQSPf"
      },
      "source": [
        "# Training"
      ]
    },
    {
      "cell_type": "code",
      "metadata": {
        "id": "-f6M1mwXa1zB"
      },
      "source": [
        "def pack_tensor(new_tensor, packed_tensor, max_seq_len):\n",
        "    if packed_tensor is None:\n",
        "        return new_tensor, True, None\n",
        "    if new_tensor.size()[1] + packed_tensor.size()[1] > max_seq_len:\n",
        "        return packed_tensor, False, new_tensor\n",
        "    else:\n",
        "        packed_tensor = torch.cat([new_tensor, packed_tensor[:, 1:]], dim=1)\n",
        "        return packed_tensor, True, None"
      ],
      "execution_count": null,
      "outputs": []
    },
    {
      "cell_type": "code",
      "metadata": {
        "id": "sF1AUnmicAfy"
      },
      "source": [
        "def train(\n",
        "    dataset,\n",
        "    model,\n",
        "    tokenizer,\n",
        "    batch_size=16,\n",
        "    epochs=4,\n",
        "    lr=2e-5,\n",
        "    max_seq_len=400,\n",
        "    warmup_steps=5000,\n",
        "    gpt2_type=\"gpt2\",\n",
        "    device=\"cuda\",\n",
        "    output_dir=\".\",\n",
        "    output_prefix=\"wreckgar\",\n",
        "    test_mode=False,\n",
        "    save_model_on_epoch=False,\n",
        "):\n",
        "\n",
        "    acc_steps = 100\n",
        "\n",
        "    model = model.to(device)\n",
        "    model.train()\n",
        "\n",
        "    optimizer = AdamW(model.parameters(), lr=lr)\n",
        "    scheduler = get_linear_schedule_with_warmup(\n",
        "        optimizer, num_warmup_steps=warmup_steps, num_training_steps=-1\n",
        "    )\n",
        "\n",
        "    train_dataloader = DataLoader(dataset, batch_size=1, shuffle=True)\n",
        "\n",
        "    accumulating_batch_count = 0\n",
        "    input_tensor = None\n",
        "\n",
        "    for epoch in range(epochs):\n",
        "\n",
        "        print(f\"Training epoch {epoch}\")\n",
        "        for idx, entry in tqdm(enumerate(train_dataloader)):\n",
        "            (input_tensor, carry_on, remainder) = pack_tensor(entry, input_tensor, 768)\n",
        "\n",
        "            if carry_on and idx != len(train_dataloader) - 1:\n",
        "                continue\n",
        "\n",
        "            input_tensor = input_tensor.to(device)\n",
        "            outputs = model(input_tensor, labels=input_tensor)\n",
        "            loss = outputs[0]\n",
        "            loss.backward()\n",
        "\n",
        "            if (accumulating_batch_count % batch_size) == 0:\n",
        "                optimizer.step()\n",
        "                scheduler.step()\n",
        "                optimizer.zero_grad()\n",
        "                model.zero_grad()\n",
        "\n",
        "            accumulating_batch_count += 1\n",
        "            input_tensor = None\n",
        "        if save_model_on_epoch:\n",
        "            torch.save(\n",
        "                model.state_dict(),\n",
        "                os.path.join(output_dir, f\"{output_prefix}-{epoch}.pt\"),\n",
        "            )\n",
        "    return model"
      ],
      "execution_count": null,
      "outputs": []
    },
    {
      "cell_type": "code",
      "metadata": {
        "id": "zYtrsOM51UWu"
      },
      "source": [
        "!mkdir \"/content/trained_models\""
      ],
      "execution_count": null,
      "outputs": []
    },
    {
      "cell_type": "code",
      "metadata": {
        "colab": {
          "base_uri": "https://localhost:8080/"
        },
        "id": "aAuxYPUGcTDe",
        "outputId": "87b92579-b06b-45df-bfca-2834ec13e570"
      },
      "source": [
        "model = train(\n",
        "    dataset,\n",
        "    GPT2LMHeadModel.from_pretrained(\"gpt2\"),\n",
        "    GPT2Tokenizer.from_pretrained(\"gpt2\"),\n",
        "    batch_size=16,\n",
        "    epochs=1,\n",
        "    lr=3e-5,\n",
        "    max_seq_len=140,\n",
        "    warmup_steps=5000,\n",
        "    gpt2_type=\"gpt2\",\n",
        "    device=\"cuda\",\n",
        "    output_dir=\"/content/trained_models\",\n",
        "    output_prefix=\"gpt_newsheadlines_categories\",\n",
        "    save_model_on_epoch=True\n",
        ")"
      ],
      "execution_count": null,
      "outputs": [
        {
          "output_type": "stream",
          "text": [
            "\r0it [00:00, ?it/s]"
          ],
          "name": "stderr"
        },
        {
          "output_type": "stream",
          "text": [
            "Training epoch 0\n"
          ],
          "name": "stdout"
        },
        {
          "output_type": "stream",
          "text": [
            "200853it [35:06, 95.37it/s]\n"
          ],
          "name": "stderr"
        }
      ]
    },
    {
      "cell_type": "code",
      "metadata": {
        "id": "QMVsWAwscXTw"
      },
      "source": [
        "def generate(\n",
        "    model,\n",
        "    tokenizer,\n",
        "    prompt,\n",
        "    entry_count=10,\n",
        "    entry_length=100,\n",
        "    top_p=0.8,\n",
        "    temperature=1.,\n",
        "):\n",
        "\n",
        "    model.eval()\n",
        "\n",
        "    generated_num = 0\n",
        "    generated_list = []\n",
        "\n",
        "    filter_value = -float(\"Inf\")\n",
        "\n",
        "    with torch.no_grad():\n",
        "\n",
        "        for entry_idx in trange(entry_count):\n",
        "\n",
        "            entry_finished = False\n",
        "\n",
        "            generated = torch.tensor(tokenizer.encode(prompt)).to(\"cuda\").unsqueeze(0)\n",
        "\n",
        "            # Using top-p (nucleus sampling): https://github.com/huggingface/transformers/blob/master/examples/run_generation.py\n",
        "\n",
        "            for i in range(entry_length):\n",
        "                outputs = model(generated, labels=generated)\n",
        "                loss, logits = outputs[:2]\n",
        "                logits = logits[:, -1, :] / (temperature if temperature > 0 else 1.0)\n",
        "\n",
        "                sorted_logits, sorted_indices = torch.sort(logits, descending=True)\n",
        "                cumulative_probs = torch.cumsum(\n",
        "                    F.softmax(sorted_logits, dim=-1), dim=-1\n",
        "                )\n",
        "\n",
        "                sorted_indices_to_remove = cumulative_probs > top_p\n",
        "                sorted_indices_to_remove[..., 1:] = sorted_indices_to_remove[\n",
        "                    ..., :-1\n",
        "                ].clone()\n",
        "                sorted_indices_to_remove[..., 0] = 0\n",
        "\n",
        "                indices_to_remove = sorted_indices[sorted_indices_to_remove]\n",
        "                logits[:, indices_to_remove] = filter_value\n",
        "\n",
        "                next_token = torch.multinomial(F.softmax(logits, dim=-1), num_samples=1)\n",
        "                generated = torch.cat((generated, next_token), dim=1)\n",
        "\n",
        "                if next_token in tokenizer.encode(\"<|endoftext|>\"):\n",
        "                    entry_finished = True\n",
        "\n",
        "                if entry_finished:\n",
        "\n",
        "                    generated_num = generated_num + 1\n",
        "\n",
        "                    output_list = list(generated.to(\"cpu\").squeeze().numpy())\n",
        "                    output_text = tokenizer.decode(output_list)\n",
        "\n",
        "                    generated_list.append(output_text)\n",
        "                    break\n",
        "            \n",
        "            if not entry_finished:\n",
        "                output_list = list(generated.to(\"cpu\").squeeze().numpy())\n",
        "                output_text = f\"{tokenizer.decode(output_list)}<|endoftext|>\" \n",
        "                generated_list.append(output_text)\n",
        "                \n",
        "    return generated_list"
      ],
      "execution_count": 5,
      "outputs": []
    },
    {
      "cell_type": "markdown",
      "metadata": {
        "id": "pIuZ1E8dQeVQ"
      },
      "source": [
        "## After one Epoch\n",
        "\n",
        "You can see the headlines are not really clean, there are URLs inside and multiple |<sep>| tokens."
      ]
    },
    {
      "cell_type": "code",
      "metadata": {
        "colab": {
          "base_uri": "https://localhost:8080/"
        },
        "id": "vjTv1uXaZovN",
        "outputId": "2ae8a8f6-321f-47cb-a355-dd2a21ef6290"
      },
      "source": [
        "generated_tweets = generate(model.to('cuda'), GPT2Tokenizer.from_pretrained(\"gpt2\"),\"<|newsheadlines|>POLITICS<|sep|>\",entry_count=10)\n",
        "for i in generated_tweets:\n",
        "  print(i)"
      ],
      "execution_count": null,
      "outputs": [
        {
          "output_type": "stream",
          "text": [
            "100%|██████████| 10/10 [00:09<00:00,  1.04it/s]"
          ],
          "name": "stderr"
        },
        {
          "output_type": "stream",
          "text": [
            "<|newsheadlines|>POLITICS<|sep|>Why Paul Ryan Is An Anti-Gay Bringer For Defending Marriage Equality</|sep|>Ryan blames President Trump for 2013 Election Fraud<|sep|>5 Ways To Change The Meaning Of 'Ted Cruz' With Jim Carrey's Sketches<|sep|>Politicians Deserve Some Respect from 'The Perfect Women'</|sep|>Donald Trump is Itching To Go Back To The Kool-Aid Shopping Strip<|sep|><|endoftext|>\n",
            "<|newsheadlines|>POLITICS<|sep|>President Trump tweeted that everyone should 'get over themselves': 'Impeachment takes off, Dems go on national TV' <|nyti|>Though Donald Trump said he wouldn't resign, Dems should make up stories about him <|rct|>Truman Steppenbrenner said Friday morning he wouldn't risk President Trump's approval rating by sleeping with his dog. <|rct|>Patrick Brennan on a possibility that Ted Cruz could face the dreaded '30/40<|endoftext|>\n",
            "<|newsheadlines|>POLITICS<|sep|>Obama Departs China, Tries to Reach Beijing, Disruption Is Hurting States' Growth.<|sep|>Obama Departs China, Tries to Reach Beijing, Disruption Is Hurting States' Growth<|endoftext|>\n",
            "<|newsheadlines|>POLITICS<|sep|>Trump Allies Tough On Immigration</|scm|>First China Trip Hit Says 'A Move In Chaos' <|xl|>Donald Trump Could Make It Through His Time In 1600 Park</|xl|>Donald Trump's Revolution in Cuba Needs Ted Cruz's Experience</|yc|>Ronald Reagan, Franklin Roosevelt and JFK Celebrated in Backyard Manhood Ceremony <|zo|>It's Only a Pair of Names <|ll|>Trump's Lie that<|endoftext|>\n",
            "<|newsheadlines|>POLITICS<|sep|>Obama Frets About ICE Toughness: 'Forcing Trump to Take Power' Makes Him Feel Better<|endoftext|>\n",
            "<|newsheadlines|>POLITICS<|sep|>A recent spate of anti-Trump rallies saw at least 60,000 attendees nationwide<|newsheadlines|>POLITICS<|sep|>Hillary Clinton Calls Trump Campaign Chairman's Senate Campaign 'Harsh Campaign'<|endoftext|>\n",
            "<|newsheadlines|>POLITICS<|sep|>Hillary Clinton Welcomed Trump 'The Answer' on Female Voters' First Time Accusations\n",
            "\n",
            "|sep|>Who's The Weakest One?<|endoftext|>\n",
            "<|newsheadlines|>POLITICS<|sep|>Sarah Palin: Joe Biden's move to kill 'cruel and unusual' punishment for Trump comment\n",
            "\n",
            "<|sep|>Obama, Palin criticize same-sex marriage bill<|endoftext|>\n",
            "<|newsheadlines|>POLITICS<|sep|>Tucker Carlson Extends Inauguration Remarks By Using Last Year's Wealthier Words To Show Politics\n",
            "\n",
            "|tribunal<|tribunal|>BRITISH|>Hillary Clinton<|endoftext|>\n",
            "<|newsheadlines|>POLITICS<|sep|>West Virginia has a new sign for Democrats who can't wait to pick up Trump: 'You Never Go For This'\n",
            "\n",
            "|sep|>Kerry slams Obama: The past is nigh <|sep|>A conservative, Democrat, Democrat: Let's all go home <|sep|>Read the rest of the story at <|sep|>http://www.pocahostates.com/politics/2016/10/12/loser<|endoftext|>\n"
          ],
          "name": "stdout"
        },
        {
          "output_type": "stream",
          "text": [
            "\n"
          ],
          "name": "stderr"
        }
      ]
    },
    {
      "cell_type": "code",
      "metadata": {
        "colab": {
          "base_uri": "https://localhost:8080/"
        },
        "id": "_1KZcqZTQg_I",
        "outputId": "a6ca761d-7856-4743-9b5e-c7692ab703f9"
      },
      "source": [
        "generated_tweets = generate(model.to('cuda'), GPT2Tokenizer.from_pretrained(\"gpt2\"),\"<|newsheadlines|>CRIME<|sep|>\",entry_count=10)\n",
        "for i in generated_tweets:\n",
        "  print(i)"
      ],
      "execution_count": null,
      "outputs": [
        {
          "output_type": "stream",
          "text": [
            "100%|██████████| 10/10 [00:09<00:00,  1.04it/s]"
          ],
          "name": "stderr"
        },
        {
          "output_type": "stream",
          "text": [
            "<|newsheadlines|>CRIME<|sep|>Record number of Palestinians blamed for being booted out of Gaza Strip by Israeli 'officials' <|washingtonpost.com|>Roses Forwards From Chicago Square Are 'Comes with Peace,' May Be Related<|endoftext|>\n",
            "<|newsheadlines|>CRIME<|sep|>Rush Limbaugh Loses Old Sister-in-Law, Got Them Wearing T-Shirts</|sep|>Freddie Starr Warns White House Over Accident<|endoftext|>\n",
            "<|newsheadlines|>CRIME<|sep|>FBI Agents Use Death Threats Against Black Members of Congress (PHOTOS) <|fbi|>AUGUST 12, 2014: Former FBI Director James Comey Releases Investigation Into Hillary Clinton Email Probe <|fbi|>9 'Hackers' Target Hillary's Email Server, Hosted an Attack <|news-releases-time|>Obama Finally Answers Questions On Comey's Russia Investigation <|fbi|>White House Press Secretary, Greg Jarrett Is Shocked by Former Deputy Attorney General<|endoftext|>\n",
            "<|newsheadlines|>CRIME<|sep|>Nation says it's 'Not A Crime' to Attack Palestinian Witnesses In Show Of Resentment<|sep|>Rabbi Calls Israel 'Neoconservative' <|sep|>Pope Says ISIS In Need Of Disarmament <|sep|>Iran Reacts To Israeli Missile Defenses in Protest Of A Holocaust<|sep|>I See No One: Iran Will Keep Us Safe From Nuclear Weapons<|sep|>Francis W. King<|endoftext|>\n",
            "<|newsheadlines|>CRIME<|sep|>German Police Say SERE Prosecutors Caught Walking Around with Wrongly Accused -- Orcished •JOY<|sep|>Women See Photos Of Rape Victims Being Deliberately Stolen<|endoftext|>\n",
            "<|newsheadlines|>CRIME<|sep|>Brutal Implosion: Hospital Accused of Killing Baby in 2012 Case with Dead Stomach\n",
            "\n",
            "<|sep|>Tiffany Palacios May have Killed On Demand: After 1 Year, Man's Eyes Will Follow<|endoftext|>\n",
            "<|newsheadlines|>CRIME<|sep|>Eleven states allow former GOP Senate candidate to register as voter for Obama election<|thp|>Feds secretly eavesdrop on Democrats' meeting with candidate<|thp|>Why The DNC Dropped Its Kia Message<|thp|>Hedwig Dafoe Exposes Democratic Voter Fraud<|thp|>Top Democrats Win National Day Action on Monday, Explaining why they're so upset over President Obama's signature plan<|thp|>When Hillary<|endoftext|>\n",
            "<|newsheadlines|>CRIME<|sep|>Judge Judge Harms Megyn Kelly Reporters Then Shut Down His Plane As Violent To It - VIDEO<|thumb_image_url=https://i.ytimg.com/vi/KKuG3V8KgZ.jpg?w=300&h=500&q=90&w=1200&api=7db9fe65-e3d5-11cf-9871-a17b87a87410d<|endoftext|>\n",
            "<|newsheadlines|>CRIME<|sep|>Homecoming Court Rules Blames Muslim Woman Who Is Taking a Blood Bath At Year End Court Office <|huffingtonpost|>Tom Brady's Team Takes Off on a Texas Anti-Violence Mission: Tweet<|endoftext|>\n",
            "<|newsheadlines|>CRIME<|sep|>Guilty Plea Appeals After 22 Years Sentenced For Pornography<|endoftext|>\n"
          ],
          "name": "stdout"
        },
        {
          "output_type": "stream",
          "text": [
            "\n"
          ],
          "name": "stderr"
        }
      ]
    },
    {
      "cell_type": "code",
      "metadata": {
        "colab": {
          "base_uri": "https://localhost:8080/"
        },
        "id": "mAWQxQ-bZzrE",
        "outputId": "194205e8-44a3-46ae-a42d-ecccdc38e3dd"
      },
      "source": [
        "generated_tweets = generate(model.to('cuda'), GPT2Tokenizer.from_pretrained(\"gpt2\"),\"<|newsheadlines|>SCIENCE<|sep|>\",entry_count=10)\n",
        "for i in generated_tweets:\n",
        "  print(i)"
      ],
      "execution_count": null,
      "outputs": [
        {
          "output_type": "stream",
          "text": [
            "100%|██████████| 10/10 [00:07<00:00,  1.34it/s]"
          ],
          "name": "stderr"
        },
        {
          "output_type": "stream",
          "text": [
            "<|newsheadlines|>SCIENCE<|sep|>Scientists work out of vents to find ancient hydrothermal vents, find out how to survive<|endoftext|>\n",
            "<|newsheadlines|>SCIENCE<|sep|>Scientists say new theories might help us understand the origins of life.<|language|>SEE ALSO: So Far A Field Taught Us About Space Is Only One Way To Love Earth<|endoftext|>\n",
            "<|newsheadlines|>SCIENCE<|sep|>Swedish Jews Confront Attack on Baltic Power Plant<|endoftext|>\n",
            "<|newsheadlines|>SCIENCE<|sep|>Scientists: Our 'Paleoclimates' Could Be A Spark of Racial Justice<|endoftext|>\n",
            "<|newsheadlines|>SCIENCE<|sep|>The cat remains inside the astronauts' rooms<|sep|>Heartwarming photos reveal 'captured' photos of astronauts in space <|sep|>Journey to Mars <|sep|>Kids' sci-fi shows don't just teach kids how to do science, they teach them the joys of learning. <|sep|>NASA brings bright lights to Mars Curiosity's solar panels<|sep|>Hubble spacecraft return to Mars<|sep<|endoftext|>\n",
            "<|newsheadlines|>SCIENCE<|sep|>Arizona is Trying To Meet Water Level That Will Help Reduce Winter Storms<|endoftext|>\n",
            "<|newsheadlines|>SCIENCE<|sep|>Dying Is A Challenge to Alain Vigneault: Scopes Over Reality\n",
            "\n",
            "|url=http://www.npr.org/sections/2014/09/21/scientific-solution-to-life-shortage<|endoftext|>\n",
            "<|newsheadlines|>SCIENCE<|sep|>Scientists: Why people do simple things so well.\n",
            "\n",
            "<|via|newsgroup|>NEW YORK<|sep|>These 16 hard facts about sex: You need to learn how to do it for less.<|endoftext|>\n",
            "<|newsheadlines|>SCIENCE<|sep|>Scientists think teens may be at a crossroads.\n",
            "\n",
            "<|url=https://www.washingtonpost.com/blogs/us/2017/06/17/scientists-think-teenagers-may-be-at-a-crossroads//> // WaPo // Matthew Moore // April 17, 2017 * Scientists have agreed to a new study that finds teens may be at a crossroads for childhood brain development. * Gail McLaughlin, MD, PhD, MPH<|endoftext|>\n",
            "<|newsheadlines|>SCIENCE<|sep|>Juggling Cooks Can Be A Very Seductive Dance<|url=http://www.dailymail.co.uk/news/article-1313427/Juggling-Cooks-Can-Be-A-Very-Unusual-Dance-5404289.html><|url=http://www.dailymail.co.uk/news/article-1313427/Juggling-Cooks-Can-Be-A-Very-Un<|endoftext|>\n"
          ],
          "name": "stdout"
        },
        {
          "output_type": "stream",
          "text": [
            "\n"
          ],
          "name": "stderr"
        }
      ]
    },
    {
      "cell_type": "code",
      "metadata": {
        "colab": {
          "base_uri": "https://localhost:8080/"
        },
        "id": "XfxGRxqTZ610",
        "outputId": "0381eda9-a5a2-4191-96dc-f17243b7dce3"
      },
      "source": [
        "generated_tweets = generate(model.to('cuda'), GPT2Tokenizer.from_pretrained(\"gpt2\"),\"<|newsheadlines|>WOLRD NEWS<|sep|>\",entry_count=10)\n",
        "for i in generated_tweets:\n",
        "  print(i)"
      ],
      "execution_count": null,
      "outputs": [
        {
          "output_type": "stream",
          "text": [
            "100%|██████████| 10/10 [00:05<00:00,  1.90it/s]"
          ],
          "name": "stderr"
        },
        {
          "output_type": "stream",
          "text": [
            "<|newsheadlines|>WOLRD NEWS<|sep|>Senator Banning President Trump Over Poverty 'This Means' Some Unnamed Government Officials Say He Will Pay Dues To Justice Department Employees<|endoftext|>\n",
            "<|newsheadlines|>WOLRD NEWS<|sep|>WOLKESPY NEWS<|sport|>WOLKS | GOVERNOR CHARLES WELL: People Say 'I Got Help From The Craziest Lottery Sweeps Through Massachusetts'<|endoftext|>\n",
            "<|newsheadlines|>WOLRD NEWS<|sep|>FBI: 'FBI Officials Responded To The Attention' Of Vice President Joe Biden To Spying<|endoftext|>\n",
            "<|newsheadlines|>WOLRD NEWS<|sep|>D.C.U.STOPES TRUMP'S SNYDERED 'RAPPER'\n",
            "\n",
            "<|video>WOLND NEWS<|sep|>Missouri Senator: Trump Still Still Making Mistakes<|endoftext|>\n",
            "<|newsheadlines|>WOLRD NEWS<|sep|>Timothy McVeigh: 'God said, 'I'm gonna give you a steak'<|endoftext|>\n",
            "<|newsheadlines|>WOLRD NEWS<|sep|>World Bank Agrees With Smaller Batteries Dealers That Beget More Boomers<|endoftext|>\n",
            "<|newsheadlines|>WOLRD NEWS<|sep|>Army Reserves Slower Than Many Before<|endoftext|>\n",
            "<|newsheadlines|>WOLRD NEWS<|sep|>YOUTUBE 'OTTER BILL OF PORN' COULD LEAVE WATCH COUNCIL TOWARD TRAVELING SUCCESS<|sep|>MELBOURNE FILM GOES HOME With 'POLITICS' Review<|sep|>Porn Stars' Twist To Last Weekend Just Became A Superhero!<|sep|>SECRET HISTORY: The Secret History Of Laurel Ringwood's Time Out In England<|<|endoftext|>\n",
            "<|newsheadlines|>WOLRD NEWS<|sep|>'Supreme Court Just Denies Ex-Gay Couple Two White Priests Pay<|endoftext|>\n",
            "<|newsheadlines|>WOLRD NEWS<|sep|>Four people on hot seat flight to New York die at Brooklyn's Madison Square Garden (VIDEO)</a><|endoftext|>\n"
          ],
          "name": "stdout"
        },
        {
          "output_type": "stream",
          "text": [
            "\n"
          ],
          "name": "stderr"
        }
      ]
    },
    {
      "cell_type": "code",
      "metadata": {
        "id": "joHMIQQKZ-RV",
        "colab": {
          "base_uri": "https://localhost:8080/"
        },
        "outputId": "4560273f-3791-4462-8786-9e046e22b5a0"
      },
      "source": [
        "generated_tweets = generate(model.to('cuda'), GPT2Tokenizer.from_pretrained(\"gpt2\"),\"<|newsheadlines|>PARENTING<|sep|>\",entry_count=10)\n",
        "for i in generated_tweets:\n",
        "  print(i)"
      ],
      "execution_count": null,
      "outputs": [
        {
          "output_type": "stream",
          "text": [
            "100%|██████████| 10/10 [00:05<00:00,  1.71it/s]"
          ],
          "name": "stderr"
        },
        {
          "output_type": "stream",
          "text": [
            "<|newsheadlines|>PARENTING<|sep|>Democratic congressman finds the answer to religion-fueled voter fraud. <|rp|>A woman who lost her husband's marriage at 20 weeks tells shocking story of suicide and abuse <|wpa|>Democrats hope for spike in support of legalization in Colorado, Florida, Nevada <|sport-index|>Why we shouldn't tax public-private partnerships to help gay couples get married <|sport-index|>Toledo man injured after rolling through Walmart parking lot <<|endoftext|>\n",
            "<|newsheadlines|>PARENTING<|sep|>Israela Polls Approval for Trump Was 45 to 49 in Six Months, From Day One<|telegraph.co.uk|>David Cameron 'takes swift step to save London from Brexit<|telegraph.co.uk|>Jeremy Corbyn Attacks Mr Corbyn on National Health Service<|endoftext|>\n",
            "<|newsheadlines|>PARENTING<|sep|>For More Than 60 Years, The Taliban Has Come Together To Find Democratic Executives 'Guiltless'<|endoftext|>\n",
            "<|newsheadlines|>PARENTING<|sep|>Virginia teachers willing to let students use illegal drugs to get high could lose legal status | NYT<|sep|>Virginia's public schools set to have the most students suspended, superintendent says<|endoftext|>\n",
            "<|newsheadlines|>PARENTING<|sep|>White House Boycott Recalls Growing Outflow of Prominent Jew's Messages from @Breitbart News, CNN<|sep|>Clinton's Campaign, Many Prizes and Candidates Enjoy More Ad Revenue From @Breitbart News</|sep|><|endoftext|>\n",
            "<|newsheadlines|>PARENTING<|sep|>Italian Ambassador Ignores Wikileaks<|endoftext|>\n",
            "<|newsheadlines|>PARENTING<|sep|>Katherine Hurley Sentenced to 3 Years in Prison for Attempting to Murder One of London's Most Innocent Musicians<|endoftext|>\n",
            "<|newsheadlines|>PARENTING<|sep|>American High School Dropout Flaps Trump on Voting Record. (VIDEO)<|endoftext|>\n",
            "<|newsheadlines|>PARENTING<|sep|>Hillary Clinton Surges In Early Defeat, Including In Southern America<|zipper|>EPA CREDITS FOR CALMING ALTERNATIVES<|endoftext|>\n",
            "<|newsheadlines|>PARENTING<|sep|>Virginia shooting suspect says he left $2,000 (and missing woman's wallet) missing after getting ready to surrender| |sep|<|endoftext|>\n"
          ],
          "name": "stdout"
        },
        {
          "output_type": "stream",
          "text": [
            "\n"
          ],
          "name": "stderr"
        }
      ]
    },
    {
      "cell_type": "markdown",
      "metadata": {
        "id": "EQp8l7NuQHmn"
      },
      "source": [
        "## After 3 Epochs\n",
        "\n",
        "The headlines are clean and seem to be able to use straight out. No weird URLs"
      ]
    },
    {
      "cell_type": "code",
      "metadata": {
        "colab": {
          "base_uri": "https://localhost:8080/"
        },
        "id": "PrHjNuC2dv0j",
        "outputId": "89ec0449-5819-4465-deaa-e7a4f4a1ede3"
      },
      "source": [
        "generated_tweets = generate(model.to('cuda'), GPT2Tokenizer.from_pretrained(\"gpt2\"),\"<|newsheadlines|>POLITICS<|sep|>\",entry_count=10)"
      ],
      "execution_count": null,
      "outputs": [
        {
          "output_type": "stream",
          "text": [
            "100%|██████████| 10/10 [00:02<00:00,  3.46it/s]\n"
          ],
          "name": "stderr"
        }
      ]
    },
    {
      "cell_type": "code",
      "metadata": {
        "colab": {
          "base_uri": "https://localhost:8080/"
        },
        "id": "nEn2YFIPimzD",
        "outputId": "47b645a6-13e0-4019-d7e9-8fae96b69fb9"
      },
      "source": [
        "for i in generated_tweets:\n",
        "  print(i)"
      ],
      "execution_count": null,
      "outputs": [
        {
          "output_type": "stream",
          "text": [
            "<|newsheadlines|>POLITICS<|sep|>Speaker Paul Ryan Makes Retirement With $10 Million In Cash And Student Loans<|endoftext|>\n",
            "<|newsheadlines|>POLITICS<|sep|>Anti-Semitic Twitter Posts At London Airport Linked To Orlando Shooting<|endoftext|>\n",
            "<|newsheadlines|>POLITICS<|sep|>Clinton Campaign Donates $150,000 to DOJ To Combat 'Deadly' Anti-Immigrant Effort<|endoftext|>\n",
            "<|newsheadlines|>POLITICS<|sep|>Hillary Clinton Is From A Meeting With A Young Girl<|endoftext|>\n",
            "<|newsheadlines|>POLITICS<|sep|>Sen. Kirsten Gillibrand Offers Help For Gay Trump's Trans Rights<|endoftext|>\n",
            "<|newsheadlines|>POLITICS<|sep|>Division Between OPPOSITE and WELLNESS CONNECTING</|sep|>Why Some Americans Think Hillary Clinton's 'Insecure' Email Address Will Be Bad For Hillary Clinton<|endoftext|>\n",
            "<|newsheadlines|>POLITICS<|sep|>Russia Posters Are Done For Again: New 'House Of Cards' Trailer Looks Reasonable<|endoftext|>\n",
            "<|newsheadlines|>POLITICS<|sep|>Politicians Who Won The Presidential Primary: Donald Trump, Mitt Romney<|endoftext|>\n",
            "<|newsheadlines|>POLITICS<|sep|>Former Senate Majority Leader Johnny Isakson Says Wall Street Colluded With Trump Campaign, U.S. Government<|endoftext|>\n",
            "<|newsheadlines|>POLITICS<|sep|>Rick Perry Is On Dixie Cheating My Trump Presidency<|endoftext|>\n"
          ],
          "name": "stdout"
        }
      ]
    },
    {
      "cell_type": "code",
      "metadata": {
        "colab": {
          "base_uri": "https://localhost:8080/"
        },
        "id": "WxnJTPtxcpDu",
        "outputId": "57f14e97-4c6f-42f3-f779-07be3c4acf05"
      },
      "source": [
        "generated_tweets = generate(model.to('cuda'), GPT2Tokenizer.from_pretrained(\"gpt2\"),\"<|newsheadlines|>CRIME<|sep|>\",entry_count=10)\n",
        "for i in generated_tweets:\n",
        "  print(i)"
      ],
      "execution_count": null,
      "outputs": [
        {
          "output_type": "stream",
          "text": [
            "100%|██████████| 10/10 [00:02<00:00,  4.93it/s]"
          ],
          "name": "stderr"
        },
        {
          "output_type": "stream",
          "text": [
            "<|newsheadlines|>CRIME<|sep|>FBI Warns FBI Offbeds Moving Kids From Hidalgo County, Texas<|endoftext|>\n",
            "<|newsheadlines|>CRIME<|sep|>Tears well up on U.S. News '' Investigators<|endoftext|>\n",
            "<|newsheadlines|>CRIME<|sep|>Why This Disease Is So Powerful For Human Rights<|endoftext|>\n",
            "<|newsheadlines|>CRIME<|sep|>2 People Found Dead in Hotel Heist After Hostage Style Attack<|endoftext|>\n",
            "<|newsheadlines|>CRIME<|sep|>North Carolina Boy Shot In Pinellas To Kill Woman<|endoftext|>\n",
            "<|newsheadlines|>CRIME<|sep|>Man Arrested On The Prom Back Of Cocaine, Meth, Heroin As Heroin In Dank Cages<|endoftext|>\n",
            "<|newsheadlines|>CRIME<|sep|>Cop Kills Son With Teenage Shootout At Heist 'God Bless America' Posters<|endoftext|>\n",
            "<|newsheadlines|>CRIME<|sep|>Philadelphia Allegedly Shot Two People Just Before Killing (VIDEO)<|endoftext|>\n",
            "<|newsheadlines|>CRIME<|sep|>Homicides Reportedly Found In New York's Pregnant Is An Infraction Of The NYPD<|endoftext|>\n",
            "<|newsheadlines|>CRIME<|sep|>Gunman Shot And Died At Pulse Cafe<|endoftext|>\n"
          ],
          "name": "stdout"
        },
        {
          "output_type": "stream",
          "text": [
            "\n"
          ],
          "name": "stderr"
        }
      ]
    },
    {
      "cell_type": "code",
      "metadata": {
        "colab": {
          "base_uri": "https://localhost:8080/"
        },
        "id": "eHCYKGt5dGYX",
        "outputId": "740dba6e-48cf-4a60-bd96-d30651d13de6"
      },
      "source": [
        "generated_tweets = generate(model.to('cuda'), GPT2Tokenizer.from_pretrained(\"gpt2\"),\"<|newsheadlines|>SCIENCE<|sep|>\",entry_count=10)\n",
        "for i in generated_tweets:\n",
        "  print(i)"
      ],
      "execution_count": null,
      "outputs": [
        {
          "output_type": "stream",
          "text": [
            "100%|██████████| 10/10 [00:02<00:00,  4.88it/s]"
          ],
          "name": "stderr"
        },
        {
          "output_type": "stream",
          "text": [
            "<|newsheadlines|>SCIENCE<|sep|>It's an Open Letter to One Girl's Dad Who Lost His Job To Cancer<|endoftext|>\n",
            "<|newsheadlines|>SCIENCE<|sep|>Scientific Explanation: Engineers Did It<|endoftext|>\n",
            "<|newsheadlines|>SCIENCE<|sep|>Plants Could Actually Make A Virus, Study Shows<|endoftext|>\n",
            "<|newsheadlines|>SCIENCE<|sep|>Where Did the Supermassive Black Hole Exist?<|endoftext|>\n",
            "<|newsheadlines|>SCIENCE<|sep|>Anomaly Could Be Found A Day After Living In The World's Most Lethal Superfund Site<|endoftext|>\n",
            "<|newsheadlines|>SCIENCE<|sep|>An Astronaut's Complete Guide To Jupiter's New Slope, And The Fight Against Planet Earth<|endoftext|>\n",
            "<|newsheadlines|>SCIENCE<|sep|>A Cell-Robust Plan To The Rescue Your Heart<|endoftext|>\n",
            "<|newsheadlines|>SCIENCE<|sep|>Antarctic Climate Change Paves Way for Huge Dark Ocean On Pole<|endoftext|>\n",
            "<|newsheadlines|>SCIENCE<|sep|>'Hunting In the Shadows': An Exploration of a Shaping Inner World<|endoftext|>\n",
            "<|newsheadlines|>SCIENCE<|sep|>New Marist Medical Center, Centennial Hall For Star Wars, Can Wait To Explore Life As An Open Space Station<|endoftext|>\n"
          ],
          "name": "stdout"
        },
        {
          "output_type": "stream",
          "text": [
            "\n"
          ],
          "name": "stderr"
        }
      ]
    },
    {
      "cell_type": "code",
      "metadata": {
        "colab": {
          "base_uri": "https://localhost:8080/"
        },
        "id": "RGPs_UnXdHYD",
        "outputId": "a9da4ae3-cfd6-48ca-a0fd-2e56eb4bbd9d"
      },
      "source": [
        "generated_tweets = generate(model.to('cuda'), GPT2Tokenizer.from_pretrained(\"gpt2\"),\"<|newsheadlines|>WOLRD NEWS<|sep|>\",entry_count=10)\n",
        "for i in generated_tweets:\n",
        "  print(i)"
      ],
      "execution_count": null,
      "outputs": [
        {
          "output_type": "stream",
          "text": [
            "100%|██████████| 10/10 [00:01<00:00,  5.37it/s]"
          ],
          "name": "stderr"
        },
        {
          "output_type": "stream",
          "text": [
            "<|newsheadlines|>WOLRD NEWS<|sep|>J.D. Salinger's Native American Run Needs To Be 'Actively Blocking' The Slut Walk<|endoftext|>\n",
            "<|newsheadlines|>WOLRD NEWS<|sep|>Why I Would Absolutely Leave Politics In A Lazy Place<|endoftext|>\n",
            "<|newsheadlines|>WOLRD NEWS<|sep|>The Bay, Like Rivers Of The Sea<|endoftext|>\n",
            "<|newsheadlines|>WOLRD NEWS<|sep|>The Chaos Strikes<|endoftext|>\n",
            "<|newsheadlines|>WOLRD NEWS<|sep|>Johnnie Walker Poses A Big Price In Kratom Claim<|endoftext|>\n",
            "<|newsheadlines|>WOLRD NEWS<|sep|>Obama Spokeswoman And Republicans Are Sliding Over' Bashing On Trump<|endoftext|>\n",
            "<|newsheadlines|>WOLRD NEWS<|sep|>Alarming Photos Show Turtles Swimming In Water Of Tongue and Upright Nails<|endoftext|>\n",
            "<|newsheadlines|>WOLRD NEWS<|sep|>There's Something About When It Happens<|endoftext|>\n",
            "<|newsheadlines|>WOLRD NEWS<|sep|>Why A Girl Calls Him 'Bitch Boy' And Says 'Man In White'<|endoftext|>\n",
            "<|newsheadlines|>WOLRD NEWS<|sep|>Thousands Prompts First Big Move Against HIV/AIDS Accident<|endoftext|>\n"
          ],
          "name": "stdout"
        },
        {
          "output_type": "stream",
          "text": [
            "\n"
          ],
          "name": "stderr"
        }
      ]
    },
    {
      "cell_type": "code",
      "metadata": {
        "colab": {
          "base_uri": "https://localhost:8080/"
        },
        "id": "n8MwLuVL8cUF",
        "outputId": "f17eeed0-ba11-4289-ea9e-5842f42d8a54"
      },
      "source": [
        "generated_tweets = generate(model.to('cuda'), GPT2Tokenizer.from_pretrained(\"gpt2\"),\"<|newsheadlines|>PARENTING<|sep|>\",entry_count=10)\n",
        "for i in generated_tweets:\n",
        "  print(i)"
      ],
      "execution_count": null,
      "outputs": [
        {
          "output_type": "stream",
          "text": [
            "100%|██████████| 10/10 [00:02<00:00,  4.93it/s]"
          ],
          "name": "stderr"
        },
        {
          "output_type": "stream",
          "text": [
            "<|newsheadlines|>PARENTING<|sep|>Meeting Church Leaders Who Are Taking Kids to Gospel Sites<|endoftext|>\n",
            "<|newsheadlines|>PARENTING<|sep|>The Path Ahead for Kids Who Are Growing Up In School Separated From Our Parents' Stories<|endoftext|>\n",
            "<|newsheadlines|>PARENTING<|sep|>5 Things You Need To Know About Making Parenting a Reality<|endoftext|>\n",
            "<|newsheadlines|>PARENTING<|sep|>When I Was Loving Grace, Someone Said, 'Go Away'<|endoftext|>\n",
            "<|newsheadlines|>PARENTING<|sep|>9 Things That You Can Learn From Parenting<|endoftext|>\n",
            "<|newsheadlines|>PARENTING<|sep|>10 Books That Can Make You Grow Up<|endoftext|>\n",
            "<|newsheadlines|>PARENTING<|sep|>This Kid Doesn't Care If He's A Star Of 'This Country'<|endoftext|>\n",
            "<|newsheadlines|>PARENTING<|sep|>10 Things You Must Know About Pregnancy and Toddlers<|endoftext|>\n",
            "<|newsheadlines|>PARENTING<|sep|>Parents Expect Their Kids To Call Out For Fears Of Fears Of Autism<|endoftext|>\n",
            "<|newsheadlines|>PARENTING<|sep|>Tim Herring's Dad Fails To Raise Kids He Didn't Need To: Orlando Asylum Center<|endoftext|>\n"
          ],
          "name": "stdout"
        },
        {
          "output_type": "stream",
          "text": [
            "\n"
          ],
          "name": "stderr"
        }
      ]
    },
    {
      "cell_type": "markdown",
      "metadata": {
        "id": "znYboiYeQMvv"
      },
      "source": [
        "# Clean up stuff"
      ]
    },
    {
      "cell_type": "code",
      "metadata": {
        "colab": {
          "base_uri": "https://localhost:8080/"
        },
        "id": "23y5gNVwqCKd",
        "outputId": "1a991db1-4818-4131-eef6-038f16e7e5bc"
      },
      "source": [
        "!ls -lh /content/trained_models"
      ],
      "execution_count": null,
      "outputs": [
        {
          "output_type": "stream",
          "text": [
            "total 487M\n",
            "-rw-r--r-- 1 root root 487M Nov 24 06:33 newsheadlines-0.pt\n"
          ],
          "name": "stdout"
        }
      ]
    },
    {
      "cell_type": "code",
      "metadata": {
        "id": "t4vJeQBoBdt7"
      },
      "source": [
        "!cp /content/trained_models/gpt_newsheadlines_categories-2.pt '/content/drive/MyDrive/Machine Learning/'"
      ],
      "execution_count": null,
      "outputs": []
    },
    {
      "cell_type": "code",
      "metadata": {
        "colab": {
          "base_uri": "https://localhost:8080/"
        },
        "id": "ewKNTiiiHSVE",
        "outputId": "cb2bdd69-cfc1-43ad-e85e-b7e4fceb1446"
      },
      "source": [
        "!ls -lh /content"
      ],
      "execution_count": null,
      "outputs": [
        {
          "output_type": "stream",
          "text": [
            "total 618M\n",
            "drwx------ 4 root root 4.0K Nov 24 06:52 drive\n",
            "-rw-r--r-- 1 root root 487M Nov 24 07:18 gpt_news.pt\n",
            "-rw-r--r-- 1 root root  81M Oct  1  2019 News_Category_Dataset_v2.json\n",
            "-rw-r--r-- 1 root root  26M Nov 24 05:19 news-category-dataset.zip\n",
            "-rw-r--r-- 1 root root  26M Nov 24 06:00 news-category-dataset.zip.1\n",
            "drwxr-xr-x 1 root root 4.0K Nov 13 17:33 sample_data\n",
            "drwxr-xr-x 2 root root 4.0K Nov 24 06:33 trained_models\n"
          ],
          "name": "stdout"
        }
      ]
    },
    {
      "cell_type": "markdown",
      "metadata": {
        "id": "f3s5r0z9FIti"
      },
      "source": [
        "# Loading the saved model"
      ]
    },
    {
      "cell_type": "code",
      "metadata": {
        "colab": {
          "base_uri": "https://localhost:8080/"
        },
        "id": "KPHD_jlOHjUz",
        "outputId": "79f9ccff-41a3-4435-f9dc-3feec3dbab6f"
      },
      "source": [
        "model = GPT2LMHeadModel.from_pretrained('gpt2')\n",
        "model.load_state_dict(torch.load(\"/content/drive/MyDrive/Machine Learning/gpt_newsheadlines_categories-2.pt\"))"
      ],
      "execution_count": 8,
      "outputs": [
        {
          "output_type": "execute_result",
          "data": {
            "text/plain": [
              "GPT2LMHeadModel(\n",
              "  (transformer): GPT2Model(\n",
              "    (wte): Embedding(50257, 768)\n",
              "    (wpe): Embedding(1024, 768)\n",
              "    (drop): Dropout(p=0.1, inplace=False)\n",
              "    (h): ModuleList(\n",
              "      (0): Block(\n",
              "        (ln_1): LayerNorm((768,), eps=1e-05, elementwise_affine=True)\n",
              "        (attn): Attention(\n",
              "          (c_attn): Conv1D()\n",
              "          (c_proj): Conv1D()\n",
              "          (attn_dropout): Dropout(p=0.1, inplace=False)\n",
              "          (resid_dropout): Dropout(p=0.1, inplace=False)\n",
              "        )\n",
              "        (ln_2): LayerNorm((768,), eps=1e-05, elementwise_affine=True)\n",
              "        (mlp): MLP(\n",
              "          (c_fc): Conv1D()\n",
              "          (c_proj): Conv1D()\n",
              "          (dropout): Dropout(p=0.1, inplace=False)\n",
              "        )\n",
              "      )\n",
              "      (1): Block(\n",
              "        (ln_1): LayerNorm((768,), eps=1e-05, elementwise_affine=True)\n",
              "        (attn): Attention(\n",
              "          (c_attn): Conv1D()\n",
              "          (c_proj): Conv1D()\n",
              "          (attn_dropout): Dropout(p=0.1, inplace=False)\n",
              "          (resid_dropout): Dropout(p=0.1, inplace=False)\n",
              "        )\n",
              "        (ln_2): LayerNorm((768,), eps=1e-05, elementwise_affine=True)\n",
              "        (mlp): MLP(\n",
              "          (c_fc): Conv1D()\n",
              "          (c_proj): Conv1D()\n",
              "          (dropout): Dropout(p=0.1, inplace=False)\n",
              "        )\n",
              "      )\n",
              "      (2): Block(\n",
              "        (ln_1): LayerNorm((768,), eps=1e-05, elementwise_affine=True)\n",
              "        (attn): Attention(\n",
              "          (c_attn): Conv1D()\n",
              "          (c_proj): Conv1D()\n",
              "          (attn_dropout): Dropout(p=0.1, inplace=False)\n",
              "          (resid_dropout): Dropout(p=0.1, inplace=False)\n",
              "        )\n",
              "        (ln_2): LayerNorm((768,), eps=1e-05, elementwise_affine=True)\n",
              "        (mlp): MLP(\n",
              "          (c_fc): Conv1D()\n",
              "          (c_proj): Conv1D()\n",
              "          (dropout): Dropout(p=0.1, inplace=False)\n",
              "        )\n",
              "      )\n",
              "      (3): Block(\n",
              "        (ln_1): LayerNorm((768,), eps=1e-05, elementwise_affine=True)\n",
              "        (attn): Attention(\n",
              "          (c_attn): Conv1D()\n",
              "          (c_proj): Conv1D()\n",
              "          (attn_dropout): Dropout(p=0.1, inplace=False)\n",
              "          (resid_dropout): Dropout(p=0.1, inplace=False)\n",
              "        )\n",
              "        (ln_2): LayerNorm((768,), eps=1e-05, elementwise_affine=True)\n",
              "        (mlp): MLP(\n",
              "          (c_fc): Conv1D()\n",
              "          (c_proj): Conv1D()\n",
              "          (dropout): Dropout(p=0.1, inplace=False)\n",
              "        )\n",
              "      )\n",
              "      (4): Block(\n",
              "        (ln_1): LayerNorm((768,), eps=1e-05, elementwise_affine=True)\n",
              "        (attn): Attention(\n",
              "          (c_attn): Conv1D()\n",
              "          (c_proj): Conv1D()\n",
              "          (attn_dropout): Dropout(p=0.1, inplace=False)\n",
              "          (resid_dropout): Dropout(p=0.1, inplace=False)\n",
              "        )\n",
              "        (ln_2): LayerNorm((768,), eps=1e-05, elementwise_affine=True)\n",
              "        (mlp): MLP(\n",
              "          (c_fc): Conv1D()\n",
              "          (c_proj): Conv1D()\n",
              "          (dropout): Dropout(p=0.1, inplace=False)\n",
              "        )\n",
              "      )\n",
              "      (5): Block(\n",
              "        (ln_1): LayerNorm((768,), eps=1e-05, elementwise_affine=True)\n",
              "        (attn): Attention(\n",
              "          (c_attn): Conv1D()\n",
              "          (c_proj): Conv1D()\n",
              "          (attn_dropout): Dropout(p=0.1, inplace=False)\n",
              "          (resid_dropout): Dropout(p=0.1, inplace=False)\n",
              "        )\n",
              "        (ln_2): LayerNorm((768,), eps=1e-05, elementwise_affine=True)\n",
              "        (mlp): MLP(\n",
              "          (c_fc): Conv1D()\n",
              "          (c_proj): Conv1D()\n",
              "          (dropout): Dropout(p=0.1, inplace=False)\n",
              "        )\n",
              "      )\n",
              "      (6): Block(\n",
              "        (ln_1): LayerNorm((768,), eps=1e-05, elementwise_affine=True)\n",
              "        (attn): Attention(\n",
              "          (c_attn): Conv1D()\n",
              "          (c_proj): Conv1D()\n",
              "          (attn_dropout): Dropout(p=0.1, inplace=False)\n",
              "          (resid_dropout): Dropout(p=0.1, inplace=False)\n",
              "        )\n",
              "        (ln_2): LayerNorm((768,), eps=1e-05, elementwise_affine=True)\n",
              "        (mlp): MLP(\n",
              "          (c_fc): Conv1D()\n",
              "          (c_proj): Conv1D()\n",
              "          (dropout): Dropout(p=0.1, inplace=False)\n",
              "        )\n",
              "      )\n",
              "      (7): Block(\n",
              "        (ln_1): LayerNorm((768,), eps=1e-05, elementwise_affine=True)\n",
              "        (attn): Attention(\n",
              "          (c_attn): Conv1D()\n",
              "          (c_proj): Conv1D()\n",
              "          (attn_dropout): Dropout(p=0.1, inplace=False)\n",
              "          (resid_dropout): Dropout(p=0.1, inplace=False)\n",
              "        )\n",
              "        (ln_2): LayerNorm((768,), eps=1e-05, elementwise_affine=True)\n",
              "        (mlp): MLP(\n",
              "          (c_fc): Conv1D()\n",
              "          (c_proj): Conv1D()\n",
              "          (dropout): Dropout(p=0.1, inplace=False)\n",
              "        )\n",
              "      )\n",
              "      (8): Block(\n",
              "        (ln_1): LayerNorm((768,), eps=1e-05, elementwise_affine=True)\n",
              "        (attn): Attention(\n",
              "          (c_attn): Conv1D()\n",
              "          (c_proj): Conv1D()\n",
              "          (attn_dropout): Dropout(p=0.1, inplace=False)\n",
              "          (resid_dropout): Dropout(p=0.1, inplace=False)\n",
              "        )\n",
              "        (ln_2): LayerNorm((768,), eps=1e-05, elementwise_affine=True)\n",
              "        (mlp): MLP(\n",
              "          (c_fc): Conv1D()\n",
              "          (c_proj): Conv1D()\n",
              "          (dropout): Dropout(p=0.1, inplace=False)\n",
              "        )\n",
              "      )\n",
              "      (9): Block(\n",
              "        (ln_1): LayerNorm((768,), eps=1e-05, elementwise_affine=True)\n",
              "        (attn): Attention(\n",
              "          (c_attn): Conv1D()\n",
              "          (c_proj): Conv1D()\n",
              "          (attn_dropout): Dropout(p=0.1, inplace=False)\n",
              "          (resid_dropout): Dropout(p=0.1, inplace=False)\n",
              "        )\n",
              "        (ln_2): LayerNorm((768,), eps=1e-05, elementwise_affine=True)\n",
              "        (mlp): MLP(\n",
              "          (c_fc): Conv1D()\n",
              "          (c_proj): Conv1D()\n",
              "          (dropout): Dropout(p=0.1, inplace=False)\n",
              "        )\n",
              "      )\n",
              "      (10): Block(\n",
              "        (ln_1): LayerNorm((768,), eps=1e-05, elementwise_affine=True)\n",
              "        (attn): Attention(\n",
              "          (c_attn): Conv1D()\n",
              "          (c_proj): Conv1D()\n",
              "          (attn_dropout): Dropout(p=0.1, inplace=False)\n",
              "          (resid_dropout): Dropout(p=0.1, inplace=False)\n",
              "        )\n",
              "        (ln_2): LayerNorm((768,), eps=1e-05, elementwise_affine=True)\n",
              "        (mlp): MLP(\n",
              "          (c_fc): Conv1D()\n",
              "          (c_proj): Conv1D()\n",
              "          (dropout): Dropout(p=0.1, inplace=False)\n",
              "        )\n",
              "      )\n",
              "      (11): Block(\n",
              "        (ln_1): LayerNorm((768,), eps=1e-05, elementwise_affine=True)\n",
              "        (attn): Attention(\n",
              "          (c_attn): Conv1D()\n",
              "          (c_proj): Conv1D()\n",
              "          (attn_dropout): Dropout(p=0.1, inplace=False)\n",
              "          (resid_dropout): Dropout(p=0.1, inplace=False)\n",
              "        )\n",
              "        (ln_2): LayerNorm((768,), eps=1e-05, elementwise_affine=True)\n",
              "        (mlp): MLP(\n",
              "          (c_fc): Conv1D()\n",
              "          (c_proj): Conv1D()\n",
              "          (dropout): Dropout(p=0.1, inplace=False)\n",
              "        )\n",
              "      )\n",
              "    )\n",
              "    (ln_f): LayerNorm((768,), eps=1e-05, elementwise_affine=True)\n",
              "  )\n",
              "  (lm_head): Linear(in_features=768, out_features=50257, bias=False)\n",
              ")"
            ]
          },
          "metadata": {
            "tags": []
          },
          "execution_count": 8
        }
      ]
    },
    {
      "cell_type": "code",
      "metadata": {
        "id": "gb4K2YqEHot_",
        "colab": {
          "base_uri": "https://localhost:8080/",
          "height": 336,
          "referenced_widgets": [
            "f655ea07a582400793b796f0b380a6ea",
            "b4a36ee999044bf58831ec0b10fd6e33",
            "b2c9a5b227e847d382e7f8735b006f17",
            "bc3087ee9a644811b87f59de7d20969b",
            "a1659a3d68fe4349bbdec9ec368a9295",
            "404628c5dd5f4c088f29734370cc8823",
            "d652d33cc2584ba2904489b4329e1c06",
            "8291713296ea4e4e8eff639108f601ee",
            "9051eedfcbfc4a38b41319ac73375d88",
            "9fe1a6b6e3b44561a7d615614b198bde",
            "597fb7f2d18b4cca8adfc689e8aed14b",
            "b6fd4c65a3604abc84be99ec06d40c15",
            "b8c75217ba06423ea20cf6cf40ec5282",
            "f129f90b3a474983acd3cdb1fb44a240",
            "d70f962779204e71b4f0c55ef4650762",
            "563b04fa9fba4f76bf3fc028485c22db"
          ]
        },
        "outputId": "6d787bcf-e9f4-499a-cd75-c57cd8c54867"
      },
      "source": [
        "generated_tweets = generate(model.to('cuda'), GPT2Tokenizer.from_pretrained(\"gpt2\"),\"<|newsheadlines|>POLITICS<|sep|>\",entry_count=10)\n",
        "for i in generated_tweets:\n",
        "  print(i)"
      ],
      "execution_count": 9,
      "outputs": [
        {
          "output_type": "display_data",
          "data": {
            "application/vnd.jupyter.widget-view+json": {
              "model_id": "f655ea07a582400793b796f0b380a6ea",
              "version_minor": 0,
              "version_major": 2
            },
            "text/plain": [
              "HBox(children=(FloatProgress(value=0.0, description='Downloading', max=1042301.0, style=ProgressStyle(descript…"
            ]
          },
          "metadata": {
            "tags": []
          }
        },
        {
          "output_type": "stream",
          "text": [
            "\n"
          ],
          "name": "stdout"
        },
        {
          "output_type": "display_data",
          "data": {
            "application/vnd.jupyter.widget-view+json": {
              "model_id": "9051eedfcbfc4a38b41319ac73375d88",
              "version_minor": 0,
              "version_major": 2
            },
            "text/plain": [
              "HBox(children=(FloatProgress(value=0.0, description='Downloading', max=456318.0, style=ProgressStyle(descripti…"
            ]
          },
          "metadata": {
            "tags": []
          }
        },
        {
          "output_type": "stream",
          "text": [
            "\r  0%|          | 0/10 [00:00<?, ?it/s]"
          ],
          "name": "stderr"
        },
        {
          "output_type": "stream",
          "text": [
            "\n"
          ],
          "name": "stdout"
        },
        {
          "output_type": "stream",
          "text": [
            "100%|██████████| 10/10 [00:02<00:00,  3.82it/s]"
          ],
          "name": "stderr"
        },
        {
          "output_type": "stream",
          "text": [
            "<|newsheadlines|>POLITICS<|sep|>Blizzard Will Start Working On Battlecry To Battle Better<|endoftext|>\n",
            "<|newsheadlines|>POLITICS<|sep|>House Republicans Weren't Really Just Telling House Democrats To Sell Him an Electoral Ticket<|endoftext|>\n",
            "<|newsheadlines|>POLITICS<|sep|>State Justice Act Authorizes Trans-Pacific Partnership Agreement To Be Told Before Congress Approves<|endoftext|>\n",
            "<|newsheadlines|>POLITICS<|sep|>Ted Cruz Receives Three Stages Of Support After Surgical Exercise<|endoftext|>\n",
            "<|newsheadlines|>POLITICS<|sep|>Will Rich Paul Win Hillary Clinton?<|endoftext|>\n",
            "<|newsheadlines|>POLITICS<|sep|>Kelly Calls Out O'Reilly For Claiming He 'Loveled' Bill Clinton<|endoftext|>\n",
            "<|newsheadlines|>POLITICS<|sep|>Weakening Oasis On Trump, Military World And Satellites<|endoftext|>\n",
            "<|newsheadlines|>POLITICS<|sep|>Congress Discussions Took On As Lewandowski Exposed Over Alleged 'Bigotry'<|endoftext|>\n",
            "<|newsheadlines|>POLITICS<|sep|>National Poll Shows Clinton On Bernie Sanders' Lower Exit Polls -- But She'll Have To Lead by A Small Percentage Of The GOP Voters<|endoftext|>\n",
            "<|newsheadlines|>POLITICS<|sep|>Weekly Roundup: Trump's Deferred Action for Childhood Arrivals<|endoftext|>\n"
          ],
          "name": "stdout"
        },
        {
          "output_type": "stream",
          "text": [
            "\n"
          ],
          "name": "stderr"
        }
      ]
    },
    {
      "cell_type": "code",
      "metadata": {
        "id": "OVAJNtfQE4FW"
      },
      "source": [
        ""
      ],
      "execution_count": null,
      "outputs": []
    }
  ]
}