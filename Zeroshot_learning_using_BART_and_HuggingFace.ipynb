{
  "nbformat": 4,
  "nbformat_minor": 0,
  "metadata": {
    "colab": {
      "name": "Zeroshot learning using BART and HuggingFace.ipynb",
      "provenance": [],
      "authorship_tag": "ABX9TyNBTzdjQX8qWYGSafZVZ+1F",
      "include_colab_link": true
    },
    "kernelspec": {
      "name": "python3",
      "display_name": "Python 3"
    }
  },
  "cells": [
    {
      "cell_type": "markdown",
      "metadata": {
        "id": "view-in-github",
        "colab_type": "text"
      },
      "source": [
        "<a href=\"https://colab.research.google.com/github/sljm12/machine_learning_notebooks/blob/master/Zeroshot_learning_using_BART_and_HuggingFace.ipynb\" target=\"_parent\"><img src=\"https://colab.research.google.com/assets/colab-badge.svg\" alt=\"Open In Colab\"/></a>"
      ]
    },
    {
      "cell_type": "markdown",
      "metadata": {
        "id": "ueZvJkfzmlzV"
      },
      "source": [
        "This is to try Zeroshot learning on News Articles Headings.\n",
        "\n",
        "The news headings are from IPTC Media Topics https://iptc.org/standards/media-topics/\n",
        "\n",
        "Baseline code from https://joeddav.github.io/blog/2020/05/29/ZSL.html"
      ]
    },
    {
      "cell_type": "code",
      "metadata": {
        "id": "HopSz7r3frYy"
      },
      "source": [
        "!pip -qq install transformers"
      ],
      "execution_count": 42,
      "outputs": []
    },
    {
      "cell_type": "markdown",
      "metadata": {
        "id": "kiMsewtSl9j-"
      },
      "source": [
        "# Data Prep"
      ]
    },
    {
      "cell_type": "code",
      "metadata": {
        "colab": {
          "base_uri": "https://localhost:8080/"
        },
        "id": "60pKHbdriAa8",
        "outputId": "025ce58d-a52f-4531-e711-c143d6d4501a"
      },
      "source": [
        "!wget https://www.iptc.org/std/NewsCodes/IPTC-MediaTopic-NewsCodes.xlsx"
      ],
      "execution_count": 43,
      "outputs": [
        {
          "output_type": "stream",
          "text": [
            "--2020-11-20 08:27:05--  https://www.iptc.org/std/NewsCodes/IPTC-MediaTopic-NewsCodes.xlsx\n",
            "Resolving www.iptc.org (www.iptc.org)... 194.232.153.3\n",
            "Connecting to www.iptc.org (www.iptc.org)|194.232.153.3|:443... connected.\n",
            "HTTP request sent, awaiting response... 200 OK\n",
            "Length: 628997 (614K) [application/vnd.openxmlformats-officedocument.spreadsheetml.sheet]\n",
            "Saving to: ‘IPTC-MediaTopic-NewsCodes.xlsx.1’\n",
            "\n",
            "IPTC-MediaTopic-New 100%[===================>] 614.25K  1.01MB/s    in 0.6s    \n",
            "\n",
            "2020-11-20 08:27:07 (1.01 MB/s) - ‘IPTC-MediaTopic-NewsCodes.xlsx.1’ saved [628997/628997]\n",
            "\n"
          ],
          "name": "stdout"
        }
      ]
    },
    {
      "cell_type": "code",
      "metadata": {
        "id": "ngsqR7e4iD8y"
      },
      "source": [
        "import pandas as pd\n",
        "df=pd.read_excel(\"IPTC-MediaTopic-NewsCodes.xlsx\", skiprows=1)"
      ],
      "execution_count": 44,
      "outputs": []
    },
    {
      "cell_type": "code",
      "metadata": {
        "colab": {
          "base_uri": "https://localhost:8080/",
          "height": 618
        },
        "id": "YKghalYwmD0w",
        "outputId": "b71a5f1b-0420-461c-a795-ee8792656913"
      },
      "source": [
        "df.head()"
      ],
      "execution_count": 45,
      "outputs": [
        {
          "output_type": "execute_result",
          "data": {
            "text/html": [
              "<div>\n",
              "<style scoped>\n",
              "    .dataframe tbody tr th:only-of-type {\n",
              "        vertical-align: middle;\n",
              "    }\n",
              "\n",
              "    .dataframe tbody tr th {\n",
              "        vertical-align: top;\n",
              "    }\n",
              "\n",
              "    .dataframe thead th {\n",
              "        text-align: right;\n",
              "    }\n",
              "</style>\n",
              "<table border=\"1\" class=\"dataframe\">\n",
              "  <thead>\n",
              "    <tr style=\"text-align: right;\">\n",
              "      <th></th>\n",
              "      <th>NewsCode-URI</th>\n",
              "      <th>NewsCode-QCode (flat)</th>\n",
              "      <th>Level1/NewsCode</th>\n",
              "      <th>Level2/NewsCode</th>\n",
              "      <th>Level3/NewsCode</th>\n",
              "      <th>Level4/NewsCode</th>\n",
              "      <th>Level5/NewsCode</th>\n",
              "      <th>Level6/NewsCode</th>\n",
              "      <th>RetiredDate</th>\n",
              "      <th>Name (ar)</th>\n",
              "      <th>Definition (ar)</th>\n",
              "      <th>Name (de)</th>\n",
              "      <th>Definition (de)</th>\n",
              "      <th>Name (dk)</th>\n",
              "      <th>Definition (dk)</th>\n",
              "      <th>Name (en-GB)</th>\n",
              "      <th>Definition (en-GB)</th>\n",
              "      <th>Name (es)</th>\n",
              "      <th>Definition (es)</th>\n",
              "      <th>Name (fr)</th>\n",
              "      <th>Definition (fr)</th>\n",
              "      <th>Name (no)</th>\n",
              "      <th>Definition (no)</th>\n",
              "      <th>Name (pt-PT)</th>\n",
              "      <th>Definition (pt-PT)</th>\n",
              "      <th>Name (pt-BR)</th>\n",
              "      <th>Definition (pt-BR)</th>\n",
              "      <th>Name (se)</th>\n",
              "      <th>Definition (se)</th>\n",
              "      <th>Name (zh-Hans)</th>\n",
              "      <th>Definition (zh-Hans)</th>\n",
              "      <th>SubjectCode mapping</th>\n",
              "      <th>Wikidata mapping</th>\n",
              "    </tr>\n",
              "  </thead>\n",
              "  <tbody>\n",
              "    <tr>\n",
              "      <th>0</th>\n",
              "      <td>http://cv.iptc.org/newscodes/mediatopic/01000000</td>\n",
              "      <td>medtop:01000000</td>\n",
              "      <td>medtop:01000000</td>\n",
              "      <td>NaN</td>\n",
              "      <td>NaN</td>\n",
              "      <td>NaN</td>\n",
              "      <td>NaN</td>\n",
              "      <td>NaN</td>\n",
              "      <td>NaN</td>\n",
              "      <td>فنون، ثقافة وترفيه</td>\n",
              "      <td>NaN</td>\n",
              "      <td>Kultur, Kunst, Unterhaltung und Medien</td>\n",
              "      <td>Alle Formen von Kunst, Unterhaltung, Kulturerb...</td>\n",
              "      <td>kunst, kultur, underholdning og medier</td>\n",
              "      <td>Kunst, kultur, underholdning og medier.</td>\n",
              "      <td>arts, culture, entertainment and media</td>\n",
              "      <td>All forms of arts, entertainment, cultural her...</td>\n",
              "      <td>Artes, cultura, entretenimiento y medios</td>\n",
              "      <td>Todas las formas de arte, entretenimiento cult...</td>\n",
              "      <td>Arts, culture, divertissement et médias</td>\n",
              "      <td>Toutes les formes d'arts, de divertissement, d...</td>\n",
              "      <td>kultur og underholdning</td>\n",
              "      <td>NaN</td>\n",
              "      <td>artes, cultura, entretenimento e média</td>\n",
              "      <td>Todas as formas de arte, entretenimento, heran...</td>\n",
              "      <td>artes, cultura, entretenimento e mídia</td>\n",
              "      <td>Todas as formas de arte, entretenimento, heran...</td>\n",
              "      <td>Konst, kultur och nöje</td>\n",
              "      <td>Ämnen som rör utveckling och förfining av det ...</td>\n",
              "      <td>艺术、文化、娱乐和媒体</td>\n",
              "      <td>各种形式的艺术、娱乐、文化遗产和媒体</td>\n",
              "      <td>http://cv.iptc.org/newscodes/subjectcode/01000000</td>\n",
              "      <td>NaN</td>\n",
              "    </tr>\n",
              "    <tr>\n",
              "      <th>1</th>\n",
              "      <td>http://cv.iptc.org/newscodes/mediatopic/20000002</td>\n",
              "      <td>medtop:20000002</td>\n",
              "      <td>NaN</td>\n",
              "      <td>medtop:20000002</td>\n",
              "      <td>NaN</td>\n",
              "      <td>NaN</td>\n",
              "      <td>NaN</td>\n",
              "      <td>NaN</td>\n",
              "      <td>NaN</td>\n",
              "      <td>فنون وتسلية</td>\n",
              "      <td>NaN</td>\n",
              "      <td>Kunst und Unterhaltung</td>\n",
              "      <td>Alle Formen von Kunst und Unterhaltung</td>\n",
              "      <td>kunst og underholdning</td>\n",
              "      <td>Alle former for kunst og underholdning.</td>\n",
              "      <td>arts and entertainment</td>\n",
              "      <td>All forms of arts and entertainment</td>\n",
              "      <td>Arte y entretenimiento</td>\n",
              "      <td>Todas las formas de arte y de entretenimiento</td>\n",
              "      <td>Arts et divertissement</td>\n",
              "      <td>Toutes les formes d'arts et de divertissement</td>\n",
              "      <td>kunst og underholdning</td>\n",
              "      <td>NaN</td>\n",
              "      <td>arte e entretenimento</td>\n",
              "      <td>Todas as formas de arte e entretenimento.</td>\n",
              "      <td>arte e entretenimento</td>\n",
              "      <td>Todas as formas de arte e entretenimento.</td>\n",
              "      <td>Konst och underhållning</td>\n",
              "      <td>Alla former av konst och underhållning som int...</td>\n",
              "      <td>艺术与娱乐</td>\n",
              "      <td>各种形式的艺术和娱乐</td>\n",
              "      <td>NaN</td>\n",
              "      <td>https://www.wikidata.org/entity/Q2018526</td>\n",
              "    </tr>\n",
              "    <tr>\n",
              "      <th>2</th>\n",
              "      <td>http://cv.iptc.org/newscodes/mediatopic/20000003</td>\n",
              "      <td>medtop:20000003</td>\n",
              "      <td>NaN</td>\n",
              "      <td>NaN</td>\n",
              "      <td>medtop:20000003</td>\n",
              "      <td>NaN</td>\n",
              "      <td>NaN</td>\n",
              "      <td>NaN</td>\n",
              "      <td>NaN</td>\n",
              "      <td>تحريك</td>\n",
              "      <td>NaN</td>\n",
              "      <td>Animation</td>\n",
              "      <td>Erzählung in Form von Computergrafik, als Lang...</td>\n",
              "      <td>animation</td>\n",
              "      <td>Historier fortalt gennem animerede tegninger e...</td>\n",
              "      <td>animation</td>\n",
              "      <td>Stories told through animated drawings in eith...</td>\n",
              "      <td>Animación</td>\n",
              "      <td>Historias contadas a través de dibujos animado...</td>\n",
              "      <td>Dessin animé</td>\n",
              "      <td>Histoires racontées à travers des dessins anim...</td>\n",
              "      <td>animasjonsfilm</td>\n",
              "      <td>NaN</td>\n",
              "      <td>animação</td>\n",
              "      <td>Técnica que permite dar a desenhos ou bonecos ...</td>\n",
              "      <td>animação</td>\n",
              "      <td>Animação, incluindo longas e curtas-metragens,...</td>\n",
              "      <td>Animation</td>\n",
              "      <td>Rörlig bild skapad av en serie teckningar, ler...</td>\n",
              "      <td>动画</td>\n",
              "      <td>长短篇的动画故事</td>\n",
              "      <td>http://cv.iptc.org/newscodes/subjectcode/01025000</td>\n",
              "      <td>https://www.wikidata.org/entity/Q11425</td>\n",
              "    </tr>\n",
              "    <tr>\n",
              "      <th>3</th>\n",
              "      <td>http://cv.iptc.org/newscodes/mediatopic/20001135</td>\n",
              "      <td>medtop:20001135</td>\n",
              "      <td>NaN</td>\n",
              "      <td>NaN</td>\n",
              "      <td>medtop:20001135</td>\n",
              "      <td>NaN</td>\n",
              "      <td>NaN</td>\n",
              "      <td>NaN</td>\n",
              "      <td>NaN</td>\n",
              "      <td>NaN</td>\n",
              "      <td>NaN</td>\n",
              "      <td>Kunstausstellung</td>\n",
              "      <td>Zeitlich begrenzte Präsentation von Kunst in e...</td>\n",
              "      <td>udstilling</td>\n",
              "      <td>Midlertidig præsentation af kunst eller særemn...</td>\n",
              "      <td>art exhibition</td>\n",
              "      <td>Temporary presentation of art in museums, art ...</td>\n",
              "      <td>Exposición de arte</td>\n",
              "      <td>Presentación temporal de arte en museos, salas...</td>\n",
              "      <td>Exposition artistique</td>\n",
              "      <td>Présentation temporaire d'art dans des musées,...</td>\n",
              "      <td>kunstutstilling</td>\n",
              "      <td>NaN</td>\n",
              "      <td>exposição artística</td>\n",
              "      <td>Apresentação temporária de arte em museus, sal...</td>\n",
              "      <td>exposição artística</td>\n",
              "      <td>Apresentação temporária de arte em museus, sal...</td>\n",
              "      <td>Konstutställning</td>\n",
              "      <td>Ett tillfälle då en eller flera konstverk visa...</td>\n",
              "      <td>艺术展览</td>\n",
              "      <td>在博物馆、艺术大厅或画廊举办的短期艺术品展出</td>\n",
              "      <td>NaN</td>\n",
              "      <td>https://www.wikidata.org/entity/Q667276</td>\n",
              "    </tr>\n",
              "    <tr>\n",
              "      <th>4</th>\n",
              "      <td>http://cv.iptc.org/newscodes/mediatopic/20000004</td>\n",
              "      <td>medtop:20000004</td>\n",
              "      <td>NaN</td>\n",
              "      <td>NaN</td>\n",
              "      <td>medtop:20000004</td>\n",
              "      <td>NaN</td>\n",
              "      <td>NaN</td>\n",
              "      <td>NaN</td>\n",
              "      <td>NaN</td>\n",
              "      <td>كرتون</td>\n",
              "      <td>NaN</td>\n",
              "      <td>Comic</td>\n",
              "      <td>Zeichnungen, wie Karikaturen und Comics, die o...</td>\n",
              "      <td>tegneserie</td>\n",
              "      <td>Tegninger, både som underholding og redaktione...</td>\n",
              "      <td>cartoon</td>\n",
              "      <td>Drawings, such as editorial cartoons and comic...</td>\n",
              "      <td>Caricaturas</td>\n",
              "      <td>Dibujos, como caricaturas políticas o tiras có...</td>\n",
              "      <td>Bande dessinée</td>\n",
              "      <td>Dessins (dessins de presse, caricatures, bande...</td>\n",
              "      <td>tegneserie</td>\n",
              "      <td>NaN</td>\n",
              "      <td>cartoon</td>\n",
              "      <td>Banda desenhada, geralmente de caráter humorís...</td>\n",
              "      <td>cartoon</td>\n",
              "      <td>Imagens como caricaturas editoriais e tiras de...</td>\n",
              "      <td>Serieteckningar</td>\n",
              "      <td>Bilder framställda på andra sätt än med kamera...</td>\n",
              "      <td>卡通</td>\n",
              "      <td>漫画，经常使用幽默或讽刺的绘画形式，如社论漫画和连环漫画</td>\n",
              "      <td>http://cv.iptc.org/newscodes/subjectcode/01024000</td>\n",
              "      <td>https://www.wikidata.org/entity/Q627603</td>\n",
              "    </tr>\n",
              "  </tbody>\n",
              "</table>\n",
              "</div>"
            ],
            "text/plain": [
              "                                       NewsCode-URI  ...                          Wikidata mapping\n",
              "0  http://cv.iptc.org/newscodes/mediatopic/01000000  ...                                       NaN\n",
              "1  http://cv.iptc.org/newscodes/mediatopic/20000002  ...  https://www.wikidata.org/entity/Q2018526\n",
              "2  http://cv.iptc.org/newscodes/mediatopic/20000003  ...    https://www.wikidata.org/entity/Q11425\n",
              "3  http://cv.iptc.org/newscodes/mediatopic/20001135  ...   https://www.wikidata.org/entity/Q667276\n",
              "4  http://cv.iptc.org/newscodes/mediatopic/20000004  ...   https://www.wikidata.org/entity/Q627603\n",
              "\n",
              "[5 rows x 33 columns]"
            ]
          },
          "metadata": {
            "tags": []
          },
          "execution_count": 45
        }
      ]
    },
    {
      "cell_type": "code",
      "metadata": {
        "id": "vNYTCxQziKDn"
      },
      "source": [
        "# Get the 2nd level headings because they are more detailed that the first level headings\n",
        "df_top_level = df[df[\"Level2/NewsCode\"].notnull()]"
      ],
      "execution_count": 46,
      "outputs": []
    },
    {
      "cell_type": "code",
      "metadata": {
        "colab": {
          "base_uri": "https://localhost:8080/"
        },
        "id": "IjxCA_wqmObc",
        "outputId": "0a774208-f524-46ed-87f2-81874027b014"
      },
      "source": [
        "df_top_level.size"
      ],
      "execution_count": 47,
      "outputs": [
        {
          "output_type": "execute_result",
          "data": {
            "text/plain": [
              "3597"
            ]
          },
          "metadata": {
            "tags": []
          },
          "execution_count": 47
        }
      ]
    },
    {
      "cell_type": "code",
      "metadata": {
        "id": "-XqTxcXQjVjW"
      },
      "source": [
        "topics = [i for i in df_top_level[\"Name (en-GB)\"]]"
      ],
      "execution_count": 48,
      "outputs": []
    },
    {
      "cell_type": "markdown",
      "metadata": {
        "id": "z1UlQTujmfah"
      },
      "source": [
        "# Zeroshot learning portion"
      ]
    },
    {
      "cell_type": "code",
      "metadata": {
        "colab": {
          "base_uri": "https://localhost:8080/"
        },
        "id": "07PQjoIxe4MM",
        "outputId": "726a89c0-7118-4ebe-e6f4-72e248d4e781"
      },
      "source": [
        "from transformers import BartForSequenceClassification, BartTokenizer\n",
        "tokenizer = BartTokenizer.from_pretrained('facebook/bart-large-mnli')\n",
        "model = BartForSequenceClassification.from_pretrained('facebook/bart-large-mnli')\n",
        "\n",
        "# pose sequence as a NLI premise and label (politics) as a hypothesis\n",
        "premise = 'Who are you voting for in 2020?'\n",
        "hypothesis = 'This text is about politics.'\n",
        "\n"
      ],
      "execution_count": 49,
      "outputs": [
        {
          "output_type": "stream",
          "text": [
            "Some weights of the model checkpoint at facebook/bart-large-mnli were not used when initializing BartForSequenceClassification: ['model.encoder.version', 'model.decoder.version']\n",
            "- This IS expected if you are initializing BartForSequenceClassification from the checkpoint of a model trained on another task or with another architecture (e.g. initializing a BertForSequenceClassification model from a BertForPreTraining model).\n",
            "- This IS NOT expected if you are initializing BartForSequenceClassification from the checkpoint of a model that you expect to be exactly identical (initializing a BertForSequenceClassification model from a BertForSequenceClassification model).\n"
          ],
          "name": "stderr"
        }
      ]
    },
    {
      "cell_type": "code",
      "metadata": {
        "id": "zugs5anRoy1w"
      },
      "source": [
        "def predict(tokenizer, model, premise, category):\n",
        "  hypothesis = \"This text is about \"+category\n",
        "  input_ids = tokenizer.encode(premise, hypothesis, return_tensors='pt')\n",
        "  #print(input_ids)\n",
        "  logits = model(input_ids)[0]\n",
        "\n",
        "  #print(logits)\n",
        "  entail_contradiction_logits = logits[:,[0,2]]\n",
        "  #print(entail_contradiction_logits)\n",
        "  probs = entail_contradiction_logits.softmax(dim=1)\n",
        "  true_prob = probs[:,1].item() * 100\n",
        "  #print(f'Probability that the label is true: {true_prob:0.2f}%')\n",
        "  return true_prob"
      ],
      "execution_count": 50,
      "outputs": []
    },
    {
      "cell_type": "code",
      "metadata": {
        "colab": {
          "base_uri": "https://localhost:8080/"
        },
        "id": "8d20jXtCpI3P",
        "outputId": "de141f16-f298-4a96-ea7a-631a61e669a8"
      },
      "source": [
        "results = []\n",
        "for i in topics:\n",
        "  prob = predict(tokenizer, model, premise, i)\n",
        "  results.append({\n",
        "      \"category\":i,\n",
        "      \"prob\":prob\n",
        "  })"
      ],
      "execution_count": 51,
      "outputs": [
        {
          "output_type": "stream",
          "text": [
            "arts and entertainment 0.7709584198892117\n",
            "culture 3.4023717045783997\n",
            "mass media 1.4756249263882637\n",
            "act of terror 0.5168270319700241\n",
            "armed conflict 0.677485391497612\n",
            "civil unrest 1.8349843099713326\n",
            "coup d'etat 0.2247572410851717\n",
            "massacre 0.6081278901547194\n",
            "peace process 1.1101458221673965\n",
            "post-war reconstruction 0.861875806003809\n",
            "prisoners of war 0.7250878494232893\n",
            "crime 1.507717277854681\n",
            "judiciary 2.858201786875725\n",
            "justice 2.6447972282767296\n",
            "law 1.9982187077403069\n",
            "law enforcement 0.5001340061426163\n",
            "accident and emergency incident 0.49067186191678047\n",
            "disaster 1.5637805685400963\n",
            "emergency incident 0.5152593832463026\n",
            "emergency planning 0.10806771460920572\n",
            "emergency response 0.2357398858293891\n",
            "business information 1.0673231445252895\n",
            "economic sector 4.671101272106171\n",
            "economy 2.7262821793556213\n",
            "market and exchange 1.3947543688118458\n",
            "parent organisation 2.4293044582009315\n",
            "religious education 0.23001451045274734\n",
            "school 0.40059909224510193\n",
            "social learning 0.9947064332664013\n",
            "teaching and learning 0.14775863382965326\n",
            "vocational education 0.4128436092287302\n",
            "climate change 1.4103499241173267\n",
            "conservation 0.5823000799864531\n",
            "environmental politics 1.438022032380104\n",
            "environmental pollution 0.7663089781999588\n",
            "natural resources 1.1600527912378311\n",
            "nature 0.171669980045408\n",
            "diseases and conditions 0.4527543671429157\n",
            "health facility 0.8390889503061771\n",
            "health organisations 0.45496136881411076\n",
            "health treatment 0.554680684581399\n",
            "healthcare policy 1.2681751511991024\n",
            "medical profession 0.5589956417679787\n",
            "non-human diseases 1.1336958035826683\n",
            "accomplishment 6.552798300981522\n",
            "animal 0.9493803605437279\n",
            "anniversary 0.9427298791706562\n",
            "ceremony 0.4859552253037691\n",
            "people 38.54486644268036\n",
            "plant 0.556130800396204\n",
            "employment 0.3910211380571127\n",
            "employment legislation 0.861189141869545\n",
            "labour market 1.7077511176466942\n",
            "labour relations 4.057610780000687\n",
            "retirement 0.3334861947223544\n",
            "unemployment 0.4001370631158352\n",
            "unions 0.8810725063085556\n",
            "exercise and fitness 0.10645159054547548\n",
            "leisure 0.14566635945811868\n",
            "lifestyle 0.293770176358521\n",
            "election 97.01987504959106\n",
            "fundamental rights 4.366730898618698\n",
            "government 59.94353890419006\n",
            "government policy 38.05576264858246\n",
            "international relations 5.5012378841638565\n",
            "non-governmental organisation 5.357010662555695\n",
            "political crisis 5.619693174958229\n",
            "political dissent 6.69153556227684\n",
            "political process 71.55435681343079\n",
            "interreligious dialogue 0.581967830657959\n",
            "religious belief 0.1892153755761683\n",
            "religious conflict 0.871959887444973\n",
            "religious event 0.3475173842161894\n",
            "religious facilities 0.27818188536912203\n",
            "religious institutions and state relations 0.7567573804408312\n",
            "religious leader 1.6081968322396278\n",
            "religious text 0.3915507812052965\n",
            "biomedical science 0.3675160463899374\n",
            "mathematics 0.17138579860329628\n",
            "natural science 0.2499618800356984\n",
            "scientific institution 1.0195620357990265\n",
            "scientific research 0.17380575882270932\n",
            "scientific standards 0.1864971243776381\n",
            "social sciences 1.9309189170598984\n",
            "technology and engineering 1.0799320414662361\n",
            "communities 10.078440606594086\n",
            "demographics 25.65588653087616\n",
            "discrimination 1.7222484573721886\n",
            "emigration 0.4719529300928116\n",
            "family 1.2191882357001305\n",
            "immigration 0.7268039975315332\n",
            "mankind 4.922156780958176\n",
            "social condition 13.004755973815918\n",
            "social problem 17.66379326581955\n",
            "values 29.22911047935486\n",
            "welfare 0.42660459876060486\n",
            "bodybuilding 0.07891855202615261\n",
            "competition discipline 1.1692877858877182\n",
            "disciplinary action in sport 0.5642497446388006\n",
            "drug use in sport 0.5720219574868679\n",
            "sport event 4.150298237800598\n",
            "sport industry 1.2281959876418114\n",
            "sport organisation 2.4288220331072807\n",
            "sport venue 0.6717456970363855\n",
            "transfer 6.530498713254929\n",
            "weather forecast 0.038312244578264654\n",
            "weather phenomena 0.0751193962059915\n",
            "weather statistic 0.1562821213155985\n",
            "weather warning 0.0863878580275923\n"
          ],
          "name": "stdout"
        }
      ]
    },
    {
      "cell_type": "code",
      "metadata": {
        "id": "ZUMRWJ63x5fc"
      },
      "source": [
        "result_frame = pd.DataFrame(data=results)"
      ],
      "execution_count": 52,
      "outputs": []
    },
    {
      "cell_type": "code",
      "metadata": {
        "colab": {
          "base_uri": "https://localhost:8080/",
          "height": 402
        },
        "id": "6b7j55Mix_hV",
        "outputId": "c43964b6-5091-426f-9d08-f4e576ef2144"
      },
      "source": [
        "result_frame.sort_values(\"prob\",ascending=False)"
      ],
      "execution_count": 53,
      "outputs": [
        {
          "output_type": "execute_result",
          "data": {
            "text/html": [
              "<div>\n",
              "<style scoped>\n",
              "    .dataframe tbody tr th:only-of-type {\n",
              "        vertical-align: middle;\n",
              "    }\n",
              "\n",
              "    .dataframe tbody tr th {\n",
              "        vertical-align: top;\n",
              "    }\n",
              "\n",
              "    .dataframe thead th {\n",
              "        text-align: right;\n",
              "    }\n",
              "</style>\n",
              "<table border=\"1\" class=\"dataframe\">\n",
              "  <thead>\n",
              "    <tr style=\"text-align: right;\">\n",
              "      <th></th>\n",
              "      <th>category</th>\n",
              "      <th>prob</th>\n",
              "    </tr>\n",
              "  </thead>\n",
              "  <tbody>\n",
              "    <tr>\n",
              "      <th>60</th>\n",
              "      <td>election</td>\n",
              "      <td>97.019875</td>\n",
              "    </tr>\n",
              "    <tr>\n",
              "      <th>68</th>\n",
              "      <td>political process</td>\n",
              "      <td>71.554357</td>\n",
              "    </tr>\n",
              "    <tr>\n",
              "      <th>62</th>\n",
              "      <td>government</td>\n",
              "      <td>59.943539</td>\n",
              "    </tr>\n",
              "    <tr>\n",
              "      <th>48</th>\n",
              "      <td>people</td>\n",
              "      <td>38.544866</td>\n",
              "    </tr>\n",
              "    <tr>\n",
              "      <th>63</th>\n",
              "      <td>government policy</td>\n",
              "      <td>38.055763</td>\n",
              "    </tr>\n",
              "    <tr>\n",
              "      <th>...</th>\n",
              "      <td>...</td>\n",
              "      <td>...</td>\n",
              "    </tr>\n",
              "    <tr>\n",
              "      <th>57</th>\n",
              "      <td>exercise and fitness</td>\n",
              "      <td>0.106452</td>\n",
              "    </tr>\n",
              "    <tr>\n",
              "      <th>108</th>\n",
              "      <td>weather warning</td>\n",
              "      <td>0.086388</td>\n",
              "    </tr>\n",
              "    <tr>\n",
              "      <th>96</th>\n",
              "      <td>bodybuilding</td>\n",
              "      <td>0.078919</td>\n",
              "    </tr>\n",
              "    <tr>\n",
              "      <th>106</th>\n",
              "      <td>weather phenomena</td>\n",
              "      <td>0.075119</td>\n",
              "    </tr>\n",
              "    <tr>\n",
              "      <th>105</th>\n",
              "      <td>weather forecast</td>\n",
              "      <td>0.038312</td>\n",
              "    </tr>\n",
              "  </tbody>\n",
              "</table>\n",
              "<p>109 rows × 2 columns</p>\n",
              "</div>"
            ],
            "text/plain": [
              "                 category       prob\n",
              "60               election  97.019875\n",
              "68      political process  71.554357\n",
              "62             government  59.943539\n",
              "48                 people  38.544866\n",
              "63      government policy  38.055763\n",
              "..                    ...        ...\n",
              "57   exercise and fitness   0.106452\n",
              "108       weather warning   0.086388\n",
              "96           bodybuilding   0.078919\n",
              "106     weather phenomena   0.075119\n",
              "105      weather forecast   0.038312\n",
              "\n",
              "[109 rows x 2 columns]"
            ]
          },
          "metadata": {
            "tags": []
          },
          "execution_count": 53
        }
      ]
    },
    {
      "cell_type": "markdown",
      "metadata": {
        "id": "7q-QVbscx6Bm"
      },
      "source": [
        "# Original Code"
      ]
    },
    {
      "cell_type": "code",
      "metadata": {
        "colab": {
          "base_uri": "https://localhost:8080/"
        },
        "id": "EGvgzzCLgECT",
        "outputId": "d4eb930a-2852-45cb-ca0e-495212579bbc"
      },
      "source": [
        "# run through model pre-trained on MNLI\n",
        "input_ids = tokenizer.encode(premise, hypothesis, return_tensors='pt')\n",
        "print(input_ids)\n",
        "logits = model(input_ids)[0]\n",
        "\n",
        "print(logits)\n"
      ],
      "execution_count": null,
      "outputs": [
        {
          "output_type": "stream",
          "text": [
            "tensor([[    0, 12375,    32,    47,  3434,    13,    11,  2760,   116,     2,\n",
            "             2,   713,  2788,    16,    59,  2302,     4,     2]])\n",
            "tensor([[-2.5443,  0.8770,  1.3904]], grad_fn=<AddmmBackward>)\n"
          ],
          "name": "stdout"
        }
      ]
    },
    {
      "cell_type": "code",
      "metadata": {
        "colab": {
          "base_uri": "https://localhost:8080/"
        },
        "id": "WXDvzRw5gO4V",
        "outputId": "c9e7e15b-87fc-49fb-dc43-a92885ce30d3"
      },
      "source": [
        "# we throw away \"neutral\" (dim 1) and take the probability of\n",
        "# \"entailment\" (2) as the probability of the label being true \n",
        "entail_contradiction_logits = logits[:,[0,2]]\n",
        "print(entail_contradiction_logits)\n",
        "probs = entail_contradiction_logits.softmax(dim=1)\n",
        "true_prob = probs[:,1].item() * 100\n",
        "print(f'Probability that the label is true: {true_prob:0.2f}%')"
      ],
      "execution_count": null,
      "outputs": [
        {
          "output_type": "stream",
          "text": [
            "tensor([[-2.5443,  1.3904]], grad_fn=<IndexBackward>)\n",
            "Probability that the label is true: 98.08%\n"
          ],
          "name": "stdout"
        }
      ]
    },
    {
      "cell_type": "code",
      "metadata": {
        "colab": {
          "base_uri": "https://localhost:8080/"
        },
        "id": "DFcEsAOQhE6T",
        "outputId": "ecd210f2-c962-4fb3-d82e-1696857b3bcd"
      },
      "source": [
        "logits[:,[0,1]]"
      ],
      "execution_count": null,
      "outputs": [
        {
          "output_type": "execute_result",
          "data": {
            "text/plain": [
              "tensor([[-2.5443,  0.8770]], grad_fn=<IndexBackward>)"
            ]
          },
          "metadata": {
            "tags": []
          },
          "execution_count": 8
        }
      ]
    },
    {
      "cell_type": "code",
      "metadata": {
        "colab": {
          "base_uri": "https://localhost:8080/"
        },
        "id": "UJryFjZjhPnz",
        "outputId": "59d2af14-b83d-4751-8e59-f0967d26c572"
      },
      "source": [
        "probs"
      ],
      "execution_count": null,
      "outputs": [
        {
          "output_type": "execute_result",
          "data": {
            "text/plain": [
              "tensor([[0.0192, 0.9808]], grad_fn=<SoftmaxBackward>)"
            ]
          },
          "metadata": {
            "tags": []
          },
          "execution_count": 9
        }
      ]
    },
    {
      "cell_type": "code",
      "metadata": {
        "id": "FasQl_dKhe4U"
      },
      "source": [
        ""
      ],
      "execution_count": null,
      "outputs": []
    }
  ]
}