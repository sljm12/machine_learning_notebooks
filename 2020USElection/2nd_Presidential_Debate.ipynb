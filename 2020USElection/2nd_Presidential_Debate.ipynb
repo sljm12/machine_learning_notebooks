{
  "nbformat": 4,
  "nbformat_minor": 0,
  "metadata": {
    "colab": {
      "name": "2nd Presidential Debate",
      "provenance": [],
      "collapsed_sections": [],
      "toc_visible": true,
      "mount_file_id": "1NcK2fP8jbO5ssxmEox0qCnGF8Da6J9M8",
      "authorship_tag": "ABX9TyN0/zm2skqil16k1yJP7izB",
      "include_colab_link": true
    },
    "kernelspec": {
      "name": "python3",
      "display_name": "Python 3"
    }
  },
  "cells": [
    {
      "cell_type": "markdown",
      "metadata": {
        "id": "view-in-github",
        "colab_type": "text"
      },
      "source": [
        "<a href=\"https://colab.research.google.com/github/sljm12/machine_learning_notebooks/blob/master/2020USElection/2nd_Presidential_Debate.ipynb\" target=\"_parent\"><img src=\"https://colab.research.google.com/assets/colab-badge.svg\" alt=\"Open In Colab\"/></a>"
      ]
    },
    {
      "cell_type": "code",
      "metadata": {
        "id": "JsrHq9oorBPr",
        "outputId": "ee2a180a-e598-4b13-9dd2-4551d094812a",
        "colab": {
          "base_uri": "https://localhost:8080/",
          "height": 153
        }
      },
      "source": [
        "!pip -q install newspaper3k"
      ],
      "execution_count": 1,
      "outputs": [
        {
          "output_type": "stream",
          "text": [
            "\u001b[K     |████████████████████████████████| 215kB 2.6MB/s \n",
            "\u001b[K     |████████████████████████████████| 7.4MB 8.4MB/s \n",
            "\u001b[K     |████████████████████████████████| 92kB 9.3MB/s \n",
            "\u001b[K     |████████████████████████████████| 81kB 8.0MB/s \n",
            "\u001b[?25h  Building wheel for jieba3k (setup.py) ... \u001b[?25l\u001b[?25hdone\n",
            "  Building wheel for feedfinder2 (setup.py) ... \u001b[?25l\u001b[?25hdone\n",
            "  Building wheel for tinysegmenter (setup.py) ... \u001b[?25l\u001b[?25hdone\n",
            "  Building wheel for sgmllib3k (setup.py) ... \u001b[?25l\u001b[?25hdone\n"
          ],
          "name": "stdout"
        }
      ]
    },
    {
      "cell_type": "code",
      "metadata": {
        "id": "9RGIgXK6Jp6d"
      },
      "source": [
        "import spacy"
      ],
      "execution_count": 2,
      "outputs": []
    },
    {
      "cell_type": "code",
      "metadata": {
        "id": "kK4_C_M3GT5x"
      },
      "source": [
        "%matplotlib inline\n",
        "import matplotlib.pyplot as plt\n",
        "plt.style.use(\"ggplot\")\n",
        "\n",
        "import pandas as pd\n",
        "import numpy as np\n",
        "\n",
        "import tensorflow as tf\n",
        "\n",
        "from tensorflow.keras.preprocessing import sequence\n",
        "from tensorflow.keras.preprocessing.text import Tokenizer, text_to_word_sequence, tokenizer_from_json\n",
        "from tensorflow.keras.models import Model\n",
        "from tensorflow.keras.layers import LSTM, Embedding, Dense, TimeDistributed, Dropout, Bidirectional, Input\n",
        "\n",
        "from tensorflow.keras.optimizers import Adam\n",
        "from tensorflow.keras.preprocessing.sequence import pad_sequences\n",
        "import json\n",
        "from sklearn.utils import shuffle\n",
        "from sklearn.model_selection import train_test_split\n",
        "from sklearn.preprocessing import OneHotEncoder\n",
        "from pathlib import Path"
      ],
      "execution_count": 3,
      "outputs": []
    },
    {
      "cell_type": "markdown",
      "metadata": {
        "id": "IpDb45cM3Jzy"
      },
      "source": [
        "# Processing the data"
      ]
    },
    {
      "cell_type": "code",
      "metadata": {
        "id": "YIJqSotDwgH1"
      },
      "source": [
        "from bs4 import BeautifulSoup\n",
        "import requests"
      ],
      "execution_count": 4,
      "outputs": []
    },
    {
      "cell_type": "code",
      "metadata": {
        "id": "-UabPaSJwjvb"
      },
      "source": [
        "soup = BeautifulSoup(requests.get(\"https://www.rev.com/blog/transcripts/donald-trump-joe-biden-final-presidential-debate-transcript-2020\").text)"
      ],
      "execution_count": 5,
      "outputs": []
    },
    {
      "cell_type": "code",
      "metadata": {
        "id": "YM4TTk_Xwr1c"
      },
      "source": [
        "text=soup.find(\"div\",{\"class\":\"fl-callout-text\"})"
      ],
      "execution_count": 6,
      "outputs": []
    },
    {
      "cell_type": "code",
      "metadata": {
        "id": "ioWhQRgmw3Xc"
      },
      "source": [
        "rows=text.find_all(\"p\")\n"
      ],
      "execution_count": 7,
      "outputs": []
    },
    {
      "cell_type": "code",
      "metadata": {
        "id": "Nj0JXER7zgOl",
        "outputId": "75cab2cb-3b2c-4cd5-dc68-9f6b296e4650",
        "colab": {
          "base_uri": "https://localhost:8080/",
          "height": 34
        }
      },
      "source": [
        "len(rows)"
      ],
      "execution_count": 8,
      "outputs": [
        {
          "output_type": "execute_result",
          "data": {
            "text/plain": [
              "512"
            ]
          },
          "metadata": {
            "tags": []
          },
          "execution_count": 8
        }
      ]
    },
    {
      "cell_type": "code",
      "metadata": {
        "id": "wSj1rye_z0GN"
      },
      "source": [
        "rows_text = [r.text for r in rows]\n",
        "full_text = ''.join(rows_text)"
      ],
      "execution_count": 9,
      "outputs": []
    },
    {
      "cell_type": "code",
      "metadata": {
        "id": "D_Gt-jMM0D0c",
        "outputId": "7f485c3a-79d2-40de-94b1-a3e1cd1a7f98",
        "colab": {
          "base_uri": "https://localhost:8080/",
          "height": 120
        }
      },
      "source": [
        "rows[2].text"
      ],
      "execution_count": 10,
      "outputs": [
        {
          "output_type": "execute_result",
          "data": {
            "application/vnd.google.colaboratory.intrinsic+json": {
              "type": "string"
            },
            "text/plain": [
              "'Kristen Welker: (07:58)\\nAnd I do want to say a very good evening to both of you. This debate will cover six major topics. At the beginning of each section, each candidate will have two minutes, uninterrupted, to answer my first question. The Debate Commission will then turn on their microphone only when it is their turn to answer. And the Commission will turn it off exactly when the two minutes have expired. After that, both microphones will remain on. But on behalf of the voters, I’m going to ask you to please speak one at a time.'"
            ]
          },
          "metadata": {
            "tags": []
          },
          "execution_count": 10
        }
      ]
    },
    {
      "cell_type": "code",
      "metadata": {
        "id": "Lg46SBWrzmJk",
        "outputId": "35b899bd-2661-4bc3-bcb3-74e2d09e0503",
        "colab": {
          "base_uri": "https://localhost:8080/",
          "height": 35
        }
      },
      "source": [
        "rows[511].text"
      ],
      "execution_count": 11,
      "outputs": [
        {
          "output_type": "execute_result",
          "data": {
            "application/vnd.google.colaboratory.intrinsic+json": {
              "type": "string"
            },
            "text/plain": [
              "'Joe Biden: (27:16)\\nThank you.'"
            ]
          },
          "metadata": {
            "tags": []
          },
          "execution_count": 11
        }
      ]
    },
    {
      "cell_type": "code",
      "metadata": {
        "id": "Tm-Wxtmq0dtz"
      },
      "source": [
        "lines = []\n",
        "for r in rows:\n",
        "  a = r.text.split('\\n',1)\n",
        "  lines = lines +a "
      ],
      "execution_count": 12,
      "outputs": []
    },
    {
      "cell_type": "code",
      "metadata": {
        "id": "JEnobAfgrxye",
        "outputId": "743b8041-889b-4c25-ce7b-f6550d344122",
        "colab": {
          "base_uri": "https://localhost:8080/",
          "height": 207
        }
      },
      "source": [
        "lines[0:10]"
      ],
      "execution_count": 13,
      "outputs": [
        {
          "output_type": "execute_result",
          "data": {
            "text/plain": [
              "['Kristen Welker: (00:18)',\n",
              " 'Good evening, everyone. Good evening. Thank you so much for being here. It is such an honor for me to moderate this debate tonight, the final debate. I want to welcome the first family and the first lady. We’re so glad and thankful that you are feeling better. I want to welcome the Biden family, Dr. Jill Biden. Thank you all for being here tonight. We are so excited. We’re looking forward to a really robust discussion. And the only thing I would reiterate are the CPD guidelines that when the candidates are talking, please hold any applause or any other reactions. Except of course, when they walk out, make sure you cheer and loud and applause so that everyone can hear you. Thank you for having me. This is really the honor of a lifetime. I am going to sit down and just get organized and get settled and the show will start very soon. Thank you for being here. (silence). Good evening from Belmont University in Nashville, Tennessee. I’m Kristen Welker of NBC News. And I welcome you to the final 2020 presidential debate between President Donald J. Trump and former vice president Joe Biden. Tonight’s debate is sponsored by the Commission on Presidential Debates. It is conducted under health and safety protocols designed by the Commission’s health security advisor. The audience here in the hall has promised to remain silent. No cheers, boos, or other interruptions, except right now, as we welcome to the stage, former vice president Joe Biden and President Donald J. Trump.',\n",
              " 'Donald Trump: (07:37)',\n",
              " 'How are you doing? How are you?',\n",
              " 'Kristen Welker: (07:58)',\n",
              " 'And I do want to say a very good evening to both of you. This debate will cover six major topics. At the beginning of each section, each candidate will have two minutes, uninterrupted, to answer my first question. The Debate Commission will then turn on their microphone only when it is their turn to answer. And the Commission will turn it off exactly when the two minutes have expired. After that, both microphones will remain on. But on behalf of the voters, I’m going to ask you to please speak one at a time.',\n",
              " 'Kristen Welker: (08:27)',\n",
              " 'The goal is for you to hear each other and for the American people to hear every word of what you both have to say. And so with that, if you’re ready, let’s start. And we will begin with the fight against the coronavirus. President Trump, the first question is for you. The country is heading into a dangerous new phase. More than 40,000 Americans are in the hospital tonight with COVID, including record numbers here in Tennessee. And since the two of you last shared a stage, 16,000 Americans have died from COVID. So please be specific. How would you lead the country during this next stage of the coronavirus crisis? Two minutes, uninterrupted.',\n",
              " 'Kristen Welker: (09:03)',\n",
              " '… during this next stage of the coronavirus crisis. Two minutes uninterrupted.']"
            ]
          },
          "metadata": {
            "tags": []
          },
          "execution_count": 13
        }
      ]
    },
    {
      "cell_type": "code",
      "metadata": {
        "id": "nlmAMm0cbeUH",
        "outputId": "6ba8ad0e-3dcf-4958-8e36-7af900b52748",
        "colab": {
          "base_uri": "https://localhost:8080/",
          "height": 34
        }
      },
      "source": [
        "len(lines)"
      ],
      "execution_count": 14,
      "outputs": [
        {
          "output_type": "execute_result",
          "data": {
            "text/plain": [
              "1024"
            ]
          },
          "metadata": {
            "tags": []
          },
          "execution_count": 14
        }
      ]
    },
    {
      "cell_type": "code",
      "metadata": {
        "id": "jZ3ygoT6bgPW",
        "outputId": "ac125030-66e0-4526-a75d-29fc403aaac5",
        "colab": {
          "base_uri": "https://localhost:8080/",
          "height": 35
        }
      },
      "source": [
        "lines[1023]"
      ],
      "execution_count": 15,
      "outputs": [
        {
          "output_type": "execute_result",
          "data": {
            "application/vnd.google.colaboratory.intrinsic+json": {
              "type": "string"
            },
            "text/plain": [
              "'Thank you.'"
            ]
          },
          "metadata": {
            "tags": []
          },
          "execution_count": 15
        }
      ]
    },
    {
      "cell_type": "code",
      "metadata": {
        "id": "67vC_9dOryvH"
      },
      "source": [
        "def get_name_time(s):\n",
        "  name, ti = s.split(':',1)\n",
        "  ti = ti.replace('(',\"\")\n",
        "  ti = ti.replace(')',\"\")\n",
        "  return name,ti\n",
        "\n",
        "rows = []\n",
        "current_data={\n",
        "    \"name\":'',\n",
        "    'time': '',\n",
        "    \"text\":''\n",
        "}\n",
        "\n",
        "for i in lines:\n",
        "  i=i.strip()\n",
        "\n",
        "  if i.endswith(')'):\n",
        "    rows.append(current_data)\n",
        "    current_data={\n",
        "      \"name\":'',\n",
        "      'time': '',\n",
        "      \"text\":''\n",
        "    }\n",
        "    n, t = get_name_time(i)\n",
        "    current_data[\"name\"]=n\n",
        "    current_data[\"time\"]=t.strip()\n",
        "  else:\n",
        "    current_data[\"text\"]=i"
      ],
      "execution_count": 16,
      "outputs": []
    },
    {
      "cell_type": "code",
      "metadata": {
        "id": "lLr14XmLZQos",
        "outputId": "6204ce2e-e2af-43e7-daef-3beb275e7bd0",
        "colab": {
          "base_uri": "https://localhost:8080/",
          "height": 258
        }
      },
      "source": [
        "rows[0:5]"
      ],
      "execution_count": 17,
      "outputs": [
        {
          "output_type": "execute_result",
          "data": {
            "text/plain": [
              "[{'name': '', 'text': '', 'time': ''},\n",
              " {'name': 'Kristen Welker',\n",
              "  'text': 'Good evening, everyone. Good evening. Thank you so much for being here. It is such an honor for me to moderate this debate tonight, the final debate. I want to welcome the first family and the first lady. We’re so glad and thankful that you are feeling better. I want to welcome the Biden family, Dr. Jill Biden. Thank you all for being here tonight. We are so excited. We’re looking forward to a really robust discussion. And the only thing I would reiterate are the CPD guidelines that when the candidates are talking, please hold any applause or any other reactions. Except of course, when they walk out, make sure you cheer and loud and applause so that everyone can hear you. Thank you for having me. This is really the honor of a lifetime. I am going to sit down and just get organized and get settled and the show will start very soon. Thank you for being here. (silence). Good evening from Belmont University in Nashville, Tennessee. I’m Kristen Welker of NBC News. And I welcome you to the final 2020 presidential debate between President Donald J. Trump and former vice president Joe Biden. Tonight’s debate is sponsored by the Commission on Presidential Debates. It is conducted under health and safety protocols designed by the Commission’s health security advisor. The audience here in the hall has promised to remain silent. No cheers, boos, or other interruptions, except right now, as we welcome to the stage, former vice president Joe Biden and President Donald J. Trump.',\n",
              "  'time': '00:18'},\n",
              " {'name': 'Donald Trump',\n",
              "  'text': 'How are you doing? How are you?',\n",
              "  'time': '07:37'},\n",
              " {'name': 'Kristen Welker',\n",
              "  'text': 'And I do want to say a very good evening to both of you. This debate will cover six major topics. At the beginning of each section, each candidate will have two minutes, uninterrupted, to answer my first question. The Debate Commission will then turn on their microphone only when it is their turn to answer. And the Commission will turn it off exactly when the two minutes have expired. After that, both microphones will remain on. But on behalf of the voters, I’m going to ask you to please speak one at a time.',\n",
              "  'time': '07:58'},\n",
              " {'name': 'Kristen Welker',\n",
              "  'text': 'The goal is for you to hear each other and for the American people to hear every word of what you both have to say. And so with that, if you’re ready, let’s start. And we will begin with the fight against the coronavirus. President Trump, the first question is for you. The country is heading into a dangerous new phase. More than 40,000 Americans are in the hospital tonight with COVID, including record numbers here in Tennessee. And since the two of you last shared a stage, 16,000 Americans have died from COVID. So please be specific. How would you lead the country during this next stage of the coronavirus crisis? Two minutes, uninterrupted.',\n",
              "  'time': '08:27'}]"
            ]
          },
          "metadata": {
            "tags": []
          },
          "execution_count": 17
        }
      ]
    },
    {
      "cell_type": "code",
      "metadata": {
        "id": "z0EFtSOhIXQw"
      },
      "source": [
        "#Split into sentences\n",
        "nlp = spacy.load(\"en_core_web_sm\")\n",
        "sent_data = []\n",
        "for i in rows:\n",
        "  name = i[\"name\"]\n",
        "  sentences = nlp(i[\"text\"]).sents\n",
        "  for s in sentences:\n",
        "    sent_data.append({\n",
        "        \"name\":name,\n",
        "        \"text\": s.text\n",
        "    })"
      ],
      "execution_count": 18,
      "outputs": []
    },
    {
      "cell_type": "code",
      "metadata": {
        "id": "B2htDkhYLTMq",
        "outputId": "582b9006-5a23-48d1-c5df-33da5b0c473d",
        "colab": {
          "base_uri": "https://localhost:8080/",
          "height": 445
        }
      },
      "source": [
        "for s in nlp(rows[1][\"text\"]).sents:\n",
        "  print(s.text)"
      ],
      "execution_count": 19,
      "outputs": [
        {
          "output_type": "stream",
          "text": [
            "Good evening, everyone.\n",
            "Good evening.\n",
            "Thank you so much for being here.\n",
            "It is such an honor for me to moderate this debate tonight, the final debate.\n",
            "I want to welcome the first family and the first lady.\n",
            "We’re so glad and thankful that you are feeling better.\n",
            "I want to welcome the Biden family, Dr. Jill Biden.\n",
            "Thank you all for being here tonight.\n",
            "We are so excited.\n",
            "We’re looking forward to a really robust discussion.\n",
            "And the only thing I would reiterate are the CPD guidelines that when the candidates are talking, please hold any applause or any other reactions.\n",
            "Except of course, when they walk out, make sure you cheer and loud and applause so that everyone can hear you.\n",
            "Thank you for having me.\n",
            "This is really the honor of a lifetime.\n",
            "I am going to sit down and just get organized and get settled and the show will start very soon.\n",
            "Thank you for being here.\n",
            "(silence).\n",
            "Good evening from Belmont University in Nashville, Tennessee.\n",
            "I’m Kristen Welker of NBC News.\n",
            "And I welcome you to the final 2020 presidential debate between President Donald J. Trump and former vice president Joe Biden.\n",
            "Tonight’s debate is sponsored by the Commission on Presidential Debates.\n",
            "It is conducted under health and safety protocols designed by the Commission’s health security advisor.\n",
            "The audience here in the hall has promised to remain silent.\n",
            "No cheers, boos, or other interruptions, except right now, as we welcome to the stage, former vice president Joe Biden and President Donald J. Trump.\n"
          ],
          "name": "stdout"
        }
      ]
    },
    {
      "cell_type": "code",
      "metadata": {
        "id": "dQVg17MQZSkA",
        "outputId": "010ed547-0350-471e-81a9-f2ee645ec771",
        "colab": {
          "base_uri": "https://localhost:8080/",
          "height": 34
        }
      },
      "source": [
        "len(sent_data)"
      ],
      "execution_count": 20,
      "outputs": [
        {
          "output_type": "execute_result",
          "data": {
            "text/plain": [
              "1846"
            ]
          },
          "metadata": {
            "tags": []
          },
          "execution_count": 20
        }
      ]
    },
    {
      "cell_type": "code",
      "metadata": {
        "id": "ONWcWcvGLOj7",
        "outputId": "37afd8e0-31a3-482b-b8b9-f05b3a59a919",
        "colab": {
          "base_uri": "https://localhost:8080/",
          "height": 34
        }
      },
      "source": [
        "sent_data[0]"
      ],
      "execution_count": 21,
      "outputs": [
        {
          "output_type": "execute_result",
          "data": {
            "text/plain": [
              "{'name': 'Kristen Welker', 'text': 'Good evening, everyone.'}"
            ]
          },
          "metadata": {
            "tags": []
          },
          "execution_count": 21
        }
      ]
    },
    {
      "cell_type": "code",
      "metadata": {
        "id": "8xIRx7MKbS0a",
        "outputId": "411ede43-2936-41ac-cf1e-56c11ea50425",
        "colab": {
          "base_uri": "https://localhost:8080/",
          "height": 88
        }
      },
      "source": [
        "rows[419]"
      ],
      "execution_count": 22,
      "outputs": [
        {
          "output_type": "execute_result",
          "data": {
            "text/plain": [
              "{'name': 'Joe Biden',\n",
              " 'text': 'Because what it does, it will create millions of new good paying jobs, we’re going to invest in, for example, 500,000… Excuse me, 50,000 charging stations on our highways so that we can own the electric car market of the future. In the meantime, China is doing that. We’re going to be in a position where we’re going to see to it that we’re going to take 4 million existing buildings and 2 million existing homes and retrofit them so they don’t leak as much energy, saving hundreds of millions of barrels of…',\n",
              " 'time': '15:32'}"
            ]
          },
          "metadata": {
            "tags": []
          },
          "execution_count": 22
        }
      ]
    },
    {
      "cell_type": "markdown",
      "metadata": {
        "id": "U2FdfgxMB1GG"
      },
      "source": [
        "# Prediction"
      ]
    },
    {
      "cell_type": "code",
      "metadata": {
        "id": "uwyHDM1I-_Te"
      },
      "source": [
        "max_len =100\n",
        "max_features = 20000\n",
        "batch_size=64\n",
        "dims=50"
      ],
      "execution_count": 29,
      "outputs": []
    },
    {
      "cell_type": "markdown",
      "metadata": {
        "id": "_RG6HCu5B3ke"
      },
      "source": [
        "Loading back the tokenizer that we use in the Trump Biden Kamala Classifier"
      ]
    },
    {
      "cell_type": "code",
      "metadata": {
        "id": "ePVYSimUbUoF"
      },
      "source": [
        "j = json.loads(Path(\"/content/drive/My Drive/Machine Learning/2020USElectionModel/token.json\").read_text())\n",
        "tokenizer = tokenizer_from_json(j)"
      ],
      "execution_count": 23,
      "outputs": []
    },
    {
      "cell_type": "markdown",
      "metadata": {
        "id": "yEtNrp1oB9rF"
      },
      "source": [
        "Loading back the model that we have trained for 30 Epochs in the LSTM model"
      ]
    },
    {
      "cell_type": "code",
      "metadata": {
        "id": "TKFI45lEGwJM"
      },
      "source": [
        "model = tf.keras.models.load_model(\"/content/drive/My Drive/Machine Learning/2020USElectionModel/LSTM30epochs\")"
      ],
      "execution_count": 24,
      "outputs": []
    },
    {
      "cell_type": "markdown",
      "metadata": {
        "id": "QGi7Pb4nCEpt"
      },
      "source": [
        "Tokenize the data and pad it and predict"
      ]
    },
    {
      "cell_type": "code",
      "metadata": {
        "id": "FjSbTqaKIvWN"
      },
      "source": [
        "sent_data_df=pd.DataFrame(data=sent_data)"
      ],
      "execution_count": 26,
      "outputs": []
    },
    {
      "cell_type": "code",
      "metadata": {
        "id": "EwfTnWmaKzsz"
      },
      "source": [
        "X = tokenizer.texts_to_sequences(sent_data_df[\"text\"])"
      ],
      "execution_count": 27,
      "outputs": []
    },
    {
      "cell_type": "code",
      "metadata": {
        "id": "xvv9P96fK7QS"
      },
      "source": [
        "x_train_pad=pad_sequences(maxlen=max_len, sequences=X, padding=\"post\", value=0)"
      ],
      "execution_count": 30,
      "outputs": []
    },
    {
      "cell_type": "code",
      "metadata": {
        "id": "eTK1uAGmMEv1"
      },
      "source": [
        "predict = model.predict(x_train_pad)"
      ],
      "execution_count": 31,
      "outputs": []
    },
    {
      "cell_type": "code",
      "metadata": {
        "id": "fKwT98Lq_PQc",
        "outputId": "0d633c4f-7c74-45e0-d0ca-b6b829b7f8eb",
        "colab": {
          "base_uri": "https://localhost:8080/",
          "height": 34
        }
      },
      "source": [
        "predict.shape"
      ],
      "execution_count": 32,
      "outputs": [
        {
          "output_type": "execute_result",
          "data": {
            "text/plain": [
              "(1846, 5)"
            ]
          },
          "metadata": {
            "tags": []
          },
          "execution_count": 32
        }
      ]
    },
    {
      "cell_type": "markdown",
      "metadata": {
        "id": "AZeM3-5xCKau"
      },
      "source": [
        "Lets get the answer in terms of names"
      ]
    },
    {
      "cell_type": "code",
      "metadata": {
        "id": "kMgM9MnD_Rv6"
      },
      "source": [
        "answer = ['Bernie Sanders', 'Joe Biden', 'Kamala Harris', 'Donald Trump',\n",
        "       'Mike Pence']\n",
        "results = []\n",
        "for i in predict:\n",
        "  pos = np.argmax(i)\n",
        "  results.append(answer[pos])"
      ],
      "execution_count": 34,
      "outputs": []
    },
    {
      "cell_type": "markdown",
      "metadata": {
        "id": "3SdFy7LrCOAL"
      },
      "source": [
        "Add it to the dataframe"
      ]
    },
    {
      "cell_type": "code",
      "metadata": {
        "id": "8laCAyzE_xO7"
      },
      "source": [
        "sent_data_df[\"results\"]=results"
      ],
      "execution_count": 35,
      "outputs": []
    },
    {
      "cell_type": "code",
      "metadata": {
        "id": "dijju2k5AEdI",
        "outputId": "c77d35f8-1a68-4eac-a033-3eea942f6faf",
        "colab": {
          "base_uri": "https://localhost:8080/",
          "height": 235
        }
      },
      "source": [
        "# Lets see the results for Donald Trump, seems to identify Donald Trump very well\n",
        "sent_data_df[sent_data_df[\"name\"]==\"Donald Trump\"].groupby(\"results\").count()"
      ],
      "execution_count": 45,
      "outputs": [
        {
          "output_type": "execute_result",
          "data": {
            "text/html": [
              "<div>\n",
              "<style scoped>\n",
              "    .dataframe tbody tr th:only-of-type {\n",
              "        vertical-align: middle;\n",
              "    }\n",
              "\n",
              "    .dataframe tbody tr th {\n",
              "        vertical-align: top;\n",
              "    }\n",
              "\n",
              "    .dataframe thead th {\n",
              "        text-align: right;\n",
              "    }\n",
              "</style>\n",
              "<table border=\"1\" class=\"dataframe\">\n",
              "  <thead>\n",
              "    <tr style=\"text-align: right;\">\n",
              "      <th></th>\n",
              "      <th>name</th>\n",
              "      <th>text</th>\n",
              "    </tr>\n",
              "    <tr>\n",
              "      <th>results</th>\n",
              "      <th></th>\n",
              "      <th></th>\n",
              "    </tr>\n",
              "  </thead>\n",
              "  <tbody>\n",
              "    <tr>\n",
              "      <th>Bernie Sanders</th>\n",
              "      <td>16</td>\n",
              "      <td>16</td>\n",
              "    </tr>\n",
              "    <tr>\n",
              "      <th>Donald Trump</th>\n",
              "      <td>701</td>\n",
              "      <td>701</td>\n",
              "    </tr>\n",
              "    <tr>\n",
              "      <th>Joe Biden</th>\n",
              "      <td>119</td>\n",
              "      <td>119</td>\n",
              "    </tr>\n",
              "    <tr>\n",
              "      <th>Kamala Harris</th>\n",
              "      <td>9</td>\n",
              "      <td>9</td>\n",
              "    </tr>\n",
              "    <tr>\n",
              "      <th>Mike Pence</th>\n",
              "      <td>8</td>\n",
              "      <td>8</td>\n",
              "    </tr>\n",
              "  </tbody>\n",
              "</table>\n",
              "</div>"
            ],
            "text/plain": [
              "                name  text\n",
              "results                   \n",
              "Bernie Sanders    16    16\n",
              "Donald Trump     701   701\n",
              "Joe Biden        119   119\n",
              "Kamala Harris      9     9\n",
              "Mike Pence         8     8"
            ]
          },
          "metadata": {
            "tags": []
          },
          "execution_count": 45
        }
      ]
    },
    {
      "cell_type": "code",
      "metadata": {
        "id": "Be11PU3QApqu",
        "outputId": "1dc132ef-c4db-4ab3-94fe-e70825220d6a",
        "colab": {
          "base_uri": "https://localhost:8080/",
          "height": 235
        }
      },
      "source": [
        "#Still manage to identify that its Joe Biden but not as strong as the Donald Trump one\n",
        "sent_data_df[sent_data_df[\"name\"]==\"Joe Biden\"].groupby(\"results\").count()"
      ],
      "execution_count": 47,
      "outputs": [
        {
          "output_type": "execute_result",
          "data": {
            "text/html": [
              "<div>\n",
              "<style scoped>\n",
              "    .dataframe tbody tr th:only-of-type {\n",
              "        vertical-align: middle;\n",
              "    }\n",
              "\n",
              "    .dataframe tbody tr th {\n",
              "        vertical-align: top;\n",
              "    }\n",
              "\n",
              "    .dataframe thead th {\n",
              "        text-align: right;\n",
              "    }\n",
              "</style>\n",
              "<table border=\"1\" class=\"dataframe\">\n",
              "  <thead>\n",
              "    <tr style=\"text-align: right;\">\n",
              "      <th></th>\n",
              "      <th>name</th>\n",
              "      <th>text</th>\n",
              "    </tr>\n",
              "    <tr>\n",
              "      <th>results</th>\n",
              "      <th></th>\n",
              "      <th></th>\n",
              "    </tr>\n",
              "  </thead>\n",
              "  <tbody>\n",
              "    <tr>\n",
              "      <th>Bernie Sanders</th>\n",
              "      <td>14</td>\n",
              "      <td>14</td>\n",
              "    </tr>\n",
              "    <tr>\n",
              "      <th>Donald Trump</th>\n",
              "      <td>256</td>\n",
              "      <td>256</td>\n",
              "    </tr>\n",
              "    <tr>\n",
              "      <th>Joe Biden</th>\n",
              "      <td>304</td>\n",
              "      <td>304</td>\n",
              "    </tr>\n",
              "    <tr>\n",
              "      <th>Kamala Harris</th>\n",
              "      <td>8</td>\n",
              "      <td>8</td>\n",
              "    </tr>\n",
              "    <tr>\n",
              "      <th>Mike Pence</th>\n",
              "      <td>8</td>\n",
              "      <td>8</td>\n",
              "    </tr>\n",
              "  </tbody>\n",
              "</table>\n",
              "</div>"
            ],
            "text/plain": [
              "                name  text\n",
              "results                   \n",
              "Bernie Sanders    14    14\n",
              "Donald Trump     256   256\n",
              "Joe Biden        304   304\n",
              "Kamala Harris      8     8\n",
              "Mike Pence         8     8"
            ]
          },
          "metadata": {
            "tags": []
          },
          "execution_count": 47
        }
      ]
    },
    {
      "cell_type": "code",
      "metadata": {
        "id": "4ocXKQXOAqqm"
      },
      "source": [
        ""
      ],
      "execution_count": null,
      "outputs": []
    }
  ]
}