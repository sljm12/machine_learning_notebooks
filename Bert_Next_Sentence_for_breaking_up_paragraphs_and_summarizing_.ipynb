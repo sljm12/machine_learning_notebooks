{
  "nbformat": 4,
  "nbformat_minor": 0,
  "metadata": {
    "colab": {
      "name": "Bert Next Sentence for breaking up paragraphs and summarizing .ipynb",
      "provenance": [],
      "collapsed_sections": [
        "mYbKM5yApEFT"
      ],
      "toc_visible": true,
      "authorship_tag": "ABX9TyMqfZzvVjaAPhF2AGo4dg+A",
      "include_colab_link": true
    },
    "kernelspec": {
      "name": "python3",
      "display_name": "Python 3"
    }
  },
  "cells": [
    {
      "cell_type": "markdown",
      "metadata": {
        "id": "view-in-github",
        "colab_type": "text"
      },
      "source": [
        "<a href=\"https://colab.research.google.com/github/sljm12/machine_learning_notebooks/blob/master/Bert_Next_Sentence_for_breaking_up_paragraphs_and_summarizing_.ipynb\" target=\"_parent\"><img src=\"https://colab.research.google.com/assets/colab-badge.svg\" alt=\"Open In Colab\"/></a>"
      ]
    },
    {
      "cell_type": "markdown",
      "metadata": {
        "id": "XtY3hQ7zniOJ",
        "colab_type": "text"
      },
      "source": [
        "Testing if Bert Next Sentence is able to break up News summaries into seperate news bites."
      ]
    },
    {
      "cell_type": "code",
      "metadata": {
        "id": "GxAynsK8aYLy",
        "colab_type": "code",
        "colab": {}
      },
      "source": [
        "!pip -q install transformers"
      ],
      "execution_count": 106,
      "outputs": []
    },
    {
      "cell_type": "code",
      "metadata": {
        "id": "mSTL7I0FYK9U",
        "colab_type": "code",
        "colab": {}
      },
      "source": [
        "import tensorflow as tf\n",
        "from transformers import BertTokenizer, TFBertForNextSentencePrediction"
      ],
      "execution_count": 107,
      "outputs": []
    },
    {
      "cell_type": "code",
      "metadata": {
        "id": "HgSue5XYaSUF",
        "colab_type": "code",
        "colab": {
          "base_uri": "https://localhost:8080/",
          "height": 121
        },
        "outputId": "468e7d5c-6d4e-4861-ed88-042966378c18"
      },
      "source": [
        "tokenizer = BertTokenizer.from_pretrained('bert-base-uncased')\n",
        "model = TFBertForNextSentencePrediction.from_pretrained('bert-base-uncased')"
      ],
      "execution_count": 108,
      "outputs": [
        {
          "output_type": "stream",
          "text": [
            "Some weights of the model checkpoint at bert-base-uncased were not used when initializing TFBertForNextSentencePrediction: ['mlm___cls']\n",
            "- This IS expected if you are initializing TFBertForNextSentencePrediction from the checkpoint of a model trained on another task or with another architecture (e.g. initializing a BertForSequenceClassification model from a BertForPretraining model).\n",
            "- This IS NOT expected if you are initializing TFBertForNextSentencePrediction from the checkpoint of a model that you expect to be exactly identical (initializing a BertForSequenceClassification model from a BertForSequenceClassification model).\n",
            "All the weights of TFBertForNextSentencePrediction were initialized from the model checkpoint at bert-base-uncased.\n",
            "If your task is similar to the task the model of the checkpoint was trained on, you can already use TFBertForNextSentencePrediction for predictions without further training.\n"
          ],
          "name": "stderr"
        }
      ]
    },
    {
      "cell_type": "markdown",
      "metadata": {
        "id": "qgy_27Lioxmd",
        "colab_type": "text"
      },
      "source": [
        "# Preprocess the text"
      ]
    },
    {
      "cell_type": "code",
      "metadata": {
        "id": "_F4lRLuWo63V",
        "colab_type": "code",
        "colab": {}
      },
      "source": [
        "!pip -q install newspaper3k"
      ],
      "execution_count": 109,
      "outputs": []
    },
    {
      "cell_type": "code",
      "metadata": {
        "id": "jOgJYCi0pEs3",
        "colab_type": "code",
        "colab": {}
      },
      "source": [
        "from newspaper import Article, ArticleException"
      ],
      "execution_count": 110,
      "outputs": []
    },
    {
      "cell_type": "code",
      "metadata": {
        "id": "Tv2TGyAlpFxO",
        "colab_type": "code",
        "colab": {}
      },
      "source": [
        "url = \"https://www.asiaone.com/entertainment/darren-lim-turns-his-yacht-business-opportunity-takes-people-out-rides\" #@param [\"https://www.straitstimes.com/singapore/the-news-in-5-minutes-6\",\"https://www.pmo.gov.sg/Newsroom/National-Day-Rally-2019\",\"https://www.channelnewsasia.com/news/asia/malaysia-anwar-ibrahim-strong-majority-form-new-government-13136908\",\"https://www.bbc.com/news/world-asia-54174598\",\"https://www.straitstimes.com/tech/ibm-to-train-800-mid-career-people-in-ai-cyber-security\",\"https://www.asiaone.com/entertainment/darren-lim-turns-his-yacht-business-opportunity-takes-people-out-rides\"]\n",
        "a=Article(url)\n",
        "a.download()\n",
        "a.parse()\n",
        "text = a.text"
      ],
      "execution_count": 111,
      "outputs": []
    },
    {
      "cell_type": "code",
      "metadata": {
        "id": "CDUoId0zxR1N",
        "colab_type": "code",
        "colab": {}
      },
      "source": [
        "filename = url.replace(\":\",\"\").replace(\"/\",\"_\")"
      ],
      "execution_count": 112,
      "outputs": []
    },
    {
      "cell_type": "code",
      "metadata": {
        "id": "BJ21meDLpQuV",
        "colab_type": "code",
        "colab": {
          "base_uri": "https://localhost:8080/",
          "height": 137
        },
        "outputId": "97d1a242-8bf7-4488-9788-ac0e68287aed"
      },
      "source": [
        "text"
      ],
      "execution_count": 113,
      "outputs": [
        {
          "output_type": "execute_result",
          "data": {
            "application/vnd.google.colaboratory.intrinsic+json": {
              "type": "string"
            },
            "text/plain": [
              "'Thinking of a quick getaway but want to be a little unconventional?\\n\\nWhy not take a ride on Darren Lim\\'s yacht Gracefully? The 47-year-old is now offering a short trip on his boat where you\\'ll travel from the south of Singapore to the north. The trip will take six hours, and you\\'ll get a chance to see a different side of our Lion City.\\n\\nThe local actor-host was previously living aboard the yacht for four years with wife, former actress Evelyn Tan, and their four kids before he moved to a house so their kids can experience school life.\\n\\nAccording to Lianhe Wanbao — which went on a two-day, one-night trip on his yacht — the entire journey starts at 10am at ONE15 Marina Sentosa Cove. You\\'ll ride all the way up north for six hours to the waters close to Pulau Ubin and spend the night there before returning to Sentosa the next day at 6pm.\\n\\nThe yacht can usually take about 20 people but due to social distancing measures, there can only be a maximum of 10.\\n\\n[embed]https://www.facebook.com/zaobaosg/posts/4459862837418183[/embed]\\n\\nSpeaking to the Chinese evening daily, Darren said the most dangerous experience he\\'s had at sea was when he encountered a typhoon years ago near Thailand\\'s Koh Samui.\\n\\n\"It wasn\\'t the typhoon season so I didn\\'t think we would encounter one. The waves were six to seven metres high and it felt like we were going to be submerged anytime. It was scary!\\n\\n\"But when your entire family is on board, you don\\'t have time to be afraid. You can only drive the boat as best as you can and ensure everyone\\'s safety,\" he recounted.\\n\\nALSO READ: Darren Lim travels 2,700km on motorbike just to return to Singapore before Malaysia\\'s lockdown\\n\\nIn a span of 24 hours, Darren battled eight thunderstorms and he only got through it with the help of his assistant. Both of them alternated between manning the boat and taking three-hour breaks.\\n\\nDarren added: \"After that incident, I learnt that you can\\'t appreciate the highs of life if you don\\'t have the lows.\"\\n\\n[[nid:209047]]\\n\\nAs for his kids, they\\'ve adapted well to life on land after living on the yacht from 2011 to 2015. \"Though there wasn\\'t much space on the boat, they were happy. But now that they\\'ve moved into the house and realised that space isn\\'t a constraint anymore, they\\'re asking me for more,\" he said.\\n\\nWhile they were living on the boat, Darren had a rule for any item that the kids wanted to bring home. Firstly, the length of the object can\\'t exceed the length of his arm.\\n\\nSecondly, for every object they bring onboard, they\\'ve got to remove something as well so the boat doesn\\'t become filled with items.\\n\\nHowever, after moving into their house, the kids have seemingly forgotten the rules and started buying things. Now, their house has become a warehouse, he joked.\\n\\nbryanlim@asiaone.com'"
            ]
          },
          "metadata": {
            "tags": []
          },
          "execution_count": 113
        }
      ]
    },
    {
      "cell_type": "markdown",
      "metadata": {
        "id": "K6PEO6sCprls",
        "colab_type": "text"
      },
      "source": [
        "We want to extract only the sentences. Minus the headers. We split by \\n\\n then we only choose those that ends with a full stop"
      ]
    },
    {
      "cell_type": "code",
      "metadata": {
        "id": "LdMv5jUipYBn",
        "colab_type": "code",
        "colab": {}
      },
      "source": [
        "text = [t for t in text.split(\"\\n\\n\") if t.endswith('.')]"
      ],
      "execution_count": 114,
      "outputs": []
    },
    {
      "cell_type": "code",
      "metadata": {
        "id": "nCnNCN90qatl",
        "colab_type": "code",
        "colab": {
          "base_uri": "https://localhost:8080/",
          "height": 222
        },
        "outputId": "d3fb75b8-8f77-4693-9334-446247209b48"
      },
      "source": [
        "text"
      ],
      "execution_count": 115,
      "outputs": [
        {
          "output_type": "execute_result",
          "data": {
            "text/plain": [
              "[\"Why not take a ride on Darren Lim's yacht Gracefully? The 47-year-old is now offering a short trip on his boat where you'll travel from the south of Singapore to the north. The trip will take six hours, and you'll get a chance to see a different side of our Lion City.\",\n",
              " 'The local actor-host was previously living aboard the yacht for four years with wife, former actress Evelyn Tan, and their four kids before he moved to a house so their kids can experience school life.',\n",
              " \"According to Lianhe Wanbao — which went on a two-day, one-night trip on his yacht — the entire journey starts at 10am at ONE15 Marina Sentosa Cove. You'll ride all the way up north for six hours to the waters close to Pulau Ubin and spend the night there before returning to Sentosa the next day at 6pm.\",\n",
              " 'The yacht can usually take about 20 people but due to social distancing measures, there can only be a maximum of 10.',\n",
              " \"Speaking to the Chinese evening daily, Darren said the most dangerous experience he's had at sea was when he encountered a typhoon years ago near Thailand's Koh Samui.\",\n",
              " '\"But when your entire family is on board, you don\\'t have time to be afraid. You can only drive the boat as best as you can and ensure everyone\\'s safety,\" he recounted.',\n",
              " 'In a span of 24 hours, Darren battled eight thunderstorms and he only got through it with the help of his assistant. Both of them alternated between manning the boat and taking three-hour breaks.',\n",
              " 'As for his kids, they\\'ve adapted well to life on land after living on the yacht from 2011 to 2015. \"Though there wasn\\'t much space on the boat, they were happy. But now that they\\'ve moved into the house and realised that space isn\\'t a constraint anymore, they\\'re asking me for more,\" he said.',\n",
              " \"While they were living on the boat, Darren had a rule for any item that the kids wanted to bring home. Firstly, the length of the object can't exceed the length of his arm.\",\n",
              " \"Secondly, for every object they bring onboard, they've got to remove something as well so the boat doesn't become filled with items.\",\n",
              " 'However, after moving into their house, the kids have seemingly forgotten the rules and started buying things. Now, their house has become a warehouse, he joked.']"
            ]
          },
          "metadata": {
            "tags": []
          },
          "execution_count": 115
        }
      ]
    },
    {
      "cell_type": "markdown",
      "metadata": {
        "id": "i0hn9XPl3zNc",
        "colab_type": "text"
      },
      "source": [
        "Break down into sentences "
      ]
    },
    {
      "cell_type": "code",
      "metadata": {
        "id": "uukpMfGFp1Tl",
        "colab_type": "code",
        "colab": {}
      },
      "source": [
        "results = []\n",
        "for i in text:\n",
        "  c = [t.strip()+\".\" for t in i.split(\".\") if len(t) != 0]\n",
        "  results = results + c"
      ],
      "execution_count": 116,
      "outputs": []
    },
    {
      "cell_type": "code",
      "metadata": {
        "id": "khz0hN11p_ZG",
        "colab_type": "code",
        "colab": {}
      },
      "source": [
        "text = results"
      ],
      "execution_count": 117,
      "outputs": []
    },
    {
      "cell_type": "markdown",
      "metadata": {
        "id": "CpV8gPUHpLID",
        "colab_type": "text"
      },
      "source": [
        "# Running Bert NextSentence to detect paragraphs"
      ]
    },
    {
      "cell_type": "code",
      "metadata": {
        "id": "6sQyULvFoIFx",
        "colab_type": "code",
        "colab": {}
      },
      "source": [
        "def compute(text1, text2):\n",
        "  encoding = tokenizer(text1, text2, return_tensors='tf')\n",
        "  logits = model(encoding['input_ids'], token_type_ids=encoding['token_type_ids'])[0]\n",
        "  return tf.nn.softmax(logits[0])"
      ],
      "execution_count": 118,
      "outputs": []
    },
    {
      "cell_type": "markdown",
      "metadata": {
        "id": "bny6miTq358M",
        "colab_type": "text"
      },
      "source": [
        "Loop through the sentences adding sentences to temp group when the sentences are the next sentences.\n",
        "\n",
        "When they are not the next sentence we append the temp_group to groups and reinit the temp_group"
      ]
    },
    {
      "cell_type": "code",
      "metadata": {
        "id": "2v-Gl7twgwGa",
        "colab_type": "code",
        "colab": {
          "base_uri": "https://localhost:8080/",
          "height": 1000
        },
        "outputId": "7ef48a87-8f2c-41bc-c8d7-2e72e88e135d"
      },
      "source": [
        "groups = []\n",
        "groups_counter=0\n",
        "temp_group = []\n",
        "for i in range(len(text)-1):\n",
        "  print(\"Group \"+str(i))\n",
        "  print(text[i])\n",
        "  print(text[i+1])\n",
        "  \n",
        "  sm = compute(text[i], text[i+1])\n",
        "  print(sm[0], sm[1])\n",
        "\n",
        "  if len(temp_group) == 0:\n",
        "    temp_group = [text[i]]\n",
        "\n",
        "  if sm[0] > 0.9995 : #Threshold for similarity we set at this\n",
        "      temp_group = temp_group + [text[i+1]]\n",
        "  else:\n",
        "    groups.append(temp_group)\n",
        "    temp_group = [text[i+1]]"
      ],
      "execution_count": 119,
      "outputs": [
        {
          "output_type": "stream",
          "text": [
            "Group 0\n",
            "Why not take a ride on Darren Lim's yacht Gracefully? The 47-year-old is now offering a short trip on his boat where you'll travel from the south of Singapore to the north.\n",
            "The trip will take six hours, and you'll get a chance to see a different side of our Lion City.\n",
            "tf.Tensor(0.99999547, shape=(), dtype=float32) tf.Tensor(4.5798643e-06, shape=(), dtype=float32)\n",
            "Group 1\n",
            "The trip will take six hours, and you'll get a chance to see a different side of our Lion City.\n",
            "The local actor-host was previously living aboard the yacht for four years with wife, former actress Evelyn Tan, and their four kids before he moved to a house so their kids can experience school life.\n",
            "tf.Tensor(0.9933123, shape=(), dtype=float32) tf.Tensor(0.006687628, shape=(), dtype=float32)\n",
            "Group 2\n",
            "The local actor-host was previously living aboard the yacht for four years with wife, former actress Evelyn Tan, and their four kids before he moved to a house so their kids can experience school life.\n",
            "According to Lianhe Wanbao — which went on a two-day, one-night trip on his yacht — the entire journey starts at 10am at ONE15 Marina Sentosa Cove.\n",
            "tf.Tensor(0.99999356, shape=(), dtype=float32) tf.Tensor(6.405841e-06, shape=(), dtype=float32)\n",
            "Group 3\n",
            "According to Lianhe Wanbao — which went on a two-day, one-night trip on his yacht — the entire journey starts at 10am at ONE15 Marina Sentosa Cove.\n",
            "You'll ride all the way up north for six hours to the waters close to Pulau Ubin and spend the night there before returning to Sentosa the next day at 6pm.\n",
            "tf.Tensor(0.99999666, shape=(), dtype=float32) tf.Tensor(3.334161e-06, shape=(), dtype=float32)\n",
            "Group 4\n",
            "You'll ride all the way up north for six hours to the waters close to Pulau Ubin and spend the night there before returning to Sentosa the next day at 6pm.\n",
            "The yacht can usually take about 20 people but due to social distancing measures, there can only be a maximum of 10.\n",
            "tf.Tensor(0.9999254, shape=(), dtype=float32) tf.Tensor(7.460893e-05, shape=(), dtype=float32)\n",
            "Group 5\n",
            "The yacht can usually take about 20 people but due to social distancing measures, there can only be a maximum of 10.\n",
            "Speaking to the Chinese evening daily, Darren said the most dangerous experience he's had at sea was when he encountered a typhoon years ago near Thailand's Koh Samui.\n",
            "tf.Tensor(0.18011934, shape=(), dtype=float32) tf.Tensor(0.81988066, shape=(), dtype=float32)\n",
            "Group 6\n",
            "Speaking to the Chinese evening daily, Darren said the most dangerous experience he's had at sea was when he encountered a typhoon years ago near Thailand's Koh Samui.\n",
            "\"But when your entire family is on board, you don't have time to be afraid.\n",
            "tf.Tensor(0.9997856, shape=(), dtype=float32) tf.Tensor(0.00021445955, shape=(), dtype=float32)\n",
            "Group 7\n",
            "\"But when your entire family is on board, you don't have time to be afraid.\n",
            "You can only drive the boat as best as you can and ensure everyone's safety,\" he recounted.\n",
            "tf.Tensor(0.9999933, shape=(), dtype=float32) tf.Tensor(6.627474e-06, shape=(), dtype=float32)\n",
            "Group 8\n",
            "You can only drive the boat as best as you can and ensure everyone's safety,\" he recounted.\n",
            "In a span of 24 hours, Darren battled eight thunderstorms and he only got through it with the help of his assistant.\n",
            "tf.Tensor(0.9133275, shape=(), dtype=float32) tf.Tensor(0.086672544, shape=(), dtype=float32)\n",
            "Group 9\n",
            "In a span of 24 hours, Darren battled eight thunderstorms and he only got through it with the help of his assistant.\n",
            "Both of them alternated between manning the boat and taking three-hour breaks.\n",
            "tf.Tensor(0.9999715, shape=(), dtype=float32) tf.Tensor(2.853791e-05, shape=(), dtype=float32)\n",
            "Group 10\n",
            "Both of them alternated between manning the boat and taking three-hour breaks.\n",
            "As for his kids, they've adapted well to life on land after living on the yacht from 2011 to 2015.\n",
            "tf.Tensor(0.9999671, shape=(), dtype=float32) tf.Tensor(3.289494e-05, shape=(), dtype=float32)\n",
            "Group 11\n",
            "As for his kids, they've adapted well to life on land after living on the yacht from 2011 to 2015.\n",
            "\"Though there wasn't much space on the boat, they were happy.\n",
            "tf.Tensor(0.99999154, shape=(), dtype=float32) tf.Tensor(8.507095e-06, shape=(), dtype=float32)\n",
            "Group 12\n",
            "\"Though there wasn't much space on the boat, they were happy.\n",
            "But now that they've moved into the house and realised that space isn't a constraint anymore, they're asking me for more,\" he said.\n",
            "tf.Tensor(0.9999932, shape=(), dtype=float32) tf.Tensor(6.8400172e-06, shape=(), dtype=float32)\n",
            "Group 13\n",
            "But now that they've moved into the house and realised that space isn't a constraint anymore, they're asking me for more,\" he said.\n",
            "While they were living on the boat, Darren had a rule for any item that the kids wanted to bring home.\n",
            "tf.Tensor(0.11259305, shape=(), dtype=float32) tf.Tensor(0.88740695, shape=(), dtype=float32)\n",
            "Group 14\n",
            "While they were living on the boat, Darren had a rule for any item that the kids wanted to bring home.\n",
            "Firstly, the length of the object can't exceed the length of his arm.\n",
            "tf.Tensor(0.9996933, shape=(), dtype=float32) tf.Tensor(0.0003067884, shape=(), dtype=float32)\n",
            "Group 15\n",
            "Firstly, the length of the object can't exceed the length of his arm.\n",
            "Secondly, for every object they bring onboard, they've got to remove something as well so the boat doesn't become filled with items.\n",
            "tf.Tensor(0.999997, shape=(), dtype=float32) tf.Tensor(2.9913128e-06, shape=(), dtype=float32)\n",
            "Group 16\n",
            "Secondly, for every object they bring onboard, they've got to remove something as well so the boat doesn't become filled with items.\n",
            "However, after moving into their house, the kids have seemingly forgotten the rules and started buying things.\n",
            "tf.Tensor(0.9999795, shape=(), dtype=float32) tf.Tensor(2.04483e-05, shape=(), dtype=float32)\n",
            "Group 17\n",
            "However, after moving into their house, the kids have seemingly forgotten the rules and started buying things.\n",
            "Now, their house has become a warehouse, he joked.\n",
            "tf.Tensor(0.9999893, shape=(), dtype=float32) tf.Tensor(1.0780022e-05, shape=(), dtype=float32)\n"
          ],
          "name": "stdout"
        }
      ]
    },
    {
      "cell_type": "code",
      "metadata": {
        "id": "QZG3Uz7XiFYH",
        "colab_type": "code",
        "colab": {
          "base_uri": "https://localhost:8080/",
          "height": 272
        },
        "outputId": "1eefe6ff-209e-448c-c4e5-47ef0025472b"
      },
      "source": [
        "groups"
      ],
      "execution_count": 120,
      "outputs": [
        {
          "output_type": "execute_result",
          "data": {
            "text/plain": [
              "[[\"Why not take a ride on Darren Lim's yacht Gracefully? The 47-year-old is now offering a short trip on his boat where you'll travel from the south of Singapore to the north.\",\n",
              "  \"The trip will take six hours, and you'll get a chance to see a different side of our Lion City.\"],\n",
              " ['The local actor-host was previously living aboard the yacht for four years with wife, former actress Evelyn Tan, and their four kids before he moved to a house so their kids can experience school life.',\n",
              "  'According to Lianhe Wanbao — which went on a two-day, one-night trip on his yacht — the entire journey starts at 10am at ONE15 Marina Sentosa Cove.',\n",
              "  \"You'll ride all the way up north for six hours to the waters close to Pulau Ubin and spend the night there before returning to Sentosa the next day at 6pm.\",\n",
              "  'The yacht can usually take about 20 people but due to social distancing measures, there can only be a maximum of 10.'],\n",
              " [\"Speaking to the Chinese evening daily, Darren said the most dangerous experience he's had at sea was when he encountered a typhoon years ago near Thailand's Koh Samui.\",\n",
              "  '\"But when your entire family is on board, you don\\'t have time to be afraid.',\n",
              "  'You can only drive the boat as best as you can and ensure everyone\\'s safety,\" he recounted.'],\n",
              " ['In a span of 24 hours, Darren battled eight thunderstorms and he only got through it with the help of his assistant.',\n",
              "  'Both of them alternated between manning the boat and taking three-hour breaks.',\n",
              "  \"As for his kids, they've adapted well to life on land after living on the yacht from 2011 to 2015.\",\n",
              "  '\"Though there wasn\\'t much space on the boat, they were happy.',\n",
              "  'But now that they\\'ve moved into the house and realised that space isn\\'t a constraint anymore, they\\'re asking me for more,\" he said.']]"
            ]
          },
          "metadata": {
            "tags": []
          },
          "execution_count": 120
        }
      ]
    },
    {
      "cell_type": "code",
      "metadata": {
        "id": "it01PHOMlpiR",
        "colab_type": "code",
        "colab": {
          "base_uri": "https://localhost:8080/",
          "height": 34
        },
        "outputId": "558d8d58-3277-45a1-aee2-fc71133b61c9"
      },
      "source": [
        "import json\n",
        "from pathlib import Path\n",
        "\n",
        "Path(filename+\"_groups.json\").write_text(json.dumps(groups))"
      ],
      "execution_count": 121,
      "outputs": [
        {
          "output_type": "execute_result",
          "data": {
            "text/plain": [
              "1781"
            ]
          },
          "metadata": {
            "tags": []
          },
          "execution_count": 121
        }
      ]
    },
    {
      "cell_type": "markdown",
      "metadata": {
        "id": "kKmrlq-wpCBb",
        "colab_type": "text"
      },
      "source": [
        "# Summarization"
      ]
    },
    {
      "cell_type": "markdown",
      "metadata": {
        "id": "mYbKM5yApEFT",
        "colab_type": "text"
      },
      "source": [
        "## T5 Summarizer"
      ]
    },
    {
      "cell_type": "code",
      "metadata": {
        "id": "Ba2CJMfCTu_k",
        "colab_type": "code",
        "colab": {}
      },
      "source": [
        "from transformers import pipeline\n",
        "summarizer = pipeline(\"summarization\")"
      ],
      "execution_count": 122,
      "outputs": []
    },
    {
      "cell_type": "code",
      "metadata": {
        "id": "bRB2RfUGV5EC",
        "colab_type": "code",
        "colab": {}
      },
      "source": [
        "import torch\n",
        "from transformers import T5Tokenizer, T5ForConditionalGeneration, T5Config\n",
        "\n",
        "def t5_summarise(text):\n",
        "  model = T5ForConditionalGeneration.from_pretrained('t5-small')\n",
        "  tokenizer = T5Tokenizer.from_pretrained('t5-small')\n",
        "  device = torch.device('cpu')\n",
        "\n",
        "  preprocess_text = text.strip().replace(\"\\n\",\"\")\n",
        "  t5_prepared_Text = \"summarize: \"+preprocess_text\n",
        "  #print (\"original text preprocessed: \\n\", preprocess_text)\n",
        "\n",
        "  tokenized_text = tokenizer.encode(t5_prepared_Text, return_tensors=\"pt\").to(device)\n",
        "\n",
        "\n",
        "  # summmarize \n",
        "  summary_ids = model.generate(tokenized_text,\n",
        "                                      num_beams=4,\n",
        "                                      no_repeat_ngram_size=2,\n",
        "                                      min_length=30,\n",
        "                                      max_length=200,\n",
        "                                      early_stopping=False)\n",
        "\n",
        "  output = tokenizer.decode(summary_ids[0], skip_special_tokens=True)\n",
        "\n",
        "  #print (\"\\n\\nSummarized text: \\n\",output)\n",
        "  return output"
      ],
      "execution_count": 123,
      "outputs": []
    },
    {
      "cell_type": "code",
      "metadata": {
        "id": "OpS5HEq3Xcld",
        "colab_type": "code",
        "colab": {
          "base_uri": "https://localhost:8080/",
          "height": 52
        },
        "outputId": "5f1567c3-152c-478c-95fc-ae731f63035c"
      },
      "source": [
        "' '.join(groups[0])"
      ],
      "execution_count": 124,
      "outputs": [
        {
          "output_type": "execute_result",
          "data": {
            "application/vnd.google.colaboratory.intrinsic+json": {
              "type": "string"
            },
            "text/plain": [
              "\"Why not take a ride on Darren Lim's yacht Gracefully? The 47-year-old is now offering a short trip on his boat where you'll travel from the south of Singapore to the north. The trip will take six hours, and you'll get a chance to see a different side of our Lion City.\""
            ]
          },
          "metadata": {
            "tags": []
          },
          "execution_count": 124
        }
      ]
    },
    {
      "cell_type": "code",
      "metadata": {
        "id": "7lfxt3DaXmc5",
        "colab_type": "code",
        "colab": {}
      },
      "source": [
        "summarised = []\n",
        "for i in groups:\n",
        "  joined = ' '.join(i)\n",
        "  summarised.append(t5_summarise(joined))"
      ],
      "execution_count": 125,
      "outputs": []
    },
    {
      "cell_type": "code",
      "metadata": {
        "id": "uQrlkkgLcOHv",
        "colab_type": "code",
        "colab": {
          "base_uri": "https://localhost:8080/",
          "height": 34
        },
        "outputId": "6f6477d2-af57-483d-b69c-ce17399fc4bf"
      },
      "source": [
        "len(summarised)"
      ],
      "execution_count": 126,
      "outputs": [
        {
          "output_type": "execute_result",
          "data": {
            "text/plain": [
              "4"
            ]
          },
          "metadata": {
            "tags": []
          },
          "execution_count": 126
        }
      ]
    },
    {
      "cell_type": "code",
      "metadata": {
        "id": "zBG3GkHDemp8",
        "colab_type": "code",
        "colab": {}
      },
      "source": [
        "import pprint"
      ],
      "execution_count": 127,
      "outputs": []
    },
    {
      "cell_type": "code",
      "metadata": {
        "id": "RwtkalF_etJJ",
        "colab_type": "code",
        "colab": {
          "base_uri": "https://localhost:8080/",
          "height": 286
        },
        "outputId": "7b8936a5-b7de-4a03-c99a-af884bbfe0cb"
      },
      "source": [
        "pprint.pprint(summarised)"
      ],
      "execution_count": 128,
      "outputs": [
        {
          "output_type": "stream",
          "text": [
            "['the 47-year-old is offering a short trip on his yacht Gracefully. the trip '\n",
            " \"will take six hours, and you'll get chance to see different side of our Lion \"\n",
            " 'City.',\n",
            " 'the actor-host was previously living aboard the yacht for four years. he '\n",
            " 'moved to a house so their kids can experience school life on his yacht - but '\n",
            " \"the entire journey starts at 10am at ONE15 Marina Sentosa Cove. you'll ride \"\n",
            " 'all the way up north for six hours to the waters close to Pulau Ubin and '\n",
            " 'spend the night there before returning to town the next day at 6pm. it can '\n",
            " 'usually take about 20 people but due to social distancing measures, there '\n",
            " 'can only be ',\n",
            " \"Darren says he encountered a typhoon years ago near thailand's Koh Samui. \"\n",
            " '\"when your entire family is on board, you don\\'t have time to be afraid,\" '\n",
            " 'says the chinese evening daily.',\n",
            " 'Darren battled eight thunderstorms and only got through it with the help of '\n",
            " \"his assistant. he's adapted well to life on land after living on the yacht \"\n",
            " 'from 2011 to 2015.']\n"
          ],
          "name": "stdout"
        }
      ]
    },
    {
      "cell_type": "code",
      "metadata": {
        "id": "FXs-5kZBnx-d",
        "colab_type": "code",
        "colab": {
          "base_uri": "https://localhost:8080/",
          "height": 34
        },
        "outputId": "684b39cd-d77a-46d0-ce4e-db063881f5b6"
      },
      "source": [
        "Path(filename+\"_t5_sum.json\").write_text(json.dumps(summarised))"
      ],
      "execution_count": 129,
      "outputs": [
        {
          "output_type": "execute_result",
          "data": {
            "text/plain": [
              "982"
            ]
          },
          "metadata": {
            "tags": []
          },
          "execution_count": 129
        }
      ]
    },
    {
      "cell_type": "code",
      "metadata": {
        "id": "0MvEzqO5_zAP",
        "colab_type": "code",
        "colab": {}
      },
      "source": [
        "summarised_text = \"\"\n",
        "for i in summarised:\n",
        "  summarised_text = summarised_text+ i+\"\\n\\n\""
      ],
      "execution_count": 130,
      "outputs": []
    },
    {
      "cell_type": "code",
      "metadata": {
        "id": "U8oHkxzdASoa",
        "colab_type": "code",
        "colab": {
          "base_uri": "https://localhost:8080/",
          "height": 188
        },
        "outputId": "97acc12d-636f-4992-ad6a-32831a5e8691"
      },
      "source": [
        "print(summarised_text)"
      ],
      "execution_count": 131,
      "outputs": [
        {
          "output_type": "stream",
          "text": [
            "the 47-year-old is offering a short trip on his yacht Gracefully. the trip will take six hours, and you'll get chance to see different side of our Lion City.\n",
            "\n",
            "the actor-host was previously living aboard the yacht for four years. he moved to a house so their kids can experience school life on his yacht - but the entire journey starts at 10am at ONE15 Marina Sentosa Cove. you'll ride all the way up north for six hours to the waters close to Pulau Ubin and spend the night there before returning to town the next day at 6pm. it can usually take about 20 people but due to social distancing measures, there can only be \n",
            "\n",
            "Darren says he encountered a typhoon years ago near thailand's Koh Samui. \"when your entire family is on board, you don't have time to be afraid,\" says the chinese evening daily.\n",
            "\n",
            "Darren battled eight thunderstorms and only got through it with the help of his assistant. he's adapted well to life on land after living on the yacht from 2011 to 2015.\n",
            "\n",
            "\n"
          ],
          "name": "stdout"
        }
      ]
    },
    {
      "cell_type": "code",
      "metadata": {
        "id": "d8pDAmIZAdGh",
        "colab_type": "code",
        "colab": {
          "base_uri": "https://localhost:8080/",
          "height": 34
        },
        "outputId": "96196e9f-1efc-4293-ad46-c1a6d77db6eb"
      },
      "source": [
        "Path(filename+\"_t5_sum.txt\").write_text(summarised_text)"
      ],
      "execution_count": 132,
      "outputs": [
        {
          "output_type": "execute_result",
          "data": {
            "text/plain": [
              "972"
            ]
          },
          "metadata": {
            "tags": []
          },
          "execution_count": 132
        }
      ]
    },
    {
      "cell_type": "markdown",
      "metadata": {
        "id": "2CTjfypbo6Wn",
        "colab_type": "text"
      },
      "source": [
        "## Default hugging face summarizer pipeline"
      ]
    },
    {
      "cell_type": "code",
      "metadata": {
        "id": "Si98c-BmevBn",
        "colab_type": "code",
        "colab": {
          "base_uri": "https://localhost:8080/",
          "height": 87
        },
        "outputId": "a87168ab-4feb-4c5c-ea15-f1109a124ee4"
      },
      "source": [
        "sum1 = []\n",
        "\n",
        "for i in groups:\n",
        "  t = ' '.join(i)\n",
        "  sum1.append(summarizer(t))"
      ],
      "execution_count": 133,
      "outputs": [
        {
          "output_type": "stream",
          "text": [
            "Your max_length is set to 142, but you input_length is only 66. You might consider decreasing max_length manually, e.g. summarizer('...', max_length=50)\n",
            "Your max_length is set to 142, but you input_length is only 75. You might consider decreasing max_length manually, e.g. summarizer('...', max_length=50)\n",
            "Your max_length is set to 142, but you input_length is only 111. You might consider decreasing max_length manually, e.g. summarizer('...', max_length=50)\n"
          ],
          "name": "stderr"
        }
      ]
    },
    {
      "cell_type": "code",
      "metadata": {
        "id": "B3BcQQarkqUn",
        "colab_type": "code",
        "colab": {
          "base_uri": "https://localhost:8080/",
          "height": 104
        },
        "outputId": "7a26dc83-aa14-47b4-faa5-ab3a9dac7a85"
      },
      "source": [
        "sum1"
      ],
      "execution_count": 134,
      "outputs": [
        {
          "output_type": "execute_result",
          "data": {
            "text/plain": [
              "[[{'summary_text': \" Darren Lim's yacht Gracefully is now offering a short trip from the south of Singapore to the north . The trip will take six hours, and you'll get a chance to see a different side of our Lion City . The 47-year-old is offering a trip on his boat where you'll travel from south to north .\"}],\n",
              " [{'summary_text': ' Lianhe Wanbao was previously living aboard the yacht for four years with wife, former actress Evelyn Tan, and their four kids . The yacht can usually take about 20 people but due to social distancing measures, there can only be a maximum of 10 .'}],\n",
              " [{'summary_text': ' Darren said the most dangerous experience he\\'s had at sea was when he encountered a typhoon years ago near Thailand\\'s Koh Samui . \"When your entire family is on board, you don\\'t have time to be afraid. You can only drive the boat as best as you can and ensure everyone\\'s safety,\" he recounted .'}],\n",
              " [{'summary_text': ' Darren battled eight thunderstorms in a span of 24 hours . Darren battled the storms with the help of his assistant . His kids have adapted well to life on land after living on the yacht from 2011 to 2015 . \"Though there wasn\\'t much space on the boat, they were happy. But now that they\\'ve moved into the house, they\\'re asking me for more,\" he said .'}]]"
            ]
          },
          "metadata": {
            "tags": []
          },
          "execution_count": 134
        }
      ]
    },
    {
      "cell_type": "markdown",
      "metadata": {
        "id": "jtbVGfgtwa1_",
        "colab_type": "text"
      },
      "source": [
        "The number of groups."
      ]
    },
    {
      "cell_type": "code",
      "metadata": {
        "id": "xIr7tYyHlUtC",
        "colab_type": "code",
        "colab": {
          "base_uri": "https://localhost:8080/",
          "height": 34
        },
        "outputId": "00d56c00-318e-412e-9a93-31497d09a877"
      },
      "source": [
        "len(sum1)"
      ],
      "execution_count": 135,
      "outputs": [
        {
          "output_type": "execute_result",
          "data": {
            "text/plain": [
              "4"
            ]
          },
          "metadata": {
            "tags": []
          },
          "execution_count": 135
        }
      ]
    },
    {
      "cell_type": "code",
      "metadata": {
        "id": "vmhNewG5nnRL",
        "colab_type": "code",
        "colab": {
          "base_uri": "https://localhost:8080/",
          "height": 34
        },
        "outputId": "92ccdc87-12ee-414a-9e9d-54566e6e0e70"
      },
      "source": [
        "Path(filename+\"_hugging_sum.json\").write_text(json.dumps(sum1))"
      ],
      "execution_count": 136,
      "outputs": [
        {
          "output_type": "execute_result",
          "data": {
            "text/plain": [
              "1280"
            ]
          },
          "metadata": {
            "tags": []
          },
          "execution_count": 136
        }
      ]
    },
    {
      "cell_type": "code",
      "metadata": {
        "id": "qKU9a_yxnvPl",
        "colab_type": "code",
        "colab": {
          "base_uri": "https://localhost:8080/",
          "height": 34
        },
        "outputId": "e4027f60-e074-4739-e9ea-81522f7c0a25"
      },
      "source": [
        "summary = [i[0][\"summary_text\"].strip() for i in sum1]\n",
        "\n",
        "Path(filename+\"_hugging_sum.txt\").write_text('\\n\\n'.join(summary))"
      ],
      "execution_count": 137,
      "outputs": [
        {
          "output_type": "execute_result",
          "data": {
            "text/plain": [
              "1182"
            ]
          },
          "metadata": {
            "tags": []
          },
          "execution_count": 137
        }
      ]
    },
    {
      "cell_type": "code",
      "metadata": {
        "id": "9HnjYQrIvs5s",
        "colab_type": "code",
        "colab": {
          "base_uri": "https://localhost:8080/",
          "height": 104
        },
        "outputId": "81248629-dcd7-4614-9d13-97c1d6929334"
      },
      "source": [
        "summary"
      ],
      "execution_count": 138,
      "outputs": [
        {
          "output_type": "execute_result",
          "data": {
            "text/plain": [
              "[\"Darren Lim's yacht Gracefully is now offering a short trip from the south of Singapore to the north . The trip will take six hours, and you'll get a chance to see a different side of our Lion City . The 47-year-old is offering a trip on his boat where you'll travel from south to north .\",\n",
              " 'Lianhe Wanbao was previously living aboard the yacht for four years with wife, former actress Evelyn Tan, and their four kids . The yacht can usually take about 20 people but due to social distancing measures, there can only be a maximum of 10 .',\n",
              " 'Darren said the most dangerous experience he\\'s had at sea was when he encountered a typhoon years ago near Thailand\\'s Koh Samui . \"When your entire family is on board, you don\\'t have time to be afraid. You can only drive the boat as best as you can and ensure everyone\\'s safety,\" he recounted .',\n",
              " 'Darren battled eight thunderstorms in a span of 24 hours . Darren battled the storms with the help of his assistant . His kids have adapted well to life on land after living on the yacht from 2011 to 2015 . \"Though there wasn\\'t much space on the boat, they were happy. But now that they\\'ve moved into the house, they\\'re asking me for more,\" he said .']"
            ]
          },
          "metadata": {
            "tags": []
          },
          "execution_count": 138
        }
      ]
    },
    {
      "cell_type": "code",
      "metadata": {
        "id": "uH3qBFcG5Ouw",
        "colab_type": "code",
        "colab": {}
      },
      "source": [
        ""
      ],
      "execution_count": 138,
      "outputs": []
    }
  ]
}