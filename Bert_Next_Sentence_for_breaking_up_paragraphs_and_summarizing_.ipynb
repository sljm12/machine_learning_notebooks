{
  "nbformat": 4,
  "nbformat_minor": 0,
  "metadata": {
    "colab": {
      "name": "Bert Next Sentence for breaking up paragraphs and summarizing .ipynb",
      "provenance": [],
      "collapsed_sections": [
        "mYbKM5yApEFT"
      ],
      "toc_visible": true,
      "authorship_tag": "ABX9TyMmfDMkBHERHHAT3Ta9j03H",
      "include_colab_link": true
    },
    "kernelspec": {
      "name": "python3",
      "display_name": "Python 3"
    }
  },
  "cells": [
    {
      "cell_type": "markdown",
      "metadata": {
        "id": "view-in-github",
        "colab_type": "text"
      },
      "source": [
        "<a href=\"https://colab.research.google.com/github/sljm12/machine_learning_notebooks/blob/master/Bert_Next_Sentence_for_breaking_up_paragraphs_and_summarizing_.ipynb\" target=\"_parent\"><img src=\"https://colab.research.google.com/assets/colab-badge.svg\" alt=\"Open In Colab\"/></a>"
      ]
    },
    {
      "cell_type": "markdown",
      "metadata": {
        "id": "XtY3hQ7zniOJ",
        "colab_type": "text"
      },
      "source": [
        "Testing the idea of usng Bert Next Sentence to break up news/speechs into different segments.\n",
        "\n",
        "Then afterwhich running a summarizer on the segments to produce a long summary."
      ]
    },
    {
      "cell_type": "code",
      "metadata": {
        "id": "GxAynsK8aYLy",
        "colab_type": "code",
        "colab": {}
      },
      "source": [
        "!pip -q install transformers"
      ],
      "execution_count": 139,
      "outputs": []
    },
    {
      "cell_type": "code",
      "metadata": {
        "id": "mSTL7I0FYK9U",
        "colab_type": "code",
        "colab": {}
      },
      "source": [
        "import tensorflow as tf\n",
        "from transformers import BertTokenizer, TFBertForNextSentencePrediction"
      ],
      "execution_count": 140,
      "outputs": []
    },
    {
      "cell_type": "code",
      "metadata": {
        "id": "HgSue5XYaSUF",
        "colab_type": "code",
        "colab": {
          "base_uri": "https://localhost:8080/",
          "height": 121
        },
        "outputId": "82887f78-4e73-410c-89e0-036d57bd242b"
      },
      "source": [
        "tokenizer = BertTokenizer.from_pretrained('bert-base-uncased')\n",
        "model = TFBertForNextSentencePrediction.from_pretrained('bert-base-uncased')"
      ],
      "execution_count": 141,
      "outputs": [
        {
          "output_type": "stream",
          "text": [
            "Some weights of the model checkpoint at bert-base-uncased were not used when initializing TFBertForNextSentencePrediction: ['mlm___cls']\n",
            "- This IS expected if you are initializing TFBertForNextSentencePrediction from the checkpoint of a model trained on another task or with another architecture (e.g. initializing a BertForSequenceClassification model from a BertForPretraining model).\n",
            "- This IS NOT expected if you are initializing TFBertForNextSentencePrediction from the checkpoint of a model that you expect to be exactly identical (initializing a BertForSequenceClassification model from a BertForSequenceClassification model).\n",
            "All the weights of TFBertForNextSentencePrediction were initialized from the model checkpoint at bert-base-uncased.\n",
            "If your task is similar to the task the model of the checkpoint was trained on, you can already use TFBertForNextSentencePrediction for predictions without further training.\n"
          ],
          "name": "stderr"
        }
      ]
    },
    {
      "cell_type": "markdown",
      "metadata": {
        "id": "qgy_27Lioxmd",
        "colab_type": "text"
      },
      "source": [
        "# Preprocess the text"
      ]
    },
    {
      "cell_type": "code",
      "metadata": {
        "id": "_F4lRLuWo63V",
        "colab_type": "code",
        "colab": {}
      },
      "source": [
        "!pip -q install newspaper3k"
      ],
      "execution_count": 142,
      "outputs": []
    },
    {
      "cell_type": "code",
      "metadata": {
        "id": "jOgJYCi0pEs3",
        "colab_type": "code",
        "colab": {}
      },
      "source": [
        "from newspaper import Article, ArticleException"
      ],
      "execution_count": 143,
      "outputs": []
    },
    {
      "cell_type": "code",
      "metadata": {
        "id": "Tv2TGyAlpFxO",
        "colab_type": "code",
        "colab": {}
      },
      "source": [
        "url = \"https://www.asiaone.com/entertainment/you-wont-see-zoe-tay-new-show-while-and-its-because-her-sons\" #@param [\"https://www.straitstimes.com/singapore/the-news-in-5-minutes-6\",\"https://www.pmo.gov.sg/Newsroom/National-Day-Rally-2019\",\"https://www.channelnewsasia.com/news/asia/malaysia-anwar-ibrahim-strong-majority-form-new-government-13136908\",\"https://www.bbc.com/news/world-asia-54174598\",\"https://www.straitstimes.com/tech/ibm-to-train-800-mid-career-people-in-ai-cyber-security\",\"https://www.asiaone.com/entertainment/darren-lim-turns-his-yacht-business-opportunity-takes-people-out-rides\",\"https://www.asiaone.com/entertainment/you-wont-see-zoe-tay-new-show-while-and-its-because-her-sons\"]\n",
        "a=Article(url)\n",
        "a.download()\n",
        "a.parse()\n",
        "text = a.text"
      ],
      "execution_count": 144,
      "outputs": []
    },
    {
      "cell_type": "code",
      "metadata": {
        "id": "CDUoId0zxR1N",
        "colab_type": "code",
        "colab": {}
      },
      "source": [
        "filename = url.replace(\":\",\"\").replace(\"/\",\"_\")"
      ],
      "execution_count": 145,
      "outputs": []
    },
    {
      "cell_type": "code",
      "metadata": {
        "id": "BJ21meDLpQuV",
        "colab_type": "code",
        "colab": {
          "base_uri": "https://localhost:8080/",
          "height": 137
        },
        "outputId": "cffb25b2-3e54-47fa-df91-2ea5decb34ec"
      },
      "source": [
        "text"
      ],
      "execution_count": 146,
      "outputs": [
        {
          "output_type": "execute_result",
          "data": {
            "application/vnd.google.colaboratory.intrinsic+json": {
              "type": "string"
            },
            "text/plain": [
              "'For the rest of the year, local \\'Ah Jie\\' Zoe Tay will be playing one role only and it won\\'t be for telly.\\n\\nIn an interview with Shin Min Daily News, the veteran actress revealed that she\\'ll be stepping back from acting so she can help her three sons prepare for their examinations — especially her second child Ashton who entered secondary school this year.\\n\\nShe also has Brayden, 15, and Nathan, nine, with her husband Philip Chionh.\\n\\nThe earliest we\\'ll probably see her on our television screens again will be next year. Not too long a wait for the eager fans if you ask us.\\n\\nIn the meantime, apart from prepping her children for their exams, the 52-year-old will be using the downtime to focus on her fitness. She said: \"After sending my children to school, I\\'ll occasionally go to MacRitchie Reservoir for a walk.\"\\n\\n\"The old [Mediacorp] station was located opposite the reservoir but for over 30 years, I rarely explored the area, though we would shoot there occasionally. Recently, my friend brought me to this paradise (MacRitchie Reservoir) and I love the natural scenery. I can breathe the fresh air and train my body, it kills two birds with one stone,\" she added.\\n\\nPerforming an Indian dance for the President\\'s Star Charity\\n\\nWhile she\\'s not taking on acting roles, she will still be working. Apart from her editorial shoots, she\\'ll be part of this year\\'s President\\'s Star Charity where she\\'ll perform a modern Indian dance routine with six beneficiaries of the annual fundraiser.\\n\\nHer fellow performers have all trained for a while and one of them even competed overseas. She said: \"They\\'re the teachers, I\\'m the student. They have given a lot for their performance but one of them recently went overseas and has to be quarantined so they can\\'t join us. It\\'s unfortunate.\"\\n\\nNo chance to work with Alien\\n\\nThe recent death of Taiwanese celebrity Alien Huang has a ripple effect that can be acutely felt on our shores and he has a strong connection to many local celebrities.\\n\\nFor Zoe, though, she didn\\'t get a chance to work with him.\\n\\nShe said: \"He was a very adorable person. I met him occasionally in the make-up room and he didn\\'t feel like some of the Hong Kong and Taiwanese celebrities who went around with a strong aura. He was quite a warm person.\\n\\n\"I\\'ve also heard from crew and colleagues that he was very easy to work with. He was very easygoing and professional on set. It hurts reading news like that and it\\'s very unfortunate.\"\\n\\nbryanlim@asiaone.com'"
            ]
          },
          "metadata": {
            "tags": []
          },
          "execution_count": 146
        }
      ]
    },
    {
      "cell_type": "markdown",
      "metadata": {
        "id": "K6PEO6sCprls",
        "colab_type": "text"
      },
      "source": [
        "We want to extract only the sentences. Minus the headers. We split by \\n\\n then we only choose those that ends with a full stop"
      ]
    },
    {
      "cell_type": "code",
      "metadata": {
        "id": "LdMv5jUipYBn",
        "colab_type": "code",
        "colab": {}
      },
      "source": [
        "text = [t for t in text.split(\"\\n\\n\") if t.endswith('.')]"
      ],
      "execution_count": 147,
      "outputs": []
    },
    {
      "cell_type": "code",
      "metadata": {
        "id": "nCnNCN90qatl",
        "colab_type": "code",
        "colab": {
          "base_uri": "https://localhost:8080/",
          "height": 188
        },
        "outputId": "bdda2a9c-9338-42ae-a809-53c963942e9b"
      },
      "source": [
        "text"
      ],
      "execution_count": 148,
      "outputs": [
        {
          "output_type": "execute_result",
          "data": {
            "text/plain": [
              "[\"For the rest of the year, local 'Ah Jie' Zoe Tay will be playing one role only and it won't be for telly.\",\n",
              " \"In an interview with Shin Min Daily News, the veteran actress revealed that she'll be stepping back from acting so she can help her three sons prepare for their examinations — especially her second child Ashton who entered secondary school this year.\",\n",
              " 'She also has Brayden, 15, and Nathan, nine, with her husband Philip Chionh.',\n",
              " \"The earliest we'll probably see her on our television screens again will be next year. Not too long a wait for the eager fans if you ask us.\",\n",
              " '\"The old [Mediacorp] station was located opposite the reservoir but for over 30 years, I rarely explored the area, though we would shoot there occasionally. Recently, my friend brought me to this paradise (MacRitchie Reservoir) and I love the natural scenery. I can breathe the fresh air and train my body, it kills two birds with one stone,\" she added.',\n",
              " \"While she's not taking on acting roles, she will still be working. Apart from her editorial shoots, she'll be part of this year's President's Star Charity where she'll perform a modern Indian dance routine with six beneficiaries of the annual fundraiser.\",\n",
              " 'The recent death of Taiwanese celebrity Alien Huang has a ripple effect that can be acutely felt on our shores and he has a strong connection to many local celebrities.',\n",
              " \"For Zoe, though, she didn't get a chance to work with him.\",\n",
              " 'She said: \"He was a very adorable person. I met him occasionally in the make-up room and he didn\\'t feel like some of the Hong Kong and Taiwanese celebrities who went around with a strong aura. He was quite a warm person.']"
            ]
          },
          "metadata": {
            "tags": []
          },
          "execution_count": 148
        }
      ]
    },
    {
      "cell_type": "markdown",
      "metadata": {
        "id": "i0hn9XPl3zNc",
        "colab_type": "text"
      },
      "source": [
        "Break down into sentences "
      ]
    },
    {
      "cell_type": "code",
      "metadata": {
        "id": "uukpMfGFp1Tl",
        "colab_type": "code",
        "colab": {}
      },
      "source": [
        "results = []\n",
        "for i in text:\n",
        "  c = [t.strip()+\".\" for t in i.split(\".\") if len(t) != 0]\n",
        "  results = results + c"
      ],
      "execution_count": 149,
      "outputs": []
    },
    {
      "cell_type": "code",
      "metadata": {
        "id": "khz0hN11p_ZG",
        "colab_type": "code",
        "colab": {}
      },
      "source": [
        "text = results"
      ],
      "execution_count": 150,
      "outputs": []
    },
    {
      "cell_type": "markdown",
      "metadata": {
        "id": "CpV8gPUHpLID",
        "colab_type": "text"
      },
      "source": [
        "# Running Bert NextSentence to detect paragraphs"
      ]
    },
    {
      "cell_type": "code",
      "metadata": {
        "id": "6sQyULvFoIFx",
        "colab_type": "code",
        "colab": {}
      },
      "source": [
        "def compute(text1, text2):\n",
        "  encoding = tokenizer(text1, text2, return_tensors='tf')\n",
        "  logits = model(encoding['input_ids'], token_type_ids=encoding['token_type_ids'])[0]\n",
        "  return tf.nn.softmax(logits[0])"
      ],
      "execution_count": 151,
      "outputs": []
    },
    {
      "cell_type": "markdown",
      "metadata": {
        "id": "bny6miTq358M",
        "colab_type": "text"
      },
      "source": [
        "Loop through the sentences adding sentences to temp group when the sentences are the next sentences.\n",
        "\n",
        "When they are not the next sentence we append the temp_group to groups and reinit the temp_group"
      ]
    },
    {
      "cell_type": "code",
      "metadata": {
        "id": "2v-Gl7twgwGa",
        "colab_type": "code",
        "colab": {
          "base_uri": "https://localhost:8080/",
          "height": 978
        },
        "outputId": "59223b3e-d981-4218-a81e-a33d282dd66c"
      },
      "source": [
        "groups = []\n",
        "groups_counter=0\n",
        "temp_group = []\n",
        "for i in range(len(text)-1):\n",
        "  print(\"Group \"+str(i))\n",
        "  print(text[i])\n",
        "  print(text[i+1])\n",
        "  \n",
        "  sm = compute(text[i], text[i+1])\n",
        "  print(sm[0], sm[1])\n",
        "\n",
        "  if len(temp_group) == 0:\n",
        "    temp_group = [text[i]]\n",
        "\n",
        "  if sm[0] > 0.9995 : #Threshold for similarity we set at this\n",
        "      temp_group = temp_group + [text[i+1]]\n",
        "  else:\n",
        "    groups.append(temp_group)\n",
        "    temp_group = [text[i+1]]"
      ],
      "execution_count": 152,
      "outputs": [
        {
          "output_type": "stream",
          "text": [
            "Group 0\n",
            "For the rest of the year, local 'Ah Jie' Zoe Tay will be playing one role only and it won't be for telly.\n",
            "In an interview with Shin Min Daily News, the veteran actress revealed that she'll be stepping back from acting so she can help her three sons prepare for their examinations — especially her second child Ashton who entered secondary school this year.\n",
            "tf.Tensor(0.9999882, shape=(), dtype=float32) tf.Tensor(1.1760931e-05, shape=(), dtype=float32)\n",
            "Group 1\n",
            "In an interview with Shin Min Daily News, the veteran actress revealed that she'll be stepping back from acting so she can help her three sons prepare for their examinations — especially her second child Ashton who entered secondary school this year.\n",
            "She also has Brayden, 15, and Nathan, nine, with her husband Philip Chionh.\n",
            "tf.Tensor(0.99998057, shape=(), dtype=float32) tf.Tensor(1.9485651e-05, shape=(), dtype=float32)\n",
            "Group 2\n",
            "She also has Brayden, 15, and Nathan, nine, with her husband Philip Chionh.\n",
            "The earliest we'll probably see her on our television screens again will be next year.\n",
            "tf.Tensor(0.99957114, shape=(), dtype=float32) tf.Tensor(0.0004288966, shape=(), dtype=float32)\n",
            "Group 3\n",
            "The earliest we'll probably see her on our television screens again will be next year.\n",
            "Not too long a wait for the eager fans if you ask us.\n",
            "tf.Tensor(0.9999887, shape=(), dtype=float32) tf.Tensor(1.1338073e-05, shape=(), dtype=float32)\n",
            "Group 4\n",
            "Not too long a wait for the eager fans if you ask us.\n",
            "\"The old [Mediacorp] station was located opposite the reservoir but for over 30 years, I rarely explored the area, though we would shoot there occasionally.\n",
            "tf.Tensor(0.967683, shape=(), dtype=float32) tf.Tensor(0.032317024, shape=(), dtype=float32)\n",
            "Group 5\n",
            "\"The old [Mediacorp] station was located opposite the reservoir but for over 30 years, I rarely explored the area, though we would shoot there occasionally.\n",
            "Recently, my friend brought me to this paradise (MacRitchie Reservoir) and I love the natural scenery.\n",
            "tf.Tensor(0.999997, shape=(), dtype=float32) tf.Tensor(2.9836544e-06, shape=(), dtype=float32)\n",
            "Group 6\n",
            "Recently, my friend brought me to this paradise (MacRitchie Reservoir) and I love the natural scenery.\n",
            "I can breathe the fresh air and train my body, it kills two birds with one stone,\" she added.\n",
            "tf.Tensor(0.9999887, shape=(), dtype=float32) tf.Tensor(1.1344909e-05, shape=(), dtype=float32)\n",
            "Group 7\n",
            "I can breathe the fresh air and train my body, it kills two birds with one stone,\" she added.\n",
            "While she's not taking on acting roles, she will still be working.\n",
            "tf.Tensor(0.0011734477, shape=(), dtype=float32) tf.Tensor(0.99882656, shape=(), dtype=float32)\n",
            "Group 8\n",
            "While she's not taking on acting roles, she will still be working.\n",
            "Apart from her editorial shoots, she'll be part of this year's President's Star Charity where she'll perform a modern Indian dance routine with six beneficiaries of the annual fundraiser.\n",
            "tf.Tensor(0.99998975, shape=(), dtype=float32) tf.Tensor(1.0309985e-05, shape=(), dtype=float32)\n",
            "Group 9\n",
            "Apart from her editorial shoots, she'll be part of this year's President's Star Charity where she'll perform a modern Indian dance routine with six beneficiaries of the annual fundraiser.\n",
            "The recent death of Taiwanese celebrity Alien Huang has a ripple effect that can be acutely felt on our shores and he has a strong connection to many local celebrities.\n",
            "tf.Tensor(0.99933076, shape=(), dtype=float32) tf.Tensor(0.0006693263, shape=(), dtype=float32)\n",
            "Group 10\n",
            "The recent death of Taiwanese celebrity Alien Huang has a ripple effect that can be acutely felt on our shores and he has a strong connection to many local celebrities.\n",
            "For Zoe, though, she didn't get a chance to work with him.\n",
            "tf.Tensor(0.00023892843, shape=(), dtype=float32) tf.Tensor(0.99976104, shape=(), dtype=float32)\n",
            "Group 11\n",
            "For Zoe, though, she didn't get a chance to work with him.\n",
            "She said: \"He was a very adorable person.\n",
            "tf.Tensor(0.99873525, shape=(), dtype=float32) tf.Tensor(0.0012647538, shape=(), dtype=float32)\n",
            "Group 12\n",
            "She said: \"He was a very adorable person.\n",
            "I met him occasionally in the make-up room and he didn't feel like some of the Hong Kong and Taiwanese celebrities who went around with a strong aura.\n",
            "tf.Tensor(0.9999881, shape=(), dtype=float32) tf.Tensor(1.195546e-05, shape=(), dtype=float32)\n",
            "Group 13\n",
            "I met him occasionally in the make-up room and he didn't feel like some of the Hong Kong and Taiwanese celebrities who went around with a strong aura.\n",
            "He was quite a warm person.\n",
            "tf.Tensor(0.99997294, shape=(), dtype=float32) tf.Tensor(2.7048942e-05, shape=(), dtype=float32)\n"
          ],
          "name": "stdout"
        }
      ]
    },
    {
      "cell_type": "code",
      "metadata": {
        "id": "QZG3Uz7XiFYH",
        "colab_type": "code",
        "colab": {
          "base_uri": "https://localhost:8080/",
          "height": 238
        },
        "outputId": "d98ad844-5e9b-45aa-c844-216f7b5d56ed"
      },
      "source": [
        "groups"
      ],
      "execution_count": 153,
      "outputs": [
        {
          "output_type": "execute_result",
          "data": {
            "text/plain": [
              "[[\"For the rest of the year, local 'Ah Jie' Zoe Tay will be playing one role only and it won't be for telly.\",\n",
              "  \"In an interview with Shin Min Daily News, the veteran actress revealed that she'll be stepping back from acting so she can help her three sons prepare for their examinations — especially her second child Ashton who entered secondary school this year.\",\n",
              "  'She also has Brayden, 15, and Nathan, nine, with her husband Philip Chionh.',\n",
              "  \"The earliest we'll probably see her on our television screens again will be next year.\",\n",
              "  'Not too long a wait for the eager fans if you ask us.'],\n",
              " ['\"The old [Mediacorp] station was located opposite the reservoir but for over 30 years, I rarely explored the area, though we would shoot there occasionally.',\n",
              "  'Recently, my friend brought me to this paradise (MacRitchie Reservoir) and I love the natural scenery.',\n",
              "  'I can breathe the fresh air and train my body, it kills two birds with one stone,\" she added.'],\n",
              " [\"While she's not taking on acting roles, she will still be working.\",\n",
              "  \"Apart from her editorial shoots, she'll be part of this year's President's Star Charity where she'll perform a modern Indian dance routine with six beneficiaries of the annual fundraiser.\"],\n",
              " ['The recent death of Taiwanese celebrity Alien Huang has a ripple effect that can be acutely felt on our shores and he has a strong connection to many local celebrities.'],\n",
              " [\"For Zoe, though, she didn't get a chance to work with him.\"]]"
            ]
          },
          "metadata": {
            "tags": []
          },
          "execution_count": 153
        }
      ]
    },
    {
      "cell_type": "code",
      "metadata": {
        "id": "it01PHOMlpiR",
        "colab_type": "code",
        "colab": {
          "base_uri": "https://localhost:8080/",
          "height": 34
        },
        "outputId": "c6665b0a-55a7-4415-803c-3ec651dc9566"
      },
      "source": [
        "import json\n",
        "from pathlib import Path\n",
        "\n",
        "Path(filename+\"_groups.json\").write_text(json.dumps(groups))"
      ],
      "execution_count": 154,
      "outputs": [
        {
          "output_type": "execute_result",
          "data": {
            "text/plain": [
              "1464"
            ]
          },
          "metadata": {
            "tags": []
          },
          "execution_count": 154
        }
      ]
    },
    {
      "cell_type": "markdown",
      "metadata": {
        "id": "kKmrlq-wpCBb",
        "colab_type": "text"
      },
      "source": [
        "# Summarization"
      ]
    },
    {
      "cell_type": "markdown",
      "metadata": {
        "id": "mYbKM5yApEFT",
        "colab_type": "text"
      },
      "source": [
        "## T5 Summarizer"
      ]
    },
    {
      "cell_type": "code",
      "metadata": {
        "id": "Ba2CJMfCTu_k",
        "colab_type": "code",
        "colab": {}
      },
      "source": [
        "from transformers import pipeline\n",
        "summarizer = pipeline(\"summarization\")"
      ],
      "execution_count": 155,
      "outputs": []
    },
    {
      "cell_type": "code",
      "metadata": {
        "id": "bRB2RfUGV5EC",
        "colab_type": "code",
        "colab": {}
      },
      "source": [
        "import torch\n",
        "from transformers import T5Tokenizer, T5ForConditionalGeneration, T5Config\n",
        "\n",
        "def t5_summarise(text):\n",
        "  model = T5ForConditionalGeneration.from_pretrained('t5-small')\n",
        "  tokenizer = T5Tokenizer.from_pretrained('t5-small')\n",
        "  device = torch.device('cpu')\n",
        "\n",
        "  preprocess_text = text.strip().replace(\"\\n\",\"\")\n",
        "  t5_prepared_Text = \"summarize: \"+preprocess_text\n",
        "  #print (\"original text preprocessed: \\n\", preprocess_text)\n",
        "\n",
        "  tokenized_text = tokenizer.encode(t5_prepared_Text, return_tensors=\"pt\").to(device)\n",
        "\n",
        "\n",
        "  # summmarize \n",
        "  summary_ids = model.generate(tokenized_text,\n",
        "                                      num_beams=4,\n",
        "                                      no_repeat_ngram_size=2,\n",
        "                                      min_length=30,\n",
        "                                      max_length=200,\n",
        "                                      early_stopping=False)\n",
        "\n",
        "  output = tokenizer.decode(summary_ids[0], skip_special_tokens=True)\n",
        "\n",
        "  #print (\"\\n\\nSummarized text: \\n\",output)\n",
        "  return output"
      ],
      "execution_count": 156,
      "outputs": []
    },
    {
      "cell_type": "code",
      "metadata": {
        "id": "OpS5HEq3Xcld",
        "colab_type": "code",
        "colab": {
          "base_uri": "https://localhost:8080/",
          "height": 102
        },
        "outputId": "e54c1c3a-8b64-4447-8e5d-d82ba3924b54"
      },
      "source": [
        "' '.join(groups[0])"
      ],
      "execution_count": 157,
      "outputs": [
        {
          "output_type": "execute_result",
          "data": {
            "application/vnd.google.colaboratory.intrinsic+json": {
              "type": "string"
            },
            "text/plain": [
              "\"For the rest of the year, local 'Ah Jie' Zoe Tay will be playing one role only and it won't be for telly. In an interview with Shin Min Daily News, the veteran actress revealed that she'll be stepping back from acting so she can help her three sons prepare for their examinations — especially her second child Ashton who entered secondary school this year. She also has Brayden, 15, and Nathan, nine, with her husband Philip Chionh. The earliest we'll probably see her on our television screens again will be next year. Not too long a wait for the eager fans if you ask us.\""
            ]
          },
          "metadata": {
            "tags": []
          },
          "execution_count": 157
        }
      ]
    },
    {
      "cell_type": "code",
      "metadata": {
        "id": "7lfxt3DaXmc5",
        "colab_type": "code",
        "colab": {}
      },
      "source": [
        "summarised = []\n",
        "for i in groups:\n",
        "  joined = ' '.join(i)\n",
        "  summarised.append(t5_summarise(joined))"
      ],
      "execution_count": 158,
      "outputs": []
    },
    {
      "cell_type": "code",
      "metadata": {
        "id": "uQrlkkgLcOHv",
        "colab_type": "code",
        "colab": {
          "base_uri": "https://localhost:8080/",
          "height": 34
        },
        "outputId": "4c400eff-b52b-4a9e-95a2-045353336a19"
      },
      "source": [
        "len(summarised)"
      ],
      "execution_count": 159,
      "outputs": [
        {
          "output_type": "execute_result",
          "data": {
            "text/plain": [
              "5"
            ]
          },
          "metadata": {
            "tags": []
          },
          "execution_count": 159
        }
      ]
    },
    {
      "cell_type": "code",
      "metadata": {
        "id": "zBG3GkHDemp8",
        "colab_type": "code",
        "colab": {}
      },
      "source": [
        "import pprint"
      ],
      "execution_count": 160,
      "outputs": []
    },
    {
      "cell_type": "code",
      "metadata": {
        "id": "RwtkalF_etJJ",
        "colab_type": "code",
        "colab": {
          "base_uri": "https://localhost:8080/",
          "height": 235
        },
        "outputId": "51bdaa4d-e7f0-46ef-bf75-d9d36510f6f6"
      },
      "source": [
        "pprint.pprint(summarised)"
      ],
      "execution_count": 161,
      "outputs": [
        {
          "output_type": "stream",
          "text": [
            "[\"'Ah Jie' Zoe Tay will be playing one role for the rest of the year. she'll \"\n",
            " 'be stepping back from acting so she can help her three sons prepare for '\n",
            " 'their examinations, especially her second child Ashton who entered secondary '\n",
            " 'school this year.',\n",
            " 'the old [Mediacorp] station was located opposite the reservoir. recently, my '\n",
            " 'friend brought me to this paradise (MacRitchie Reservoir)',\n",
            " \"she'll perform a modern Indian dance routine with six beneficiaries of the \"\n",
            " \"annual fundraiser. she will also be part of president's star charity this \"\n",
            " 'year.',\n",
            " 'the recent death of taiwanese celebrity Alien Huang has a ripple effect that '\n",
            " 'can be acutely felt on our shores.',\n",
            " \"Zoe didn't get a chance to work with him. she was able to find out if he was \"\n",
            " 'working with her.']\n"
          ],
          "name": "stdout"
        }
      ]
    },
    {
      "cell_type": "code",
      "metadata": {
        "id": "FXs-5kZBnx-d",
        "colab_type": "code",
        "colab": {
          "base_uri": "https://localhost:8080/",
          "height": 34
        },
        "outputId": "39f7677b-7f5d-4cd9-dbe9-03153aea3188"
      },
      "source": [
        "Path(filename+\"_t5_sum.json\").write_text(json.dumps(summarised))"
      ],
      "execution_count": 162,
      "outputs": [
        {
          "output_type": "execute_result",
          "data": {
            "text/plain": [
              "754"
            ]
          },
          "metadata": {
            "tags": []
          },
          "execution_count": 162
        }
      ]
    },
    {
      "cell_type": "code",
      "metadata": {
        "id": "0MvEzqO5_zAP",
        "colab_type": "code",
        "colab": {}
      },
      "source": [
        "summarised_text = \"\"\n",
        "for i in summarised:\n",
        "  summarised_text = summarised_text+ i+\"\\n\\n\""
      ],
      "execution_count": 163,
      "outputs": []
    },
    {
      "cell_type": "code",
      "metadata": {
        "id": "U8oHkxzdASoa",
        "colab_type": "code",
        "colab": {
          "base_uri": "https://localhost:8080/",
          "height": 222
        },
        "outputId": "a259dc59-8351-4fa8-d61c-d9f6848f1307"
      },
      "source": [
        "print(summarised_text)"
      ],
      "execution_count": 164,
      "outputs": [
        {
          "output_type": "stream",
          "text": [
            "'Ah Jie' Zoe Tay will be playing one role for the rest of the year. she'll be stepping back from acting so she can help her three sons prepare for their examinations, especially her second child Ashton who entered secondary school this year.\n",
            "\n",
            "the old [Mediacorp] station was located opposite the reservoir. recently, my friend brought me to this paradise (MacRitchie Reservoir)\n",
            "\n",
            "she'll perform a modern Indian dance routine with six beneficiaries of the annual fundraiser. she will also be part of president's star charity this year.\n",
            "\n",
            "the recent death of taiwanese celebrity Alien Huang has a ripple effect that can be acutely felt on our shores.\n",
            "\n",
            "Zoe didn't get a chance to work with him. she was able to find out if he was working with her.\n",
            "\n",
            "\n"
          ],
          "name": "stdout"
        }
      ]
    },
    {
      "cell_type": "code",
      "metadata": {
        "id": "d8pDAmIZAdGh",
        "colab_type": "code",
        "colab": {
          "base_uri": "https://localhost:8080/",
          "height": 34
        },
        "outputId": "4673c585-33b3-4185-c8c5-3e66e5057518"
      },
      "source": [
        "Path(filename+\"_t5_sum.txt\").write_text(summarised_text)"
      ],
      "execution_count": 165,
      "outputs": [
        {
          "output_type": "execute_result",
          "data": {
            "text/plain": [
              "744"
            ]
          },
          "metadata": {
            "tags": []
          },
          "execution_count": 165
        }
      ]
    },
    {
      "cell_type": "markdown",
      "metadata": {
        "id": "2CTjfypbo6Wn",
        "colab_type": "text"
      },
      "source": [
        "## Default hugging face summarizer pipeline"
      ]
    },
    {
      "cell_type": "code",
      "metadata": {
        "id": "Si98c-BmevBn",
        "colab_type": "code",
        "colab": {
          "base_uri": "https://localhost:8080/",
          "height": 138
        },
        "outputId": "312a9b89-4d4b-47a0-9ccf-41cc7f6ab05b"
      },
      "source": [
        "sum1 = []\n",
        "\n",
        "for i in groups:\n",
        "  t = ' '.join(i)\n",
        "  sum1.append(summarizer(t))"
      ],
      "execution_count": 166,
      "outputs": [
        {
          "output_type": "stream",
          "text": [
            "Your max_length is set to 142, but you input_length is only 129. You might consider decreasing max_length manually, e.g. summarizer('...', max_length=50)\n",
            "Your max_length is set to 142, but you input_length is only 80. You might consider decreasing max_length manually, e.g. summarizer('...', max_length=50)\n",
            "Your max_length is set to 142, but you input_length is only 52. You might consider decreasing max_length manually, e.g. summarizer('...', max_length=50)\n",
            "Your max_length is set to 142, but you input_length is only 33. You might consider decreasing max_length manually, e.g. summarizer('...', max_length=50)\n",
            "Your min_length is set to 56, but you input_length is only 18. You might consider decreasing min_length manually, e.g. summarizer('...', min_length=10)\n",
            "Your max_length is set to 142, but you input_length is only 18. You might consider decreasing max_length manually, e.g. summarizer('...', max_length=50)\n"
          ],
          "name": "stderr"
        }
      ]
    },
    {
      "cell_type": "code",
      "metadata": {
        "id": "B3BcQQarkqUn",
        "colab_type": "code",
        "colab": {
          "base_uri": "https://localhost:8080/",
          "height": 121
        },
        "outputId": "f16f8711-330e-46bc-fe0f-1a932b7c9264"
      },
      "source": [
        "sum1"
      ],
      "execution_count": 167,
      "outputs": [
        {
          "output_type": "execute_result",
          "data": {
            "text/plain": [
              "[[{'summary_text': \" Zoe Tay will be stepping back from acting so she can help her three sons prepare for their examinations . The earliest we'll probably see her on our television screens again will be next year . She also has Brayden, 15, and Nathan, nine, with her husband Philip Chionh .\"}],\n",
              " [{'summary_text': ' MacRitchie Reservoir was located opposite the old Mediacorp station . \"For over 30 years, I rarely explored the area, though we would shoot there occasionally,\" she said . \"I can breathe the fresh air and train my body, it kills two birds with one stone,\" she added .'}],\n",
              " [{'summary_text': \" Apart from her editorial shoots, she'll be part of this year's President's Star Charity . She'll perform a modern Indian dance routine with six beneficiaries of the annual fundraiser . While she won't be taking on acting roles, she will still be working for the charity .\"}],\n",
              " [{'summary_text': \" The recent death of Taiwanese celebrity Alien Huang has a ripple effect that can be acutely felt on our shores . He has a strong connection to many local celebrities . The death of the Taiwanese celebrity has a huge impact on the Australian public . Alien Huang is one of the world's most famous Taiwanese celebrities .\"}],\n",
              " [{'summary_text': \" Zoe didn't get a chance to work with Zoe, though, she didn't . Zoe, who was in a relationship with Zoe's boyfriend, died at the end of the day . Zoe's husband is a successful actor, but she was never in contact with him again .\"}]]"
            ]
          },
          "metadata": {
            "tags": []
          },
          "execution_count": 167
        }
      ]
    },
    {
      "cell_type": "markdown",
      "metadata": {
        "id": "jtbVGfgtwa1_",
        "colab_type": "text"
      },
      "source": [
        "The number of groups."
      ]
    },
    {
      "cell_type": "code",
      "metadata": {
        "id": "xIr7tYyHlUtC",
        "colab_type": "code",
        "colab": {
          "base_uri": "https://localhost:8080/",
          "height": 34
        },
        "outputId": "15e12e1d-0dd3-4368-e075-7b3ce01d11e6"
      },
      "source": [
        "len(sum1)"
      ],
      "execution_count": 168,
      "outputs": [
        {
          "output_type": "execute_result",
          "data": {
            "text/plain": [
              "5"
            ]
          },
          "metadata": {
            "tags": []
          },
          "execution_count": 168
        }
      ]
    },
    {
      "cell_type": "code",
      "metadata": {
        "id": "vmhNewG5nnRL",
        "colab_type": "code",
        "colab": {
          "base_uri": "https://localhost:8080/",
          "height": 34
        },
        "outputId": "910fb0e4-30d0-4a06-8db5-7408a9ab0e1a"
      },
      "source": [
        "Path(filename+\"_hugging_sum.json\").write_text(json.dumps(sum1))"
      ],
      "execution_count": 169,
      "outputs": [
        {
          "output_type": "execute_result",
          "data": {
            "text/plain": [
              "1483"
            ]
          },
          "metadata": {
            "tags": []
          },
          "execution_count": 169
        }
      ]
    },
    {
      "cell_type": "code",
      "metadata": {
        "id": "qKU9a_yxnvPl",
        "colab_type": "code",
        "colab": {
          "base_uri": "https://localhost:8080/",
          "height": 34
        },
        "outputId": "a9ad4fa9-a026-4af3-9ac7-31bdf670c1d3"
      },
      "source": [
        "summary = [i[0][\"summary_text\"].strip() for i in sum1]\n",
        "\n",
        "Path(filename+\"_hugging_sum.txt\").write_text('\\n\\n'.join(summary))"
      ],
      "execution_count": 170,
      "outputs": [
        {
          "output_type": "execute_result",
          "data": {
            "text/plain": [
              "1362"
            ]
          },
          "metadata": {
            "tags": []
          },
          "execution_count": 170
        }
      ]
    },
    {
      "cell_type": "code",
      "metadata": {
        "id": "9HnjYQrIvs5s",
        "colab_type": "code",
        "colab": {
          "base_uri": "https://localhost:8080/",
          "height": 121
        },
        "outputId": "aafd898e-3179-460d-dbe4-33636b33f4b5"
      },
      "source": [
        "summary"
      ],
      "execution_count": 171,
      "outputs": [
        {
          "output_type": "execute_result",
          "data": {
            "text/plain": [
              "[\"Zoe Tay will be stepping back from acting so she can help her three sons prepare for their examinations . The earliest we'll probably see her on our television screens again will be next year . She also has Brayden, 15, and Nathan, nine, with her husband Philip Chionh .\",\n",
              " 'MacRitchie Reservoir was located opposite the old Mediacorp station . \"For over 30 years, I rarely explored the area, though we would shoot there occasionally,\" she said . \"I can breathe the fresh air and train my body, it kills two birds with one stone,\" she added .',\n",
              " \"Apart from her editorial shoots, she'll be part of this year's President's Star Charity . She'll perform a modern Indian dance routine with six beneficiaries of the annual fundraiser . While she won't be taking on acting roles, she will still be working for the charity .\",\n",
              " \"The recent death of Taiwanese celebrity Alien Huang has a ripple effect that can be acutely felt on our shores . He has a strong connection to many local celebrities . The death of the Taiwanese celebrity has a huge impact on the Australian public . Alien Huang is one of the world's most famous Taiwanese celebrities .\",\n",
              " \"Zoe didn't get a chance to work with Zoe, though, she didn't . Zoe, who was in a relationship with Zoe's boyfriend, died at the end of the day . Zoe's husband is a successful actor, but she was never in contact with him again .\"]"
            ]
          },
          "metadata": {
            "tags": []
          },
          "execution_count": 171
        }
      ]
    },
    {
      "cell_type": "code",
      "metadata": {
        "id": "uH3qBFcG5Ouw",
        "colab_type": "code",
        "colab": {}
      },
      "source": [
        ""
      ],
      "execution_count": 171,
      "outputs": []
    }
  ]
}