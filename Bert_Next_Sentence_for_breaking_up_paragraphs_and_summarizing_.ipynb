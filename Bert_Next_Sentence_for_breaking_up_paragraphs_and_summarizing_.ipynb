{
  "nbformat": 4,
  "nbformat_minor": 0,
  "metadata": {
    "colab": {
      "name": "Bert Next Sentence for breaking up paragraphs and summarizing .ipynb",
      "provenance": [],
      "collapsed_sections": [
        "mYbKM5yApEFT"
      ],
      "toc_visible": true,
      "authorship_tag": "ABX9TyMJbt26qMUd7nohUAqnXXgh",
      "include_colab_link": true
    },
    "kernelspec": {
      "name": "python3",
      "display_name": "Python 3"
    },
    "accelerator": "GPU",
    "widgets": {
      "application/vnd.jupyter.widget-state+json": {
        "a3df1fe3359b461a923f396de189ea6e": {
          "model_module": "@jupyter-widgets/controls",
          "model_name": "HBoxModel",
          "state": {
            "_view_name": "HBoxView",
            "_dom_classes": [],
            "_model_name": "HBoxModel",
            "_view_module": "@jupyter-widgets/controls",
            "_model_module_version": "1.5.0",
            "_view_count": null,
            "_view_module_version": "1.5.0",
            "box_style": "",
            "layout": "IPY_MODEL_ac1b52298651486a9454e40a09c7e048",
            "_model_module": "@jupyter-widgets/controls",
            "children": [
              "IPY_MODEL_e88573af86014550a93be49fc7c1c158",
              "IPY_MODEL_efb7b0cb23b04135bca6b068f3c48e84"
            ]
          }
        },
        "ac1b52298651486a9454e40a09c7e048": {
          "model_module": "@jupyter-widgets/base",
          "model_name": "LayoutModel",
          "state": {
            "_view_name": "LayoutView",
            "grid_template_rows": null,
            "right": null,
            "justify_content": null,
            "_view_module": "@jupyter-widgets/base",
            "overflow": null,
            "_model_module_version": "1.2.0",
            "_view_count": null,
            "flex_flow": null,
            "width": null,
            "min_width": null,
            "border": null,
            "align_items": null,
            "bottom": null,
            "_model_module": "@jupyter-widgets/base",
            "top": null,
            "grid_column": null,
            "overflow_y": null,
            "overflow_x": null,
            "grid_auto_flow": null,
            "grid_area": null,
            "grid_template_columns": null,
            "flex": null,
            "_model_name": "LayoutModel",
            "justify_items": null,
            "grid_row": null,
            "max_height": null,
            "align_content": null,
            "visibility": null,
            "align_self": null,
            "height": null,
            "min_height": null,
            "padding": null,
            "grid_auto_rows": null,
            "grid_gap": null,
            "max_width": null,
            "order": null,
            "_view_module_version": "1.2.0",
            "grid_template_areas": null,
            "object_position": null,
            "object_fit": null,
            "grid_auto_columns": null,
            "margin": null,
            "display": null,
            "left": null
          }
        },
        "e88573af86014550a93be49fc7c1c158": {
          "model_module": "@jupyter-widgets/controls",
          "model_name": "FloatProgressModel",
          "state": {
            "_view_name": "ProgressView",
            "style": "IPY_MODEL_335ae5a5a40c4125acfa6ef9f6a17470",
            "_dom_classes": [],
            "description": "Downloading: 100%",
            "_model_name": "FloatProgressModel",
            "bar_style": "success",
            "max": 231508,
            "_view_module": "@jupyter-widgets/controls",
            "_model_module_version": "1.5.0",
            "value": 231508,
            "_view_count": null,
            "_view_module_version": "1.5.0",
            "orientation": "horizontal",
            "min": 0,
            "description_tooltip": null,
            "_model_module": "@jupyter-widgets/controls",
            "layout": "IPY_MODEL_a39229f6427d46f3a87f4dd2056b7ec1"
          }
        },
        "efb7b0cb23b04135bca6b068f3c48e84": {
          "model_module": "@jupyter-widgets/controls",
          "model_name": "HTMLModel",
          "state": {
            "_view_name": "HTMLView",
            "style": "IPY_MODEL_52fe78e65e2c4f7b883193584ba7ca95",
            "_dom_classes": [],
            "description": "",
            "_model_name": "HTMLModel",
            "placeholder": "​",
            "_view_module": "@jupyter-widgets/controls",
            "_model_module_version": "1.5.0",
            "value": " 232k/232k [00:00&lt;00:00, 792kB/s]",
            "_view_count": null,
            "_view_module_version": "1.5.0",
            "description_tooltip": null,
            "_model_module": "@jupyter-widgets/controls",
            "layout": "IPY_MODEL_886d4481df4d451482a204c378f191d2"
          }
        },
        "335ae5a5a40c4125acfa6ef9f6a17470": {
          "model_module": "@jupyter-widgets/controls",
          "model_name": "ProgressStyleModel",
          "state": {
            "_view_name": "StyleView",
            "_model_name": "ProgressStyleModel",
            "description_width": "initial",
            "_view_module": "@jupyter-widgets/base",
            "_model_module_version": "1.5.0",
            "_view_count": null,
            "_view_module_version": "1.2.0",
            "bar_color": null,
            "_model_module": "@jupyter-widgets/controls"
          }
        },
        "a39229f6427d46f3a87f4dd2056b7ec1": {
          "model_module": "@jupyter-widgets/base",
          "model_name": "LayoutModel",
          "state": {
            "_view_name": "LayoutView",
            "grid_template_rows": null,
            "right": null,
            "justify_content": null,
            "_view_module": "@jupyter-widgets/base",
            "overflow": null,
            "_model_module_version": "1.2.0",
            "_view_count": null,
            "flex_flow": null,
            "width": null,
            "min_width": null,
            "border": null,
            "align_items": null,
            "bottom": null,
            "_model_module": "@jupyter-widgets/base",
            "top": null,
            "grid_column": null,
            "overflow_y": null,
            "overflow_x": null,
            "grid_auto_flow": null,
            "grid_area": null,
            "grid_template_columns": null,
            "flex": null,
            "_model_name": "LayoutModel",
            "justify_items": null,
            "grid_row": null,
            "max_height": null,
            "align_content": null,
            "visibility": null,
            "align_self": null,
            "height": null,
            "min_height": null,
            "padding": null,
            "grid_auto_rows": null,
            "grid_gap": null,
            "max_width": null,
            "order": null,
            "_view_module_version": "1.2.0",
            "grid_template_areas": null,
            "object_position": null,
            "object_fit": null,
            "grid_auto_columns": null,
            "margin": null,
            "display": null,
            "left": null
          }
        },
        "52fe78e65e2c4f7b883193584ba7ca95": {
          "model_module": "@jupyter-widgets/controls",
          "model_name": "DescriptionStyleModel",
          "state": {
            "_view_name": "StyleView",
            "_model_name": "DescriptionStyleModel",
            "description_width": "",
            "_view_module": "@jupyter-widgets/base",
            "_model_module_version": "1.5.0",
            "_view_count": null,
            "_view_module_version": "1.2.0",
            "_model_module": "@jupyter-widgets/controls"
          }
        },
        "886d4481df4d451482a204c378f191d2": {
          "model_module": "@jupyter-widgets/base",
          "model_name": "LayoutModel",
          "state": {
            "_view_name": "LayoutView",
            "grid_template_rows": null,
            "right": null,
            "justify_content": null,
            "_view_module": "@jupyter-widgets/base",
            "overflow": null,
            "_model_module_version": "1.2.0",
            "_view_count": null,
            "flex_flow": null,
            "width": null,
            "min_width": null,
            "border": null,
            "align_items": null,
            "bottom": null,
            "_model_module": "@jupyter-widgets/base",
            "top": null,
            "grid_column": null,
            "overflow_y": null,
            "overflow_x": null,
            "grid_auto_flow": null,
            "grid_area": null,
            "grid_template_columns": null,
            "flex": null,
            "_model_name": "LayoutModel",
            "justify_items": null,
            "grid_row": null,
            "max_height": null,
            "align_content": null,
            "visibility": null,
            "align_self": null,
            "height": null,
            "min_height": null,
            "padding": null,
            "grid_auto_rows": null,
            "grid_gap": null,
            "max_width": null,
            "order": null,
            "_view_module_version": "1.2.0",
            "grid_template_areas": null,
            "object_position": null,
            "object_fit": null,
            "grid_auto_columns": null,
            "margin": null,
            "display": null,
            "left": null
          }
        },
        "6c9559cfec6348b9878d5e83e1e0ef7b": {
          "model_module": "@jupyter-widgets/controls",
          "model_name": "HBoxModel",
          "state": {
            "_view_name": "HBoxView",
            "_dom_classes": [],
            "_model_name": "HBoxModel",
            "_view_module": "@jupyter-widgets/controls",
            "_model_module_version": "1.5.0",
            "_view_count": null,
            "_view_module_version": "1.5.0",
            "box_style": "",
            "layout": "IPY_MODEL_70d3cac551f64dd189b67f34d5d3807c",
            "_model_module": "@jupyter-widgets/controls",
            "children": [
              "IPY_MODEL_b0c916b7b3354ed18c8936f465133be0",
              "IPY_MODEL_7afdd015745f480f9c5285cd8abd739e"
            ]
          }
        },
        "70d3cac551f64dd189b67f34d5d3807c": {
          "model_module": "@jupyter-widgets/base",
          "model_name": "LayoutModel",
          "state": {
            "_view_name": "LayoutView",
            "grid_template_rows": null,
            "right": null,
            "justify_content": null,
            "_view_module": "@jupyter-widgets/base",
            "overflow": null,
            "_model_module_version": "1.2.0",
            "_view_count": null,
            "flex_flow": null,
            "width": null,
            "min_width": null,
            "border": null,
            "align_items": null,
            "bottom": null,
            "_model_module": "@jupyter-widgets/base",
            "top": null,
            "grid_column": null,
            "overflow_y": null,
            "overflow_x": null,
            "grid_auto_flow": null,
            "grid_area": null,
            "grid_template_columns": null,
            "flex": null,
            "_model_name": "LayoutModel",
            "justify_items": null,
            "grid_row": null,
            "max_height": null,
            "align_content": null,
            "visibility": null,
            "align_self": null,
            "height": null,
            "min_height": null,
            "padding": null,
            "grid_auto_rows": null,
            "grid_gap": null,
            "max_width": null,
            "order": null,
            "_view_module_version": "1.2.0",
            "grid_template_areas": null,
            "object_position": null,
            "object_fit": null,
            "grid_auto_columns": null,
            "margin": null,
            "display": null,
            "left": null
          }
        },
        "b0c916b7b3354ed18c8936f465133be0": {
          "model_module": "@jupyter-widgets/controls",
          "model_name": "FloatProgressModel",
          "state": {
            "_view_name": "ProgressView",
            "style": "IPY_MODEL_27ea16f0b25d4c8cbfb04872328cce4d",
            "_dom_classes": [],
            "description": "Downloading: 100%",
            "_model_name": "FloatProgressModel",
            "bar_style": "success",
            "max": 433,
            "_view_module": "@jupyter-widgets/controls",
            "_model_module_version": "1.5.0",
            "value": 433,
            "_view_count": null,
            "_view_module_version": "1.5.0",
            "orientation": "horizontal",
            "min": 0,
            "description_tooltip": null,
            "_model_module": "@jupyter-widgets/controls",
            "layout": "IPY_MODEL_ef2dc32a2f4441a488193b8b3a0dd5c4"
          }
        },
        "7afdd015745f480f9c5285cd8abd739e": {
          "model_module": "@jupyter-widgets/controls",
          "model_name": "HTMLModel",
          "state": {
            "_view_name": "HTMLView",
            "style": "IPY_MODEL_2b23ae18782140ce8b0ad0f7adc63507",
            "_dom_classes": [],
            "description": "",
            "_model_name": "HTMLModel",
            "placeholder": "​",
            "_view_module": "@jupyter-widgets/controls",
            "_model_module_version": "1.5.0",
            "value": " 433/433 [00:17&lt;00:00, 24.4B/s]",
            "_view_count": null,
            "_view_module_version": "1.5.0",
            "description_tooltip": null,
            "_model_module": "@jupyter-widgets/controls",
            "layout": "IPY_MODEL_0bf28aed5a3f41c680b55b2a565dd549"
          }
        },
        "27ea16f0b25d4c8cbfb04872328cce4d": {
          "model_module": "@jupyter-widgets/controls",
          "model_name": "ProgressStyleModel",
          "state": {
            "_view_name": "StyleView",
            "_model_name": "ProgressStyleModel",
            "description_width": "initial",
            "_view_module": "@jupyter-widgets/base",
            "_model_module_version": "1.5.0",
            "_view_count": null,
            "_view_module_version": "1.2.0",
            "bar_color": null,
            "_model_module": "@jupyter-widgets/controls"
          }
        },
        "ef2dc32a2f4441a488193b8b3a0dd5c4": {
          "model_module": "@jupyter-widgets/base",
          "model_name": "LayoutModel",
          "state": {
            "_view_name": "LayoutView",
            "grid_template_rows": null,
            "right": null,
            "justify_content": null,
            "_view_module": "@jupyter-widgets/base",
            "overflow": null,
            "_model_module_version": "1.2.0",
            "_view_count": null,
            "flex_flow": null,
            "width": null,
            "min_width": null,
            "border": null,
            "align_items": null,
            "bottom": null,
            "_model_module": "@jupyter-widgets/base",
            "top": null,
            "grid_column": null,
            "overflow_y": null,
            "overflow_x": null,
            "grid_auto_flow": null,
            "grid_area": null,
            "grid_template_columns": null,
            "flex": null,
            "_model_name": "LayoutModel",
            "justify_items": null,
            "grid_row": null,
            "max_height": null,
            "align_content": null,
            "visibility": null,
            "align_self": null,
            "height": null,
            "min_height": null,
            "padding": null,
            "grid_auto_rows": null,
            "grid_gap": null,
            "max_width": null,
            "order": null,
            "_view_module_version": "1.2.0",
            "grid_template_areas": null,
            "object_position": null,
            "object_fit": null,
            "grid_auto_columns": null,
            "margin": null,
            "display": null,
            "left": null
          }
        },
        "2b23ae18782140ce8b0ad0f7adc63507": {
          "model_module": "@jupyter-widgets/controls",
          "model_name": "DescriptionStyleModel",
          "state": {
            "_view_name": "StyleView",
            "_model_name": "DescriptionStyleModel",
            "description_width": "",
            "_view_module": "@jupyter-widgets/base",
            "_model_module_version": "1.5.0",
            "_view_count": null,
            "_view_module_version": "1.2.0",
            "_model_module": "@jupyter-widgets/controls"
          }
        },
        "0bf28aed5a3f41c680b55b2a565dd549": {
          "model_module": "@jupyter-widgets/base",
          "model_name": "LayoutModel",
          "state": {
            "_view_name": "LayoutView",
            "grid_template_rows": null,
            "right": null,
            "justify_content": null,
            "_view_module": "@jupyter-widgets/base",
            "overflow": null,
            "_model_module_version": "1.2.0",
            "_view_count": null,
            "flex_flow": null,
            "width": null,
            "min_width": null,
            "border": null,
            "align_items": null,
            "bottom": null,
            "_model_module": "@jupyter-widgets/base",
            "top": null,
            "grid_column": null,
            "overflow_y": null,
            "overflow_x": null,
            "grid_auto_flow": null,
            "grid_area": null,
            "grid_template_columns": null,
            "flex": null,
            "_model_name": "LayoutModel",
            "justify_items": null,
            "grid_row": null,
            "max_height": null,
            "align_content": null,
            "visibility": null,
            "align_self": null,
            "height": null,
            "min_height": null,
            "padding": null,
            "grid_auto_rows": null,
            "grid_gap": null,
            "max_width": null,
            "order": null,
            "_view_module_version": "1.2.0",
            "grid_template_areas": null,
            "object_position": null,
            "object_fit": null,
            "grid_auto_columns": null,
            "margin": null,
            "display": null,
            "left": null
          }
        },
        "630f40f135064b94a3167b5fa3422fb0": {
          "model_module": "@jupyter-widgets/controls",
          "model_name": "HBoxModel",
          "state": {
            "_view_name": "HBoxView",
            "_dom_classes": [],
            "_model_name": "HBoxModel",
            "_view_module": "@jupyter-widgets/controls",
            "_model_module_version": "1.5.0",
            "_view_count": null,
            "_view_module_version": "1.5.0",
            "box_style": "",
            "layout": "IPY_MODEL_25825e45f3a54778b2a6a4dd6148316c",
            "_model_module": "@jupyter-widgets/controls",
            "children": [
              "IPY_MODEL_a1c6abc2b12a4f7d84f6c2d5b7368f38",
              "IPY_MODEL_9dac55dd6e1a442ab24bdef676342f18"
            ]
          }
        },
        "25825e45f3a54778b2a6a4dd6148316c": {
          "model_module": "@jupyter-widgets/base",
          "model_name": "LayoutModel",
          "state": {
            "_view_name": "LayoutView",
            "grid_template_rows": null,
            "right": null,
            "justify_content": null,
            "_view_module": "@jupyter-widgets/base",
            "overflow": null,
            "_model_module_version": "1.2.0",
            "_view_count": null,
            "flex_flow": null,
            "width": null,
            "min_width": null,
            "border": null,
            "align_items": null,
            "bottom": null,
            "_model_module": "@jupyter-widgets/base",
            "top": null,
            "grid_column": null,
            "overflow_y": null,
            "overflow_x": null,
            "grid_auto_flow": null,
            "grid_area": null,
            "grid_template_columns": null,
            "flex": null,
            "_model_name": "LayoutModel",
            "justify_items": null,
            "grid_row": null,
            "max_height": null,
            "align_content": null,
            "visibility": null,
            "align_self": null,
            "height": null,
            "min_height": null,
            "padding": null,
            "grid_auto_rows": null,
            "grid_gap": null,
            "max_width": null,
            "order": null,
            "_view_module_version": "1.2.0",
            "grid_template_areas": null,
            "object_position": null,
            "object_fit": null,
            "grid_auto_columns": null,
            "margin": null,
            "display": null,
            "left": null
          }
        },
        "a1c6abc2b12a4f7d84f6c2d5b7368f38": {
          "model_module": "@jupyter-widgets/controls",
          "model_name": "FloatProgressModel",
          "state": {
            "_view_name": "ProgressView",
            "style": "IPY_MODEL_ec68572886eb4584a25ccecd56682818",
            "_dom_classes": [],
            "description": "Downloading: 100%",
            "_model_name": "FloatProgressModel",
            "bar_style": "success",
            "max": 536063208,
            "_view_module": "@jupyter-widgets/controls",
            "_model_module_version": "1.5.0",
            "value": 536063208,
            "_view_count": null,
            "_view_module_version": "1.5.0",
            "orientation": "horizontal",
            "min": 0,
            "description_tooltip": null,
            "_model_module": "@jupyter-widgets/controls",
            "layout": "IPY_MODEL_11796bdd9303420fb5fe9acb369c8291"
          }
        },
        "9dac55dd6e1a442ab24bdef676342f18": {
          "model_module": "@jupyter-widgets/controls",
          "model_name": "HTMLModel",
          "state": {
            "_view_name": "HTMLView",
            "style": "IPY_MODEL_00f9ed0035f64c228fd3501e30311d7d",
            "_dom_classes": [],
            "description": "",
            "_model_name": "HTMLModel",
            "placeholder": "​",
            "_view_module": "@jupyter-widgets/controls",
            "_model_module_version": "1.5.0",
            "value": " 536M/536M [00:17&lt;00:00, 30.8MB/s]",
            "_view_count": null,
            "_view_module_version": "1.5.0",
            "description_tooltip": null,
            "_model_module": "@jupyter-widgets/controls",
            "layout": "IPY_MODEL_f10cff4ee65449fd88c2f9750faf5424"
          }
        },
        "ec68572886eb4584a25ccecd56682818": {
          "model_module": "@jupyter-widgets/controls",
          "model_name": "ProgressStyleModel",
          "state": {
            "_view_name": "StyleView",
            "_model_name": "ProgressStyleModel",
            "description_width": "initial",
            "_view_module": "@jupyter-widgets/base",
            "_model_module_version": "1.5.0",
            "_view_count": null,
            "_view_module_version": "1.2.0",
            "bar_color": null,
            "_model_module": "@jupyter-widgets/controls"
          }
        },
        "11796bdd9303420fb5fe9acb369c8291": {
          "model_module": "@jupyter-widgets/base",
          "model_name": "LayoutModel",
          "state": {
            "_view_name": "LayoutView",
            "grid_template_rows": null,
            "right": null,
            "justify_content": null,
            "_view_module": "@jupyter-widgets/base",
            "overflow": null,
            "_model_module_version": "1.2.0",
            "_view_count": null,
            "flex_flow": null,
            "width": null,
            "min_width": null,
            "border": null,
            "align_items": null,
            "bottom": null,
            "_model_module": "@jupyter-widgets/base",
            "top": null,
            "grid_column": null,
            "overflow_y": null,
            "overflow_x": null,
            "grid_auto_flow": null,
            "grid_area": null,
            "grid_template_columns": null,
            "flex": null,
            "_model_name": "LayoutModel",
            "justify_items": null,
            "grid_row": null,
            "max_height": null,
            "align_content": null,
            "visibility": null,
            "align_self": null,
            "height": null,
            "min_height": null,
            "padding": null,
            "grid_auto_rows": null,
            "grid_gap": null,
            "max_width": null,
            "order": null,
            "_view_module_version": "1.2.0",
            "grid_template_areas": null,
            "object_position": null,
            "object_fit": null,
            "grid_auto_columns": null,
            "margin": null,
            "display": null,
            "left": null
          }
        },
        "00f9ed0035f64c228fd3501e30311d7d": {
          "model_module": "@jupyter-widgets/controls",
          "model_name": "DescriptionStyleModel",
          "state": {
            "_view_name": "StyleView",
            "_model_name": "DescriptionStyleModel",
            "description_width": "",
            "_view_module": "@jupyter-widgets/base",
            "_model_module_version": "1.5.0",
            "_view_count": null,
            "_view_module_version": "1.2.0",
            "_model_module": "@jupyter-widgets/controls"
          }
        },
        "f10cff4ee65449fd88c2f9750faf5424": {
          "model_module": "@jupyter-widgets/base",
          "model_name": "LayoutModel",
          "state": {
            "_view_name": "LayoutView",
            "grid_template_rows": null,
            "right": null,
            "justify_content": null,
            "_view_module": "@jupyter-widgets/base",
            "overflow": null,
            "_model_module_version": "1.2.0",
            "_view_count": null,
            "flex_flow": null,
            "width": null,
            "min_width": null,
            "border": null,
            "align_items": null,
            "bottom": null,
            "_model_module": "@jupyter-widgets/base",
            "top": null,
            "grid_column": null,
            "overflow_y": null,
            "overflow_x": null,
            "grid_auto_flow": null,
            "grid_area": null,
            "grid_template_columns": null,
            "flex": null,
            "_model_name": "LayoutModel",
            "justify_items": null,
            "grid_row": null,
            "max_height": null,
            "align_content": null,
            "visibility": null,
            "align_self": null,
            "height": null,
            "min_height": null,
            "padding": null,
            "grid_auto_rows": null,
            "grid_gap": null,
            "max_width": null,
            "order": null,
            "_view_module_version": "1.2.0",
            "grid_template_areas": null,
            "object_position": null,
            "object_fit": null,
            "grid_auto_columns": null,
            "margin": null,
            "display": null,
            "left": null
          }
        },
        "452ab6b170ec4769a8ab2e41c5e600de": {
          "model_module": "@jupyter-widgets/controls",
          "model_name": "HBoxModel",
          "state": {
            "_view_name": "HBoxView",
            "_dom_classes": [],
            "_model_name": "HBoxModel",
            "_view_module": "@jupyter-widgets/controls",
            "_model_module_version": "1.5.0",
            "_view_count": null,
            "_view_module_version": "1.5.0",
            "box_style": "",
            "layout": "IPY_MODEL_306e4540d36e4bb2bc8a6091998780c2",
            "_model_module": "@jupyter-widgets/controls",
            "children": [
              "IPY_MODEL_8d10ced56c43456d8135b5bfb83221af",
              "IPY_MODEL_cd20351b36e34324bf893d4b16e65731"
            ]
          }
        },
        "306e4540d36e4bb2bc8a6091998780c2": {
          "model_module": "@jupyter-widgets/base",
          "model_name": "LayoutModel",
          "state": {
            "_view_name": "LayoutView",
            "grid_template_rows": null,
            "right": null,
            "justify_content": null,
            "_view_module": "@jupyter-widgets/base",
            "overflow": null,
            "_model_module_version": "1.2.0",
            "_view_count": null,
            "flex_flow": null,
            "width": null,
            "min_width": null,
            "border": null,
            "align_items": null,
            "bottom": null,
            "_model_module": "@jupyter-widgets/base",
            "top": null,
            "grid_column": null,
            "overflow_y": null,
            "overflow_x": null,
            "grid_auto_flow": null,
            "grid_area": null,
            "grid_template_columns": null,
            "flex": null,
            "_model_name": "LayoutModel",
            "justify_items": null,
            "grid_row": null,
            "max_height": null,
            "align_content": null,
            "visibility": null,
            "align_self": null,
            "height": null,
            "min_height": null,
            "padding": null,
            "grid_auto_rows": null,
            "grid_gap": null,
            "max_width": null,
            "order": null,
            "_view_module_version": "1.2.0",
            "grid_template_areas": null,
            "object_position": null,
            "object_fit": null,
            "grid_auto_columns": null,
            "margin": null,
            "display": null,
            "left": null
          }
        },
        "8d10ced56c43456d8135b5bfb83221af": {
          "model_module": "@jupyter-widgets/controls",
          "model_name": "FloatProgressModel",
          "state": {
            "_view_name": "ProgressView",
            "style": "IPY_MODEL_398ca171ed0b445a95ecc6ba77e88382",
            "_dom_classes": [],
            "description": "Downloading: 100%",
            "_model_name": "FloatProgressModel",
            "bar_style": "success",
            "max": 1621,
            "_view_module": "@jupyter-widgets/controls",
            "_model_module_version": "1.5.0",
            "value": 1621,
            "_view_count": null,
            "_view_module_version": "1.5.0",
            "orientation": "horizontal",
            "min": 0,
            "description_tooltip": null,
            "_model_module": "@jupyter-widgets/controls",
            "layout": "IPY_MODEL_21ba0c7f3d104305962262f21cb5f883"
          }
        },
        "cd20351b36e34324bf893d4b16e65731": {
          "model_module": "@jupyter-widgets/controls",
          "model_name": "HTMLModel",
          "state": {
            "_view_name": "HTMLView",
            "style": "IPY_MODEL_e9fdb1da69144354af2d2f914884481c",
            "_dom_classes": [],
            "description": "",
            "_model_name": "HTMLModel",
            "placeholder": "​",
            "_view_module": "@jupyter-widgets/controls",
            "_model_module_version": "1.5.0",
            "value": " 1.62k/1.62k [00:01&lt;00:00, 987B/s]",
            "_view_count": null,
            "_view_module_version": "1.5.0",
            "description_tooltip": null,
            "_model_module": "@jupyter-widgets/controls",
            "layout": "IPY_MODEL_2e763d9d5e52467e8a3bb234f41090a1"
          }
        },
        "398ca171ed0b445a95ecc6ba77e88382": {
          "model_module": "@jupyter-widgets/controls",
          "model_name": "ProgressStyleModel",
          "state": {
            "_view_name": "StyleView",
            "_model_name": "ProgressStyleModel",
            "description_width": "initial",
            "_view_module": "@jupyter-widgets/base",
            "_model_module_version": "1.5.0",
            "_view_count": null,
            "_view_module_version": "1.2.0",
            "bar_color": null,
            "_model_module": "@jupyter-widgets/controls"
          }
        },
        "21ba0c7f3d104305962262f21cb5f883": {
          "model_module": "@jupyter-widgets/base",
          "model_name": "LayoutModel",
          "state": {
            "_view_name": "LayoutView",
            "grid_template_rows": null,
            "right": null,
            "justify_content": null,
            "_view_module": "@jupyter-widgets/base",
            "overflow": null,
            "_model_module_version": "1.2.0",
            "_view_count": null,
            "flex_flow": null,
            "width": null,
            "min_width": null,
            "border": null,
            "align_items": null,
            "bottom": null,
            "_model_module": "@jupyter-widgets/base",
            "top": null,
            "grid_column": null,
            "overflow_y": null,
            "overflow_x": null,
            "grid_auto_flow": null,
            "grid_area": null,
            "grid_template_columns": null,
            "flex": null,
            "_model_name": "LayoutModel",
            "justify_items": null,
            "grid_row": null,
            "max_height": null,
            "align_content": null,
            "visibility": null,
            "align_self": null,
            "height": null,
            "min_height": null,
            "padding": null,
            "grid_auto_rows": null,
            "grid_gap": null,
            "max_width": null,
            "order": null,
            "_view_module_version": "1.2.0",
            "grid_template_areas": null,
            "object_position": null,
            "object_fit": null,
            "grid_auto_columns": null,
            "margin": null,
            "display": null,
            "left": null
          }
        },
        "e9fdb1da69144354af2d2f914884481c": {
          "model_module": "@jupyter-widgets/controls",
          "model_name": "DescriptionStyleModel",
          "state": {
            "_view_name": "StyleView",
            "_model_name": "DescriptionStyleModel",
            "description_width": "",
            "_view_module": "@jupyter-widgets/base",
            "_model_module_version": "1.5.0",
            "_view_count": null,
            "_view_module_version": "1.2.0",
            "_model_module": "@jupyter-widgets/controls"
          }
        },
        "2e763d9d5e52467e8a3bb234f41090a1": {
          "model_module": "@jupyter-widgets/base",
          "model_name": "LayoutModel",
          "state": {
            "_view_name": "LayoutView",
            "grid_template_rows": null,
            "right": null,
            "justify_content": null,
            "_view_module": "@jupyter-widgets/base",
            "overflow": null,
            "_model_module_version": "1.2.0",
            "_view_count": null,
            "flex_flow": null,
            "width": null,
            "min_width": null,
            "border": null,
            "align_items": null,
            "bottom": null,
            "_model_module": "@jupyter-widgets/base",
            "top": null,
            "grid_column": null,
            "overflow_y": null,
            "overflow_x": null,
            "grid_auto_flow": null,
            "grid_area": null,
            "grid_template_columns": null,
            "flex": null,
            "_model_name": "LayoutModel",
            "justify_items": null,
            "grid_row": null,
            "max_height": null,
            "align_content": null,
            "visibility": null,
            "align_self": null,
            "height": null,
            "min_height": null,
            "padding": null,
            "grid_auto_rows": null,
            "grid_gap": null,
            "max_width": null,
            "order": null,
            "_view_module_version": "1.2.0",
            "grid_template_areas": null,
            "object_position": null,
            "object_fit": null,
            "grid_auto_columns": null,
            "margin": null,
            "display": null,
            "left": null
          }
        },
        "510d0b4f4b5c46f7bd36d8ae57513ace": {
          "model_module": "@jupyter-widgets/controls",
          "model_name": "HBoxModel",
          "state": {
            "_view_name": "HBoxView",
            "_dom_classes": [],
            "_model_name": "HBoxModel",
            "_view_module": "@jupyter-widgets/controls",
            "_model_module_version": "1.5.0",
            "_view_count": null,
            "_view_module_version": "1.5.0",
            "box_style": "",
            "layout": "IPY_MODEL_e6e94f6190e04b178405ee7726ae59c4",
            "_model_module": "@jupyter-widgets/controls",
            "children": [
              "IPY_MODEL_c25002f9fabd4d1dbe7b3bc657cff420",
              "IPY_MODEL_d38ebfa4ee8b48da87261e1dece4e305"
            ]
          }
        },
        "e6e94f6190e04b178405ee7726ae59c4": {
          "model_module": "@jupyter-widgets/base",
          "model_name": "LayoutModel",
          "state": {
            "_view_name": "LayoutView",
            "grid_template_rows": null,
            "right": null,
            "justify_content": null,
            "_view_module": "@jupyter-widgets/base",
            "overflow": null,
            "_model_module_version": "1.2.0",
            "_view_count": null,
            "flex_flow": null,
            "width": null,
            "min_width": null,
            "border": null,
            "align_items": null,
            "bottom": null,
            "_model_module": "@jupyter-widgets/base",
            "top": null,
            "grid_column": null,
            "overflow_y": null,
            "overflow_x": null,
            "grid_auto_flow": null,
            "grid_area": null,
            "grid_template_columns": null,
            "flex": null,
            "_model_name": "LayoutModel",
            "justify_items": null,
            "grid_row": null,
            "max_height": null,
            "align_content": null,
            "visibility": null,
            "align_self": null,
            "height": null,
            "min_height": null,
            "padding": null,
            "grid_auto_rows": null,
            "grid_gap": null,
            "max_width": null,
            "order": null,
            "_view_module_version": "1.2.0",
            "grid_template_areas": null,
            "object_position": null,
            "object_fit": null,
            "grid_auto_columns": null,
            "margin": null,
            "display": null,
            "left": null
          }
        },
        "c25002f9fabd4d1dbe7b3bc657cff420": {
          "model_module": "@jupyter-widgets/controls",
          "model_name": "FloatProgressModel",
          "state": {
            "_view_name": "ProgressView",
            "style": "IPY_MODEL_b964ceed376d460093b717ca0d2b5552",
            "_dom_classes": [],
            "description": "Downloading: 100%",
            "_model_name": "FloatProgressModel",
            "bar_style": "success",
            "max": 898822,
            "_view_module": "@jupyter-widgets/controls",
            "_model_module_version": "1.5.0",
            "value": 898822,
            "_view_count": null,
            "_view_module_version": "1.5.0",
            "orientation": "horizontal",
            "min": 0,
            "description_tooltip": null,
            "_model_module": "@jupyter-widgets/controls",
            "layout": "IPY_MODEL_ff4eea172e104f93bfa3f2f0827616b3"
          }
        },
        "d38ebfa4ee8b48da87261e1dece4e305": {
          "model_module": "@jupyter-widgets/controls",
          "model_name": "HTMLModel",
          "state": {
            "_view_name": "HTMLView",
            "style": "IPY_MODEL_9db8b18907ab4365ae4a048746b4d4e6",
            "_dom_classes": [],
            "description": "",
            "_model_name": "HTMLModel",
            "placeholder": "​",
            "_view_module": "@jupyter-widgets/controls",
            "_model_module_version": "1.5.0",
            "value": " 899k/899k [00:01&lt;00:00, 876kB/s]",
            "_view_count": null,
            "_view_module_version": "1.5.0",
            "description_tooltip": null,
            "_model_module": "@jupyter-widgets/controls",
            "layout": "IPY_MODEL_8abd5ef86c3342f09599876dd137627a"
          }
        },
        "b964ceed376d460093b717ca0d2b5552": {
          "model_module": "@jupyter-widgets/controls",
          "model_name": "ProgressStyleModel",
          "state": {
            "_view_name": "StyleView",
            "_model_name": "ProgressStyleModel",
            "description_width": "initial",
            "_view_module": "@jupyter-widgets/base",
            "_model_module_version": "1.5.0",
            "_view_count": null,
            "_view_module_version": "1.2.0",
            "bar_color": null,
            "_model_module": "@jupyter-widgets/controls"
          }
        },
        "ff4eea172e104f93bfa3f2f0827616b3": {
          "model_module": "@jupyter-widgets/base",
          "model_name": "LayoutModel",
          "state": {
            "_view_name": "LayoutView",
            "grid_template_rows": null,
            "right": null,
            "justify_content": null,
            "_view_module": "@jupyter-widgets/base",
            "overflow": null,
            "_model_module_version": "1.2.0",
            "_view_count": null,
            "flex_flow": null,
            "width": null,
            "min_width": null,
            "border": null,
            "align_items": null,
            "bottom": null,
            "_model_module": "@jupyter-widgets/base",
            "top": null,
            "grid_column": null,
            "overflow_y": null,
            "overflow_x": null,
            "grid_auto_flow": null,
            "grid_area": null,
            "grid_template_columns": null,
            "flex": null,
            "_model_name": "LayoutModel",
            "justify_items": null,
            "grid_row": null,
            "max_height": null,
            "align_content": null,
            "visibility": null,
            "align_self": null,
            "height": null,
            "min_height": null,
            "padding": null,
            "grid_auto_rows": null,
            "grid_gap": null,
            "max_width": null,
            "order": null,
            "_view_module_version": "1.2.0",
            "grid_template_areas": null,
            "object_position": null,
            "object_fit": null,
            "grid_auto_columns": null,
            "margin": null,
            "display": null,
            "left": null
          }
        },
        "9db8b18907ab4365ae4a048746b4d4e6": {
          "model_module": "@jupyter-widgets/controls",
          "model_name": "DescriptionStyleModel",
          "state": {
            "_view_name": "StyleView",
            "_model_name": "DescriptionStyleModel",
            "description_width": "",
            "_view_module": "@jupyter-widgets/base",
            "_model_module_version": "1.5.0",
            "_view_count": null,
            "_view_module_version": "1.2.0",
            "_model_module": "@jupyter-widgets/controls"
          }
        },
        "8abd5ef86c3342f09599876dd137627a": {
          "model_module": "@jupyter-widgets/base",
          "model_name": "LayoutModel",
          "state": {
            "_view_name": "LayoutView",
            "grid_template_rows": null,
            "right": null,
            "justify_content": null,
            "_view_module": "@jupyter-widgets/base",
            "overflow": null,
            "_model_module_version": "1.2.0",
            "_view_count": null,
            "flex_flow": null,
            "width": null,
            "min_width": null,
            "border": null,
            "align_items": null,
            "bottom": null,
            "_model_module": "@jupyter-widgets/base",
            "top": null,
            "grid_column": null,
            "overflow_y": null,
            "overflow_x": null,
            "grid_auto_flow": null,
            "grid_area": null,
            "grid_template_columns": null,
            "flex": null,
            "_model_name": "LayoutModel",
            "justify_items": null,
            "grid_row": null,
            "max_height": null,
            "align_content": null,
            "visibility": null,
            "align_self": null,
            "height": null,
            "min_height": null,
            "padding": null,
            "grid_auto_rows": null,
            "grid_gap": null,
            "max_width": null,
            "order": null,
            "_view_module_version": "1.2.0",
            "grid_template_areas": null,
            "object_position": null,
            "object_fit": null,
            "grid_auto_columns": null,
            "margin": null,
            "display": null,
            "left": null
          }
        },
        "7c191499f51e41c7af9e2b13d4ee85f5": {
          "model_module": "@jupyter-widgets/controls",
          "model_name": "HBoxModel",
          "state": {
            "_view_name": "HBoxView",
            "_dom_classes": [],
            "_model_name": "HBoxModel",
            "_view_module": "@jupyter-widgets/controls",
            "_model_module_version": "1.5.0",
            "_view_count": null,
            "_view_module_version": "1.5.0",
            "box_style": "",
            "layout": "IPY_MODEL_432d72dd381a4a04bb03b87465e77c3d",
            "_model_module": "@jupyter-widgets/controls",
            "children": [
              "IPY_MODEL_87173e49d29146a29cce4790667a4fd3",
              "IPY_MODEL_43ccf80e5b864428af2512f463e03850"
            ]
          }
        },
        "432d72dd381a4a04bb03b87465e77c3d": {
          "model_module": "@jupyter-widgets/base",
          "model_name": "LayoutModel",
          "state": {
            "_view_name": "LayoutView",
            "grid_template_rows": null,
            "right": null,
            "justify_content": null,
            "_view_module": "@jupyter-widgets/base",
            "overflow": null,
            "_model_module_version": "1.2.0",
            "_view_count": null,
            "flex_flow": null,
            "width": null,
            "min_width": null,
            "border": null,
            "align_items": null,
            "bottom": null,
            "_model_module": "@jupyter-widgets/base",
            "top": null,
            "grid_column": null,
            "overflow_y": null,
            "overflow_x": null,
            "grid_auto_flow": null,
            "grid_area": null,
            "grid_template_columns": null,
            "flex": null,
            "_model_name": "LayoutModel",
            "justify_items": null,
            "grid_row": null,
            "max_height": null,
            "align_content": null,
            "visibility": null,
            "align_self": null,
            "height": null,
            "min_height": null,
            "padding": null,
            "grid_auto_rows": null,
            "grid_gap": null,
            "max_width": null,
            "order": null,
            "_view_module_version": "1.2.0",
            "grid_template_areas": null,
            "object_position": null,
            "object_fit": null,
            "grid_auto_columns": null,
            "margin": null,
            "display": null,
            "left": null
          }
        },
        "87173e49d29146a29cce4790667a4fd3": {
          "model_module": "@jupyter-widgets/controls",
          "model_name": "FloatProgressModel",
          "state": {
            "_view_name": "ProgressView",
            "style": "IPY_MODEL_0ae8fd60bf6c459f840b50875a81c255",
            "_dom_classes": [],
            "description": "Downloading: 100%",
            "_model_name": "FloatProgressModel",
            "bar_style": "success",
            "max": 456318,
            "_view_module": "@jupyter-widgets/controls",
            "_model_module_version": "1.5.0",
            "value": 456318,
            "_view_count": null,
            "_view_module_version": "1.5.0",
            "orientation": "horizontal",
            "min": 0,
            "description_tooltip": null,
            "_model_module": "@jupyter-widgets/controls",
            "layout": "IPY_MODEL_f3df0c186e11484c9bb31af166dbbc27"
          }
        },
        "43ccf80e5b864428af2512f463e03850": {
          "model_module": "@jupyter-widgets/controls",
          "model_name": "HTMLModel",
          "state": {
            "_view_name": "HTMLView",
            "style": "IPY_MODEL_f77c8fc2441a485199613eb81c4fca56",
            "_dom_classes": [],
            "description": "",
            "_model_name": "HTMLModel",
            "placeholder": "​",
            "_view_module": "@jupyter-widgets/controls",
            "_model_module_version": "1.5.0",
            "value": " 456k/456k [00:01&lt;00:00, 241kB/s]",
            "_view_count": null,
            "_view_module_version": "1.5.0",
            "description_tooltip": null,
            "_model_module": "@jupyter-widgets/controls",
            "layout": "IPY_MODEL_e3345e20ab074e7d8327cf66b5b78543"
          }
        },
        "0ae8fd60bf6c459f840b50875a81c255": {
          "model_module": "@jupyter-widgets/controls",
          "model_name": "ProgressStyleModel",
          "state": {
            "_view_name": "StyleView",
            "_model_name": "ProgressStyleModel",
            "description_width": "initial",
            "_view_module": "@jupyter-widgets/base",
            "_model_module_version": "1.5.0",
            "_view_count": null,
            "_view_module_version": "1.2.0",
            "bar_color": null,
            "_model_module": "@jupyter-widgets/controls"
          }
        },
        "f3df0c186e11484c9bb31af166dbbc27": {
          "model_module": "@jupyter-widgets/base",
          "model_name": "LayoutModel",
          "state": {
            "_view_name": "LayoutView",
            "grid_template_rows": null,
            "right": null,
            "justify_content": null,
            "_view_module": "@jupyter-widgets/base",
            "overflow": null,
            "_model_module_version": "1.2.0",
            "_view_count": null,
            "flex_flow": null,
            "width": null,
            "min_width": null,
            "border": null,
            "align_items": null,
            "bottom": null,
            "_model_module": "@jupyter-widgets/base",
            "top": null,
            "grid_column": null,
            "overflow_y": null,
            "overflow_x": null,
            "grid_auto_flow": null,
            "grid_area": null,
            "grid_template_columns": null,
            "flex": null,
            "_model_name": "LayoutModel",
            "justify_items": null,
            "grid_row": null,
            "max_height": null,
            "align_content": null,
            "visibility": null,
            "align_self": null,
            "height": null,
            "min_height": null,
            "padding": null,
            "grid_auto_rows": null,
            "grid_gap": null,
            "max_width": null,
            "order": null,
            "_view_module_version": "1.2.0",
            "grid_template_areas": null,
            "object_position": null,
            "object_fit": null,
            "grid_auto_columns": null,
            "margin": null,
            "display": null,
            "left": null
          }
        },
        "f77c8fc2441a485199613eb81c4fca56": {
          "model_module": "@jupyter-widgets/controls",
          "model_name": "DescriptionStyleModel",
          "state": {
            "_view_name": "StyleView",
            "_model_name": "DescriptionStyleModel",
            "description_width": "",
            "_view_module": "@jupyter-widgets/base",
            "_model_module_version": "1.5.0",
            "_view_count": null,
            "_view_module_version": "1.2.0",
            "_model_module": "@jupyter-widgets/controls"
          }
        },
        "e3345e20ab074e7d8327cf66b5b78543": {
          "model_module": "@jupyter-widgets/base",
          "model_name": "LayoutModel",
          "state": {
            "_view_name": "LayoutView",
            "grid_template_rows": null,
            "right": null,
            "justify_content": null,
            "_view_module": "@jupyter-widgets/base",
            "overflow": null,
            "_model_module_version": "1.2.0",
            "_view_count": null,
            "flex_flow": null,
            "width": null,
            "min_width": null,
            "border": null,
            "align_items": null,
            "bottom": null,
            "_model_module": "@jupyter-widgets/base",
            "top": null,
            "grid_column": null,
            "overflow_y": null,
            "overflow_x": null,
            "grid_auto_flow": null,
            "grid_area": null,
            "grid_template_columns": null,
            "flex": null,
            "_model_name": "LayoutModel",
            "justify_items": null,
            "grid_row": null,
            "max_height": null,
            "align_content": null,
            "visibility": null,
            "align_self": null,
            "height": null,
            "min_height": null,
            "padding": null,
            "grid_auto_rows": null,
            "grid_gap": null,
            "max_width": null,
            "order": null,
            "_view_module_version": "1.2.0",
            "grid_template_areas": null,
            "object_position": null,
            "object_fit": null,
            "grid_auto_columns": null,
            "margin": null,
            "display": null,
            "left": null
          }
        },
        "05d9c6d393694e678fac49f5a40a997f": {
          "model_module": "@jupyter-widgets/controls",
          "model_name": "HBoxModel",
          "state": {
            "_view_name": "HBoxView",
            "_dom_classes": [],
            "_model_name": "HBoxModel",
            "_view_module": "@jupyter-widgets/controls",
            "_model_module_version": "1.5.0",
            "_view_count": null,
            "_view_module_version": "1.5.0",
            "box_style": "",
            "layout": "IPY_MODEL_867b0c8917a84494a788b7b305495df6",
            "_model_module": "@jupyter-widgets/controls",
            "children": [
              "IPY_MODEL_7aa890a88e3b4f26a78b5d5d15a7322a",
              "IPY_MODEL_564d375316bf40b7b3d074f1e667f261"
            ]
          }
        },
        "867b0c8917a84494a788b7b305495df6": {
          "model_module": "@jupyter-widgets/base",
          "model_name": "LayoutModel",
          "state": {
            "_view_name": "LayoutView",
            "grid_template_rows": null,
            "right": null,
            "justify_content": null,
            "_view_module": "@jupyter-widgets/base",
            "overflow": null,
            "_model_module_version": "1.2.0",
            "_view_count": null,
            "flex_flow": null,
            "width": null,
            "min_width": null,
            "border": null,
            "align_items": null,
            "bottom": null,
            "_model_module": "@jupyter-widgets/base",
            "top": null,
            "grid_column": null,
            "overflow_y": null,
            "overflow_x": null,
            "grid_auto_flow": null,
            "grid_area": null,
            "grid_template_columns": null,
            "flex": null,
            "_model_name": "LayoutModel",
            "justify_items": null,
            "grid_row": null,
            "max_height": null,
            "align_content": null,
            "visibility": null,
            "align_self": null,
            "height": null,
            "min_height": null,
            "padding": null,
            "grid_auto_rows": null,
            "grid_gap": null,
            "max_width": null,
            "order": null,
            "_view_module_version": "1.2.0",
            "grid_template_areas": null,
            "object_position": null,
            "object_fit": null,
            "grid_auto_columns": null,
            "margin": null,
            "display": null,
            "left": null
          }
        },
        "7aa890a88e3b4f26a78b5d5d15a7322a": {
          "model_module": "@jupyter-widgets/controls",
          "model_name": "FloatProgressModel",
          "state": {
            "_view_name": "ProgressView",
            "style": "IPY_MODEL_0d9d74733f7f49febead7011b2c5b0b7",
            "_dom_classes": [],
            "description": "Downloading: 100%",
            "_model_name": "FloatProgressModel",
            "bar_style": "success",
            "max": 26,
            "_view_module": "@jupyter-widgets/controls",
            "_model_module_version": "1.5.0",
            "value": 26,
            "_view_count": null,
            "_view_module_version": "1.5.0",
            "orientation": "horizontal",
            "min": 0,
            "description_tooltip": null,
            "_model_module": "@jupyter-widgets/controls",
            "layout": "IPY_MODEL_9ca3d2f936b048dea123f5b78900e4ce"
          }
        },
        "564d375316bf40b7b3d074f1e667f261": {
          "model_module": "@jupyter-widgets/controls",
          "model_name": "HTMLModel",
          "state": {
            "_view_name": "HTMLView",
            "style": "IPY_MODEL_ca6622ae0d6c4728842f14875a593dd7",
            "_dom_classes": [],
            "description": "",
            "_model_name": "HTMLModel",
            "placeholder": "​",
            "_view_module": "@jupyter-widgets/controls",
            "_model_module_version": "1.5.0",
            "value": " 26.0/26.0 [00:00&lt;00:00, 73.7B/s]",
            "_view_count": null,
            "_view_module_version": "1.5.0",
            "description_tooltip": null,
            "_model_module": "@jupyter-widgets/controls",
            "layout": "IPY_MODEL_fffb08db973e47b1a53a5512e7dde295"
          }
        },
        "0d9d74733f7f49febead7011b2c5b0b7": {
          "model_module": "@jupyter-widgets/controls",
          "model_name": "ProgressStyleModel",
          "state": {
            "_view_name": "StyleView",
            "_model_name": "ProgressStyleModel",
            "description_width": "initial",
            "_view_module": "@jupyter-widgets/base",
            "_model_module_version": "1.5.0",
            "_view_count": null,
            "_view_module_version": "1.2.0",
            "bar_color": null,
            "_model_module": "@jupyter-widgets/controls"
          }
        },
        "9ca3d2f936b048dea123f5b78900e4ce": {
          "model_module": "@jupyter-widgets/base",
          "model_name": "LayoutModel",
          "state": {
            "_view_name": "LayoutView",
            "grid_template_rows": null,
            "right": null,
            "justify_content": null,
            "_view_module": "@jupyter-widgets/base",
            "overflow": null,
            "_model_module_version": "1.2.0",
            "_view_count": null,
            "flex_flow": null,
            "width": null,
            "min_width": null,
            "border": null,
            "align_items": null,
            "bottom": null,
            "_model_module": "@jupyter-widgets/base",
            "top": null,
            "grid_column": null,
            "overflow_y": null,
            "overflow_x": null,
            "grid_auto_flow": null,
            "grid_area": null,
            "grid_template_columns": null,
            "flex": null,
            "_model_name": "LayoutModel",
            "justify_items": null,
            "grid_row": null,
            "max_height": null,
            "align_content": null,
            "visibility": null,
            "align_self": null,
            "height": null,
            "min_height": null,
            "padding": null,
            "grid_auto_rows": null,
            "grid_gap": null,
            "max_width": null,
            "order": null,
            "_view_module_version": "1.2.0",
            "grid_template_areas": null,
            "object_position": null,
            "object_fit": null,
            "grid_auto_columns": null,
            "margin": null,
            "display": null,
            "left": null
          }
        },
        "ca6622ae0d6c4728842f14875a593dd7": {
          "model_module": "@jupyter-widgets/controls",
          "model_name": "DescriptionStyleModel",
          "state": {
            "_view_name": "StyleView",
            "_model_name": "DescriptionStyleModel",
            "description_width": "",
            "_view_module": "@jupyter-widgets/base",
            "_model_module_version": "1.5.0",
            "_view_count": null,
            "_view_module_version": "1.2.0",
            "_model_module": "@jupyter-widgets/controls"
          }
        },
        "fffb08db973e47b1a53a5512e7dde295": {
          "model_module": "@jupyter-widgets/base",
          "model_name": "LayoutModel",
          "state": {
            "_view_name": "LayoutView",
            "grid_template_rows": null,
            "right": null,
            "justify_content": null,
            "_view_module": "@jupyter-widgets/base",
            "overflow": null,
            "_model_module_version": "1.2.0",
            "_view_count": null,
            "flex_flow": null,
            "width": null,
            "min_width": null,
            "border": null,
            "align_items": null,
            "bottom": null,
            "_model_module": "@jupyter-widgets/base",
            "top": null,
            "grid_column": null,
            "overflow_y": null,
            "overflow_x": null,
            "grid_auto_flow": null,
            "grid_area": null,
            "grid_template_columns": null,
            "flex": null,
            "_model_name": "LayoutModel",
            "justify_items": null,
            "grid_row": null,
            "max_height": null,
            "align_content": null,
            "visibility": null,
            "align_self": null,
            "height": null,
            "min_height": null,
            "padding": null,
            "grid_auto_rows": null,
            "grid_gap": null,
            "max_width": null,
            "order": null,
            "_view_module_version": "1.2.0",
            "grid_template_areas": null,
            "object_position": null,
            "object_fit": null,
            "grid_auto_columns": null,
            "margin": null,
            "display": null,
            "left": null
          }
        },
        "2e2e36ed03344882a40d07d5373ec5b8": {
          "model_module": "@jupyter-widgets/controls",
          "model_name": "HBoxModel",
          "state": {
            "_view_name": "HBoxView",
            "_dom_classes": [],
            "_model_name": "HBoxModel",
            "_view_module": "@jupyter-widgets/controls",
            "_model_module_version": "1.5.0",
            "_view_count": null,
            "_view_module_version": "1.5.0",
            "box_style": "",
            "layout": "IPY_MODEL_8ca569f24fc8491681cd2d58ebe0ef1f",
            "_model_module": "@jupyter-widgets/controls",
            "children": [
              "IPY_MODEL_d7b052578da9409eab8d4bba6c058613",
              "IPY_MODEL_9e06217b84224cc09b10867ff833bbe3"
            ]
          }
        },
        "8ca569f24fc8491681cd2d58ebe0ef1f": {
          "model_module": "@jupyter-widgets/base",
          "model_name": "LayoutModel",
          "state": {
            "_view_name": "LayoutView",
            "grid_template_rows": null,
            "right": null,
            "justify_content": null,
            "_view_module": "@jupyter-widgets/base",
            "overflow": null,
            "_model_module_version": "1.2.0",
            "_view_count": null,
            "flex_flow": null,
            "width": null,
            "min_width": null,
            "border": null,
            "align_items": null,
            "bottom": null,
            "_model_module": "@jupyter-widgets/base",
            "top": null,
            "grid_column": null,
            "overflow_y": null,
            "overflow_x": null,
            "grid_auto_flow": null,
            "grid_area": null,
            "grid_template_columns": null,
            "flex": null,
            "_model_name": "LayoutModel",
            "justify_items": null,
            "grid_row": null,
            "max_height": null,
            "align_content": null,
            "visibility": null,
            "align_self": null,
            "height": null,
            "min_height": null,
            "padding": null,
            "grid_auto_rows": null,
            "grid_gap": null,
            "max_width": null,
            "order": null,
            "_view_module_version": "1.2.0",
            "grid_template_areas": null,
            "object_position": null,
            "object_fit": null,
            "grid_auto_columns": null,
            "margin": null,
            "display": null,
            "left": null
          }
        },
        "d7b052578da9409eab8d4bba6c058613": {
          "model_module": "@jupyter-widgets/controls",
          "model_name": "FloatProgressModel",
          "state": {
            "_view_name": "ProgressView",
            "style": "IPY_MODEL_3d9b6e291c6f40c5aefd9b5c02d4f752",
            "_dom_classes": [],
            "description": "Downloading: 100%",
            "_model_name": "FloatProgressModel",
            "bar_style": "success",
            "max": 1222317369,
            "_view_module": "@jupyter-widgets/controls",
            "_model_module_version": "1.5.0",
            "value": 1222317369,
            "_view_count": null,
            "_view_module_version": "1.5.0",
            "orientation": "horizontal",
            "min": 0,
            "description_tooltip": null,
            "_model_module": "@jupyter-widgets/controls",
            "layout": "IPY_MODEL_bccc7e23e4174a43a5ecdc967fcfe0b4"
          }
        },
        "9e06217b84224cc09b10867ff833bbe3": {
          "model_module": "@jupyter-widgets/controls",
          "model_name": "HTMLModel",
          "state": {
            "_view_name": "HTMLView",
            "style": "IPY_MODEL_0b799fc5a8d946919e63f09760f94b79",
            "_dom_classes": [],
            "description": "",
            "_model_name": "HTMLModel",
            "placeholder": "​",
            "_view_module": "@jupyter-widgets/controls",
            "_model_module_version": "1.5.0",
            "value": " 1.22G/1.22G [01:33&lt;00:00, 13.1MB/s]",
            "_view_count": null,
            "_view_module_version": "1.5.0",
            "description_tooltip": null,
            "_model_module": "@jupyter-widgets/controls",
            "layout": "IPY_MODEL_3771883d83aa45fa83ebc1ea60d2852f"
          }
        },
        "3d9b6e291c6f40c5aefd9b5c02d4f752": {
          "model_module": "@jupyter-widgets/controls",
          "model_name": "ProgressStyleModel",
          "state": {
            "_view_name": "StyleView",
            "_model_name": "ProgressStyleModel",
            "description_width": "initial",
            "_view_module": "@jupyter-widgets/base",
            "_model_module_version": "1.5.0",
            "_view_count": null,
            "_view_module_version": "1.2.0",
            "bar_color": null,
            "_model_module": "@jupyter-widgets/controls"
          }
        },
        "bccc7e23e4174a43a5ecdc967fcfe0b4": {
          "model_module": "@jupyter-widgets/base",
          "model_name": "LayoutModel",
          "state": {
            "_view_name": "LayoutView",
            "grid_template_rows": null,
            "right": null,
            "justify_content": null,
            "_view_module": "@jupyter-widgets/base",
            "overflow": null,
            "_model_module_version": "1.2.0",
            "_view_count": null,
            "flex_flow": null,
            "width": null,
            "min_width": null,
            "border": null,
            "align_items": null,
            "bottom": null,
            "_model_module": "@jupyter-widgets/base",
            "top": null,
            "grid_column": null,
            "overflow_y": null,
            "overflow_x": null,
            "grid_auto_flow": null,
            "grid_area": null,
            "grid_template_columns": null,
            "flex": null,
            "_model_name": "LayoutModel",
            "justify_items": null,
            "grid_row": null,
            "max_height": null,
            "align_content": null,
            "visibility": null,
            "align_self": null,
            "height": null,
            "min_height": null,
            "padding": null,
            "grid_auto_rows": null,
            "grid_gap": null,
            "max_width": null,
            "order": null,
            "_view_module_version": "1.2.0",
            "grid_template_areas": null,
            "object_position": null,
            "object_fit": null,
            "grid_auto_columns": null,
            "margin": null,
            "display": null,
            "left": null
          }
        },
        "0b799fc5a8d946919e63f09760f94b79": {
          "model_module": "@jupyter-widgets/controls",
          "model_name": "DescriptionStyleModel",
          "state": {
            "_view_name": "StyleView",
            "_model_name": "DescriptionStyleModel",
            "description_width": "",
            "_view_module": "@jupyter-widgets/base",
            "_model_module_version": "1.5.0",
            "_view_count": null,
            "_view_module_version": "1.2.0",
            "_model_module": "@jupyter-widgets/controls"
          }
        },
        "3771883d83aa45fa83ebc1ea60d2852f": {
          "model_module": "@jupyter-widgets/base",
          "model_name": "LayoutModel",
          "state": {
            "_view_name": "LayoutView",
            "grid_template_rows": null,
            "right": null,
            "justify_content": null,
            "_view_module": "@jupyter-widgets/base",
            "overflow": null,
            "_model_module_version": "1.2.0",
            "_view_count": null,
            "flex_flow": null,
            "width": null,
            "min_width": null,
            "border": null,
            "align_items": null,
            "bottom": null,
            "_model_module": "@jupyter-widgets/base",
            "top": null,
            "grid_column": null,
            "overflow_y": null,
            "overflow_x": null,
            "grid_auto_flow": null,
            "grid_area": null,
            "grid_template_columns": null,
            "flex": null,
            "_model_name": "LayoutModel",
            "justify_items": null,
            "grid_row": null,
            "max_height": null,
            "align_content": null,
            "visibility": null,
            "align_self": null,
            "height": null,
            "min_height": null,
            "padding": null,
            "grid_auto_rows": null,
            "grid_gap": null,
            "max_width": null,
            "order": null,
            "_view_module_version": "1.2.0",
            "grid_template_areas": null,
            "object_position": null,
            "object_fit": null,
            "grid_auto_columns": null,
            "margin": null,
            "display": null,
            "left": null
          }
        },
        "63b557a50484452081d2d46bf6a74f36": {
          "model_module": "@jupyter-widgets/controls",
          "model_name": "HBoxModel",
          "state": {
            "_view_name": "HBoxView",
            "_dom_classes": [],
            "_model_name": "HBoxModel",
            "_view_module": "@jupyter-widgets/controls",
            "_model_module_version": "1.5.0",
            "_view_count": null,
            "_view_module_version": "1.5.0",
            "box_style": "",
            "layout": "IPY_MODEL_349fe8dd8db34dea9f93339b82b1e555",
            "_model_module": "@jupyter-widgets/controls",
            "children": [
              "IPY_MODEL_104a348a85004fac92fd6bd3baf606dd",
              "IPY_MODEL_05d0c09ad80a41a3bad6cadc404dab66"
            ]
          }
        },
        "349fe8dd8db34dea9f93339b82b1e555": {
          "model_module": "@jupyter-widgets/base",
          "model_name": "LayoutModel",
          "state": {
            "_view_name": "LayoutView",
            "grid_template_rows": null,
            "right": null,
            "justify_content": null,
            "_view_module": "@jupyter-widgets/base",
            "overflow": null,
            "_model_module_version": "1.2.0",
            "_view_count": null,
            "flex_flow": null,
            "width": null,
            "min_width": null,
            "border": null,
            "align_items": null,
            "bottom": null,
            "_model_module": "@jupyter-widgets/base",
            "top": null,
            "grid_column": null,
            "overflow_y": null,
            "overflow_x": null,
            "grid_auto_flow": null,
            "grid_area": null,
            "grid_template_columns": null,
            "flex": null,
            "_model_name": "LayoutModel",
            "justify_items": null,
            "grid_row": null,
            "max_height": null,
            "align_content": null,
            "visibility": null,
            "align_self": null,
            "height": null,
            "min_height": null,
            "padding": null,
            "grid_auto_rows": null,
            "grid_gap": null,
            "max_width": null,
            "order": null,
            "_view_module_version": "1.2.0",
            "grid_template_areas": null,
            "object_position": null,
            "object_fit": null,
            "grid_auto_columns": null,
            "margin": null,
            "display": null,
            "left": null
          }
        },
        "104a348a85004fac92fd6bd3baf606dd": {
          "model_module": "@jupyter-widgets/controls",
          "model_name": "FloatProgressModel",
          "state": {
            "_view_name": "ProgressView",
            "style": "IPY_MODEL_342a47c30403431b93f7efda02a618fe",
            "_dom_classes": [],
            "description": "Downloading: 100%",
            "_model_name": "FloatProgressModel",
            "bar_style": "success",
            "max": 1197,
            "_view_module": "@jupyter-widgets/controls",
            "_model_module_version": "1.5.0",
            "value": 1197,
            "_view_count": null,
            "_view_module_version": "1.5.0",
            "orientation": "horizontal",
            "min": 0,
            "description_tooltip": null,
            "_model_module": "@jupyter-widgets/controls",
            "layout": "IPY_MODEL_1b1bde30d923411fb892413cc38e8f63"
          }
        },
        "05d0c09ad80a41a3bad6cadc404dab66": {
          "model_module": "@jupyter-widgets/controls",
          "model_name": "HTMLModel",
          "state": {
            "_view_name": "HTMLView",
            "style": "IPY_MODEL_1d4a5182c45441bcaeccf92757ffec7a",
            "_dom_classes": [],
            "description": "",
            "_model_name": "HTMLModel",
            "placeholder": "​",
            "_view_module": "@jupyter-widgets/controls",
            "_model_module_version": "1.5.0",
            "value": " 1.20k/1.20k [00:13&lt;00:00, 86.0B/s]",
            "_view_count": null,
            "_view_module_version": "1.5.0",
            "description_tooltip": null,
            "_model_module": "@jupyter-widgets/controls",
            "layout": "IPY_MODEL_00a07c608db14cc8ae61e4c6bd821379"
          }
        },
        "342a47c30403431b93f7efda02a618fe": {
          "model_module": "@jupyter-widgets/controls",
          "model_name": "ProgressStyleModel",
          "state": {
            "_view_name": "StyleView",
            "_model_name": "ProgressStyleModel",
            "description_width": "initial",
            "_view_module": "@jupyter-widgets/base",
            "_model_module_version": "1.5.0",
            "_view_count": null,
            "_view_module_version": "1.2.0",
            "bar_color": null,
            "_model_module": "@jupyter-widgets/controls"
          }
        },
        "1b1bde30d923411fb892413cc38e8f63": {
          "model_module": "@jupyter-widgets/base",
          "model_name": "LayoutModel",
          "state": {
            "_view_name": "LayoutView",
            "grid_template_rows": null,
            "right": null,
            "justify_content": null,
            "_view_module": "@jupyter-widgets/base",
            "overflow": null,
            "_model_module_version": "1.2.0",
            "_view_count": null,
            "flex_flow": null,
            "width": null,
            "min_width": null,
            "border": null,
            "align_items": null,
            "bottom": null,
            "_model_module": "@jupyter-widgets/base",
            "top": null,
            "grid_column": null,
            "overflow_y": null,
            "overflow_x": null,
            "grid_auto_flow": null,
            "grid_area": null,
            "grid_template_columns": null,
            "flex": null,
            "_model_name": "LayoutModel",
            "justify_items": null,
            "grid_row": null,
            "max_height": null,
            "align_content": null,
            "visibility": null,
            "align_self": null,
            "height": null,
            "min_height": null,
            "padding": null,
            "grid_auto_rows": null,
            "grid_gap": null,
            "max_width": null,
            "order": null,
            "_view_module_version": "1.2.0",
            "grid_template_areas": null,
            "object_position": null,
            "object_fit": null,
            "grid_auto_columns": null,
            "margin": null,
            "display": null,
            "left": null
          }
        },
        "1d4a5182c45441bcaeccf92757ffec7a": {
          "model_module": "@jupyter-widgets/controls",
          "model_name": "DescriptionStyleModel",
          "state": {
            "_view_name": "StyleView",
            "_model_name": "DescriptionStyleModel",
            "description_width": "",
            "_view_module": "@jupyter-widgets/base",
            "_model_module_version": "1.5.0",
            "_view_count": null,
            "_view_module_version": "1.2.0",
            "_model_module": "@jupyter-widgets/controls"
          }
        },
        "00a07c608db14cc8ae61e4c6bd821379": {
          "model_module": "@jupyter-widgets/base",
          "model_name": "LayoutModel",
          "state": {
            "_view_name": "LayoutView",
            "grid_template_rows": null,
            "right": null,
            "justify_content": null,
            "_view_module": "@jupyter-widgets/base",
            "overflow": null,
            "_model_module_version": "1.2.0",
            "_view_count": null,
            "flex_flow": null,
            "width": null,
            "min_width": null,
            "border": null,
            "align_items": null,
            "bottom": null,
            "_model_module": "@jupyter-widgets/base",
            "top": null,
            "grid_column": null,
            "overflow_y": null,
            "overflow_x": null,
            "grid_auto_flow": null,
            "grid_area": null,
            "grid_template_columns": null,
            "flex": null,
            "_model_name": "LayoutModel",
            "justify_items": null,
            "grid_row": null,
            "max_height": null,
            "align_content": null,
            "visibility": null,
            "align_self": null,
            "height": null,
            "min_height": null,
            "padding": null,
            "grid_auto_rows": null,
            "grid_gap": null,
            "max_width": null,
            "order": null,
            "_view_module_version": "1.2.0",
            "grid_template_areas": null,
            "object_position": null,
            "object_fit": null,
            "grid_auto_columns": null,
            "margin": null,
            "display": null,
            "left": null
          }
        },
        "6026b912de72447da7fadeed58e28a78": {
          "model_module": "@jupyter-widgets/controls",
          "model_name": "HBoxModel",
          "state": {
            "_view_name": "HBoxView",
            "_dom_classes": [],
            "_model_name": "HBoxModel",
            "_view_module": "@jupyter-widgets/controls",
            "_model_module_version": "1.5.0",
            "_view_count": null,
            "_view_module_version": "1.5.0",
            "box_style": "",
            "layout": "IPY_MODEL_1c2c4cc989ad4799a7a97f0230235911",
            "_model_module": "@jupyter-widgets/controls",
            "children": [
              "IPY_MODEL_600148f5ad714674aee50039837733ad",
              "IPY_MODEL_10bfb4c0572d4bb08ea3f9dd06ac906e"
            ]
          }
        },
        "1c2c4cc989ad4799a7a97f0230235911": {
          "model_module": "@jupyter-widgets/base",
          "model_name": "LayoutModel",
          "state": {
            "_view_name": "LayoutView",
            "grid_template_rows": null,
            "right": null,
            "justify_content": null,
            "_view_module": "@jupyter-widgets/base",
            "overflow": null,
            "_model_module_version": "1.2.0",
            "_view_count": null,
            "flex_flow": null,
            "width": null,
            "min_width": null,
            "border": null,
            "align_items": null,
            "bottom": null,
            "_model_module": "@jupyter-widgets/base",
            "top": null,
            "grid_column": null,
            "overflow_y": null,
            "overflow_x": null,
            "grid_auto_flow": null,
            "grid_area": null,
            "grid_template_columns": null,
            "flex": null,
            "_model_name": "LayoutModel",
            "justify_items": null,
            "grid_row": null,
            "max_height": null,
            "align_content": null,
            "visibility": null,
            "align_self": null,
            "height": null,
            "min_height": null,
            "padding": null,
            "grid_auto_rows": null,
            "grid_gap": null,
            "max_width": null,
            "order": null,
            "_view_module_version": "1.2.0",
            "grid_template_areas": null,
            "object_position": null,
            "object_fit": null,
            "grid_auto_columns": null,
            "margin": null,
            "display": null,
            "left": null
          }
        },
        "600148f5ad714674aee50039837733ad": {
          "model_module": "@jupyter-widgets/controls",
          "model_name": "FloatProgressModel",
          "state": {
            "_view_name": "ProgressView",
            "style": "IPY_MODEL_1e5633189d8546039c41a0929973e568",
            "_dom_classes": [],
            "description": "Downloading: 100%",
            "_model_name": "FloatProgressModel",
            "bar_style": "success",
            "max": 242065649,
            "_view_module": "@jupyter-widgets/controls",
            "_model_module_version": "1.5.0",
            "value": 242065649,
            "_view_count": null,
            "_view_module_version": "1.5.0",
            "orientation": "horizontal",
            "min": 0,
            "description_tooltip": null,
            "_model_module": "@jupyter-widgets/controls",
            "layout": "IPY_MODEL_8c99f063c99b4982936a7af2c4e97b1c"
          }
        },
        "10bfb4c0572d4bb08ea3f9dd06ac906e": {
          "model_module": "@jupyter-widgets/controls",
          "model_name": "HTMLModel",
          "state": {
            "_view_name": "HTMLView",
            "style": "IPY_MODEL_6b2ab178e0e34f289412e14655cdb006",
            "_dom_classes": [],
            "description": "",
            "_model_name": "HTMLModel",
            "placeholder": "​",
            "_view_module": "@jupyter-widgets/controls",
            "_model_module_version": "1.5.0",
            "value": " 242M/242M [00:05&lt;00:00, 43.4MB/s]",
            "_view_count": null,
            "_view_module_version": "1.5.0",
            "description_tooltip": null,
            "_model_module": "@jupyter-widgets/controls",
            "layout": "IPY_MODEL_abf5f1c8376a4a4c933242e25b340547"
          }
        },
        "1e5633189d8546039c41a0929973e568": {
          "model_module": "@jupyter-widgets/controls",
          "model_name": "ProgressStyleModel",
          "state": {
            "_view_name": "StyleView",
            "_model_name": "ProgressStyleModel",
            "description_width": "initial",
            "_view_module": "@jupyter-widgets/base",
            "_model_module_version": "1.5.0",
            "_view_count": null,
            "_view_module_version": "1.2.0",
            "bar_color": null,
            "_model_module": "@jupyter-widgets/controls"
          }
        },
        "8c99f063c99b4982936a7af2c4e97b1c": {
          "model_module": "@jupyter-widgets/base",
          "model_name": "LayoutModel",
          "state": {
            "_view_name": "LayoutView",
            "grid_template_rows": null,
            "right": null,
            "justify_content": null,
            "_view_module": "@jupyter-widgets/base",
            "overflow": null,
            "_model_module_version": "1.2.0",
            "_view_count": null,
            "flex_flow": null,
            "width": null,
            "min_width": null,
            "border": null,
            "align_items": null,
            "bottom": null,
            "_model_module": "@jupyter-widgets/base",
            "top": null,
            "grid_column": null,
            "overflow_y": null,
            "overflow_x": null,
            "grid_auto_flow": null,
            "grid_area": null,
            "grid_template_columns": null,
            "flex": null,
            "_model_name": "LayoutModel",
            "justify_items": null,
            "grid_row": null,
            "max_height": null,
            "align_content": null,
            "visibility": null,
            "align_self": null,
            "height": null,
            "min_height": null,
            "padding": null,
            "grid_auto_rows": null,
            "grid_gap": null,
            "max_width": null,
            "order": null,
            "_view_module_version": "1.2.0",
            "grid_template_areas": null,
            "object_position": null,
            "object_fit": null,
            "grid_auto_columns": null,
            "margin": null,
            "display": null,
            "left": null
          }
        },
        "6b2ab178e0e34f289412e14655cdb006": {
          "model_module": "@jupyter-widgets/controls",
          "model_name": "DescriptionStyleModel",
          "state": {
            "_view_name": "StyleView",
            "_model_name": "DescriptionStyleModel",
            "description_width": "",
            "_view_module": "@jupyter-widgets/base",
            "_model_module_version": "1.5.0",
            "_view_count": null,
            "_view_module_version": "1.2.0",
            "_model_module": "@jupyter-widgets/controls"
          }
        },
        "abf5f1c8376a4a4c933242e25b340547": {
          "model_module": "@jupyter-widgets/base",
          "model_name": "LayoutModel",
          "state": {
            "_view_name": "LayoutView",
            "grid_template_rows": null,
            "right": null,
            "justify_content": null,
            "_view_module": "@jupyter-widgets/base",
            "overflow": null,
            "_model_module_version": "1.2.0",
            "_view_count": null,
            "flex_flow": null,
            "width": null,
            "min_width": null,
            "border": null,
            "align_items": null,
            "bottom": null,
            "_model_module": "@jupyter-widgets/base",
            "top": null,
            "grid_column": null,
            "overflow_y": null,
            "overflow_x": null,
            "grid_auto_flow": null,
            "grid_area": null,
            "grid_template_columns": null,
            "flex": null,
            "_model_name": "LayoutModel",
            "justify_items": null,
            "grid_row": null,
            "max_height": null,
            "align_content": null,
            "visibility": null,
            "align_self": null,
            "height": null,
            "min_height": null,
            "padding": null,
            "grid_auto_rows": null,
            "grid_gap": null,
            "max_width": null,
            "order": null,
            "_view_module_version": "1.2.0",
            "grid_template_areas": null,
            "object_position": null,
            "object_fit": null,
            "grid_auto_columns": null,
            "margin": null,
            "display": null,
            "left": null
          }
        },
        "b20df251d97041fcabfa10781d9a3093": {
          "model_module": "@jupyter-widgets/controls",
          "model_name": "HBoxModel",
          "state": {
            "_view_name": "HBoxView",
            "_dom_classes": [],
            "_model_name": "HBoxModel",
            "_view_module": "@jupyter-widgets/controls",
            "_model_module_version": "1.5.0",
            "_view_count": null,
            "_view_module_version": "1.5.0",
            "box_style": "",
            "layout": "IPY_MODEL_289d8c426a684e478c0e3d9d06716fc3",
            "_model_module": "@jupyter-widgets/controls",
            "children": [
              "IPY_MODEL_587a06bb222742cfb5c8a751e6a34dca",
              "IPY_MODEL_5d87dabbd455418e95cc92ed26c1647b"
            ]
          }
        },
        "289d8c426a684e478c0e3d9d06716fc3": {
          "model_module": "@jupyter-widgets/base",
          "model_name": "LayoutModel",
          "state": {
            "_view_name": "LayoutView",
            "grid_template_rows": null,
            "right": null,
            "justify_content": null,
            "_view_module": "@jupyter-widgets/base",
            "overflow": null,
            "_model_module_version": "1.2.0",
            "_view_count": null,
            "flex_flow": null,
            "width": null,
            "min_width": null,
            "border": null,
            "align_items": null,
            "bottom": null,
            "_model_module": "@jupyter-widgets/base",
            "top": null,
            "grid_column": null,
            "overflow_y": null,
            "overflow_x": null,
            "grid_auto_flow": null,
            "grid_area": null,
            "grid_template_columns": null,
            "flex": null,
            "_model_name": "LayoutModel",
            "justify_items": null,
            "grid_row": null,
            "max_height": null,
            "align_content": null,
            "visibility": null,
            "align_self": null,
            "height": null,
            "min_height": null,
            "padding": null,
            "grid_auto_rows": null,
            "grid_gap": null,
            "max_width": null,
            "order": null,
            "_view_module_version": "1.2.0",
            "grid_template_areas": null,
            "object_position": null,
            "object_fit": null,
            "grid_auto_columns": null,
            "margin": null,
            "display": null,
            "left": null
          }
        },
        "587a06bb222742cfb5c8a751e6a34dca": {
          "model_module": "@jupyter-widgets/controls",
          "model_name": "FloatProgressModel",
          "state": {
            "_view_name": "ProgressView",
            "style": "IPY_MODEL_406ba745550948a4ad22f4cdc6dd7575",
            "_dom_classes": [],
            "description": "Downloading: 100%",
            "_model_name": "FloatProgressModel",
            "bar_style": "success",
            "max": 791656,
            "_view_module": "@jupyter-widgets/controls",
            "_model_module_version": "1.5.0",
            "value": 791656,
            "_view_count": null,
            "_view_module_version": "1.5.0",
            "orientation": "horizontal",
            "min": 0,
            "description_tooltip": null,
            "_model_module": "@jupyter-widgets/controls",
            "layout": "IPY_MODEL_5ce00a498753482198d4844df8457fff"
          }
        },
        "5d87dabbd455418e95cc92ed26c1647b": {
          "model_module": "@jupyter-widgets/controls",
          "model_name": "HTMLModel",
          "state": {
            "_view_name": "HTMLView",
            "style": "IPY_MODEL_2d48d14aa37c4431a54a1cd75d55076d",
            "_dom_classes": [],
            "description": "",
            "_model_name": "HTMLModel",
            "placeholder": "​",
            "_view_module": "@jupyter-widgets/controls",
            "_model_module_version": "1.5.0",
            "value": " 792k/792k [00:05&lt;00:00, 138kB/s]",
            "_view_count": null,
            "_view_module_version": "1.5.0",
            "description_tooltip": null,
            "_model_module": "@jupyter-widgets/controls",
            "layout": "IPY_MODEL_9e8ada8fb2784c7a802c35a6a5a09ea1"
          }
        },
        "406ba745550948a4ad22f4cdc6dd7575": {
          "model_module": "@jupyter-widgets/controls",
          "model_name": "ProgressStyleModel",
          "state": {
            "_view_name": "StyleView",
            "_model_name": "ProgressStyleModel",
            "description_width": "initial",
            "_view_module": "@jupyter-widgets/base",
            "_model_module_version": "1.5.0",
            "_view_count": null,
            "_view_module_version": "1.2.0",
            "bar_color": null,
            "_model_module": "@jupyter-widgets/controls"
          }
        },
        "5ce00a498753482198d4844df8457fff": {
          "model_module": "@jupyter-widgets/base",
          "model_name": "LayoutModel",
          "state": {
            "_view_name": "LayoutView",
            "grid_template_rows": null,
            "right": null,
            "justify_content": null,
            "_view_module": "@jupyter-widgets/base",
            "overflow": null,
            "_model_module_version": "1.2.0",
            "_view_count": null,
            "flex_flow": null,
            "width": null,
            "min_width": null,
            "border": null,
            "align_items": null,
            "bottom": null,
            "_model_module": "@jupyter-widgets/base",
            "top": null,
            "grid_column": null,
            "overflow_y": null,
            "overflow_x": null,
            "grid_auto_flow": null,
            "grid_area": null,
            "grid_template_columns": null,
            "flex": null,
            "_model_name": "LayoutModel",
            "justify_items": null,
            "grid_row": null,
            "max_height": null,
            "align_content": null,
            "visibility": null,
            "align_self": null,
            "height": null,
            "min_height": null,
            "padding": null,
            "grid_auto_rows": null,
            "grid_gap": null,
            "max_width": null,
            "order": null,
            "_view_module_version": "1.2.0",
            "grid_template_areas": null,
            "object_position": null,
            "object_fit": null,
            "grid_auto_columns": null,
            "margin": null,
            "display": null,
            "left": null
          }
        },
        "2d48d14aa37c4431a54a1cd75d55076d": {
          "model_module": "@jupyter-widgets/controls",
          "model_name": "DescriptionStyleModel",
          "state": {
            "_view_name": "StyleView",
            "_model_name": "DescriptionStyleModel",
            "description_width": "",
            "_view_module": "@jupyter-widgets/base",
            "_model_module_version": "1.5.0",
            "_view_count": null,
            "_view_module_version": "1.2.0",
            "_model_module": "@jupyter-widgets/controls"
          }
        },
        "9e8ada8fb2784c7a802c35a6a5a09ea1": {
          "model_module": "@jupyter-widgets/base",
          "model_name": "LayoutModel",
          "state": {
            "_view_name": "LayoutView",
            "grid_template_rows": null,
            "right": null,
            "justify_content": null,
            "_view_module": "@jupyter-widgets/base",
            "overflow": null,
            "_model_module_version": "1.2.0",
            "_view_count": null,
            "flex_flow": null,
            "width": null,
            "min_width": null,
            "border": null,
            "align_items": null,
            "bottom": null,
            "_model_module": "@jupyter-widgets/base",
            "top": null,
            "grid_column": null,
            "overflow_y": null,
            "overflow_x": null,
            "grid_auto_flow": null,
            "grid_area": null,
            "grid_template_columns": null,
            "flex": null,
            "_model_name": "LayoutModel",
            "justify_items": null,
            "grid_row": null,
            "max_height": null,
            "align_content": null,
            "visibility": null,
            "align_self": null,
            "height": null,
            "min_height": null,
            "padding": null,
            "grid_auto_rows": null,
            "grid_gap": null,
            "max_width": null,
            "order": null,
            "_view_module_version": "1.2.0",
            "grid_template_areas": null,
            "object_position": null,
            "object_fit": null,
            "grid_auto_columns": null,
            "margin": null,
            "display": null,
            "left": null
          }
        }
      }
    }
  },
  "cells": [
    {
      "cell_type": "markdown",
      "metadata": {
        "id": "view-in-github",
        "colab_type": "text"
      },
      "source": [
        "<a href=\"https://colab.research.google.com/github/sljm12/machine_learning_notebooks/blob/master/Bert_Next_Sentence_for_breaking_up_paragraphs_and_summarizing_.ipynb\" target=\"_parent\"><img src=\"https://colab.research.google.com/assets/colab-badge.svg\" alt=\"Open In Colab\"/></a>"
      ]
    },
    {
      "cell_type": "markdown",
      "metadata": {
        "id": "XtY3hQ7zniOJ",
        "colab_type": "text"
      },
      "source": [
        "Testing the idea of usng Bert Next Sentence to break up news/speechs into different segments.\n",
        "\n",
        "Then afterwhich running a summarizer on the segments to produce a long summary."
      ]
    },
    {
      "cell_type": "code",
      "metadata": {
        "id": "GxAynsK8aYLy",
        "colab_type": "code",
        "colab": {
          "base_uri": "https://localhost:8080/",
          "height": 101
        },
        "outputId": "95d983a4-acea-4d09-9136-564c71769261"
      },
      "source": [
        "!pip -q install transformers"
      ],
      "execution_count": 1,
      "outputs": [
        {
          "output_type": "stream",
          "text": [
            "\u001b[K     |████████████████████████████████| 1.0MB 5.5MB/s \n",
            "\u001b[K     |████████████████████████████████| 1.1MB 30.2MB/s \n",
            "\u001b[K     |████████████████████████████████| 3.0MB 48.7MB/s \n",
            "\u001b[K     |████████████████████████████████| 890kB 56.7MB/s \n",
            "\u001b[?25h  Building wheel for sacremoses (setup.py) ... \u001b[?25l\u001b[?25hdone\n"
          ],
          "name": "stdout"
        }
      ]
    },
    {
      "cell_type": "code",
      "metadata": {
        "id": "mSTL7I0FYK9U",
        "colab_type": "code",
        "colab": {}
      },
      "source": [
        "import tensorflow as tf\n",
        "from transformers import BertTokenizer, TFBertForNextSentencePrediction"
      ],
      "execution_count": 2,
      "outputs": []
    },
    {
      "cell_type": "code",
      "metadata": {
        "id": "HgSue5XYaSUF",
        "colab_type": "code",
        "colab": {
          "base_uri": "https://localhost:8080/",
          "height": 267,
          "referenced_widgets": [
            "a3df1fe3359b461a923f396de189ea6e",
            "ac1b52298651486a9454e40a09c7e048",
            "e88573af86014550a93be49fc7c1c158",
            "efb7b0cb23b04135bca6b068f3c48e84",
            "335ae5a5a40c4125acfa6ef9f6a17470",
            "a39229f6427d46f3a87f4dd2056b7ec1",
            "52fe78e65e2c4f7b883193584ba7ca95",
            "886d4481df4d451482a204c378f191d2",
            "6c9559cfec6348b9878d5e83e1e0ef7b",
            "70d3cac551f64dd189b67f34d5d3807c",
            "b0c916b7b3354ed18c8936f465133be0",
            "7afdd015745f480f9c5285cd8abd739e",
            "27ea16f0b25d4c8cbfb04872328cce4d",
            "ef2dc32a2f4441a488193b8b3a0dd5c4",
            "2b23ae18782140ce8b0ad0f7adc63507",
            "0bf28aed5a3f41c680b55b2a565dd549",
            "630f40f135064b94a3167b5fa3422fb0",
            "25825e45f3a54778b2a6a4dd6148316c",
            "a1c6abc2b12a4f7d84f6c2d5b7368f38",
            "9dac55dd6e1a442ab24bdef676342f18",
            "ec68572886eb4584a25ccecd56682818",
            "11796bdd9303420fb5fe9acb369c8291",
            "00f9ed0035f64c228fd3501e30311d7d",
            "f10cff4ee65449fd88c2f9750faf5424"
          ]
        },
        "outputId": "785abcfe-d30b-4f96-bb58-b43d1cf7fa5c"
      },
      "source": [
        "tokenizer = BertTokenizer.from_pretrained('bert-base-uncased')\n",
        "model = TFBertForNextSentencePrediction.from_pretrained('bert-base-uncased')"
      ],
      "execution_count": 3,
      "outputs": [
        {
          "output_type": "display_data",
          "data": {
            "application/vnd.jupyter.widget-view+json": {
              "model_id": "a3df1fe3359b461a923f396de189ea6e",
              "version_minor": 0,
              "version_major": 2
            },
            "text/plain": [
              "HBox(children=(FloatProgress(value=0.0, description='Downloading', max=231508.0, style=ProgressStyle(descripti…"
            ]
          },
          "metadata": {
            "tags": []
          }
        },
        {
          "output_type": "stream",
          "text": [
            "\n"
          ],
          "name": "stdout"
        },
        {
          "output_type": "display_data",
          "data": {
            "application/vnd.jupyter.widget-view+json": {
              "model_id": "6c9559cfec6348b9878d5e83e1e0ef7b",
              "version_minor": 0,
              "version_major": 2
            },
            "text/plain": [
              "HBox(children=(FloatProgress(value=0.0, description='Downloading', max=433.0, style=ProgressStyle(description_…"
            ]
          },
          "metadata": {
            "tags": []
          }
        },
        {
          "output_type": "stream",
          "text": [
            "\n"
          ],
          "name": "stdout"
        },
        {
          "output_type": "display_data",
          "data": {
            "application/vnd.jupyter.widget-view+json": {
              "model_id": "630f40f135064b94a3167b5fa3422fb0",
              "version_minor": 0,
              "version_major": 2
            },
            "text/plain": [
              "HBox(children=(FloatProgress(value=0.0, description='Downloading', max=536063208.0, style=ProgressStyle(descri…"
            ]
          },
          "metadata": {
            "tags": []
          }
        },
        {
          "output_type": "stream",
          "text": [
            "\n"
          ],
          "name": "stdout"
        },
        {
          "output_type": "stream",
          "text": [
            "Some weights of the model checkpoint at bert-base-uncased were not used when initializing TFBertForNextSentencePrediction: ['mlm___cls']\n",
            "- This IS expected if you are initializing TFBertForNextSentencePrediction from the checkpoint of a model trained on another task or with another architecture (e.g. initializing a BertForSequenceClassification model from a BertForPretraining model).\n",
            "- This IS NOT expected if you are initializing TFBertForNextSentencePrediction from the checkpoint of a model that you expect to be exactly identical (initializing a BertForSequenceClassification model from a BertForSequenceClassification model).\n",
            "All the weights of TFBertForNextSentencePrediction were initialized from the model checkpoint at bert-base-uncased.\n",
            "If your task is similar to the task the model of the checkpoint was trained on, you can already use TFBertForNextSentencePrediction for predictions without further training.\n"
          ],
          "name": "stderr"
        }
      ]
    },
    {
      "cell_type": "markdown",
      "metadata": {
        "id": "qgy_27Lioxmd",
        "colab_type": "text"
      },
      "source": [
        "# Preprocess the text"
      ]
    },
    {
      "cell_type": "code",
      "metadata": {
        "id": "_F4lRLuWo63V",
        "colab_type": "code",
        "colab": {
          "base_uri": "https://localhost:8080/",
          "height": 151
        },
        "outputId": "8ee5a7ff-f121-4903-ee30-8b01a7df738c"
      },
      "source": [
        "!pip -q install newspaper3k"
      ],
      "execution_count": 4,
      "outputs": [
        {
          "output_type": "stream",
          "text": [
            "\u001b[K     |████████████████████████████████| 215kB 4.8MB/s \n",
            "\u001b[K     |████████████████████████████████| 7.4MB 12.3MB/s \n",
            "\u001b[K     |████████████████████████████████| 81kB 11.8MB/s \n",
            "\u001b[K     |████████████████████████████████| 51kB 9.1MB/s \n",
            "\u001b[?25h  Building wheel for tinysegmenter (setup.py) ... \u001b[?25l\u001b[?25hdone\n",
            "  Building wheel for feedfinder2 (setup.py) ... \u001b[?25l\u001b[?25hdone\n",
            "  Building wheel for jieba3k (setup.py) ... \u001b[?25l\u001b[?25hdone\n",
            "  Building wheel for sgmllib3k (setup.py) ... \u001b[?25l\u001b[?25hdone\n"
          ],
          "name": "stdout"
        }
      ]
    },
    {
      "cell_type": "code",
      "metadata": {
        "id": "jOgJYCi0pEs3",
        "colab_type": "code",
        "colab": {}
      },
      "source": [
        "from newspaper import Article, ArticleException"
      ],
      "execution_count": 5,
      "outputs": []
    },
    {
      "cell_type": "code",
      "metadata": {
        "id": "Tv2TGyAlpFxO",
        "colab_type": "code",
        "colab": {}
      },
      "source": [
        "url = \"https://www.asiaone.com/entertainment/you-wont-see-zoe-tay-new-show-while-and-its-because-her-sons\" #@param [\"https://www.straitstimes.com/singapore/the-news-in-5-minutes-6\",\"https://www.pmo.gov.sg/Newsroom/National-Day-Rally-2019\",\"https://www.channelnewsasia.com/news/asia/malaysia-anwar-ibrahim-strong-majority-form-new-government-13136908\",\"https://www.bbc.com/news/world-asia-54174598\",\"https://www.straitstimes.com/tech/ibm-to-train-800-mid-career-people-in-ai-cyber-security\",\"https://www.asiaone.com/entertainment/darren-lim-turns-his-yacht-business-opportunity-takes-people-out-rides\",\"https://www.asiaone.com/entertainment/you-wont-see-zoe-tay-new-show-while-and-its-because-her-sons\"]\n",
        "a=Article(url)\n",
        "a.download()\n",
        "a.parse()\n",
        "text = a.text"
      ],
      "execution_count": 6,
      "outputs": []
    },
    {
      "cell_type": "code",
      "metadata": {
        "id": "CDUoId0zxR1N",
        "colab_type": "code",
        "colab": {}
      },
      "source": [
        "filename = url.replace(\":\",\"\").replace(\"/\",\"_\")"
      ],
      "execution_count": 7,
      "outputs": []
    },
    {
      "cell_type": "code",
      "metadata": {
        "id": "BJ21meDLpQuV",
        "colab_type": "code",
        "colab": {
          "base_uri": "https://localhost:8080/",
          "height": 137
        },
        "outputId": "63fc8814-89d7-4621-c91e-0fd922adce4a"
      },
      "source": [
        "text"
      ],
      "execution_count": 8,
      "outputs": [
        {
          "output_type": "execute_result",
          "data": {
            "application/vnd.google.colaboratory.intrinsic+json": {
              "type": "string"
            },
            "text/plain": [
              "'For the rest of the year, local \\'Ah Jie\\' Zoe Tay will be playing one role only and it won\\'t be for telly.\\n\\nIn an interview with Shin Min Daily News, the veteran actress revealed that she\\'ll be stepping back from acting so she can help her three sons prepare for their examinations — especially her second child Ashton who entered secondary school this year.\\n\\nShe also has Brayden, 15, and Nathan, nine, with her husband Philip Chionh.\\n\\nThe earliest we\\'ll probably see her on our television screens again will be next year. Not too long a wait for the eager fans if you ask us.\\n\\nIn the meantime, apart from prepping her children for their exams, the 52-year-old will be using the downtime to focus on her fitness. She said: \"After sending my children to school, I\\'ll occasionally go to MacRitchie Reservoir for a walk.\"\\n\\n\"The old [Mediacorp] station was located opposite the reservoir but for over 30 years, I rarely explored the area, though we would shoot there occasionally. Recently, my friend brought me to this paradise (MacRitchie Reservoir) and I love the natural scenery. I can breathe the fresh air and train my body, it kills two birds with one stone,\" she added.\\n\\nPerforming an Indian dance for the President\\'s Star Charity\\n\\nWhile she\\'s not taking on acting roles, she will still be working. Apart from her editorial shoots, she\\'ll be part of this year\\'s President\\'s Star Charity where she\\'ll perform a modern Indian dance routine with six beneficiaries of the annual fundraiser.\\n\\nHer fellow performers have all trained for a while and one of them even competed overseas. She said: \"They\\'re the teachers, I\\'m the student. They have given a lot for their performance but one of them recently went overseas and has to be quarantined so they can\\'t join us. It\\'s unfortunate.\"\\n\\nNo chance to work with Alien\\n\\nThe recent death of Taiwanese celebrity Alien Huang has a ripple effect that can be acutely felt on our shores and he has a strong connection to many local celebrities.\\n\\nFor Zoe, though, she didn\\'t get a chance to work with him.\\n\\nShe said: \"He was a very adorable person. I met him occasionally in the make-up room and he didn\\'t feel like some of the Hong Kong and Taiwanese celebrities who went around with a strong aura. He was quite a warm person.\\n\\n\"I\\'ve also heard from crew and colleagues that he was very easy to work with. He was very easygoing and professional on set. It hurts reading news like that and it\\'s very unfortunate.\"\\n\\nbryanlim@asiaone.com'"
            ]
          },
          "metadata": {
            "tags": []
          },
          "execution_count": 8
        }
      ]
    },
    {
      "cell_type": "markdown",
      "metadata": {
        "id": "K6PEO6sCprls",
        "colab_type": "text"
      },
      "source": [
        "We want to extract only the sentences. Minus the headers. We split by \\n\\n then we only choose those that ends with a full stop"
      ]
    },
    {
      "cell_type": "code",
      "metadata": {
        "id": "LdMv5jUipYBn",
        "colab_type": "code",
        "colab": {}
      },
      "source": [
        "text = [t for t in text.split(\"\\n\\n\") if t.endswith('.')]"
      ],
      "execution_count": 9,
      "outputs": []
    },
    {
      "cell_type": "code",
      "metadata": {
        "id": "nCnNCN90qatl",
        "colab_type": "code",
        "colab": {
          "base_uri": "https://localhost:8080/",
          "height": 188
        },
        "outputId": "d6f85582-ac96-4492-fffd-fe9a275560e7"
      },
      "source": [
        "text"
      ],
      "execution_count": 10,
      "outputs": [
        {
          "output_type": "execute_result",
          "data": {
            "text/plain": [
              "[\"For the rest of the year, local 'Ah Jie' Zoe Tay will be playing one role only and it won't be for telly.\",\n",
              " \"In an interview with Shin Min Daily News, the veteran actress revealed that she'll be stepping back from acting so she can help her three sons prepare for their examinations — especially her second child Ashton who entered secondary school this year.\",\n",
              " 'She also has Brayden, 15, and Nathan, nine, with her husband Philip Chionh.',\n",
              " \"The earliest we'll probably see her on our television screens again will be next year. Not too long a wait for the eager fans if you ask us.\",\n",
              " '\"The old [Mediacorp] station was located opposite the reservoir but for over 30 years, I rarely explored the area, though we would shoot there occasionally. Recently, my friend brought me to this paradise (MacRitchie Reservoir) and I love the natural scenery. I can breathe the fresh air and train my body, it kills two birds with one stone,\" she added.',\n",
              " \"While she's not taking on acting roles, she will still be working. Apart from her editorial shoots, she'll be part of this year's President's Star Charity where she'll perform a modern Indian dance routine with six beneficiaries of the annual fundraiser.\",\n",
              " 'The recent death of Taiwanese celebrity Alien Huang has a ripple effect that can be acutely felt on our shores and he has a strong connection to many local celebrities.',\n",
              " \"For Zoe, though, she didn't get a chance to work with him.\",\n",
              " 'She said: \"He was a very adorable person. I met him occasionally in the make-up room and he didn\\'t feel like some of the Hong Kong and Taiwanese celebrities who went around with a strong aura. He was quite a warm person.']"
            ]
          },
          "metadata": {
            "tags": []
          },
          "execution_count": 10
        }
      ]
    },
    {
      "cell_type": "markdown",
      "metadata": {
        "id": "i0hn9XPl3zNc",
        "colab_type": "text"
      },
      "source": [
        "Break down into sentences "
      ]
    },
    {
      "cell_type": "code",
      "metadata": {
        "id": "uukpMfGFp1Tl",
        "colab_type": "code",
        "colab": {}
      },
      "source": [
        "results = []\n",
        "for i in text:\n",
        "  c = [t.strip()+\".\" for t in i.split(\".\") if len(t) != 0]\n",
        "  results = results + c"
      ],
      "execution_count": 11,
      "outputs": []
    },
    {
      "cell_type": "code",
      "metadata": {
        "id": "khz0hN11p_ZG",
        "colab_type": "code",
        "colab": {}
      },
      "source": [
        "text = results"
      ],
      "execution_count": 12,
      "outputs": []
    },
    {
      "cell_type": "markdown",
      "metadata": {
        "id": "CpV8gPUHpLID",
        "colab_type": "text"
      },
      "source": [
        "# Running Bert NextSentence to detect paragraphs"
      ]
    },
    {
      "cell_type": "code",
      "metadata": {
        "id": "6sQyULvFoIFx",
        "colab_type": "code",
        "colab": {}
      },
      "source": [
        "def compute(text1, text2):\n",
        "  encoding = tokenizer(text1, text2, return_tensors='tf')\n",
        "  logits = model(encoding['input_ids'], token_type_ids=encoding['token_type_ids'])[0]\n",
        "  return tf.nn.softmax(logits[0])"
      ],
      "execution_count": 13,
      "outputs": []
    },
    {
      "cell_type": "markdown",
      "metadata": {
        "id": "bny6miTq358M",
        "colab_type": "text"
      },
      "source": [
        "Loop through the sentences adding sentences to temp group when the sentences are the next sentences.\n",
        "\n",
        "When they are not the next sentence we append the temp_group to groups and reinit the temp_group"
      ]
    },
    {
      "cell_type": "code",
      "metadata": {
        "id": "2v-Gl7twgwGa",
        "colab_type": "code",
        "colab": {
          "base_uri": "https://localhost:8080/",
          "height": 978
        },
        "outputId": "c53108a0-a353-4b0e-e29e-d2f7dc220766"
      },
      "source": [
        "groups = []\n",
        "groups_counter=0\n",
        "temp_group = []\n",
        "for i in range(len(text)-1):\n",
        "  print(\"Group \"+str(i))\n",
        "  print(text[i])\n",
        "  print(text[i+1])\n",
        "  \n",
        "  sm = compute(text[i], text[i+1])\n",
        "  print(sm[0], sm[1])\n",
        "\n",
        "  if len(temp_group) == 0:\n",
        "    temp_group = [text[i]]\n",
        "\n",
        "  if sm[0] > 0.9995 : #Threshold for similarity we set at this\n",
        "      temp_group = temp_group + [text[i+1]]\n",
        "  else:\n",
        "    groups.append(temp_group)\n",
        "    temp_group = [text[i+1]]"
      ],
      "execution_count": 14,
      "outputs": [
        {
          "output_type": "stream",
          "text": [
            "Group 0\n",
            "For the rest of the year, local 'Ah Jie' Zoe Tay will be playing one role only and it won't be for telly.\n",
            "In an interview with Shin Min Daily News, the veteran actress revealed that she'll be stepping back from acting so she can help her three sons prepare for their examinations — especially her second child Ashton who entered secondary school this year.\n",
            "tf.Tensor(0.9999882, shape=(), dtype=float32) tf.Tensor(1.1760919e-05, shape=(), dtype=float32)\n",
            "Group 1\n",
            "In an interview with Shin Min Daily News, the veteran actress revealed that she'll be stepping back from acting so she can help her three sons prepare for their examinations — especially her second child Ashton who entered secondary school this year.\n",
            "She also has Brayden, 15, and Nathan, nine, with her husband Philip Chionh.\n",
            "tf.Tensor(0.99998057, shape=(), dtype=float32) tf.Tensor(1.9485633e-05, shape=(), dtype=float32)\n",
            "Group 2\n",
            "She also has Brayden, 15, and Nathan, nine, with her husband Philip Chionh.\n",
            "The earliest we'll probably see her on our television screens again will be next year.\n",
            "tf.Tensor(0.99957114, shape=(), dtype=float32) tf.Tensor(0.0004288968, shape=(), dtype=float32)\n",
            "Group 3\n",
            "The earliest we'll probably see her on our television screens again will be next year.\n",
            "Not too long a wait for the eager fans if you ask us.\n",
            "tf.Tensor(0.9999887, shape=(), dtype=float32) tf.Tensor(1.1338061e-05, shape=(), dtype=float32)\n",
            "Group 4\n",
            "Not too long a wait for the eager fans if you ask us.\n",
            "\"The old [Mediacorp] station was located opposite the reservoir but for over 30 years, I rarely explored the area, though we would shoot there occasionally.\n",
            "tf.Tensor(0.96768314, shape=(), dtype=float32) tf.Tensor(0.032316852, shape=(), dtype=float32)\n",
            "Group 5\n",
            "\"The old [Mediacorp] station was located opposite the reservoir but for over 30 years, I rarely explored the area, though we would shoot there occasionally.\n",
            "Recently, my friend brought me to this paradise (MacRitchie Reservoir) and I love the natural scenery.\n",
            "tf.Tensor(0.999997, shape=(), dtype=float32) tf.Tensor(2.9836544e-06, shape=(), dtype=float32)\n",
            "Group 6\n",
            "Recently, my friend brought me to this paradise (MacRitchie Reservoir) and I love the natural scenery.\n",
            "I can breathe the fresh air and train my body, it kills two birds with one stone,\" she added.\n",
            "tf.Tensor(0.9999887, shape=(), dtype=float32) tf.Tensor(1.1344908e-05, shape=(), dtype=float32)\n",
            "Group 7\n",
            "I can breathe the fresh air and train my body, it kills two birds with one stone,\" she added.\n",
            "While she's not taking on acting roles, she will still be working.\n",
            "tf.Tensor(0.00117345, shape=(), dtype=float32) tf.Tensor(0.99882656, shape=(), dtype=float32)\n",
            "Group 8\n",
            "While she's not taking on acting roles, she will still be working.\n",
            "Apart from her editorial shoots, she'll be part of this year's President's Star Charity where she'll perform a modern Indian dance routine with six beneficiaries of the annual fundraiser.\n",
            "tf.Tensor(0.99998975, shape=(), dtype=float32) tf.Tensor(1.0309995e-05, shape=(), dtype=float32)\n",
            "Group 9\n",
            "Apart from her editorial shoots, she'll be part of this year's President's Star Charity where she'll perform a modern Indian dance routine with six beneficiaries of the annual fundraiser.\n",
            "The recent death of Taiwanese celebrity Alien Huang has a ripple effect that can be acutely felt on our shores and he has a strong connection to many local celebrities.\n",
            "tf.Tensor(0.99933064, shape=(), dtype=float32) tf.Tensor(0.00066933443, shape=(), dtype=float32)\n",
            "Group 10\n",
            "The recent death of Taiwanese celebrity Alien Huang has a ripple effect that can be acutely felt on our shores and he has a strong connection to many local celebrities.\n",
            "For Zoe, though, she didn't get a chance to work with him.\n",
            "tf.Tensor(0.00023892777, shape=(), dtype=float32) tf.Tensor(0.99976104, shape=(), dtype=float32)\n",
            "Group 11\n",
            "For Zoe, though, she didn't get a chance to work with him.\n",
            "She said: \"He was a very adorable person.\n",
            "tf.Tensor(0.99873525, shape=(), dtype=float32) tf.Tensor(0.0012647646, shape=(), dtype=float32)\n",
            "Group 12\n",
            "She said: \"He was a very adorable person.\n",
            "I met him occasionally in the make-up room and he didn't feel like some of the Hong Kong and Taiwanese celebrities who went around with a strong aura.\n",
            "tf.Tensor(0.9999881, shape=(), dtype=float32) tf.Tensor(1.1955471e-05, shape=(), dtype=float32)\n",
            "Group 13\n",
            "I met him occasionally in the make-up room and he didn't feel like some of the Hong Kong and Taiwanese celebrities who went around with a strong aura.\n",
            "He was quite a warm person.\n",
            "tf.Tensor(0.99997294, shape=(), dtype=float32) tf.Tensor(2.7048942e-05, shape=(), dtype=float32)\n"
          ],
          "name": "stdout"
        }
      ]
    },
    {
      "cell_type": "markdown",
      "metadata": {
        "id": "vl1XBslAoHtH",
        "colab_type": "text"
      },
      "source": [
        "The different segments in the text are shown below"
      ]
    },
    {
      "cell_type": "code",
      "metadata": {
        "id": "QZG3Uz7XiFYH",
        "colab_type": "code",
        "colab": {
          "base_uri": "https://localhost:8080/",
          "height": 238
        },
        "outputId": "bffa15e3-8ff2-4b29-c811-07b44998833d"
      },
      "source": [
        "groups"
      ],
      "execution_count": 15,
      "outputs": [
        {
          "output_type": "execute_result",
          "data": {
            "text/plain": [
              "[[\"For the rest of the year, local 'Ah Jie' Zoe Tay will be playing one role only and it won't be for telly.\",\n",
              "  \"In an interview with Shin Min Daily News, the veteran actress revealed that she'll be stepping back from acting so she can help her three sons prepare for their examinations — especially her second child Ashton who entered secondary school this year.\",\n",
              "  'She also has Brayden, 15, and Nathan, nine, with her husband Philip Chionh.',\n",
              "  \"The earliest we'll probably see her on our television screens again will be next year.\",\n",
              "  'Not too long a wait for the eager fans if you ask us.'],\n",
              " ['\"The old [Mediacorp] station was located opposite the reservoir but for over 30 years, I rarely explored the area, though we would shoot there occasionally.',\n",
              "  'Recently, my friend brought me to this paradise (MacRitchie Reservoir) and I love the natural scenery.',\n",
              "  'I can breathe the fresh air and train my body, it kills two birds with one stone,\" she added.'],\n",
              " [\"While she's not taking on acting roles, she will still be working.\",\n",
              "  \"Apart from her editorial shoots, she'll be part of this year's President's Star Charity where she'll perform a modern Indian dance routine with six beneficiaries of the annual fundraiser.\"],\n",
              " ['The recent death of Taiwanese celebrity Alien Huang has a ripple effect that can be acutely felt on our shores and he has a strong connection to many local celebrities.'],\n",
              " [\"For Zoe, though, she didn't get a chance to work with him.\"]]"
            ]
          },
          "metadata": {
            "tags": []
          },
          "execution_count": 15
        }
      ]
    },
    {
      "cell_type": "code",
      "metadata": {
        "id": "it01PHOMlpiR",
        "colab_type": "code",
        "colab": {
          "base_uri": "https://localhost:8080/",
          "height": 34
        },
        "outputId": "a69ba44c-65c7-421e-f73f-14184378acbc"
      },
      "source": [
        "import json\n",
        "from pathlib import Path\n",
        "\n",
        "Path(filename+\"_groups.json\").write_text(json.dumps(groups))"
      ],
      "execution_count": 16,
      "outputs": [
        {
          "output_type": "execute_result",
          "data": {
            "text/plain": [
              "1464"
            ]
          },
          "metadata": {
            "tags": []
          },
          "execution_count": 16
        }
      ]
    },
    {
      "cell_type": "markdown",
      "metadata": {
        "id": "kKmrlq-wpCBb",
        "colab_type": "text"
      },
      "source": [
        "# Summarization"
      ]
    },
    {
      "cell_type": "markdown",
      "metadata": {
        "id": "mYbKM5yApEFT",
        "colab_type": "text"
      },
      "source": [
        "## T5 Summarizer"
      ]
    },
    {
      "cell_type": "code",
      "metadata": {
        "id": "Ba2CJMfCTu_k",
        "colab_type": "code",
        "colab": {
          "base_uri": "https://localhost:8080/",
          "height": 261,
          "referenced_widgets": [
            "452ab6b170ec4769a8ab2e41c5e600de",
            "306e4540d36e4bb2bc8a6091998780c2",
            "8d10ced56c43456d8135b5bfb83221af",
            "cd20351b36e34324bf893d4b16e65731",
            "398ca171ed0b445a95ecc6ba77e88382",
            "21ba0c7f3d104305962262f21cb5f883",
            "e9fdb1da69144354af2d2f914884481c",
            "2e763d9d5e52467e8a3bb234f41090a1",
            "510d0b4f4b5c46f7bd36d8ae57513ace",
            "e6e94f6190e04b178405ee7726ae59c4",
            "c25002f9fabd4d1dbe7b3bc657cff420",
            "d38ebfa4ee8b48da87261e1dece4e305",
            "b964ceed376d460093b717ca0d2b5552",
            "ff4eea172e104f93bfa3f2f0827616b3",
            "9db8b18907ab4365ae4a048746b4d4e6",
            "8abd5ef86c3342f09599876dd137627a",
            "7c191499f51e41c7af9e2b13d4ee85f5",
            "432d72dd381a4a04bb03b87465e77c3d",
            "87173e49d29146a29cce4790667a4fd3",
            "43ccf80e5b864428af2512f463e03850",
            "0ae8fd60bf6c459f840b50875a81c255",
            "f3df0c186e11484c9bb31af166dbbc27",
            "f77c8fc2441a485199613eb81c4fca56",
            "e3345e20ab074e7d8327cf66b5b78543",
            "05d9c6d393694e678fac49f5a40a997f",
            "867b0c8917a84494a788b7b305495df6",
            "7aa890a88e3b4f26a78b5d5d15a7322a",
            "564d375316bf40b7b3d074f1e667f261",
            "0d9d74733f7f49febead7011b2c5b0b7",
            "9ca3d2f936b048dea123f5b78900e4ce",
            "ca6622ae0d6c4728842f14875a593dd7",
            "fffb08db973e47b1a53a5512e7dde295",
            "2e2e36ed03344882a40d07d5373ec5b8",
            "8ca569f24fc8491681cd2d58ebe0ef1f",
            "d7b052578da9409eab8d4bba6c058613",
            "9e06217b84224cc09b10867ff833bbe3",
            "3d9b6e291c6f40c5aefd9b5c02d4f752",
            "bccc7e23e4174a43a5ecdc967fcfe0b4",
            "0b799fc5a8d946919e63f09760f94b79",
            "3771883d83aa45fa83ebc1ea60d2852f"
          ]
        },
        "outputId": "77010c69-c8d9-4ffd-96ea-f86e0aa66bfa"
      },
      "source": [
        "from transformers import pipeline\n",
        "summarizer = pipeline(\"summarization\")"
      ],
      "execution_count": 17,
      "outputs": [
        {
          "output_type": "display_data",
          "data": {
            "application/vnd.jupyter.widget-view+json": {
              "model_id": "452ab6b170ec4769a8ab2e41c5e600de",
              "version_minor": 0,
              "version_major": 2
            },
            "text/plain": [
              "HBox(children=(FloatProgress(value=0.0, description='Downloading', max=1621.0, style=ProgressStyle(description…"
            ]
          },
          "metadata": {
            "tags": []
          }
        },
        {
          "output_type": "stream",
          "text": [
            "\n"
          ],
          "name": "stdout"
        },
        {
          "output_type": "display_data",
          "data": {
            "application/vnd.jupyter.widget-view+json": {
              "model_id": "510d0b4f4b5c46f7bd36d8ae57513ace",
              "version_minor": 0,
              "version_major": 2
            },
            "text/plain": [
              "HBox(children=(FloatProgress(value=0.0, description='Downloading', max=898822.0, style=ProgressStyle(descripti…"
            ]
          },
          "metadata": {
            "tags": []
          }
        },
        {
          "output_type": "stream",
          "text": [
            "\n"
          ],
          "name": "stdout"
        },
        {
          "output_type": "display_data",
          "data": {
            "application/vnd.jupyter.widget-view+json": {
              "model_id": "7c191499f51e41c7af9e2b13d4ee85f5",
              "version_minor": 0,
              "version_major": 2
            },
            "text/plain": [
              "HBox(children=(FloatProgress(value=0.0, description='Downloading', max=456318.0, style=ProgressStyle(descripti…"
            ]
          },
          "metadata": {
            "tags": []
          }
        },
        {
          "output_type": "stream",
          "text": [
            "\n"
          ],
          "name": "stdout"
        },
        {
          "output_type": "display_data",
          "data": {
            "application/vnd.jupyter.widget-view+json": {
              "model_id": "05d9c6d393694e678fac49f5a40a997f",
              "version_minor": 0,
              "version_major": 2
            },
            "text/plain": [
              "HBox(children=(FloatProgress(value=0.0, description='Downloading', max=26.0, style=ProgressStyle(description_w…"
            ]
          },
          "metadata": {
            "tags": []
          }
        },
        {
          "output_type": "stream",
          "text": [
            "\n"
          ],
          "name": "stdout"
        },
        {
          "output_type": "display_data",
          "data": {
            "application/vnd.jupyter.widget-view+json": {
              "model_id": "2e2e36ed03344882a40d07d5373ec5b8",
              "version_minor": 0,
              "version_major": 2
            },
            "text/plain": [
              "HBox(children=(FloatProgress(value=0.0, description='Downloading', max=1222317369.0, style=ProgressStyle(descr…"
            ]
          },
          "metadata": {
            "tags": []
          }
        },
        {
          "output_type": "stream",
          "text": [
            "\n"
          ],
          "name": "stdout"
        }
      ]
    },
    {
      "cell_type": "code",
      "metadata": {
        "id": "bRB2RfUGV5EC",
        "colab_type": "code",
        "colab": {}
      },
      "source": [
        "import torch\n",
        "from transformers import T5Tokenizer, T5ForConditionalGeneration, T5Config\n",
        "\n",
        "def t5_summarise(text):\n",
        "  model = T5ForConditionalGeneration.from_pretrained('t5-small')\n",
        "  tokenizer = T5Tokenizer.from_pretrained('t5-small')\n",
        "  device = torch.device('cpu')\n",
        "\n",
        "  preprocess_text = text.strip().replace(\"\\n\",\"\")\n",
        "  t5_prepared_Text = \"summarize: \"+preprocess_text\n",
        "  #print (\"original text preprocessed: \\n\", preprocess_text)\n",
        "\n",
        "  tokenized_text = tokenizer.encode(t5_prepared_Text, return_tensors=\"pt\").to(device)\n",
        "\n",
        "\n",
        "  # summmarize \n",
        "  summary_ids = model.generate(tokenized_text,\n",
        "                                      num_beams=4,\n",
        "                                      no_repeat_ngram_size=2,\n",
        "                                      min_length=30,\n",
        "                                      max_length=200,\n",
        "                                      early_stopping=False)\n",
        "\n",
        "  output = tokenizer.decode(summary_ids[0], skip_special_tokens=True)\n",
        "\n",
        "  #print (\"\\n\\nSummarized text: \\n\",output)\n",
        "  return output"
      ],
      "execution_count": 18,
      "outputs": []
    },
    {
      "cell_type": "code",
      "metadata": {
        "id": "OpS5HEq3Xcld",
        "colab_type": "code",
        "colab": {
          "base_uri": "https://localhost:8080/",
          "height": 102
        },
        "outputId": "99137691-aa5e-4d98-e2da-48cf4039ca3b"
      },
      "source": [
        "' '.join(groups[0])"
      ],
      "execution_count": 19,
      "outputs": [
        {
          "output_type": "execute_result",
          "data": {
            "application/vnd.google.colaboratory.intrinsic+json": {
              "type": "string"
            },
            "text/plain": [
              "\"For the rest of the year, local 'Ah Jie' Zoe Tay will be playing one role only and it won't be for telly. In an interview with Shin Min Daily News, the veteran actress revealed that she'll be stepping back from acting so she can help her three sons prepare for their examinations — especially her second child Ashton who entered secondary school this year. She also has Brayden, 15, and Nathan, nine, with her husband Philip Chionh. The earliest we'll probably see her on our television screens again will be next year. Not too long a wait for the eager fans if you ask us.\""
            ]
          },
          "metadata": {
            "tags": []
          },
          "execution_count": 19
        }
      ]
    },
    {
      "cell_type": "code",
      "metadata": {
        "id": "7lfxt3DaXmc5",
        "colab_type": "code",
        "colab": {
          "base_uri": "https://localhost:8080/",
          "height": 163,
          "referenced_widgets": [
            "63b557a50484452081d2d46bf6a74f36",
            "349fe8dd8db34dea9f93339b82b1e555",
            "104a348a85004fac92fd6bd3baf606dd",
            "05d0c09ad80a41a3bad6cadc404dab66",
            "342a47c30403431b93f7efda02a618fe",
            "1b1bde30d923411fb892413cc38e8f63",
            "1d4a5182c45441bcaeccf92757ffec7a",
            "00a07c608db14cc8ae61e4c6bd821379",
            "6026b912de72447da7fadeed58e28a78",
            "1c2c4cc989ad4799a7a97f0230235911",
            "600148f5ad714674aee50039837733ad",
            "10bfb4c0572d4bb08ea3f9dd06ac906e",
            "1e5633189d8546039c41a0929973e568",
            "8c99f063c99b4982936a7af2c4e97b1c",
            "6b2ab178e0e34f289412e14655cdb006",
            "abf5f1c8376a4a4c933242e25b340547",
            "b20df251d97041fcabfa10781d9a3093",
            "289d8c426a684e478c0e3d9d06716fc3",
            "587a06bb222742cfb5c8a751e6a34dca",
            "5d87dabbd455418e95cc92ed26c1647b",
            "406ba745550948a4ad22f4cdc6dd7575",
            "5ce00a498753482198d4844df8457fff",
            "2d48d14aa37c4431a54a1cd75d55076d",
            "9e8ada8fb2784c7a802c35a6a5a09ea1"
          ]
        },
        "outputId": "b54f1149-cf9c-4f0d-fda2-6e388126d9d2"
      },
      "source": [
        "summarised = []\n",
        "for i in groups:\n",
        "  joined = ' '.join(i)\n",
        "  summarised.append(t5_summarise(joined))"
      ],
      "execution_count": 20,
      "outputs": [
        {
          "output_type": "display_data",
          "data": {
            "application/vnd.jupyter.widget-view+json": {
              "model_id": "63b557a50484452081d2d46bf6a74f36",
              "version_minor": 0,
              "version_major": 2
            },
            "text/plain": [
              "HBox(children=(FloatProgress(value=0.0, description='Downloading', max=1197.0, style=ProgressStyle(description…"
            ]
          },
          "metadata": {
            "tags": []
          }
        },
        {
          "output_type": "stream",
          "text": [
            "\n"
          ],
          "name": "stdout"
        },
        {
          "output_type": "display_data",
          "data": {
            "application/vnd.jupyter.widget-view+json": {
              "model_id": "6026b912de72447da7fadeed58e28a78",
              "version_minor": 0,
              "version_major": 2
            },
            "text/plain": [
              "HBox(children=(FloatProgress(value=0.0, description='Downloading', max=242065649.0, style=ProgressStyle(descri…"
            ]
          },
          "metadata": {
            "tags": []
          }
        },
        {
          "output_type": "stream",
          "text": [
            "\n"
          ],
          "name": "stdout"
        },
        {
          "output_type": "display_data",
          "data": {
            "application/vnd.jupyter.widget-view+json": {
              "model_id": "b20df251d97041fcabfa10781d9a3093",
              "version_minor": 0,
              "version_major": 2
            },
            "text/plain": [
              "HBox(children=(FloatProgress(value=0.0, description='Downloading', max=791656.0, style=ProgressStyle(descripti…"
            ]
          },
          "metadata": {
            "tags": []
          }
        },
        {
          "output_type": "stream",
          "text": [
            "\n"
          ],
          "name": "stdout"
        }
      ]
    },
    {
      "cell_type": "code",
      "metadata": {
        "id": "uQrlkkgLcOHv",
        "colab_type": "code",
        "colab": {
          "base_uri": "https://localhost:8080/",
          "height": 34
        },
        "outputId": "efc12242-a64f-4183-facf-ceabec642a85"
      },
      "source": [
        "len(summarised)"
      ],
      "execution_count": 21,
      "outputs": [
        {
          "output_type": "execute_result",
          "data": {
            "text/plain": [
              "5"
            ]
          },
          "metadata": {
            "tags": []
          },
          "execution_count": 21
        }
      ]
    },
    {
      "cell_type": "code",
      "metadata": {
        "id": "zBG3GkHDemp8",
        "colab_type": "code",
        "colab": {}
      },
      "source": [
        "import pprint"
      ],
      "execution_count": 22,
      "outputs": []
    },
    {
      "cell_type": "code",
      "metadata": {
        "id": "RwtkalF_etJJ",
        "colab_type": "code",
        "colab": {
          "base_uri": "https://localhost:8080/",
          "height": 235
        },
        "outputId": "98baf53b-ed3c-4d13-b6d4-a05a48bc5489"
      },
      "source": [
        "pprint.pprint(summarised)"
      ],
      "execution_count": 23,
      "outputs": [
        {
          "output_type": "stream",
          "text": [
            "[\"'Ah Jie' Zoe Tay will be playing one role for the rest of the year. she'll \"\n",
            " 'be stepping back from acting so she can help her three sons prepare for '\n",
            " 'their examinations, especially her second child Ashton who entered secondary '\n",
            " 'school this year.',\n",
            " 'the old [Mediacorp] station was located opposite the reservoir. recently, my '\n",
            " 'friend brought me to this paradise (MacRitchie Reservoir)',\n",
            " \"she'll perform a modern Indian dance routine with six beneficiaries of the \"\n",
            " \"annual fundraiser. she will also be part of president's star charity this \"\n",
            " 'year.',\n",
            " 'the recent death of taiwanese celebrity Alien Huang has a ripple effect that '\n",
            " 'can be acutely felt on our shores.',\n",
            " \"Zoe didn't get a chance to work with him. she was able to find out if he was \"\n",
            " 'working with her.']\n"
          ],
          "name": "stdout"
        }
      ]
    },
    {
      "cell_type": "code",
      "metadata": {
        "id": "FXs-5kZBnx-d",
        "colab_type": "code",
        "colab": {
          "base_uri": "https://localhost:8080/",
          "height": 34
        },
        "outputId": "522105d3-02a7-4254-990c-409b02361097"
      },
      "source": [
        "Path(filename+\"_t5_sum.json\").write_text(json.dumps(summarised))"
      ],
      "execution_count": 24,
      "outputs": [
        {
          "output_type": "execute_result",
          "data": {
            "text/plain": [
              "754"
            ]
          },
          "metadata": {
            "tags": []
          },
          "execution_count": 24
        }
      ]
    },
    {
      "cell_type": "code",
      "metadata": {
        "id": "0MvEzqO5_zAP",
        "colab_type": "code",
        "colab": {}
      },
      "source": [
        "summarised_text = \"\"\n",
        "for i in summarised:\n",
        "  summarised_text = summarised_text+ i+\"\\n\\n\""
      ],
      "execution_count": 25,
      "outputs": []
    },
    {
      "cell_type": "code",
      "metadata": {
        "id": "U8oHkxzdASoa",
        "colab_type": "code",
        "colab": {
          "base_uri": "https://localhost:8080/",
          "height": 222
        },
        "outputId": "773d869a-f702-429a-8b98-a489ef1bb61c"
      },
      "source": [
        "print(summarised_text)"
      ],
      "execution_count": 26,
      "outputs": [
        {
          "output_type": "stream",
          "text": [
            "'Ah Jie' Zoe Tay will be playing one role for the rest of the year. she'll be stepping back from acting so she can help her three sons prepare for their examinations, especially her second child Ashton who entered secondary school this year.\n",
            "\n",
            "the old [Mediacorp] station was located opposite the reservoir. recently, my friend brought me to this paradise (MacRitchie Reservoir)\n",
            "\n",
            "she'll perform a modern Indian dance routine with six beneficiaries of the annual fundraiser. she will also be part of president's star charity this year.\n",
            "\n",
            "the recent death of taiwanese celebrity Alien Huang has a ripple effect that can be acutely felt on our shores.\n",
            "\n",
            "Zoe didn't get a chance to work with him. she was able to find out if he was working with her.\n",
            "\n",
            "\n"
          ],
          "name": "stdout"
        }
      ]
    },
    {
      "cell_type": "code",
      "metadata": {
        "id": "d8pDAmIZAdGh",
        "colab_type": "code",
        "colab": {
          "base_uri": "https://localhost:8080/",
          "height": 34
        },
        "outputId": "40d02d1b-94d4-4c86-8198-76a48a032a22"
      },
      "source": [
        "Path(filename+\"_t5_sum.txt\").write_text(summarised_text)"
      ],
      "execution_count": 27,
      "outputs": [
        {
          "output_type": "execute_result",
          "data": {
            "text/plain": [
              "744"
            ]
          },
          "metadata": {
            "tags": []
          },
          "execution_count": 27
        }
      ]
    },
    {
      "cell_type": "markdown",
      "metadata": {
        "id": "2CTjfypbo6Wn",
        "colab_type": "text"
      },
      "source": [
        "## Default hugging face summarizer pipeline"
      ]
    },
    {
      "cell_type": "code",
      "metadata": {
        "id": "Si98c-BmevBn",
        "colab_type": "code",
        "colab": {
          "base_uri": "https://localhost:8080/",
          "height": 138
        },
        "outputId": "a8f68912-e526-4882-f991-543542e71fc3"
      },
      "source": [
        "sum1 = []\n",
        "\n",
        "for i in groups:\n",
        "  t = ' '.join(i)\n",
        "  sum1.append(summarizer(t))"
      ],
      "execution_count": 28,
      "outputs": [
        {
          "output_type": "stream",
          "text": [
            "Your max_length is set to 142, but you input_length is only 129. You might consider decreasing max_length manually, e.g. summarizer('...', max_length=50)\n",
            "Your max_length is set to 142, but you input_length is only 80. You might consider decreasing max_length manually, e.g. summarizer('...', max_length=50)\n",
            "Your max_length is set to 142, but you input_length is only 52. You might consider decreasing max_length manually, e.g. summarizer('...', max_length=50)\n",
            "Your max_length is set to 142, but you input_length is only 33. You might consider decreasing max_length manually, e.g. summarizer('...', max_length=50)\n",
            "Your min_length is set to 56, but you input_length is only 18. You might consider decreasing min_length manually, e.g. summarizer('...', min_length=10)\n",
            "Your max_length is set to 142, but you input_length is only 18. You might consider decreasing max_length manually, e.g. summarizer('...', max_length=50)\n"
          ],
          "name": "stderr"
        }
      ]
    },
    {
      "cell_type": "code",
      "metadata": {
        "id": "B3BcQQarkqUn",
        "colab_type": "code",
        "colab": {
          "base_uri": "https://localhost:8080/",
          "height": 121
        },
        "outputId": "1c681879-169f-4706-8992-194992c44cff"
      },
      "source": [
        "sum1"
      ],
      "execution_count": 29,
      "outputs": [
        {
          "output_type": "execute_result",
          "data": {
            "text/plain": [
              "[[{'summary_text': \" Zoe Tay will be stepping back from acting so she can help her three sons prepare for their examinations . The earliest we'll probably see her on our television screens again will be next year . She also has Brayden, 15, and Nathan, nine, with her husband Philip Chionh .\"}],\n",
              " [{'summary_text': ' MacRitchie Reservoir was located opposite the old Mediacorp station . \"For over 30 years, I rarely explored the area, though we would shoot there occasionally,\" she said . \"I can breathe the fresh air and train my body, it kills two birds with one stone,\" she added .'}],\n",
              " [{'summary_text': \" Apart from her editorial shoots, she'll be part of this year's President's Star Charity . She'll perform a modern Indian dance routine with six beneficiaries of the annual fundraiser . While she won't be taking on acting roles, she will still be working for the charity .\"}],\n",
              " [{'summary_text': \" The recent death of Taiwanese celebrity Alien Huang has a ripple effect that can be acutely felt on our shores . He has a strong connection to many local celebrities . The death of the Taiwanese celebrity has a huge impact on the Australian public . Alien Huang is one of the world's most famous Taiwanese celebrities .\"}],\n",
              " [{'summary_text': \" Zoe didn't get a chance to work with Zoe, though, she didn't . Zoe, who was in a relationship with Zoe's boyfriend, died at the end of the day . Zoe's husband is a successful actor, but she was never in contact with him again .\"}]]"
            ]
          },
          "metadata": {
            "tags": []
          },
          "execution_count": 29
        }
      ]
    },
    {
      "cell_type": "markdown",
      "metadata": {
        "id": "jtbVGfgtwa1_",
        "colab_type": "text"
      },
      "source": [
        "The number of groups."
      ]
    },
    {
      "cell_type": "code",
      "metadata": {
        "id": "xIr7tYyHlUtC",
        "colab_type": "code",
        "colab": {
          "base_uri": "https://localhost:8080/",
          "height": 34
        },
        "outputId": "5a3f915c-7b38-49c1-be0f-4703be55e94e"
      },
      "source": [
        "len(sum1)"
      ],
      "execution_count": 30,
      "outputs": [
        {
          "output_type": "execute_result",
          "data": {
            "text/plain": [
              "5"
            ]
          },
          "metadata": {
            "tags": []
          },
          "execution_count": 30
        }
      ]
    },
    {
      "cell_type": "code",
      "metadata": {
        "id": "vmhNewG5nnRL",
        "colab_type": "code",
        "colab": {
          "base_uri": "https://localhost:8080/",
          "height": 34
        },
        "outputId": "8fbca419-175b-47fb-ebe4-55db722d159e"
      },
      "source": [
        "Path(filename+\"_hugging_sum.json\").write_text(json.dumps(sum1))"
      ],
      "execution_count": 31,
      "outputs": [
        {
          "output_type": "execute_result",
          "data": {
            "text/plain": [
              "1483"
            ]
          },
          "metadata": {
            "tags": []
          },
          "execution_count": 31
        }
      ]
    },
    {
      "cell_type": "code",
      "metadata": {
        "id": "qKU9a_yxnvPl",
        "colab_type": "code",
        "colab": {
          "base_uri": "https://localhost:8080/",
          "height": 34
        },
        "outputId": "44f09078-1356-4e78-b9b9-af04e520ff0c"
      },
      "source": [
        "summary = [i[0][\"summary_text\"].strip() for i in sum1]\n",
        "\n",
        "Path(filename+\"_hugging_sum.txt\").write_text('\\n\\n'.join(summary))"
      ],
      "execution_count": 32,
      "outputs": [
        {
          "output_type": "execute_result",
          "data": {
            "text/plain": [
              "1362"
            ]
          },
          "metadata": {
            "tags": []
          },
          "execution_count": 32
        }
      ]
    },
    {
      "cell_type": "markdown",
      "metadata": {
        "id": "r6EklBTeqt6b",
        "colab_type": "text"
      },
      "source": [
        "## Summary Results"
      ]
    },
    {
      "cell_type": "markdown",
      "metadata": {
        "id": "nOkaqOiSod0z",
        "colab_type": "text"
      },
      "source": [
        "### T5 Summary Results"
      ]
    },
    {
      "cell_type": "code",
      "metadata": {
        "id": "N-5u4bi6oaXV",
        "colab_type": "code",
        "colab": {
          "base_uri": "https://localhost:8080/",
          "height": 319
        },
        "outputId": "36ea495c-2c39-408f-da56-db904a8e1845"
      },
      "source": [
        "pprint.pprint(summarised_text)"
      ],
      "execution_count": 42,
      "outputs": [
        {
          "output_type": "stream",
          "text": [
            "(\"'Ah Jie' Zoe Tay will be playing one role for the rest of the year. she'll \"\n",
            " 'be stepping back from acting so she can help her three sons prepare for '\n",
            " 'their examinations, especially her second child Ashton who entered secondary '\n",
            " 'school this year.\\n'\n",
            " '\\n'\n",
            " 'the old [Mediacorp] station was located opposite the reservoir. recently, my '\n",
            " 'friend brought me to this paradise (MacRitchie Reservoir)\\n'\n",
            " '\\n'\n",
            " \"she'll perform a modern Indian dance routine with six beneficiaries of the \"\n",
            " \"annual fundraiser. she will also be part of president's star charity this \"\n",
            " 'year.\\n'\n",
            " '\\n'\n",
            " 'the recent death of taiwanese celebrity Alien Huang has a ripple effect that '\n",
            " 'can be acutely felt on our shores.\\n'\n",
            " '\\n'\n",
            " \"Zoe didn't get a chance to work with him. she was able to find out if he was \"\n",
            " 'working with her.\\n'\n",
            " '\\n')\n"
          ],
          "name": "stdout"
        }
      ]
    },
    {
      "cell_type": "markdown",
      "metadata": {
        "id": "ns_A8y1hoONu",
        "colab_type": "text"
      },
      "source": [
        "### Hugging Face default Summary results"
      ]
    },
    {
      "cell_type": "code",
      "metadata": {
        "id": "9HnjYQrIvs5s",
        "colab_type": "code",
        "colab": {
          "base_uri": "https://localhost:8080/",
          "height": 420
        },
        "outputId": "8fb96bd4-f919-452f-b1ae-4bbc49b3c82b"
      },
      "source": [
        "pprint.pprint(' \\n\\n'.join(summary))"
      ],
      "execution_count": 41,
      "outputs": [
        {
          "output_type": "stream",
          "text": [
            "('Zoe Tay will be stepping back from acting so she can help her three sons '\n",
            " \"prepare for their examinations . The earliest we'll probably see her on our \"\n",
            " 'television screens again will be next year . She also has Brayden, 15, and '\n",
            " 'Nathan, nine, with her husband Philip Chionh . \\n'\n",
            " '\\n'\n",
            " 'MacRitchie Reservoir was located opposite the old Mediacorp station . \"For '\n",
            " 'over 30 years, I rarely explored the area, though we would shoot there '\n",
            " 'occasionally,\" she said . \"I can breathe the fresh air and train my body, it '\n",
            " 'kills two birds with one stone,\" she added . \\n'\n",
            " '\\n'\n",
            " \"Apart from her editorial shoots, she'll be part of this year's President's \"\n",
            " \"Star Charity . She'll perform a modern Indian dance routine with six \"\n",
            " \"beneficiaries of the annual fundraiser . While she won't be taking on acting \"\n",
            " 'roles, she will still be working for the charity . \\n'\n",
            " '\\n'\n",
            " 'The recent death of Taiwanese celebrity Alien Huang has a ripple effect that '\n",
            " 'can be acutely felt on our shores . He has a strong connection to many local '\n",
            " 'celebrities . The death of the Taiwanese celebrity has a huge impact on the '\n",
            " \"Australian public . Alien Huang is one of the world's most famous Taiwanese \"\n",
            " 'celebrities . \\n'\n",
            " '\\n'\n",
            " \"Zoe didn't get a chance to work with Zoe, though, she didn't . Zoe, who was \"\n",
            " \"in a relationship with Zoe's boyfriend, died at the end of the day . Zoe's \"\n",
            " 'husband is a successful actor, but she was never in contact with him again .')\n"
          ],
          "name": "stdout"
        }
      ]
    },
    {
      "cell_type": "code",
      "metadata": {
        "id": "uH3qBFcG5Ouw",
        "colab_type": "code",
        "colab": {}
      },
      "source": [
        ""
      ],
      "execution_count": 34,
      "outputs": []
    }
  ]
}